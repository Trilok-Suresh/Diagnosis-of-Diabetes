{
 "cells": [
  {
   "cell_type": "markdown",
   "metadata": {},
   "source": [
    "# <u>Diagnosis of Diabetes using weight adjusted voting of an ensemble of classifiers<u>\n",
    "\n",
    "\n",
    "## Importing modules"
   ]
  },
  {
   "cell_type": "code",
   "execution_count": 1,
   "metadata": {
    "collapsed": false
   },
   "outputs": [],
   "source": [
    "import numpy as np\n",
    "import matplotlib.pyplot as plt\n",
    "import pandas_profiling\n",
    "import pandas as pd\n",
    "from bokeh.io import output_notebook, show\n",
    "from bokeh.plotting import figure\n",
    "\n",
    "from sklearn.linear_model import LogisticRegression\n",
    "from sklearn.cross_validation import train_test_split\n",
    "from sklearn.cross_validation import cross_val_score\n",
    "from sklearn import metrics\n",
    "from sklearn.preprocessing import MinMaxScaler\n",
    "#from sklearn.neural_network import MLPClassifier #--- only available in sklearn 0.18\n",
    "from sklearn import svm\n",
    "from sklearn.manifold import MDS\n",
    "from sklearn.metrics import euclidean_distances\n",
    "from sklearn.metrics import f1_score\n",
    "from sklearn.naive_bayes import GaussianNB\n",
    "from sklearn.ensemble import RandomForestClassifier\n",
    "from sklearn.ensemble import AdaBoostClassifier\n",
    "from sklearn.neighbors import KNeighborsClassifier\n",
    "from sklearn.neighbors import RadiusNeighborsClassifier"
   ]
  },
  {
   "cell_type": "markdown",
   "metadata": {},
   "source": [
    "## Loading the data"
   ]
  },
  {
   "cell_type": "code",
   "execution_count": 2,
   "metadata": {
    "collapsed": false
   },
   "outputs": [],
   "source": [
    "dataFrame = pd.read_table('pima-indians-diabetes.data', sep =',', header = None)"
   ]
  },
  {
   "cell_type": "code",
   "execution_count": 3,
   "metadata": {
    "collapsed": false
   },
   "outputs": [
    {
     "name": "stdout",
     "output_type": "stream",
     "text": [
      "<class 'pandas.core.frame.DataFrame'>\n",
      "Int64Index: 768 entries, 0 to 767\n",
      "Data columns (total 9 columns):\n",
      "0    768 non-null int64\n",
      "1    768 non-null int64\n",
      "2    768 non-null int64\n",
      "3    768 non-null int64\n",
      "4    768 non-null int64\n",
      "5    768 non-null float64\n",
      "6    768 non-null float64\n",
      "7    768 non-null int64\n",
      "8    768 non-null int64\n",
      "dtypes: float64(2), int64(7)\n",
      "memory usage: 60.0 KB\n"
     ]
    }
   ],
   "source": [
    "#dataFrame.shape\n",
    "dataFrame.info()"
   ]
  },
  {
   "cell_type": "code",
   "execution_count": 4,
   "metadata": {
    "collapsed": false
   },
   "outputs": [],
   "source": [
    "dataFrame.columns = ['no_times_pregnant','plasma_glucose_conc','diastolic_bp',\\\n",
    "                    'triceps_sf_thickness','insulin','bmi',\\\n",
    "                     'diabetes_pedigree_function','age','isDiabetic']\n",
    "#dataFrame['no_times_pregnant_squared'] = dataFrame['no_times_pregnant']*dataFrame['no_times_pregnant']"
   ]
  },
  {
   "cell_type": "markdown",
   "metadata": {},
   "source": [
    "## Exploring the data"
   ]
  },
  {
   "cell_type": "code",
   "execution_count": 5,
   "metadata": {
    "collapsed": false
   },
   "outputs": [
    {
     "data": {
      "text/html": [
       "<div>\n",
       "<table border=\"1\" class=\"dataframe\">\n",
       "  <thead>\n",
       "    <tr style=\"text-align: right;\">\n",
       "      <th></th>\n",
       "      <th>no_times_pregnant</th>\n",
       "      <th>plasma_glucose_conc</th>\n",
       "      <th>diastolic_bp</th>\n",
       "      <th>triceps_sf_thickness</th>\n",
       "      <th>insulin</th>\n",
       "      <th>bmi</th>\n",
       "      <th>diabetes_pedigree_function</th>\n",
       "      <th>age</th>\n",
       "      <th>isDiabetic</th>\n",
       "    </tr>\n",
       "  </thead>\n",
       "  <tbody>\n",
       "    <tr>\n",
       "      <th>0</th>\n",
       "      <td>6</td>\n",
       "      <td>148</td>\n",
       "      <td>72</td>\n",
       "      <td>35</td>\n",
       "      <td>0</td>\n",
       "      <td>33.6</td>\n",
       "      <td>0.627</td>\n",
       "      <td>50</td>\n",
       "      <td>1</td>\n",
       "    </tr>\n",
       "    <tr>\n",
       "      <th>1</th>\n",
       "      <td>1</td>\n",
       "      <td>85</td>\n",
       "      <td>66</td>\n",
       "      <td>29</td>\n",
       "      <td>0</td>\n",
       "      <td>26.6</td>\n",
       "      <td>0.351</td>\n",
       "      <td>31</td>\n",
       "      <td>0</td>\n",
       "    </tr>\n",
       "    <tr>\n",
       "      <th>2</th>\n",
       "      <td>8</td>\n",
       "      <td>183</td>\n",
       "      <td>64</td>\n",
       "      <td>0</td>\n",
       "      <td>0</td>\n",
       "      <td>23.3</td>\n",
       "      <td>0.672</td>\n",
       "      <td>32</td>\n",
       "      <td>1</td>\n",
       "    </tr>\n",
       "    <tr>\n",
       "      <th>3</th>\n",
       "      <td>1</td>\n",
       "      <td>89</td>\n",
       "      <td>66</td>\n",
       "      <td>23</td>\n",
       "      <td>94</td>\n",
       "      <td>28.1</td>\n",
       "      <td>0.167</td>\n",
       "      <td>21</td>\n",
       "      <td>0</td>\n",
       "    </tr>\n",
       "    <tr>\n",
       "      <th>4</th>\n",
       "      <td>0</td>\n",
       "      <td>137</td>\n",
       "      <td>40</td>\n",
       "      <td>35</td>\n",
       "      <td>168</td>\n",
       "      <td>43.1</td>\n",
       "      <td>2.288</td>\n",
       "      <td>33</td>\n",
       "      <td>1</td>\n",
       "    </tr>\n",
       "  </tbody>\n",
       "</table>\n",
       "</div>"
      ],
      "text/plain": [
       "   no_times_pregnant  plasma_glucose_conc  diastolic_bp  triceps_sf_thickness  \\\n",
       "0                  6                  148            72                    35   \n",
       "1                  1                   85            66                    29   \n",
       "2                  8                  183            64                     0   \n",
       "3                  1                   89            66                    23   \n",
       "4                  0                  137            40                    35   \n",
       "\n",
       "   insulin   bmi  diabetes_pedigree_function  age  isDiabetic  \n",
       "0        0  33.6                       0.627   50           1  \n",
       "1        0  26.6                       0.351   31           0  \n",
       "2        0  23.3                       0.672   32           1  \n",
       "3       94  28.1                       0.167   21           0  \n",
       "4      168  43.1                       2.288   33           1  "
      ]
     },
     "execution_count": 5,
     "metadata": {},
     "output_type": "execute_result"
    }
   ],
   "source": [
    "dataFrame.head()\n"
   ]
  },
  {
   "cell_type": "code",
   "execution_count": 6,
   "metadata": {
    "collapsed": false
   },
   "outputs": [
    {
     "data": {
      "text/html": [
       "<div>\n",
       "<table border=\"1\" class=\"dataframe\">\n",
       "  <thead>\n",
       "    <tr style=\"text-align: right;\">\n",
       "      <th></th>\n",
       "      <th>no_times_pregnant</th>\n",
       "      <th>plasma_glucose_conc</th>\n",
       "      <th>diastolic_bp</th>\n",
       "      <th>triceps_sf_thickness</th>\n",
       "      <th>insulin</th>\n",
       "      <th>bmi</th>\n",
       "      <th>diabetes_pedigree_function</th>\n",
       "      <th>age</th>\n",
       "      <th>isDiabetic</th>\n",
       "    </tr>\n",
       "  </thead>\n",
       "  <tbody>\n",
       "    <tr>\n",
       "      <th>count</th>\n",
       "      <td>768.000000</td>\n",
       "      <td>768.000000</td>\n",
       "      <td>768.000000</td>\n",
       "      <td>768.000000</td>\n",
       "      <td>768.000000</td>\n",
       "      <td>768.000000</td>\n",
       "      <td>768.000000</td>\n",
       "      <td>768.000000</td>\n",
       "      <td>768.000000</td>\n",
       "    </tr>\n",
       "    <tr>\n",
       "      <th>mean</th>\n",
       "      <td>3.845052</td>\n",
       "      <td>120.894531</td>\n",
       "      <td>69.105469</td>\n",
       "      <td>20.536458</td>\n",
       "      <td>79.799479</td>\n",
       "      <td>31.992578</td>\n",
       "      <td>0.471876</td>\n",
       "      <td>33.240885</td>\n",
       "      <td>0.348958</td>\n",
       "    </tr>\n",
       "    <tr>\n",
       "      <th>std</th>\n",
       "      <td>3.369578</td>\n",
       "      <td>31.972618</td>\n",
       "      <td>19.355807</td>\n",
       "      <td>15.952218</td>\n",
       "      <td>115.244002</td>\n",
       "      <td>7.884160</td>\n",
       "      <td>0.331329</td>\n",
       "      <td>11.760232</td>\n",
       "      <td>0.476951</td>\n",
       "    </tr>\n",
       "    <tr>\n",
       "      <th>min</th>\n",
       "      <td>0.000000</td>\n",
       "      <td>0.000000</td>\n",
       "      <td>0.000000</td>\n",
       "      <td>0.000000</td>\n",
       "      <td>0.000000</td>\n",
       "      <td>0.000000</td>\n",
       "      <td>0.078000</td>\n",
       "      <td>21.000000</td>\n",
       "      <td>0.000000</td>\n",
       "    </tr>\n",
       "    <tr>\n",
       "      <th>25%</th>\n",
       "      <td>1.000000</td>\n",
       "      <td>99.000000</td>\n",
       "      <td>62.000000</td>\n",
       "      <td>0.000000</td>\n",
       "      <td>0.000000</td>\n",
       "      <td>27.300000</td>\n",
       "      <td>0.243750</td>\n",
       "      <td>24.000000</td>\n",
       "      <td>0.000000</td>\n",
       "    </tr>\n",
       "    <tr>\n",
       "      <th>50%</th>\n",
       "      <td>3.000000</td>\n",
       "      <td>117.000000</td>\n",
       "      <td>72.000000</td>\n",
       "      <td>23.000000</td>\n",
       "      <td>30.500000</td>\n",
       "      <td>32.000000</td>\n",
       "      <td>0.372500</td>\n",
       "      <td>29.000000</td>\n",
       "      <td>0.000000</td>\n",
       "    </tr>\n",
       "    <tr>\n",
       "      <th>75%</th>\n",
       "      <td>6.000000</td>\n",
       "      <td>140.250000</td>\n",
       "      <td>80.000000</td>\n",
       "      <td>32.000000</td>\n",
       "      <td>127.250000</td>\n",
       "      <td>36.600000</td>\n",
       "      <td>0.626250</td>\n",
       "      <td>41.000000</td>\n",
       "      <td>1.000000</td>\n",
       "    </tr>\n",
       "    <tr>\n",
       "      <th>max</th>\n",
       "      <td>17.000000</td>\n",
       "      <td>199.000000</td>\n",
       "      <td>122.000000</td>\n",
       "      <td>99.000000</td>\n",
       "      <td>846.000000</td>\n",
       "      <td>67.100000</td>\n",
       "      <td>2.420000</td>\n",
       "      <td>81.000000</td>\n",
       "      <td>1.000000</td>\n",
       "    </tr>\n",
       "  </tbody>\n",
       "</table>\n",
       "</div>"
      ],
      "text/plain": [
       "       no_times_pregnant  plasma_glucose_conc  diastolic_bp  \\\n",
       "count         768.000000           768.000000    768.000000   \n",
       "mean            3.845052           120.894531     69.105469   \n",
       "std             3.369578            31.972618     19.355807   \n",
       "min             0.000000             0.000000      0.000000   \n",
       "25%             1.000000            99.000000     62.000000   \n",
       "50%             3.000000           117.000000     72.000000   \n",
       "75%             6.000000           140.250000     80.000000   \n",
       "max            17.000000           199.000000    122.000000   \n",
       "\n",
       "       triceps_sf_thickness     insulin         bmi  \\\n",
       "count            768.000000  768.000000  768.000000   \n",
       "mean              20.536458   79.799479   31.992578   \n",
       "std               15.952218  115.244002    7.884160   \n",
       "min                0.000000    0.000000    0.000000   \n",
       "25%                0.000000    0.000000   27.300000   \n",
       "50%               23.000000   30.500000   32.000000   \n",
       "75%               32.000000  127.250000   36.600000   \n",
       "max               99.000000  846.000000   67.100000   \n",
       "\n",
       "       diabetes_pedigree_function         age  isDiabetic  \n",
       "count                  768.000000  768.000000  768.000000  \n",
       "mean                     0.471876   33.240885    0.348958  \n",
       "std                      0.331329   11.760232    0.476951  \n",
       "min                      0.078000   21.000000    0.000000  \n",
       "25%                      0.243750   24.000000    0.000000  \n",
       "50%                      0.372500   29.000000    0.000000  \n",
       "75%                      0.626250   41.000000    1.000000  \n",
       "max                      2.420000   81.000000    1.000000  "
      ]
     },
     "execution_count": 6,
     "metadata": {},
     "output_type": "execute_result"
    }
   ],
   "source": [
    "dataFrame.describe()"
   ]
  },
  {
   "cell_type": "code",
   "execution_count": 7,
   "metadata": {
    "collapsed": false
   },
   "outputs": [
    {
     "data": {
      "text/html": [
       "\n",
       "    <meta charset=\"UTF-8\">\n",
       "    <link rel=\"stylesheet\" href=\"https://maxcdn.bootstrapcdn.com/bootstrap/3.3.6/css/bootstrap.min.css\"\n",
       "          integrity=\"sha384-1q8mTJOASx8j1Au+a5WDVnPi2lkFfwwEAa8hDDdjZlpLegxhjVME1fgjWPGmkzs7\" crossorigin=\"anonymous\">\n",
       "    <link rel=\"stylesheet\" href=\"https://maxcdn.bootstrapcdn.com/bootstrap/3.3.6/css/bootstrap-theme.min.css\"\n",
       "          integrity=\"sha384-fLW2N01lMqjakBkx3l/M9EahuwpSfeNvV63J5ezn3uZzapT0u7EYsXMjQV+0En5r\" crossorigin=\"anonymous\">\n",
       "\n",
       "    <style>\n",
       "\n",
       "        .variablerow {\n",
       "            border: 1px solid #e1e1e8;\n",
       "            border-top: hidden;\n",
       "            padding-top: 2em;\n",
       "            padding-bottom: 1em;\n",
       "        }\n",
       "\n",
       "        .headerrow {\n",
       "            border: 1px solid #e1e1e8;\n",
       "            background-color: #f5f5f5;\n",
       "            padding: 2em;\n",
       "        }\n",
       "        .namecol {\n",
       "            margin-top: -1em;\n",
       "        }\n",
       "\n",
       "        .dl-horizontal dt {\n",
       "            text-align: left;\n",
       "            padding-right: 1em;\n",
       "            white-space: normal;\n",
       "        }\n",
       "\n",
       "        .dl-horizontal dd {\n",
       "            margin-left: 0;\n",
       "        }\n",
       "\n",
       "        .ignore {\n",
       "            opacity: 0.4;\n",
       "        }\n",
       "\n",
       "        .container.pandas-profiling {\n",
       "            max-width:975px;\n",
       "        }\n",
       "\n",
       "        .col-md-12 {\n",
       "            padding-left: 2em;\n",
       "        }\n",
       "\n",
       "        .indent {\n",
       "            margin-left: 1em;\n",
       "        }\n",
       "\n",
       "        /* Table example_values */\n",
       "            table.example_values {\n",
       "                border: 0;\n",
       "            }\n",
       "\n",
       "            .example_values th {\n",
       "                border: 0;\n",
       "                padding: 0 ;\n",
       "                color: #555;\n",
       "                font-weight: 600;\n",
       "            }\n",
       "\n",
       "            .example_values tr, .example_values td{\n",
       "                border: 0;\n",
       "                padding: 0;\n",
       "                color: #555;\n",
       "            }\n",
       "\n",
       "        /* STATS */\n",
       "            table.stats {\n",
       "                border: 0;\n",
       "            }\n",
       "\n",
       "            .stats th {\n",
       "                border: 0;\n",
       "                padding: 0 2em 0 0;\n",
       "                color: #555;\n",
       "                font-weight: 600;\n",
       "            }\n",
       "\n",
       "            .stats tr {\n",
       "                border: 0;\n",
       "            }\n",
       "\n",
       "            .stats tr:hover{\n",
       "                text-decoration: underline;\n",
       "            }\n",
       "\n",
       "            .stats td{\n",
       "                color: #555;\n",
       "                padding: 1px;\n",
       "                border: 0;\n",
       "            }\n",
       "\n",
       "\n",
       "        /* Sample table */\n",
       "            table.sample {\n",
       "                border: 0;\n",
       "                margin-bottom: 2em;\n",
       "                margin-left:1em;\n",
       "            }\n",
       "            .sample tr {\n",
       "                border:0;\n",
       "            }\n",
       "            .sample td, .sample th{\n",
       "                padding: 0.5em;\n",
       "                white-space: nowrap;\n",
       "                border: none;\n",
       "\n",
       "            }\n",
       "\n",
       "            .sample thead {\n",
       "                border-top: 0;\n",
       "                border-bottom: 2px solid #ddd;\n",
       "            }\n",
       "\n",
       "            .sample td {\n",
       "                width:100%;\n",
       "            }\n",
       "\n",
       "\n",
       "        /* There is no good solution available to make the divs equal height and then center ... */\n",
       "            .histogram {\n",
       "                margin-top: 3em;\n",
       "            }\n",
       "        /* Freq table */\n",
       "\n",
       "            table.freq {\n",
       "                margin-bottom: 2em;\n",
       "                border: 0;\n",
       "            }\n",
       "            table.freq th, table.freq tr, table.freq td {\n",
       "                border: 0;\n",
       "                padding: 0;\n",
       "            }\n",
       "\n",
       "            .freq thead {\n",
       "                font-weight: 600;\n",
       "                white-space: nowrap;\n",
       "                overflow: hidden;\n",
       "                text-overflow: ellipsis;\n",
       "\n",
       "            }\n",
       "\n",
       "            td.fillremaining{\n",
       "                width:auto;\n",
       "                max-width: none;\n",
       "            }\n",
       "\n",
       "            td.number, th.number {\n",
       "                text-align:right ;\n",
       "            }\n",
       "\n",
       "        /* Freq mini */\n",
       "            .freq.mini td{\n",
       "                width: 50%;\n",
       "                padding: 1px;\n",
       "                font-size: 12px;\n",
       "\n",
       "            }\n",
       "            table.freq.mini {\n",
       "                 width:100%;\n",
       "            }\n",
       "            .freq.mini th {\n",
       "                overflow: hidden;\n",
       "                text-overflow: ellipsis;\n",
       "                white-space: nowrap;\n",
       "                max-width: 5em;\n",
       "                font-weight: 400;\n",
       "                text-align:right;\n",
       "                padding-right: 0.5em;\n",
       "            }\n",
       "\n",
       "            .missing {\n",
       "                color: #a94442;\n",
       "            }\n",
       "            .alert, .alert > th, .alert > td {\n",
       "                color: #a94442;\n",
       "            }\n",
       "\n",
       "\n",
       "        /* Bars in tables */\n",
       "            .freq .bar{\n",
       "                float: left;\n",
       "                width: 0;\n",
       "                height: 100%;\n",
       "                line-height: 20px;\n",
       "                color: #fff;\n",
       "                text-align: center;\n",
       "                background-color: #337ab7;\n",
       "                border-radius: 3px;\n",
       "                margin-right: 4px;\n",
       "            }\n",
       "            .other .bar {\n",
       "                background-color: #999;\n",
       "            }\n",
       "            .missing .bar{\n",
       "                background-color: #a94442;\n",
       "            }\n",
       "            .tooltip-inner {\n",
       "                width: 100%;\n",
       "                white-space: nowrap;\n",
       "                text-align:left;\n",
       "            }\n",
       "\n",
       "            .extrapadding{\n",
       "                padding: 2em;\n",
       "            }\n",
       "\n",
       "\n",
       "\n",
       "    </style>\n",
       "\n",
       "<div class=\"container pandas-profiling\">\n",
       "     <div class=\"row headerrow highlight\">\n",
       "            <h1>Overview</h1>\n",
       "    </div>\n",
       "\n",
       "    \n",
       "    <div class=\"row variablerow\">\n",
       "        <div class=\"col-md-6 namecol\">\n",
       "            <p class=\"h4\">Dataset info</p>\n",
       "             <table class=\"stats\" style=\"margin-left: 1em;\" >\n",
       "                        <tbody><tr><th>Number of variables</th>\n",
       "                        <td>9</td></tr>\n",
       "                        <tr><th>Number of observations</th>\n",
       "                        <td>768</td></tr>\n",
       "                        <tr><th>Total Missing (%)</th>\n",
       "                        <td>0.0%</td></tr>\n",
       "                        <tr><th>Total size in memory</th>\n",
       "                        <td>60.0 KiB</td></tr>\n",
       "                        <tr><th>Average record size in memory</th>\n",
       "                        <td>80.0 B</td></tr>\n",
       "                        </tbody></table>\n",
       "        </div>\n",
       "        <div class=\"col-md-6 namecol\">\n",
       "            <p class=\"h4\">Variables types</p>\n",
       "             <table class=\"stats\" style=\"margin-left: 1em;\">\n",
       "                        <tbody><tr><th>Numeric</th>\n",
       "                        <td>9</td></tr>\n",
       "                        <tr><th>Categorical</th>\n",
       "                        <td>0</td></tr>\n",
       "                        <tr><th>Date</th>\n",
       "                        <td>0</td></tr>\n",
       "                        <tr><th>Text (Unique)</th>\n",
       "                        <td>0</td></tr>\n",
       "                        <tr><th>Rejected</th>\n",
       "                        <td>0</td></tr>\n",
       "                        </tbody></table>\n",
       "        </div>\n",
       "        <div class=\"col-md-12\" style=\"padding-left: 1em;\">\n",
       "            <p class=\"h4\">Warnings</p>\n",
       "            <ul class=\"list-unstyled\"><li><code>bmi</code> has 11 / 1.4% zeros</l><li><code>diastolic_bp</code> has 35 / 4.6% zeros</l><li><code>insulin</code> has 374 / 48.7% zeros</l><li><code>isDiabetic</code> has 500 / 65.1% zeros</l><li><code>no_times_pregnant</code> has 111 / 14.5% zeros</l><li><code>triceps_sf_thickness</code> has 227 / 29.6% zeros</l></ul>\n",
       "        </div>\n",
       "     </div>\n",
       "\n",
       "\n",
       "    <div class=\"row headerrow highlight\">\n",
       "            <h1>Variables</h1>\n",
       "    </div>\n",
       "\n",
       "    <div class=\"row variablerow\">\n",
       "        <div class=\"col-md-3 namecol\">\n",
       "            <p class=\"h4\">age<br/><small>Numeric</small></p>\n",
       "        </div>\n",
       "\n",
       "        <div class=\"col-md-6\">\n",
       "            <div class=\"row\">\n",
       "                <div class=\"col-sm-6\">\n",
       "                    <table class=\"stats \">\n",
       "                        <tr><th>Distinct count</th>\n",
       "                        <td>52</td></tr>\n",
       "                        <tr><th>Unique (%)</th>\n",
       "                        <td>6.8%</td></tr>\n",
       "                        <tr class=\"ignore\"><th>Missing (%)</th>\n",
       "                        <td>0.0%</td></tr>\n",
       "                        <tr class=\"ignore\"><th>Missing (n)</th>\n",
       "                        <td>0</td></tr>\n",
       "                    </table>\n",
       "\n",
       "                </div>\n",
       "                <div class=\"col-sm-6\">\n",
       "                    <table class=\"stats \">\n",
       "\n",
       "                        <tr><th>Mean</th>\n",
       "                        <td>33.241</td></tr>\n",
       "                        <tr><th>Minimum</th>\n",
       "                        <td>21</td></tr>\n",
       "                        <tr><th>Maximum</th>\n",
       "                        <td>81</td></tr>\n",
       "                        <tr class=\"ignore\"><th>Zeros (%)</th>\n",
       "                        <td>0.0%</td></tr>\n",
       "                    </table>\n",
       "                </div>\n",
       "            </div>\n",
       "        </div>\n",
       "        <div class=\"col-md-3 collapse in\" id=\"minihistogram-3417342398140456371\">\n",
       "             <img src=\"data:image/png;base64,iVBORw0KGgoAAAANSUhEUgAAAMgAAABLCAYAAAA1fMjoAAAABHNCSVQICAgIfAhkiAAAAAlwSFlzAAAPYQAAD2EBqD%2BnaQAABGZJREFUeJzt3DFIa1ccx/HfNYoJSuXxmhitrSKlglDokA6CmC6CSEKw1CQqVhwiCoKbg2ignRURhGKWQHQJpIMODhZsB7GDLlJQ1A6voFCTKrVGjDTmdHpSW/iTYO%2B93vT3Wb3xHJPzJfdeT6IppRQMlk6nkUwmEQ6HsfjdL3hzeVfU41peO/B18BNUVlbqPEN6Sd6ul1AoBJfLZejYmhmBvJXP5/HlNz/i5Nfboo7/yF2DxEQHAyHDVJg9AaKXjIEQCRgIkYCBEAkYCJGAgRAJGAiRgIEQCRgIkYCBEAkYCJGAgRAJGAiRgIEQCRgIkYCBEAkYCJGAgRAJGAiRgIEQCSz17Qe2Cg0PDw%2BlPcZmg6ZpOs2Iyp2lAnnvlR1fffsTvyaIDGO5lfPm8q7orwkiei5egxAJGAiRgIEQCRgIkYCBEAkYCJGAgRAJGAiRwHL/KCwFt6bQc5V1IKVuTWl914G5zz%2BGzWYregwGVd7KOhCgtK0pH7x2cK8XPcFX9h%2B414v%2BjhfpRAIGQiTgKdYz8C5Z%2BWMgz8APcJU/vlLPxIv68sZADMRTMuthIAbiKZn18Jk3WCmnZHzHMR8DecG4VcZ8DOSF41YZc/GZKTM8hftvmR7IF55G/H73Z1HHvv/Kju%2BPfiv6dzfWVZe0VeD/dvynLXWI//AzLv64L%2Br4%2BneqMfrZhyWdwln93UlTSimjB02n00gmkwiFQnC5XEYPTxZj5noxZS9WJpPB8vIyMpmMGcOTxZi5XrhZkUjAQIgEDIRIwECIBKYE4nQ6MTk5CafTacbwZDFmrhdTbvMSWQVPsYgEDIRIwECIBAyESMBAiAQMhEjAQIgEhgQSj8fh9/vh9/sxMzODfD6Pk5MThEIh9Pb2YmpqCrlczoipkAXEYjH09PQgEAhgZWUFAMxbL0pnBwcHyu/3q1wup5RSanp6WsXjcRUIBNTe3p5SSqmlpSW1sLCg91TIAnZ3d5XP51PZbFYVCgU1MTGhtra2TFsvur%2BD1NXVIRqNorq6GgDQ1taG4%2BNjZLNZeDweAEB/fz82Nzf1ngpZwOHhIbq6ulBTUwNN09DZ2YnV1VXT1ovugTQ3Nz/%2BYZeXl1hbW0Nrayvq6%2Bsfj3G5XLi4uNB7KmQB7e3t2NnZwfX1Ne7v77G9vY2qqirT1othF%2BlnZ2cYGRlBOBx%2BDObJRCp4v4CAjo4O9PX1YXh4GJFIBB6PB/l8/l/HGbVeDBnl6OgIg4ODGBgYwNjYGNxuN9Lp9OPPM5kM3G63EVOhF%2B729hbd3d3Y2NhAIpGA3W5HY2Pjk4/bGrledA/k6uoKkUgE0WgUQ0NDAICGhgY4HA7s7%2B8DAFKpFLxer95TIQs4Pz/H%2BPg48vk8bm5ukEqlEAwGYbfbTVkvum93X1xcRCKRQEtLC5RS0DQNXq8XPp8Ps7OzyGazaGpqwvz8PGpra/WcCllELBbD%2Bvo6CoUCRkdHEQwGcXp6irm5OcPXCz8PQiTglTGRgIEQCf4C9fB/aNbmZMQAAAAASUVORK5CYII%3D\">\n",
       "\n",
       "        </div>\n",
       "       <div class=\"col-md-12 text-right\">\n",
       "            <a role=\"button\" data-toggle=\"collapse\" data-target=\"#descriptives-3417342398140456371,#minihistogram-3417342398140456371\" aria-expanded=\"false\" aria-controls=\"collapseExample\">\n",
       "                Toggle details\n",
       "            </a>\n",
       "        </div>\n",
       "        <div class=\"row collapse col-md-12\" id=\"descriptives-3417342398140456371\">\n",
       "            <div class=\"col-sm-4\">\n",
       "                  <p class=\"h4\">Quantile statistics</p>\n",
       "                  <table class=\"stats indent\">\n",
       "                        <tr><th>Minimum</th>\n",
       "                        <td>21</td></tr>\n",
       "                        <tr><th>5-th percentile</th>\n",
       "                        <td>21</td></tr>\n",
       "                        <tr><th>Q1</th>\n",
       "                        <td>24</td></tr>\n",
       "                        <tr><th>Median</th>\n",
       "                        <td>29</td></tr>\n",
       "                        <tr><th>Q3</th>\n",
       "                        <td>41</td></tr>\n",
       "                        <tr><th>95-th percentile</th>\n",
       "                        <td>58</td></tr>\n",
       "                        <tr><th>Maximum</th>\n",
       "                        <td>81</td></tr>\n",
       "                        <tr><th>Range</th>\n",
       "                        <td>60</td></tr>\n",
       "                        <tr><th>Interquartile range</th>\n",
       "                        <td>17</td></tr>\n",
       "                  </table>\n",
       "                  <p class=\"h4\">Descriptive statistics</p>\n",
       "                  <table class=\"stats indent\">\n",
       "                        <tr><th>Standard deviation</th>\n",
       "                        <td>11.76</td></tr>\n",
       "                        <tr><th>Coef of variation</th>\n",
       "                        <td>0.35379</td></tr>\n",
       "                        <tr><th>Kurtosis</th>\n",
       "                        <td>0.64316</td></tr>\n",
       "                        <tr><th>Mean</th>\n",
       "                        <td>33.241</td></tr>\n",
       "                        <tr><th>MAD</th>\n",
       "                        <td>9.5864</td></tr>\n",
       "                        <tr class=\"\"><th>Skewness</th>\n",
       "                        <td>1.1296</td></tr>\n",
       "                        <tr><th>Sum</th>\n",
       "                        <td>25529</td></tr>\n",
       "                        <tr><th>Variance</th>\n",
       "                        <td>138.3</td></tr>\n",
       "                        <tr><th>Memory size</th>\n",
       "                        <td>6.0 KiB</td></tr>\n",
       "                 </table>\n",
       "            </div>\n",
       "             <div class=\"col-sm-8 histogram\">\n",
       "                 <img src=\"data:image/png;base64,iVBORw0KGgoAAAANSUhEUgAAAlgAAAGQCAYAAAByNR6YAAAABHNCSVQICAgIfAhkiAAAAAlwSFlzAAAPYQAAD2EBqD%2BnaQAAIABJREFUeJzt3X1cVHXe//E3N8tNBpvioMall4pXgWSCCOUqesmFuttqVmRsrZVuG3slYFtpUamVWrBRWoqSN%2BlVWC0lj0q92q7HWltZWnmvrbYm3iSuwuB6Qzo6Auf3R79mGwddqC/OwLyejwcP4vs9c%2BYzHw6ed%2BecORNgWZYlAAAAGBPo7QIAAADaGgIWAACAYQQsAAAAwwhYAAAAhhGwAAAADCNgAQAAGEbAAgAAMIyABQAAYBgBCwAAwDACFgAAgGEELAAAAMMIWAAAAIYRsAAAAAwjYAEAABhGwAIAADCMgAUAAGAYAQsAAMAwAhYAAIBhBCwAAADDCFgAAACGEbAAAAAMI2ABAAAYRsACAAAwjIAFAABgGAELAADAMAIWAACAYQQsAAAAwwhYAAAAhhGwAAAADCNgAQAAGEbAAgAAMIyABQAAYFibDFhff/217rrrLiUlJSk9PV0vvviia66yslLjx49XUlKSRo4cqU8%2B%2BcTtsWvXrtWoUaOUmJiocePG6cCBAxe7fAAA0Mq1uYBlWZays7PVsWNHvf3223r88cdVUlKi//3f/5UkTZgwQdHR0SovL9f111%2Bv3NxcHT58WJJ06NAh5eTkKDMzU%2BXl5Wrfvr1ycnJ%2BdE3V1dWaO3euqqurf/S62gp64o5%2BeKIn7uiHJ3rijn548mZP2lzAqqmpUe/evfXYY4%2BpW7duGjx4sAYMGKCNGzfq008/VWVlpaZPn66ePXsqOztbiYmJWr58uSTp9ddfV58%2BfTRu3DjFxsaqoKBABw8e1Pr1639UTXa7XcXFxbLb7SZeYptAT9zRD0/0xB398ERP3NEPT97sSZsLWDabTbNmzdIll1wiSdq4caM2bNig1NRUbd26VQkJCQoNDXUtn5ycrC1btkiStm3bppSUFNdcWFiYevfurc2bN1/cFwEAAFq1Nhewvi89PV1jx45VYmKihg8fLrvdrujoaLdloqKiVFVVJenbQ4nnznfs2NE1DwAA0BRtOmDNnTtXL7zwgr788ks99dRTcjgcCgkJcVsmJCRETqdTknT69OkLzgMAADRFsLcLaEkJCQmSpPz8fE2aNEk333yzTpw44baM0%2BlUWFiYJCk0NNQjTDmdTkVGRjb5Oaurqz3O9VZUVPyQ8gEAgAGN7YdtNpvHWSuT2lzAOnLkiDZv3qyMjAzXWK9evXT27FnZbDaPJtfU1Mhms0mSOnXq5BGOampqFB8f3%2BTnLysrU3Fxscd4Tk6OK/B939%2BPnNBjy7/QSWd9k5/jYuseFa7ptyQqONjc5pKQkKC//e1vxtbX2tEPT/TEHf3wRE/c0Q9PCQkJSklJ0eTJkz3mcnNzlZeX12LP3eYCVmVlpfLy8vThhx%2B6kun27dsVFRWl5ORkvfjii3I6na5TgRs3blT//v0lSX379tWmTZtc63I4HNqxY0ezfgFZWVlKT0/3GLfZbDpxwqH6%2Bga38VOnzuqrqpP65ozvBixJqq11yOQZ5aCgQEVGhjfaE39EPzzRE3f0wxM9cUc/PAUFBWrWrFmNvovwu4MrLaXNBaw%2Bffroqquu0iOPPKKHH35YlZWVeuaZZ3TPPfcoJSVFXbp0UX5%2BviZMmKD3339f27dvV2FhoSQpMzNTS5Ys0aJFizR06FAVFxerW7duSk1NbfLzR0dHn/eQ49GjJ1VX577RNzS0jj%2BCujpLkvla6%2BsbPHriz%2BiHJ3rijn54oifu6Ie7C%2B2XW1Kbu8g9MDBQ8%2BfP1yWXXKJf/epXmjp1qu644w6NHTtWgYGBKikpkd1uV2ZmplauXKl58%2Bapc%2BfOkqSYmBjNnTtX5eXlGjNmjGpraxs93QcAAHAhbe4IlvTtYb85c%2BY0Ote1a1eVlpae97FpaWl69913W6o0AADgB9rcESwAAABvI2ABAAAYRsACAAAwjIAFAABgGAELAADAMAIWAACAYQQsAAAAwwhYAAAAhhGwAAAADCNgAQAAGEbAAgAAMIyABQAAYBgBCwAAwDACFgAAgGEELAAAAMMIWAAAAIYRsAAAAAwjYAEAABhGwAIAADCMgAUAAGAYAQsAAMAwAhYAAIBhBCwAAADDCFgAAACGEbAAAAAMI2ABAAAYRsACAAAwjIAFAABgGAELAADAMAIWAACAYQQsAAAAwwhYAAAAhhGwAAAADCNgAQAAGEbAAgAAMIyABQAAYBgBCwAAwDACFgAAgGEELAAAAMMIWAAAAIYRsAAAAAxrkwGrqqpKEydO1DXXXKMhQ4aosLBQTqdTkjRz5kzFxcUpPj7e9f2VV15xPXbt2rUaNWqUEhMTNW7cOB04cMBbLwMAALRSwd4uoCVMnDhRl112mV599VUdO3ZMjzzyiIKCgjR58mTt2bNHkyZN0o033uha/tJLL5UkHTp0SDk5Obr33nuVlpam4uJi5eTkaMWKFd56KQAAoBVqc0ew9uzZo23btqmgoECxsbFKTk7WxIkTtWrVKklSRUWFevfuraioKNdXaGioJOmNN95Qnz59NG7cOMXGxqqgoEAHDx7U%2BvXrvfmSAABAK9PmApbNZtPixYvVoUMH15hlWaqtrdU333yjqqoqde/evdHHbt26VSkpKa6fw8LC1Lt3b23evLmlywYAAG1ImwtYERERGjhwoOtny7K0bNky/exnP9OePXsUEBCgkpISDRkyRKNHj9Zbb73lWra6ulrR0dFu6%2BvYsaOqqqouWv0AAKD1a5PXYH3f008/rS%2B//FLLly/XF198ocDAQMXGxur222/X559/rqlTp%2BrSSy9VRkaGTp8%2BrZCQELfHh4SEuC6QBwAAaIo2HbCKiopUWlqq5557Tr169VKvXr2Unp6uyMhISdIVV1yhffv26bXXXlNGRoZCQ0M9wpTT6XQt3xTV1dWy2%2B0e4zabTWFhER7jgYGt4yBicHCATB7wDAoKdPvu7%2BiHJ3rijn54oifu6IenoKDAC%2B6Xzz1rZVKbDVgzZsxQWVmZioqKlJGR4Ro/Nyz17NlTn332mSSpU6dOHr%2BEmpoaxcfHN/l5y8rKVFxc7DGem5urvLw8j3FHQ32T1%2B1NERHhCg42v7lERoYbX2drRj880RN39MMTPXFHP9y99NLiZu2XTWmTAau4uFhlZWWaPXu2hg0b5hqfM2eONm/erKVLl7rGdu7cqR49ekiS%2Bvbtq02bNrnmHA6HduzY0axfQFZWltLT0z3GbTabTpxwqL6%2BwW381KmzTV63N9XWOmT6CFZkZHijPfFH9MMTPXFHPzzRE3f0w1NQUOAF98stqc0FrIqKCpWUlOh3v/udkpKSVFNT45obOnSoFi5cqKVLlyojI0Nr1qzRihUrVFpaKknKzMzUkiVLtGjRIg0dOlTFxcXq1q2bUlNTm/z80dHR5z3kePToSdXVuW/0DQ2t44%2Bgrs6SZL7W%2BvoGj574M/rhiZ64ox%2Be6Ik7%2BuHuQvvlltTmAtZ7772nhoYGlZSUqKSkRNK37yQMCAjQzp07NWfOHD3//PN6/vnnFRMTo2effVZXX321JCkmJkZz587Vk08%2Bqfnz56tfv36NHlYEAAC4kADLsixvF%2BEvGjuCdfTUaWW/tEXfnPHda7Gu6NxOz/%2Bqr6QAY%2BsMDg5U%2B/btGu2JP6IfnuiJO/rhiZ64ox%2BevuuJN/BWAwAAAMMIWAAAAIYRsAAAAAwjYAEAABhGwAIAADCMgAUAAGAYAQsAAMAwAhYAAIBhBCwAAADDCFgAAACGEbAAAAAMI2ABAAAYRsACAAAwjIAFAABgGAELAADAMAIWAACAYQQsAAAAwwhYAAAAhhGwAAAADCNgAQAAGEbAAgAAMIyABQAAYBgBCwAAwDACFgAAgGEELAAAAMMIWAAAAIYRsAAAAAwjYAEAABhGwAIAADCMgAUAAGAYAQsAAMAwAhYAAIBhBCwAAADDCFgAAACGEbAAAAAMI2ABAAAYRsACAAAwjIAFAABgGAELAADAMAIWAACAYQQsAAAAwwhYAAAAhrXJgFVVVaWJEyfqmmuu0ZAhQ1RYWCin0ylJqqys1Pjx45WUlKSRI0fqk08%2BcXvs2rVrNWrUKCUmJmrcuHE6cOCAN14CAABoxdpkwJo4caLOnDmjV199VbNmzdJf/vIXPf/885KkCRMmKDo6WuXl5br%2B%2BuuVm5urw4cPS5IOHTqknJwcZWZmqry8XO3bt1dOTo43XwoAAGiF2lzA2rNnj7Zt26aCggLFxsYqOTlZEydO1KpVq/Tpp5%2BqsrJS06dPV8%2BePZWdna3ExEQtX75ckvT666%2BrT58%2BGjdunGJjY1VQUKCDBw9q/fr1Xn5VAACgNWlzActms2nx4sXq0KGD23htba22bt2qhIQEhYaGusaTk5O1ZcsWSdK2bduUkpLimgsLC1Pv3r21efPmi1M8AABoE9pcwIqIiNDAgQNdP1uWpWXLlmnAgAGy2%2B2Kjo52Wz4qKkpVVVWSpOrqao/5jh07uuYBAACaos0FrHM9/fTT2rlzp%2B677z45HA6FhIS4zYeEhLgugD99%2BvQF5wEAAJoi2NsFtKSioiKVlpbqueeeU69evRQaGqrjx4%2B7LeN0OhUWFiZJCg0N9QhTTqdTkZGRTX7O6upq2e12j3GbzaawsAiP8cDA1pFxg4MDZDKPBwUFun33d/TDEz1xRz880RN39MNTUFDgBffL5561MqnNBqwZM2aorKxMRUVFysjIkCR16tRJu3fvdluupqZGNpvNNX/uL6Gmpkbx8fFNft6ysjIVFxd7jOfm5iovL89j3NFQ3%2BR1e1NERLiCg81vLpGR4cbX2ZrRD0/0xB398ERP3NEPdy%2B9tLhZ%2B2VT2mTAKi4uVllZmWbPnq1hw4a5xvv27atFixbJ6XS6TgVu3LhR/fv3d81v2rTJtbzD4dCOHTua9QvIyspSenq6x7jNZtOJEw7V1ze4jZ86dbZZr81bamsdMn0EKzIyvNGe%2BCP64YmeuKMfnuiJO/rhKSgo8IL75ZbU5gJWRUWFSkpK9Lvf/U5JSUmqqalxzaWmpqpLly7Kz8/XhAkT9P7772v79u0qLCyUJGVmZmrJkiVatGiRhg4dquLiYnXr1k2pqalNfv7o6OjzHnI8evSk6urcN/qGhtbxR1BXZ0kyX2t9fYNHT/wZ/fBET9zRD0/0xB39cHeh/XJLanMnat977z01NDSopKREaWlpSktL06BBg5SWlqbAwEDNmzdPdrtdmZmZWrlypebNm6fOnTtLkmJiYjR37lyVl5drzJgxqq2tbfSwIgAAwIW0uSNY2dnZys7OPu98t27dVFpaet75tLQ0vfvuuy1RGgAA8BNt7ggWAACAtxGwAAAADCNgAQAAGEbAAgAAMIyABQAAYBgBCwAAwDACFgAAgGEELAAAAMMIWAAAAIYRsAAAAAwjYAEAABhGwAIAADCMgAUAAGAYAQsAAMAwAhYAAIBhPhOwxowZoz/%2B8Y%2Bqra31dikAAAA/is8ErGuvvVYvvPCCBg0apPvvv18ff/yxLMvydlkAAADN5jMB64EHHtBf/vIXzZ8/X0FBQcrLy9N//ud/avbs2dq7d6%2B3ywMAAGiyYG8X8H0BAQEaOHCgBg4cKIfDodLSUs2fP18LFy5Uv379dOedd2r48OHeLhMAAOCCfCpgSVJ1dbVWrFihFStWaNeuXerXr59uvPFGHT58WFOmTNH69ev16KOPertMAACA8/KZgPX222/r7bff1meffaYOHTrohhtu0Jw5c9S9e3fXMl26dNGTTz5JwAIAAD7NZwLWo48%2BqqFDh2revHkaPHiwAgM9Lw/r2bOnxo4d64XqAAAAms5nAtZHH32k9u3b69ixY65wtW3bNiUkJCgoKEiS1K9fP/Xr18%2BbZQIAAPxLPvMuwm%2B%2B%2BUY///nPtWjRItdYdna2Ro8erUOHDnmxMgAAgObxmYD11FNP6d///d81fvx419g777yjLl26qKCgwIuVAQAANI/PBKwNGzYoPz9fNpvNNdahQwc9%2BOCD%2BvTTT71YGQAAQPP4TMAKDg7WiRMnPMYdDgd3dAcAAK2KzwSswYMHa%2BbMmfr6669dYwcOHFBBQYHS0tK8WBkAAEDz%2BMy7CB966CGNHz9eI0aMUGRkpCTpxIkTSkhI0MMPP%2Bzl6gAAAJrOZwJWVFSU3nzzTa1du1ZfffWVgoOD1atXLw0YMEABAQHeLg8AAKDJfCZgSVJQUJDS0tI4JQgAAFo1nwlYdrtdzz33nDZt2qSzZ896XNj%2B3nvveakyAACA5vGZgDV16lR98cUX%2BuUvf6mIiAhvlwMAAPCD%2BUzA%2BvTTT7V48WL179/f26UAAAD8KD5zm4ZLLrlEUVFR3i4DAADgR/OZgDV69GgtXrxY9fX13i4FAADgR/GZU4THjh3TqlWr9MEHH6hr164KCQlxm3/55Ze9VBkAAEDz%2BEzAkqSRI0d6uwQAAIAfzWcCVkFBgbdLAAAAMMJnrsGSpOrqahUXF%2BuBBx7QkSNH9O6772rPnj3eLgsAAKBZfCZg7d%2B/X6NGjdKbb76p//u//9OpU6f0zjvvKDMzU1u3bvV2eX4tKDBAkmX4q0F1dXWSGgyvFwAA7/OZU4SFhYXKyMjQzJkz1a9fP0nSrFmz9NBDD%2BmZZ55RaWlps9fpdDqVmZmpadOmKSUlRZI0c%2BZMLVu2TAEBAbIsSwEBAZoyZYp%2B/etfS5LWrl2rgoICHThwQImJiZoxY4a6du1q7oW2QjHtwzT7z19p3xGHt0s5r%2B5R4bpv2BXeLgMAAEk%2BFLA2bdqkV155xe2DnYODgzVhwgTdcsstzV6f0%2BnU/fffr927d7uN79mzR5MmTdKNN97oGrv00kslSYcOHVJOTo7uvfdepaWlqbi4WDk5OVqxYsUPfFVtx74jDu06fNLbZQAA0Cr4zCnChoYGNTQ0eIyfPHlSQUFBzVpXRUWFbrnlFlVWVjY617t3b0VFRbm%2BQkNDJUlvvPGG%2BvTpo3Hjxik2NlYFBQU6ePCg1q9f/8NeFAAA8Es%2BE7AGDRqkBQsWuIWsY8eOqaioSNdee22z1vX5559rwIABKisrc/vQ6G%2B%2B%2BUZVVVXq3r17o4/bunWr61SiJIWFhal3797avHlz814MAADwaz5zijA/P1933HGHBg0apDNnzuiee%2B7RwYMHddlll6mwsLBZ67r11lsbHd%2BzZ48CAgJUUlKijz76SJdddpnGjx%2BvG264QdK372KMjo52e0zHjh1VVVX1w14UAADwSz4TsDp16qS33npLq1at0s6dO9XQ0KBbb71Vo0ePdl0j9WPt2bNHgYGBio2N1e23367PP/9cU6dO1aWXXqqMjAydPn3a4w7yISEhcjqdRp4fAAD4B58JWJIUHh6uMWPGtNj6b7jhBqWnpysyMlKSdMUVV2jfvn167bXXlJGRodDQUI8w5XQ6Xcs3RXV1tex2u8e4zWZTWFiEx3hgoM%2BcpW31goMD5ENnvZslKCjQ7Tvoybnohyd64o5%2BeAoKCrzgfvncs1Ym%2BUzAuuOOOy44b%2BqzCM8NSz179tRnn30m6dujaOf%2BEmpqahQfH9/k9ZeVlam4uNhjPDc3V3l5eR7jjgY%2B3NqUiIhwBQf7zCb9g0RGhnu7BJ9DT9zRD0/0xB39cPfSS4ubtV82xWf2RjExMW4/19XVaf/%2B/dq1a5fuvPNOI88xZ84cbd68WUuXLnWN7dy5Uz169JAk9e3bV5s2bXLNORwO7dixo1m/gKysLKWnp3uM22w2nTjhUH29%2BzslT50629yXgfOorXWoNR/BiowMb3Qb8Vf0xB398ERP3NEPT0FBgRfcL7cknwlY5/sswnnz5unw4cNGnmPo0KFauHChli5dqoyMDK1Zs0YrVqxw3cQ0MzNTS5Ys0aJFizR06FAVFxerW7duSk1NbfJzREdHn/eQ49GjJ1VX577RN3ZrCvwwdXXf3iG%2BNauvb/DYRvwdPXFHPzzRE3f0w92F9sstyef/d3/06NH605/%2B9IMf//0bl/bp00dz5szRW2%2B9pVGjRumVV17Rs88%2Bq6uvvlrSt0fR5s6dq/Lyco0ZM0a1tbWNHlYEAAC4EJ85gnU%2BmzdvbvaNRr9v586dbj%2Bnp6c3eqjwO2lpaXr33Xd/8PMBAAD4TMBq7CL3b775Rn/729902223eaEiAACAH8ZnAtbll1/udjpPkn7yk59o7Nixuv76671UFQAAQPP5TMBq7t3aAQAAfJXPBKzmfKDy9z8vEAAAwNf4TMC6/fbbXacIv/8BzeeOBQQEeFy4DgAA4Et8JmC98MILmjlzpiZPnqzU1FSFhIRo%2B/btmj59um688UZdd9113i4RAACgSXzmPlgFBQWaNm2aRowYofbt26tdu3a69tprNX36dL322muKiYlxfQEAAPgynwlY1dXVjYanSy%2B9VEePHvVCRQAAAD%2BMzwSsxMREzZo1S998841r7NixYyoqKtKAAQO8WBkAAEDz%2BMw1WFOmTNEdd9yhwYMHq3v37rIsS/v27ZPNZtPLL7/s7fIAAACazGcCVmxsrN555x2tWrVKFRUVkqRf//rX%2BuUvf6nw8HAvVwcAANB0PhOwJOmnP/2pxowZo8rKSnXt2lXSt3dzBwAAaE185hosy7L0zDPPKCUlRSNHjtThw4f10EMP6dFHH9XZs2e9XR4AAECT%2BUzAKi0t1dtvv63HHntMISEhkqSMjAytXr1axcXFXq4OAACg6XwmYJWVlWnatGm66aabXHdvv%2B666zRz5kytXLnSy9UBAAA0nc8ErMrKSsXHx3uMx8XFyW63e6EiAACAH8ZnAlZMTIy2b9/uMf7RRx%2B5LngHAABoDXzmXYR33XWXnnjiCdntdlmWpXXr1qmsrEylpaXKz8/3dnkAAABN5jMBKzMzU3V1dSopKdHp06c1bdo0dejQQb///e916623ers8AACAJvOZgLVq1Sr9/Oc/V1ZWlv7xj3/IsixFRUV5uywAAIBm85lrsKZPn%2B66mL1Dhw6EKwAA0Gr5TMDq3r27du3a5e0yAAAAfjSfOUUYFxenSZMmafHixerevbtCQ0Pd5gsKCrxUGQAAQPP4TMDau3evkpOTJYn7XgEAgFbNqwHr6aefVm5uri655BKVlpZ6sxQAAABjvHoN1tKlS%2BVwONzGsrOzVV1d7aWKAAAAfjyvBizLsjzG1q9frzNnznihGgAAADN85l2EAAAAbQUBCwAAwDCvB6yAgABvlwAAAGCU12/TMHPmTLd7Xp09e1ZFRUVq166d23LcBwsAALQWXg1YKSkpHve8SkpK0tGjR3X06FEvVQUAAPDjeDVgce8rAADQFnn9GiwAAIC2hoAFAABgGAELAADAMAIWAACAYQQsAAAAwwhYAAAAhhGwAAAADCNgAQAAGNamA5bT6dSoUaO0fv1611hlZaXGjx%2BvpKQkjRw5Up988onbY9auXatRo0YpMTFR48aN04EDBy522QAAoJVrswHL6XTq/vvv1%2B7du93Gc3JyFB0drfLycl1//fXKzc3V4cOHJUmHDh1STk6OMjMzVV5ervbt2ysnJ8cb5QMAgFasTQasiooK3XLLLaqsrHQbX7dunQ4cOKDp06erZ8%2Beys7OVmJiopYvXy5Jev3119WnTx%2BNGzdOsbGxKigo0MGDB92OgAEAAPwrbTJgff755xowYIDKyspkWZZrfNu2bUpISFBoaKhrLDk5WVu2bHHNp6SkuObCwsLUu3dvbd68%2BeIVDwAAWj2vfthzS7n11lsbHbfb7YqOjnYbi4qKUlVVlSSpurraY75jx46ueQAAgKZok0ewzsfhcCgkJMRtLCQkRE6nU5J0%2BvTpC84DAAA0RZs8gnU%2BoaGhOn78uNuY0%2BlUWFiYa/7cMOV0OhUZGdnk56iurpbdbvcYt9lsCguL8BgPDPSrjNuigoMD1Fr/nyEoKNDtO%2BjJueiHJ3rijn54CgoKvOB%2B%2BdyzVib5VcDq1KmTx7sKa2pqZLPZXPPn/hJqamoUHx/f5OcoKytTcXGxx3hubq7y8vI8xh0N9U1eNy4sIiJcwcGte5OOjAz3dgk%2Bh564ox%2Be6Ik7%2BuHupZcWN2u/bErr3hs1U9%2B%2BfbVo0SI5nU7XqcCNGzeqf//%2BrvlNmza5lnc4HNqxY0ezfgFZWVlKT0/3GLfZbDpxwqH6%2Bga38VOnzv6Ql4JG1NY61JqPYEVGhje6jfgreuKOfniiJ%2B7oh6egoMAL7pdbkl8FrNTUVHXp0kX5%2BfmaMGGC3n//fW3fvl2FhYWSpMzMTC1ZskSLFi3S0KFDVVxcrG7duik1NbXJzxEdHX3eQ45Hj55UXZ37Rt/QwB%2BBKXV1lqTW3c/6%2BgaPbcTf0RN39MMTPXFHP9xdaL/cklrn/%2B43Q0BAgOu/AwMDNX/%2BfNntdmVmZmrlypWaN2%2BeOnfuLEmKiYnR3LlzVV5erjFjxqi2trbRw4oAAAAX0uaPYO3cudPt565du6q0tPS8y6elpendd99t6bIAAEAb1uaPYAEAAFxsBCwAAADDCFgAAACGtflrsOAfggIDJFn/cjnfEPCvFwEAtGoELLQJMe3DNPvPX2nfEYe3Szmv7lHhum/YFd4uAwBwERCw0GbsO%2BLQrsMnvV0GAABcgwUAAGAaAQsAAMAwAhYAAIBhXIMFXCQXfqdjg%2Brq6vTtZyn6wrsheacjAPwYBCzgIuGdjgDgPwhYwEXEOx0BwD9wDRYAAIBhBCwAAADDCFgAAACGEbAAAAAMI2ABAAAYRsACAAAwjIAFAABgGAELAADAMAIWAACAYQQsAAAAwwhYAAAAhhGwAAAADCNgAQAAGEbAAgAAMIyABQAAYBgBCwAAwDACFgAAgGEELAAAAMMIWAAAAIYRsAAAAAwjYAEAABhGwAIAADCMgAUAAGAYAQsAAMAwAhYAAIBhBCwAAADDCFgAAACGEbAAAAAMI2ABAAAYRsACAAAwzC8D1urVqxUXF6f4%2BHjX93vvvVeSVFlZqfHjxyvXxeYhAAARD0lEQVQpKUkjR47UJ5984uVqAQBAaxPs7QK8Yffu3UpPT9fMmTNlWZYkKTQ0VJI0YcIExcfHq7y8XKtXr1Zubq7%2B9Kc/qXPnzt4sGQAAtCJ%2BGbAqKir0H//xH%2BrQoYPb%2BLp161RZWak33nhDoaGhys7O1rp167R8%2BXLl5uZ6qVoAANDa%2BOUpwoqKCvXo0cNjfNu2bUpISHAdzZKk5ORkbdmy5WKWBwAAWjm/DFh79%2B7VmjVrNGLECA0bNkzPPvuszp49K7vdrujoaLdlo6KiVFVV5aVKgYsrKDBAkuUjXw2qq6uT1HCBZQDAN/ndKcK///3vOn36tEJDQ/X888%2BrsrJSTz75pE6fPi2Hw6GQkBC35UNCQuR0Or1ULXBxxbQP0%2Bw/f6V9RxzeLuWCukeF675hV3i7DAA4L78LWJdffrk%2B%2B%2BwzRUZGSpLi4uLU0NCgyZMn66abbtKJEyfclnc6nQoLC2vy%2Bqurq2W32z3GbTabwsIiPMYDA/3yICJ82L4jDu06fNLbZfxLwcEB8qeD8EFBgW7fQU/ORT88BQUFXnC/fO5ZK5P8LmBJcoWr78TGxurMmTPq2LGjKioq3OZqampks9mavO6ysjIVFxd7jOfm5iovL89j3NFQ3%2BR1A/iniIhwBQf73z9hkZHh3i7B59ATd/TD3UsvLW7WftkUv/vX6eOPP9YDDzygjz76yHUx%2B44dO9S%2BfXv1799fS5YskdPpdJ0q3Lhxo/r379/k9WdlZSk9Pd1j3Gaz6cQJh%2BrrG9zGT506%2ByNeDeC/amsd8rcjWJGR4Y3%2BO%2BKv6Ik7%2BuEpKCjwgvvlluR3ASspKUnh4eF69NFHlZOTo6%2B//lpFRUW6%2B%2B67lZKSoi5duig/P18TJkzQ%2B%2B%2B/r%2B3bt6uwsLDJ64%2BOjj7vIcejR0%2Bqrs59o29o4I8A%2BCHq6r69EN7f1Nc3ePw74u/oiTv64e5C%2B%2BWW5D//%2B/f/tWvXTi%2B%2B%2BKKOHj2qm2%2B%2BWVOnTtWvfvUr/eY3v1FgYKBKSkpkt9uVmZmplStXat68edxkFAAANIvfHcGSvr3m6sUXX2x0rmvXriotLb3IFQEAgLbE745gAQAAtDQCFgAAgGEELAAAAMMIWAAAAIYRsAAAAAwjYAEAABhGwAIAADCMgAUAAGAYAQsAAMAwAhYAAIBhBCwAAADD/PKzCAG0bkGBAZIsb5fRRAHeLgCAFxCwALQ6Me3DNPvPX2nfEYe3Szmv7lHhum/YFd4uA4CXELAAtEr7jji06/BJb5cBAI3iGiwAAADDCFgAAACGEbAAAAAMI2ABAAAYRsACAAAwjHcRAkALMH%2BvrgbV1dVJajC8Xol7dQHmEbAAoAVwry7AvxGwAKCFcK8uwH9xDRYAAIBhBCwAAADDCFgAAACGEbAAAAAMI2ABAAAYRsACAAAwjIAFAABgGAELAADAMG40CgB%2ByvzH%2BbQkPs4HrQsBCwD8FB/nA7QcAhYA%2BDE%2BzgdoGVyDBQAAYBgBCwAAwDACFgAAgGEELAAAAMMIWAAAAIYRsAAAAAwjYAEAABhGwAIAADCMgNUIp9OpRx55RCkpKUpLS9PSpUu9XRIAAGhFuJN7I/7whz9ox44dKi0tVWVlpR566CHFxMRo%2BPDh3i4NAAC0AhzBOofD4dDy5cs1ZcoUxcXFKSMjQ7/97W%2B1bNkyb5cGAH7nnx9I3dhXg%2Brq6iQ1XGCZi/kF/BNHsM7x5Zdfqr6%2BXomJia6x5ORkLViwwItVAYB/4gOp0VoRsM5ht9t12WWXKTj4n62JiorSmTNndPToUbVv396L1QGA/%2BEDqdEaEbDO4XA4FBIS4jb23c9Op9MbJQEAfNg/T2N627mnTBsTcBHr8W8ErHOEhoZ6BKnvfg4PD/%2BXj6%2BurpbdbvcYt9lsCguL8BgPDAzUf3Rqp5PO%2Bh9Yccu7/KehPn%2BxHjWa0RpqlFpHndRoRmuoMaX7T1W%2BqVJVJ854u5Tz6hQZqqzUbvK3S6%2BDggIvuF%2BOjo5usecmYJ2jU6dOOnbsmBoaGhQY%2BO2GWFNTo7CwMEVGRv7Lx5eVlam4uNhjPCUlRbNmzfL4ZbZv306LfvczM8W3ItXV1SorK1NWVlaLbuCtBf3wRE/c0Q9P9MQd/fBUXV2t%2B%2B%2B/X%2BvXr/eYy83NVV5eXos9NwHrHPHx8QoODtaWLVvUr18/SdKGDRt01VVXNenxWVlZSk9PdxurqKjQ5MmTZbfb2ej/P7vdruLiYqWnp9MT0Y/G0BN39MMTPXFHPzzZ7XatX79eRUVFio2NdZuz2Wwt%2BtwErHOEhYVp9OjReuyxx/TUU0%2BpqqpKS5cuVWFhYZMeHx0dzYYNAIAPiY2NVUJCwkV9TgJWIx5%2B%2BGE98cQTuvPOOxUREaF7771XGRkZ3i4LAAC0EgSsRoSFhamgoEAFBQXeLgUAALRC/vV2AgAAgIsg6PHHH3/c20X4g3bt2ik1NVXt2rXzdik%2Bg564ox%2Be6Ik7%2BuGJnrijH5681ZMAy7J84e5oAAAAbQanCAEAAAwjYAEAABhGwAIAADCMgAUAAGAYAQsAAMAwAhYAAIBhBCwAAADDCFiGVVVVaeLEibrmmms0ZMgQFRYWyul0SpIqKys1fvx4JSUlaeTIkfrkk0%2B8XG3L%2B/rrr3XXXXcpKSlJ6enpevHFF11z/tiPc2VnZ%2Bvhhx92/eyvPVm9erXi4uIUHx/v%2Bn7vvfdK8s%2BeOJ1OPfHEE0pNTdWgQYM0e/Zs15w/9uPNN9/02D7i4uLUu3dvSdKBAwf8rieHDx/Wf//3fys5OVn/9V//pZdeesk154/biCT94x//0MSJE5WSkqIRI0bozTffdM15pScWjLrlllus7Oxsa/fu3daGDRus4cOHW08//bRlWZY1atQo68EHH7QqKiqsBQsWWImJidahQ4e8XHHLaWhosEaMGGE9%2BOCD1v79%2B60PP/zQSk5OtlatWmVZlv/141yrVq2yrrzySis/P981dv311/tlT0pKSqx77rnHOnLkiFVTU2PV1NRYtbW1lmX553YydepUa8SIEdb27dutdevWWddee61VVlZmWZZ/9uPMmTOu7aKmpsY6dOiQNXz4cKuwsNCyLP/syS233GLdf//91v79%2B63Vq1dbiYmJ1p///GfLsvyzH5ZlWVlZWVZWVpa1c%2BdO64MPPrBSU1O92hMClkEVFRVWXFycdeTIEdfYqlWrrMGDB1vr1q2zkpKSrNOnT7vmxo0bZ82dO9cbpV4U1dXV1n333WedPHnSNZabm2s98cQTftmP7zt27Jg1ZMgQa8yYMa6AtXbtWr/tyaRJk6xZs2Z5jPtjT44dO2YlJCRY69evd40tXLjQeuSRR/z%2B7%2BY7L7zwgjV8%2BHDL6XT65TZy/Phx68orr7S%2B%2Buor11heXp41Y8YMv91Gtm/fbsXFxVmVlZWusYULF1pZWVle6wmnCA2y2WxavHixOnTo4DZeW1urrVu3KiEhQaGhoa7x5ORkbdmy5WKXedHYbDbNmjVLl1xyiSRp48aN2rBhg1JTU/2yH9/3hz/8QaNHj1ZsbKxrbNu2bX7bk4qKCvXo0cNj3B97snHjRkVERKh///6usbvvvltPPvmk3//dSNLx48e1ePFiTZo0ST/5yU/8chsJCwtTeHi4ysvLVVdXpz179mjTpk2Kj4/3223kwIED6tChg2JiYlxjV155pb744gtt2LDBKz0hYBkUERGhgQMHun62LEvLli3TgAEDZLfbFR0d7bZ8VFSUqqqqLnaZXpGenq6xY8cqMTFRw4cP9%2Bt%2BrFu3Ths3blROTo7buD/3ZO/evVqzZo1GjBihYcOG6dlnn9XZs2f9sicHDhxQTEyM3nrrLf3iF79QRkaG5s%2BfL8uy/LIf53r11VfVqVMnDRs2TJJ//t2EhIRo2rRp%2BuMf/6i%2Bffvquuuu0%2BDBg5WZmemX/ZCkjh076sSJEzpz5oxr7NChQ6qrq9ORI0e80pPgFl27n3v66ae1c%2BdOLV%2B%2BXEuXLlVISIjbfEhIiOsC%2BLZu7ty5qqmp0eOPP66nnnpKDofDL/vhdDr1%2BOOP67HHHvN4/f7ak7///e86ffq0QkND9fzzz6uyslJPPvmkTp8%2B7Zc9OXXqlPbt26fXX39dhYWFstvtmjZtmsLDw/2yH%2Bdavny5srOzXT/7a08qKiqUnp6uu%2B66S7t27dKMGTM0YMAAv%2B1H3759ZbPZNH36dE2ZMkXV1dX6n//5HwUEBOjMmTNe6QkBq4UUFRWptLRUzz33nHr16qXQ0FAdP37cbRmn06mwsDAvVXhxJSQkSJLy8/M1adIk3XzzzTpx4oTbMv7Qj7lz5%2Bqqq67Sz372M485f91GLr/8cn322WeKjIyUJMXFxamhoUGTJ0/WTTfd5HfbSVBQkE6ePKlZs2apc%2BfOkqSDBw/q1Vdf1aBBg3Ts2DG35dt6P75v27Ztqqqq0nXXXeca88e/m3Xr1mn58uX66KOPFBISot69e%2Bvw4cMqKSnRgAED/HIbCQkJ0Zw5c/T73/9eycnJioqK0m9/%2B1sVFBQoMDBQDofDbfmL0RNOEbaAGTNm6KWXXlJRUZEyMjIkSZ06dZLdbndbrqamRjabzRslXhRHjhzR6tWr3cZ69eqls2fPymaz%2BV0/JOmdd97Re%2B%2B9p6SkJCUlJWnlypVauXKl%2BvXrp86dO/tlTyS5wtV3YmNjdebMGXXs2NHvehIdHa3Q0FBXuJKkHj16qKqqyi//Hfm%2Bjz/%2BWCkpKYqIiHCN%2BWNP/vrXv6p79%2B5uR2Xi4%2BN16NAhv%2BzHd6666iqtXr1aa9as0Ycffqju3burQ4cO6tatm1d6QsAyrLi4WGVlZZo9e7Z%2B8YtfuMb79u2rHTt2uB2S3LhxoxITE71R5kVRWVmpvLw8VVdXu8a2b9%2BuqKgoJScn669//atf9UOSli1bppUrV2rFihVasWKF0tPTlZ6errfffltXX321320j0rc7zWuuucbt2okdO3aoffv26t%2B/v99tJ3379tWZM2e0f/9%2B11hFRYViYmLUt29fv%2BvH923btk39%2BvVzG/PHf1ujo6O1f/9%2B1dXVucb27Nmjf/u3f/PbbeT48eO67bbbdPz4cUVFRSkwMFAffPCBUlNTdfXVV3ulJwQsgyoqKlRSUqLs7GwlJSWppqbG9ZWamqouXbooPz9fu3fv1sKFC7V9%2B3bdfPPN3i67xfTp00dXXXWVHnnkEVVUVOjDDz/UM888o3vuuUcpKSl%2B1w9J6tKli7p27er6ateundq1a6euXbv65TYiSUlJSQoPD9ejjz6qvXv36sMPP1RRUZHuvvtuv9xOevTooSFDhig/P19ffvml1qxZo0WLFum2227zy358365du9zeeSvJL/9u0tPTFRwcrClTpmjfvn16//33tWDBAt1xxx1%2Bu4389Kc/lcPhUFFRkQ4cOKA33nhDb775pu6%2B%2B26lpqbq8ssvv/g9adGbQPiZBQsWWHFxcW5fV155pRUXF2dZlmXt37/fGjt2rHX11VdbI0eOtNatW%2BfliltedXW1lZeXZ/Xv399KS0uzFixY4Jr7%2Buuv/a4f58rPz3e70ai/9mT37t3Wb37zG6tfv35WWlqaNW/ePNecP/aktrbWeuihh6x%2B/fpZAwcOtObPn%2B%2Ba88d%2BfKdv377Wxx9/7DHujz357m%2Bmf//%2B1vDhw62XX37ZNeeP/bAsy9q7d681duxYKzEx0Ro5cqT1wQcfuOa80ZMAy7Kslo1wAAAA/oVThAAAAIYRsAAAAAwjYAEAABhGwAIAADCMgAUAAGAYAQsAAMAwAhYAAIBhBCwAAADDCFgAAACGEbAAAAAMI2ABAAAYRsACAAAwjIAFAABg2P8DM5JI48JQXSkAAAAASUVORK5CYII%3D\">\n",
       "             </div>\n",
       "      </div>\n",
       "    </div><div class=\"row variablerow\">\n",
       "        <div class=\"col-md-3 namecol\">\n",
       "            <p class=\"h4\">bmi<br/><small>Numeric</small></p>\n",
       "        </div>\n",
       "\n",
       "        <div class=\"col-md-6\">\n",
       "            <div class=\"row\">\n",
       "                <div class=\"col-sm-6\">\n",
       "                    <table class=\"stats \">\n",
       "                        <tr><th>Distinct count</th>\n",
       "                        <td>248</td></tr>\n",
       "                        <tr><th>Unique (%)</th>\n",
       "                        <td>32.3%</td></tr>\n",
       "                        <tr class=\"ignore\"><th>Missing (%)</th>\n",
       "                        <td>0.0%</td></tr>\n",
       "                        <tr class=\"ignore\"><th>Missing (n)</th>\n",
       "                        <td>0</td></tr>\n",
       "                    </table>\n",
       "\n",
       "                </div>\n",
       "                <div class=\"col-sm-6\">\n",
       "                    <table class=\"stats \">\n",
       "\n",
       "                        <tr><th>Mean</th>\n",
       "                        <td>31.993</td></tr>\n",
       "                        <tr><th>Minimum</th>\n",
       "                        <td>0</td></tr>\n",
       "                        <tr><th>Maximum</th>\n",
       "                        <td>67.1</td></tr>\n",
       "                        <tr class=\"alert\"><th>Zeros (%)</th>\n",
       "                        <td>1.4%</td></tr>\n",
       "                    </table>\n",
       "                </div>\n",
       "            </div>\n",
       "        </div>\n",
       "        <div class=\"col-md-3 collapse in\" id=\"minihistogram-1541576839767441106\">\n",
       "             <img src=\"data:image/png;base64,iVBORw0KGgoAAAANSUhEUgAAAMgAAABLCAYAAAA1fMjoAAAABHNCSVQICAgIfAhkiAAAAAlwSFlzAAAPYQAAD2EBqD%2BnaQAABDpJREFUeJzt3D9Iq1ccxvEnRqtxuPVi80at1MultlAodBAqLjYoDh0UCjajCm6KW53SlroJKgg6dzRp7eKgawdFwQwt3aTgxUFMgl5ac5GSP6dTL1y0h76pnjevfD9bDIfzI/k9mHNyciLGGCPHCoWCstmsUqmUPM9zPT1CJsh%2BiQQRECAsmoIuAGhkBASwaA66gMfEGKNqtep7XDQaVSQSeYCK8H8RkHtUrVb1zQ%2B/6MXlzX8e86wzpqUvP1FzM29FI%2BJduWcvLm90cvEq6DJwT1iDABYEBLAgIIAFAQEsWKQHLNoUqWtrWGJ72AUCErB3n7bpu59%2B87U1LLE97AqvbgNga7hxsQYBLAgIYEFAAAsCAlgQEMCCgAAWBASwICCABV8U3qHeXwbWe2QEjYuA3KGeXwZK0uDzjgeqCEEhIP%2BinuMf73XGHqgaBIU1CGBBQAALAgJYEBDAgoAAFgQEsCAggAUBASwICGBBQAALjpqEVL33aXGXlj8EJKTquU%2BLu7T845UKMe7TenisQQALAgJYEBDAgoAAFgQEsCAggAUBASwe/fcg9Vzhw/U9%2BEdgAXl185fvMS3NTXqrpcXXmHqu8Hms1/dwPMW/wALy7Y%2B/%2Br536qvPP9CnH3b7nsvvN86P9fqeeo6nPH8npq%2B/%2BFjRaNT3fI8hWIEFZKi/Ux/1ln2NedrerEql4mtMtVrVM58N3/N2a12Ls3rGuZ7r4g9//7m9J636/ufflf/T37jEk1bNfPa%2B72A12jmxiDHGuJ60UCgom80qlUrJ8zzX0yNkguyXQHaxisWiNjY2VCwWg5geIRNkv7DNC1gQEMCCgAAWBASwCCQg8Xhc8/PzisfjQUyPkAmyXwLZ5gXCgo9YgAUBASwICGBBQAALAgJYEBDAgoAAFs4P3%2B/t7Wlzc1Plclnj4%2BOam5tzXQIaWCaTUSaTUSQSkTFG5%2BfnSiaTmp2dVTqd1vX1tfr7%2B7W8vKy2traHL8g4VCwWTTKZNC9fvjSVSsVMT0%2Bb/f19lyUgRE5PT83IyIjJ5/NmYmLCHB8fG2OMWV9fN6urq05qcPoR6%2BDgQIODg%2Bro6FA0GtXExIR2d3ddloAQWVpa0sLCgmq1mkqlkgYGBiRJk5OTzvrGaUDy%2BbwSicTrx4lEQhcXFy5LQEjkcjldXl5qfHz8Vt94nqd8Pu%2BkDqcBMXcc%2B2pqYp8At21tbWlmZkaSVKvVbj3vqm%2BcdmcikVChUHj9uFAoqKury2UJCIFKpaLDw0ONjY1Jkrq6ut7om2Kx6KxvnAZkaGhIR0dHurq6Urlc1s7OjoaHh12WgBA4OTlRX1%2Bf2tvbJUnd3d2KxWLK5XKSpO3tbWd943Sb1/M8LS4uampqSuVyWaOjoxodHXVZAkLg7OxMPT09b/xtbW1N6XRapVJJvb29WllZcVILvwcBLFghAxYEBLD4G6gnU7a9jN5RAAAAAElFTkSuQmCC\">\n",
       "\n",
       "        </div>\n",
       "       <div class=\"col-md-12 text-right\">\n",
       "            <a role=\"button\" data-toggle=\"collapse\" data-target=\"#descriptives-1541576839767441106,#minihistogram-1541576839767441106\" aria-expanded=\"false\" aria-controls=\"collapseExample\">\n",
       "                Toggle details\n",
       "            </a>\n",
       "        </div>\n",
       "        <div class=\"row collapse col-md-12\" id=\"descriptives-1541576839767441106\">\n",
       "            <div class=\"col-sm-4\">\n",
       "                  <p class=\"h4\">Quantile statistics</p>\n",
       "                  <table class=\"stats indent\">\n",
       "                        <tr><th>Minimum</th>\n",
       "                        <td>0</td></tr>\n",
       "                        <tr><th>5-th percentile</th>\n",
       "                        <td>21.8</td></tr>\n",
       "                        <tr><th>Q1</th>\n",
       "                        <td>27.3</td></tr>\n",
       "                        <tr><th>Median</th>\n",
       "                        <td>32</td></tr>\n",
       "                        <tr><th>Q3</th>\n",
       "                        <td>36.6</td></tr>\n",
       "                        <tr><th>95-th percentile</th>\n",
       "                        <td>44.395</td></tr>\n",
       "                        <tr><th>Maximum</th>\n",
       "                        <td>67.1</td></tr>\n",
       "                        <tr><th>Range</th>\n",
       "                        <td>67.1</td></tr>\n",
       "                        <tr><th>Interquartile range</th>\n",
       "                        <td>9.3</td></tr>\n",
       "                  </table>\n",
       "                  <p class=\"h4\">Descriptive statistics</p>\n",
       "                  <table class=\"stats indent\">\n",
       "                        <tr><th>Standard deviation</th>\n",
       "                        <td>7.8842</td></tr>\n",
       "                        <tr><th>Coef of variation</th>\n",
       "                        <td>0.24644</td></tr>\n",
       "                        <tr><th>Kurtosis</th>\n",
       "                        <td>3.2904</td></tr>\n",
       "                        <tr><th>Mean</th>\n",
       "                        <td>31.993</td></tr>\n",
       "                        <tr><th>MAD</th>\n",
       "                        <td>5.8423</td></tr>\n",
       "                        <tr class=\"\"><th>Skewness</th>\n",
       "                        <td>-0.42898</td></tr>\n",
       "                        <tr><th>Sum</th>\n",
       "                        <td>24570</td></tr>\n",
       "                        <tr><th>Variance</th>\n",
       "                        <td>62.16</td></tr>\n",
       "                        <tr><th>Memory size</th>\n",
       "                        <td>6.0 KiB</td></tr>\n",
       "                 </table>\n",
       "            </div>\n",
       "             <div class=\"col-sm-8 histogram\">\n",
       "                 <img src=\"data:image/png;base64,iVBORw0KGgoAAAANSUhEUgAAAlgAAAGQCAYAAAByNR6YAAAABHNCSVQICAgIfAhkiAAAAAlwSFlzAAAPYQAAD2EBqD%2BnaQAAIABJREFUeJzt3X9cVHW%2Bx/E3DPFDg1VxUOOhq%2BJ2QTJBhHIVvfLA2i3Nily3vVa4bewjQd1Kb2Q/LNNwozQTpdL0UfRjMXmUP2q7d61u5Y%2BS/IV7tXXFLHEVBq8m2egInPtHOes46oIePPPj9Xw8fOB8z5mZz3zmzDlvzjlzCDEMwxAAAABME2p1AQAAAIGGgAUAAGAyAhYAAIDJCFgAAAAmI2ABAACYjIAFAABgMgIWAACAyQhYAAAAJiNgAQAAmIyABQAAYDICFgAAgMkIWAAAACYjYAEAAJiMgAUAAGAyAhYAAIDJCFgAAAAmI2ABAACYjIAFAABgMgIWAACAyQhYAAAAJiNgAQAAmIyABQAAYDICFgAAgMkIWAAAACYjYAEAAJiMgAUAAGAyAhYAAIDJCFgAAAAmI2ABAACYjIAFAABgMgIWAACAyQhYAAAAJgvIgPXNN9/o7rvvVmpqqrKysvTyyy%2B7p9XU1Gj8%2BPFKTU3VyJEjtW7dOo/7rl%2B/XqNGjVJKSopyc3O1b9%2B%2BS10%2BAADwcwEXsAzDUF5enjp37qwVK1bo8ccfV2lpqd59911J0oQJExQXF6eKigrddNNNKigo0MGDByVJBw4cUH5%2BvnJyclRRUaGOHTsqPz//omuqq6vT/PnzVVdXd9GPFSjoiSf64Y2eeKIf3uiJJ/rhzcqeBFzAqq%2BvV9%2B%2BfTV9%2BnT16NFDQ4cO1aBBg7Rp0yZ99tlnqqmp0YwZM9S7d2/l5eUpJSVFy5cvlyQtW7ZM/fr1U25urhISElRUVKT9%2B/ersrLyompyOBwqKSmRw%2BEw4yUGBHriiX54oyee6Ic3euKJfnizsicBF7DsdrvmzJmjdu3aSZI2bdqkL774QhkZGdq2bZuSk5MVERHhnj8tLU1bt26VJFVVVSk9Pd09LTIyUn379tWWLVsu7YsAAAB%2BLeAC1umysrI0btw4paSk6LrrrpPD4VBcXJzHPLGxsaqtrZX0w67EM6d37tzZPR0AAKAlAjpgzZ8/Xy%2B88IK%2B/PJLPfXUU3I6nQoPD/eYJzw8XC6XS5J0/Pjx804HAABoiTCrC2hLycnJkqTCwkJNmTJFt912m44ePeoxj8vlUmRkpCQpIiLCK0y5XC7FxMS0%2BDnr6uq8jvVWV1dfSPkAAMAEZ9sO2%2B12r6NWZgq4gHXo0CFt2bJF2dnZ7rE%2Bffro5MmTstvtXk2ur6%2BX3W6XJHXp0sUrHNXX1yspKanFz19eXq6SkhKv8fz8fHfgww/h929/%2B5vVZfgM%2BuGNnniiH97oiSf64S05OVnp6emaOnWq17SCggJNnDixzZ474AJWTU2NJk6cqI8//tidTLdv367Y2FilpaXp5Zdflsvlch8K3LRpkwYOHChJ6t%2B/vzZv3ux%2BLKfTqR07drTqDRg7dqyysrK8xu12u44edaqpqfliXl7AsNlCFRMTRU9%2BRD%2B80RNP9MMbPfFEP7zZbKGaM2fOWb9FeGrnSlsJuIDVr18/XXXVVZo2bZoeeugh1dTU6JlnntG9996r9PR0devWTYWFhZowYYI%2B/PBDbd%2B%2BXbNnz5Yk5eTkaMmSJVq0aJGGDx%2BukpIS9ejRQxkZGS1%2B/ri4uHPucjx8%2BJgaG1noT9fU1ExPTkM/vNETT/TDGz3xRD88nW%2B73JYC7iT30NBQLVy4UO3atdOvf/1rPfroo7rzzjs1btw4hYaGqrS0VA6HQzk5OVq1apUWLFigrl27SpLi4%2BM1f/58VVRUaMyYMWpoaDjr4T4AAIDzCTEMw7C6iGDBHqx/CgsLVceO7enJj%2BiHN3riiX54oyee6Ie3Uz2xQsDtwQIAALAaAQsAAMBkBCwAAACTEbAAAABMRsACAAAwGQELAADAZAQsAAAAkxGwAAAATEbAAgAAMBkBCwAAwGQELAAAAJMRsAAAAExGwAIAADAZAQsAAMBkBCwAAACTEbAAAABMRsACAAAwGQELAADAZAQsAAAAkxGwAAAATEbAAgAAMBkBCwAAwGQELAAAAJMRsAAAAExGwAIAADAZAQsAAMBkBCwAAACTEbAAAABMFmZ1AQD8ndFGj9usxsZGSc1t%2BBySFNKGjw0gWBGwAFy0uX/Zpb2HnFaX0So9Y6N034grrS4DQIAiYAG4aHsPObXr4DGrywAAn8E5WAAAACYjYAEAAJiMgAUAAGAyAhYAAIDJCFgAAAAmI2ABAACYjIAFAABgMgIWAACAyQhYAAAAJiNgAQAAmCwgA1Ztba0mTZqka665RsOGDdPs2bPlcrkkSTNnzlRiYqKSkpLcP19//XX3fdevX69Ro0YpJSVFubm52rdvn1UvAwAA%2BKmA/FuEkyZNUocOHfTGG2/oyJEjmjZtmmw2m6ZOnao9e/ZoypQpuuWWW9zzX3755ZKkAwcOKD8/X5MnT1ZmZqZKSkqUn5%2BvlStXWvVSAACAHwq4PVh79uxRVVWVioqKlJCQoLS0NE2aNEmrV6%2BWJFVXV6tv376KjY11/4uIiJAkvfXWW%2BrXr59yc3OVkJCgoqIi7d%2B/X5WVlVa%2BJAAA4GcCLmDZ7XYtXrxYnTp1co8ZhqGGhgZ99913qq2tVc%2BePc96323btik9Pd19OzIyUn379tWWLVvaumwAABBAAi5gRUdHa/Dgwe7bhmHotdde089//nPt2bNHISEhKi0t1bBhwzR69Gi988477nnr6uoUFxfn8XidO3dWbW3tJasfAAD4v4A8B%2Bt0Tz/9tL788kstX75cf/3rXxUaGqqEhATdcccd2rhxox599FFdfvnlys7O1vHjxxUeHu5x//DwcPcJ8gAAAC0R0AGruLhYZWVleu6559SnTx/16dNHWVlZiomJkSRdeeWV2rt3r958801lZ2crIiLCK0y5XC73/C1RV1cnh8PhNW632xUZGX1xLyiA2GyhHj%2BDnX/3o9nqAi5YWFiI/GVHvn8vI22DnniiH95sttDzbpfPPGplpoANWE8%2B%2BaTKy8tVXFys7Oxs9/iZYal37976/PPPJUldunTxehPq6%2BuVlJTU4uctLy9XSUmJ13hBQYEmTpzYmpcQFGJioqwuwaf4Yz8aGxutLuGCRUdHKSzMv1aD/riMtDV64ol%2BeHrllcWWbJf9a83SQiUlJSovL9fcuXM1YsQI9/jzzz%2BvLVu2aOnSpe6xnTt3qlevXpKk/v37a/Pmze5pTqdTO3bsaNUbMHbsWGVlZXmN2%2B12HT3qVFOT//62byabLVQxMVH05Ef%2B3Q9/q/efGhqc8qc9WP67jLQNeuKJfniz2ULPu11uSwEXsKqrq1VaWqrf//73Sk1NVX19vXva8OHD9dJLL2np0qXKzs7Wp59%2BqpUrV6qsrEySlJOToyVLlmjRokUaPny4SkpK1KNHD2VkZLT4%2BePi4s65y/Hw4WNqbGShP11TUzM9OY1/9sOwuoAL1thoyN8Con8uI22LnniiH57Ot11uSwEXsD744AM1NzertLRUpaWlkn74JmFISIh27typ559/XvPmzdO8efMUHx%2BvZ599VldffbUkKT4%2BXvPnz9esWbO0cOFCDRgw4Ky7FQEAAM4nxDAM//3108%2BwB%2BufwsJC1bFje3ryI//uh6HJf9qmXQePWV1Iq1zZtb3m/bq/pBCrS2kR/15G2gY98UQ/vJ3qiRX84%2BQDAAAAP0LAAgAAMBkBCwAAwGQELAAAAJMRsAAAAExGwAIAADAZAQsAAMBkBCwAAACTEbAAAABMRsACAAAwGQELAADAZAQsAAAAkxGwAAAATEbAAgAAMBkBCwAAwGQELAAAAJMRsAAAAExGwAIAADAZAQsAAMBkBCwAAACTEbAAAABMRsACAAAwWZjVBQCAFWyhIZIMq8tohWY1NjZKatYPdYdYXA%2BA8yFgAQhK8R0jNfcvf9feQ06rS2mVnrFRum/ElVaXAeBfIGABCFp7Dzm16%2BAxq8sAEIA4BwsAAMBkBCwAAACTEbAAAABMRsACAAAwGQELAADAZAQsAAAAkxGwAAAATEbAAgAAMBkBCwAAwGQELAAAAJMRsAAAAExGwAIAADAZAQsAAMBkBCwAAACTEbAAAABMRsACAAAwGQELAADAZAEZsGprazVp0iRdc801GjZsmGbPni2XyyVJqqmp0fjx45WamqqRI0dq3bp1Hvddv369Ro0apZSUFOXm5mrfvn1WvAQAAODHAjJgTZo0SSdOnNAbb7yhOXPm6KOPPtK8efMkSRMmTFBcXJwqKip00003qaCgQAcPHpQkHThwQPn5%2BcrJyVFFRYU6duyo/Px8K18KAADwQwEXsPbs2aOqqioVFRUpISFBaWlpmjRpklavXq3PPvtMNTU1mjFjhnr37q28vDylpKRo%2BfLlkqRly5apX79%2Bys3NVUJCgoqKirR//35VVlZa/KoAAIA/CbiAZbfbtXjxYnXq1MljvKGhQdu2bVNycrIiIiLc42lpadq6daskqaqqSunp6e5pkZGR6tu3r7Zs2XJpigcAAAEh4AJWdHS0Bg8e7L5tGIZee%2B01DRo0SA6HQ3FxcR7zx8bGqra2VpJUV1fnNb1z587u6QAAAC0RcAHrTE8//bR27typ%2B%2B67T06nU%2BHh4R7Tw8PD3SfAHz9%2B/LzTAQAAWiLM6gLaUnFxscrKyvTcc8%2BpT58%2BioiI0Lfffusxj8vlUmRkpCQpIiLCK0y5XC7FxMS0%2BDnr6urkcDi8xu12uyIjoy/gVQQmmy3U42ew8%2B9%2BNFtdQNAJCwtREPx%2B/C/59%2BfGfPTDm80Wet7t8plHrcwUsAHrySefVHl5uYqLi5WdnS1J6tKli3bv3u0xX319vex2u3v6mW9CfX29kpKSWvy85eXlKikp8RovKCjQxIkTW/syAl5MTJTVJfgUf%2BxHY2Oj1SUEnejoKIWFBezqu9X88XPTluiHp1deWWzJdjkgP6ElJSUqLy/X3LlzNWLECPd4//79tWjRIrlcLvehwE2bNmngwIHu6Zs3b3bP73Q6tWPHjla9AWPHjlVWVpbXuN1u19GjTjU18du%2B9MNvFTExUfTkR/7dD3%2Br1/81NDjFHix//9yYj354s9lCz7tdbksBF7Cqq6tVWlqq3//%2B90pNTVV9fb17WkZGhrp166bCwkJNmDBBH374obZv367Zs2dLknJycrRkyRItWrRIw4cPV0lJiXr06KGMjIwWP39cXNw5dzkePnxMjY0s9KdramqmJ6fxz34YVhcQdBobDRFs/8k/Pzdth354Ot92uS0F3K9AH3zwgZqbm1VaWqrMzExlZmZqyJAhyszMVGhoqBYsWCCHw6GcnBytWrVKCxYsUNeuXSVJ8fHxmj9/vioqKjRmzBg1NDScdbciAADA%2BQTcHqy8vDzl5eWdc3qPHj1UVlZ2zumZmZl6//3326I0AAAQJAJuDxYAAIDVCFgAAAAmI2ABAACYjIAFAABgMgIWAACAyQhYAAAAJiNgAQAAmIyABQAAYDICFgAAgMkIWAAAACYjYAEAAJiMgAUAAGAyAhYAAIDJCFgAAAAmI2ABAACYzGcC1pgxY/SnP/1JDQ0NVpcCAABwUXwmYF177bV64YUXNGTIEN1///1au3atDMOwuiwAAIBW85mA9cADD%2Bijjz7SwoULZbPZNHHiRP37v/%2B75s6dq6%2B%2B%2Bsrq8gAAAFoszOoCThcSEqLBgwdr8ODBcjqdKisr08KFC/XSSy9pwIABuuuuu3TddddZXSYAAMB5%2BVTAkqS6ujqtXLlSK1eu1K5duzRgwADdcsstOnjwoB555BFVVlbq4YcftrpMAACAc/KZgLVixQqtWLFCn3/%2BuTp16qSbb75Zzz//vHr27Omep1u3bpo1axYBCwAA%2BDSfCVgPP/ywhg8frgULFmjo0KEKDfU%2BPax3794aN26cBdUBAAC0nM8ErE8%2B%2BUQdO3bUkSNH3OGqqqpKycnJstlskqQBAwZowIABVpYJAADwL/nMtwi/%2B%2B47/eIXv9CiRYvcY3l5eRo9erQOHDhgYWUAAACt4zMB66mnntJPf/pTjR8/3j323nvvqVu3bioqKrKwMgAAgNbxmYD1xRdfqLCwUHa73T3WqVMn/ed//qc%2B%2B%2BwzCysDAABoHZ8JWGFhYTp69KjXuNPp5IruAADAr/hMwBo6dKhmzpypb775xj22b98%2BFRUVKTMz08LKAAAAWsdnvkX44IMPavz48br%2B%2BusVExMjSTp69KiSk5P10EMPWVwdAABAy/lMwIqNjdXbb7%2Bt9evX6%2B9//7vCwsLUp08fDRo0SCEhIVaXBwAA0GI%2BE7AkyWazKTMzk0OCAADAr/lMwHI4HHruuee0efNmnTx50uvE9g8%2B%2BMCiygAAAFrHZwLWo48%2Bqr/%2B9a%2B68cYbFR0dbXU5AAAAF8xnAtZnn32mxYsXa%2BDAgVaXAgAAcFF85jIN7dq1U2xsrNVlAAAAXDSfCVijR4/W4sWL1dTUZHUpAAAAF8VnDhEeOXJEq1ev1v/8z/%2Boe/fuCg8P95j%2B6quvWlQZAABA6/hMwJKkkSNHWl0CAADARfOZgFVUVGR1CQAAAKbwmXOwJKmurk4lJSV64IEHdOjQIb3//vvas2eP1WUBAAC0is8ErK%2B//lqjRo3S22%2B/rf/6r//S999/r/fee085OTnatm2b1eUBAAC0mM8ErNmzZys7O1tr1qzRZZddJkmaM2eOsrKy9Mwzz1zQY7pcLo0aNUqVlZXusZkzZyoxMVFJSUnun6%2B//rp7%2Bvr16zVq1CilpKQoNzdX%2B/btu7gXBrTQD3%2B9oFmS4Yf/AACn85lzsDZv3qzXX3/d4w87h4WFacKECfrVr37V6sdzuVy6//77tXv3bo/xPXv2aMqUKbrlllvcY5dffrkk6cCBA8rPz9fkyZOVmZmpkpIS5efna%2BXKlRf4qoCWa2pqUvGf/6a9h5xWl9Iq1/buYHUJAOBzfCZgNTc3q7m52Wv82LFjstlsrXqs6upqPfDAA%2Bec9rvf/e6sFzV966231K9fP%2BXm5kr64cT7wYMHq7KyUunp6a2qAbgQew85tevgMavLaJUesVFWlwAAPsdnDhEOGTJEL774okfIOnLkiIqLi3Xttde26rE2btyoQYMGqby83OOPRn/33Xeqra1Vz549z3q/bdu2eQSpyMhI9e3bV1u2bGndiwEAAEHNZ/ZgFRYW6s4779SQIUN04sQJ3Xvvvdq/f786dOig2bNnt%2Bqxbr/99rOO79mzRyEhISotLdUnn3yiDh06aPz48br55psl/fAtxri4OI/7dO7cWbW1tRf2ogAAQFDymYDVpUsXvfPOO1q9erV27typ5uZm3X777Ro9erT7HKmLtWfPHoWGhiohIUF33HGHNm7cqEcffVSXX365srOzdfz4ca8ryIeHh8vlcpny/AAAIDj4TMCSpKioKI0ZM6bNHv/mm29WVlaWYmJiJElXXnml9u7dqzfffFPZ2dmKiIjwClMul8s9f0vU1dXJ4XB4jdvtdkVGRl/cCwggNluox89gRx/QGmFhIfKhMzwsw3rEE/3wZrOFnne7fOZRKzP5TMC68847zzvdrL9FeGZY6t27tz7//HNJP%2BxFO/NNqK%2BvV1JSUosfv7y8XCUlJV7jBQUFmjhx4gVUHNhiYjhB%2BpTGxkarS4CfiI6OUliYz6y%2BLcd6xBP98PTKK4st2S77zCc0Pj7e43ZjY6O%2B/vpr7dq1S3fddZcpz/H8889ry5YtWrp0qXts586d6tWrlySpf//%2B2rx5s3ua0%2BnUjh07WvUGjB07VllZWV7jdrtdR4861dTk/U3JYGSzhSomJoqe/MhmC1W7dpdZXQb8REODU%2BzBYj1yJvrhzWYLPe92uS35TMA6198iXLBggQ4ePGjKcwwfPlwvvfSSli5dquzsbH366adauXKlysrKJEk5OTlasmSJFi1apOHDh6ukpEQ9evRQRkZGi58jLi7unLscDx8%2BpsZGFvrTNTU10xOglRobT12UFhLrkTPRD0/n2y63JZ//FWj06NH685//fMH3P/3Cpf369dPzzz%2Bvd955R6NGjdLrr7%2BuZ599VldffbWkH/aizZ8/XxUVFRozZowaGhrOulsRAADgfHxmD9a5bNmypdUXGj3dzp07PW5nZWWddVfhKZmZmXr//fcv%2BPkAAAB8JmCd7ST37777Tn/729/0m9/8xoKKAAAALozPBKwrrrjC43CeJF122WUaN26cbrrpJouqAgAAaD2fCVitvVo7AACAr/KZgFVZWdniefnDywAAwJf5TMC644473IcIT/8DzWeOhYSEeJ24DgAA4Et8JmC98MILmjlzpqZOnaqMjAyFh4dr%2B/btmjFjhm655RbdcMMNVpcIAADQIj5zHayioiI99thjuv7669WxY0e1b99e1157rWbMmKE333xT8fHx7n8AAAC%2BzGcCVl1d3VnD0%2BWXX67Dhw9bUBEAAMCF8ZmAlZKSojlz5ui7775zjx05ckTFxcUaNGiQhZUBAAC0js%2Bcg/XII4/ozjvv1NChQ9WzZ08ZhqG9e/fKbrfr1Vdftbo8AACAFvOZgJWQkKD33ntPq1evVnV1tSTpP/7jP3TjjTcqKirK4uoAAABazmcCliT95Cc/0ZgxY1RTU6Pu3btL%2BuFq7gAAAP7EZ87BMgxDzzzzjNLT0zVy5EgdPHhQDz74oB5%2B%2BGGdPHnS6vIAAABazGcCVllZmVasWKHp06crPDxckpSdna01a9aopKTE4uoAAABazmcCVnl5uR577DHdeuut7qu333DDDZo5c6ZWrVplcXUAAAAt5zMBq6amRklJSV7jiYmJcjgcFlQEAABwYXwmYMXHx2v79u1e45988on7hHcAAAB/4DPfIrz77rv1xBNPyOFwyDAMbdiwQeXl5SorK1NhYaHV5QEAALSYzwSsnJwcNTY2qrS0VMePH9djjz2mTp066Q9/%2BINuv/12q8sDAABoMZ8JWKtXr9YvfvELjR07Vv/3f/8nwzAUGxtrdVkAAACt5jPnYM2YMcN9MnunTp0IVwAAwG/5TMDq2bOndu3aZXUZAAAAF81nDhEmJiZqypQpWrx4sXr27KmIiAiP6UVFRRZVBgAA0Do%2BE7C%2B%2BuorpaWlSRLXvQIAAH7N0oD19NNPq6CgQO3atVNZWZmVpQAAAJjG0nOwli5dKqfT6TGWl5enuro6iyoCAAC4eJYGLMMwvMYqKyt14sQJC6oBAAAwh898ixAAACBQELAAAABMZnnACgkJsboEAAAAU1l%2BmYaZM2d6XPPq5MmTKi4uVvv27T3m4zpYAADAX1gasNLT072ueZWamqrDhw/r8OHDFlUFAABwcSwNWFz7CgAABCLLz8ECAAAINAQsAAAAkxGwAAAATEbAAgAAMBkBCwAAwGQELAAAAJMRsAAAAExGwAIAADBZQAcsl8ulUaNGqbKy0j1WU1Oj8ePHKzU1VSNHjtS6des87rN%2B/XqNGjVKKSkpys3N1b59%2By512QAAwM8FbMByuVy6//77tXv3bo/x/Px8xcXFqaKiQjfddJMKCgp08OBBSdKBAweUn5%2BvnJwcVVRUqGPHjsrPz7eifAAA4McCMmBVV1frV7/6lWpqajzGN2zYoH379mnGjBnq3bu38vLylJKSouXLl0uSli1bpn79%2Bik3N1cJCQkqKirS/v37PfaAAQAA/CsBGbA2btyoQYMGqby8XIZhuMerqqqUnJysiIgI91haWpq2bt3qnp6enu6eFhkZqb59%2B2rLli2XrngAAOD3LP1jz23l9ttvP%2Bu4w%2BFQXFycx1hsbKxqa2slSXV1dV7TO3fu7J4OAADQEgG5B%2BtcnE6nwsPDPcbCw8PlcrkkScePHz/vdAAAgJYIyD1Y5xIREaFvv/3WY8zlcikyMtI9/cww5XK5FBMT0%2BLnqKurk8Ph8Bq32%2B2KjIy%2BgKoDk80W6vEz2NEHtEZYWIiC7Pfjs2I94ol%2BeLPZQs%2B7XT7zqJWZgipgdenSxetbhfX19bLb7e7pZ74J9fX1SkpKavFzlJeXq6SkxGu8oKBAEydOvICqA1tMTJTVJfiMxsZGq0uAn4iOjlJYWFCtvs%2BL9Ygn%2BuHplVcWW7JdDqpPaP/%2B/bVo0SK5XC73ocBNmzZp4MCB7umbN292z%2B90OrVjx45WvQFjx45VVlaW17jdbtfRo041NTVf5KsIDDZbqGJioujJj2y2ULVrd5nVZcBPNDQ4xR4s1iNnoh/ebLbQ826X21JQBayMjAx169ZNhYWFmjBhgj788ENt375ds2fPliTl5ORoyZIlWrRokYYPH66SkhL16NFDGRkZLX6OuLi4c%2B5yPHz4mBobWehP19TUTE%2BAVmpsNCTxuTmF9Ygn%2BuHpfNvlthTwvwKFhIS4/x8aGqqFCxfK4XAoJydHq1at0oIFC9S1a1dJUnx8vObPn6%2BKigqNGTNGDQ0NZ92tCAAAcD4Bvwdr586dHre7d%2B%2BusrKyc86fmZmp999/v63LAgAAASzg92ABAABcagQsAAAAkxGwAAAATEbAAgAAMBkBCwAAwGQELAAAAJMRsAAAAExGwAIAADAZAQsAAMBkBCwAAACTEbAAAABMRsACAAAwGQELAADAZAQsAAAAkxGwAAAATEbAAgAAMBkBCwAAwGQELAAAAJOFWV0AAKDlbKEhkgyry7gIIVYXAFwSBCwA8CPxHSM19y9/195DTqtLaZWesVG6b8SVVpcBXDIELADwM3sPObXr4DGrywBwHpyDBQAAYDICFgAAgMkIWAAAACYjYAEAAJiMgAUAAGAyAhYAAIDJCFgAAAAmI2ABAACYjIAFAABgMgIWAACAyQhYAAAAJiNgAQAAmIyABQAAYDICFgAAgMkIWAAAACYjYAEAAJiMgAUAAGAyAhYAAIDJCFgAAAAmI2ABAACYjIAFAABgsqAMWGvWrFFiYqKSkpLcPydPnixJqqmp0fjx45WamqqRI0dq3bp1FlcLAAD8TZjVBVhh9%2B7dysrK0syZM2UYhiQpIiIAEqndAAAP1UlEQVRCkjRhwgQlJSWpoqJCa9asUUFBgf785z%2Bra9euVpYMAAD8SFAGrOrqav3sZz9Tp06dPMY3bNigmpoavfXWW4qIiFBeXp42bNig5cuXq6CgwKJqAQCAvwnKQ4TV1dXq1auX13hVVZWSk5Pde7MkKS0tTVu3br2U5QEAAD8XlAHrq6%2B%2B0qeffqrrr79eI0aM0LPPPquTJ0/K4XAoLi7OY97Y2FjV1tZaVCkAAPBHQXeI8B//%2BIeOHz%2BuiIgIzZs3TzU1NZo1a5aOHz8up9Op8PBwj/nDw8PlcrksqhYAAPijoAtYV1xxhT7//HPFxMRIkhITE9Xc3KypU6fq1ltv1dGjRz3md7lcioyMbPHj19XVyeFweI3b7XZFRkZfXPEBxGYL9fgZ7OgDgkFYWIjMPHDCesQT/fBms4Wed7t85lErMwVdwJLkDlenJCQk6MSJE%2BrcubOqq6s9ptXX18tut7f4scvLy1VSUuI1XlBQoIkTJ15YwQEsJibK6hJ8RmNjo9UlAG0qOjpKYWHmb3ZYj3iiH55eeWWxJdvloAtYa9eu1QMPPKBPPvnEfTL7jh071LFjRw0cOFBLliyRy%2BVyHyrctGmTBg4c2OLHHzt2rLKysrzG7Xa7jh51qqmp2ZwX4udstlDFxETRkx/ZbKFq1%2B4yq8sA2lRDg1Nm78FiPfJP9MObzRZ63u1yWwq6gJWamqqoqCg9/PDDys/P1zfffKPi4mLdc889Sk9PV7du3VRYWKgJEyboww8/1Pbt2zV79uwWP35cXNw5dzkePnxMjY0s9KdramqmJ0CQaGw0JJn/eWc94ol%2BeDrfdrktBd2B2vbt2%2Bvll1/W4cOHddttt%2BnRRx/Vr3/9a/32t79VaGioSktL5XA4lJOTo1WrVmnBggVcZBQAALRK0O3Bkn445%2Brll18%2B67Tu3burrKzsElcEAAACSdDtwQIAAGhrBCwAAACTEbAAAABMRsACAAAwGQELAADAZAQsAAAAkxGwAAAATEbAAgAAMBkBCwAAwGQELAAAAJMRsAAAAExGwAIAADAZAQsAAMBkBCwAAACTEbAAAABMRsACAAAwGQELAADAZAQsAAAAkxGwAAAATEbAAgAAMBkBCwAAwGQELAAAAJMRsAAAAExGwAIAADAZAQsAAMBkBCwAAACTEbAAAABMRsACAAAwGQELAADAZAQsAAAAkxGwAAAATBZmdQGA%2BQyrC7gAzWpqarK6CACASQhYCEhz/7JLew85rS6jVa7t3cHqEgAAJiFgISDtPeTUroPHrC6jVXrERlldAgDAJAQsAECbs4WGyPzD981qbGyU1NwGj32mkDZ%2BfAQaAhYAoM3Fd4zU3L/83e8O3feMjdJ9I660ugz4IQLWJfLOZ3v0f8dckuE/J2DHRIVp6M/iFBLCl00BXDx/PHQPXCgC1iWyrHK/361Y%2BsS1U%2BbP4tgxDgBAK7FrAgAAwGQELAAAAJMRsAAAAExGwDoLl8uladOmKT09XZmZmVq6dKnVJQEAAD/CSe5n8cc//lE7duxQWVmZampq9OCDDyo%2BPl7XXXed1aUBAAA/wB6sMzidTi1fvlyPPPKIEhMTlZ2drd/97nd67bXXrC4NAAD4CQLWGb788ks1NTUpJSXFPZaWlqaqqioLqwIAWOGfV6D3h39nXtnef667GIg4RHgGh8OhDh06KCzsn62JjY3ViRMndPjwYXXs2NHC6gAAlxJXoMeFImCdwel0Kjw83GPs1G2Xy2VFSQAAC/njFejb5m8/Xkr%2Bf4lrAtYZIiIivILUqdtRUVH/8v51dXVyOBxe4z1j//V9fU2PTlGy2SRbGxxIDg2VGhsbFRoqhbXBUuiP/b7iJxF%2Becyeui8t6r60/LXu9J4/UcXmGtUePWF1Ka3SJSZCYzN6yKwzmGy20HNul%2B12u%2BLi4kx5nrMhYJ2hS5cuOnLkiJqbmxUa%2BsMbXF9fr8jISMXExPzL%2B5eXl6ukpMRrPD09Xc/NmdOmb6Y/qaur06uvLtHYsWPbpCdP/Wag6Y/Zlurq6lReXq4/tFE//NGpnrTVMuJv3P1Ipx%2BnsIx4oh/e6urqdP/996uystJrWkFBgSZOnNhmz03AOkNSUpLCwsK0detWDRgwQJL0xRdf6KqrrmrR/ceOHausrCyPserqak2dOlUOh4OF/kcOh0MlJSXKysqiJ6IfZ0NPPNEPb/TEE/3w5nA4VFlZqeLiYiUkJHhMs9vtbfrcBKwzREZGavTo0Zo%2Bfbqeeuop1dbWaunSpZo9e3aL7h8XF8eCDQCAD0lISFBycvIlfU4C1lk89NBDeuKJJ3TXXXcpOjpakydPVnZ2ttVlAQAAP0HAOovIyEgVFRWpqKjI6lIAAIAf8scvRwAAAPg02%2BOPP/641UUEg/bt2ysjI0Pt27e3uhSfQU880Q9v9MQT/fBGTzzRD29W9STEMAx/vhIZAACAz%2BEQIQAAgMkIWAAAACYjYAEAAJiMgAUAAGAyAhYAAIDJCFgAAAAmI2ABAACYjIDVxlwul6ZNm6b09HRlZmZq6dKlVpdkCZfLpVGjRqmystI9VlNTo/Hjxys1NVUjR47UunXrLKzw0qmtrdWkSZN0zTXXaNiwYZo9e7ZcLpek4O3JN998o7vvvlupqanKysrSyy%2B/7J4WrD05JS8vTw899JD7drD2Y82aNUpMTFRSUpL75%2BTJkyUFZ09cLpeeeOIJZWRkaMiQIZo7d657WjD24%2B233/ZaPhITE9W3b19J0r59%2By55TwhYbeyPf/yjduzYobKyMk2fPl0lJSX67//%2Bb6vLuqRcLpfuv/9%2B7d6922M8Pz9fcXFxqqio0E033aSCggIdPHjQoiovnUmTJunEiRN64403NGfOHH300UeaN2%2BeJGnChAlB1xPDMJSXl6fOnTtrxYoVevzxx1VaWqp3331XUnD25JR3331Xn3zyicdYsH5udu/eraysLK1bt07r1q3T2rVrNWvWLEnBuYzMnDlTGzZs0JIlS/TMM89o2bJlWrZsmaTg7MeNN97oXi7WrVunjz76SD/96U911113SbLoc2OgzXz//ffG1VdfbVRWVrrHFi5caNxxxx0WVnVp7d692xg9erQxevRoIzEx0di4caNhGIaxfv16IzU11Th%2B/Lh73tzcXGP%2B/PlWlXpJVFdXG4mJicahQ4fcY6tXrzaGDh1qbNiwISh7UldXZ9x3333GsWPH3GMFBQXGE088EbQ9MQzDOHLkiDFs2DBjzJgxRmFhoWEYwfu5MQzDmDJlijFnzhyv8WDsyZEjR4zk5GSPbctLL71kTJs2Lag/M6d74YUXjOuuu85wuVyWLSPswWpDX375pZqampSSkuIeS0tLU1VVlYVVXVobN27UoEGDVF5eLuO0v8pUVVWl5ORkRUREuMfS0tK0detWK8q8ZOx2uxYvXqxOnTp5jDc0NGjbtm1B25M5c%2BaoXbt2kqRNmzbpiy%2B%2BUEZGRtD2RPph7/fo0aOVkJDgHgvWz40kVVdXq1evXl7jwdiTTZs2KTo6WgMHDnSP3XPPPZo1a1ZQf2ZO%2Bfbbb7V48WJNmTJFl112mWXLCAGrDTkcDnXo0EFhYWHusdjYWJ04cUKHDx%2B2sLJL5/bbb9eDDz7osWBLP/QmLi7OYyw2Nla1tbWXsrxLLjo6WoMHD3bfNgxDr732mgYNGhS0PTldVlaWxo0bp5SUFF133XVB25MNGzZo06ZNys/P9xgP1n5I0ldffaVPP/1U119/vUaMGKFnn31WJ0%2BeDMqe7Nu3T/Hx8XrnnXf0y1/%2BUtnZ2Vq4cKEMwwjKfpzpjTfeUJcuXTRixAhJ1n1uwv71LLhQTqdT4eHhHmOnbp86qTlYnas3wdaXp59%2BWjt37tTy5cu1dOnSoO/J/PnzVV9fr8cff1xPPfVUUC4nLpdLjz/%2BuKZPn%2B712oOxH5L0j3/8Q8ePH1dERITmzZunmpoazZo1S8ePHw/Knnz//ffau3evli1bptmzZ8vhcOixxx5TVFRUUPbjTMuXL1deXp77tlU9IWC1oYiICK838NTtqKgoK0ryGREREfr22289xlwulyIjIy2q6NIrLi5WWVmZnnvuOfXp04eeSEpOTpYkFRYWasqUKbrtttt09OhRj3kCvSfz58/XVVddpZ///Ode04J1Gbniiiv0%2BeefKyYmRpKUmJio5uZmTZ06VbfeemvQLSM2m03Hjh3TnDlz1LVrV0nS/v379cYbb2jIkCE6cuSIx/yB3o/TVVVVqba2VjfccIN7zKrPDYcI21CXLl105MgRNTc3u8fq6%2BsVGRnpXlEEqy5dusjhcHiM1dfXy263W1TRpfXkk0/qlVdeUXFxsbKzsyUFb08OHTqkNWvWeIz16dNHJ0%2BelN1uD7qevPfee/rggw%2BUmpqq1NRUrVq1SqtWrdKAAQPUtWvXoOvHKWeuMxMSEnTixAl17tw56HoSFxeniIgId7iSpF69eqm2tjZo1yOnrF27Vunp6YqOjnaPWdUTAlYbSkpKUlhYmMeJdF988YWuuuoqC6vyDf3799eOHTs89vBt2rTJ4wsBgaqkpETl5eWaO3eufvnLX7rHg7UnNTU1mjhxourq6txj27dvV2xsrNLS0vS///u/QdWT1157TatWrdLKlSu1cuVKZWVlKSsrSytWrNDVV18dlMvI2rVrdc011%2BjEiRPusR07dqhjx44aOHBg0C0j/fv314kTJ/T111%2B7x6qrqxUfH6/%2B/fsHXT9OV1VVpQEDBniMWbVuJWC1ocjISI0ePVrTp0/X9u3btWbNGi1dutR9XY5glpGRoW7duqmwsFC7d%2B/WSy%2B9pO3bt%2Bu2226zurQ2VV1drdLSUuXl5Sk1NVX19fXuf8Hak379%2Bumqq67StGnTVF1drY8//ljPPPOM7r33XqWnpwddT7p166bu3bu7/7Vv317t27dX9%2B7dg3YZSU1NVVRUlB5%2B%2BGF99dVX%2Bvjjj1VcXKx77rknKJeRXr16adiwYSosLNSXX36pTz/9VIsWLdJvfvOboOzH6Xbt2uXxzVvJwu1Nm14EAobT6TQKCwuN1NRUY%2BjQocarr75qdUmWOf06WIZhGN98840xbtw44%2BqrrzZGjhxpbNiwwcLqLo0XX3zRSExM9Pj3b//2b0ZiYqJhGIbx9ddfB11PDOOHa2FNnDjRGDhwoJGZmWm8%2BOKL7mnBuJycrrCw0H0dLMMI3n7s3r3b%2BO1vf2sMGDDAyMzMNBYsWOCeFow9aWhoMB588EFjwIABxuDBg42FCxe6pwVjP07p37%2B/sXbtWq9xK3oSYhinXZwIAAAAF41DhAAAACYjYAEAAJiMgAUAAGAyAhYAAIDJCFgAAAAmI2ABAACYjIAFAABgMgIWAACAyQhYAAAAJiNgAQAAmIyABQAAYDICFgAAgMkIWAAAACb7f6l2/xWZH3jgAAAAAElFTkSuQmCC\">\n",
       "             </div>\n",
       "      </div>\n",
       "    </div><div class=\"row variablerow\">\n",
       "        <div class=\"col-md-3 namecol\">\n",
       "            <p class=\"h4\">diabetes_pedigree_function<br/><small>Numeric</small></p>\n",
       "        </div>\n",
       "\n",
       "        <div class=\"col-md-6\">\n",
       "            <div class=\"row\">\n",
       "                <div class=\"col-sm-6\">\n",
       "                    <table class=\"stats \">\n",
       "                        <tr><th>Distinct count</th>\n",
       "                        <td>517</td></tr>\n",
       "                        <tr><th>Unique (%)</th>\n",
       "                        <td>67.3%</td></tr>\n",
       "                        <tr class=\"ignore\"><th>Missing (%)</th>\n",
       "                        <td>0.0%</td></tr>\n",
       "                        <tr class=\"ignore\"><th>Missing (n)</th>\n",
       "                        <td>0</td></tr>\n",
       "                    </table>\n",
       "\n",
       "                </div>\n",
       "                <div class=\"col-sm-6\">\n",
       "                    <table class=\"stats \">\n",
       "\n",
       "                        <tr><th>Mean</th>\n",
       "                        <td>0.47188</td></tr>\n",
       "                        <tr><th>Minimum</th>\n",
       "                        <td>0.078</td></tr>\n",
       "                        <tr><th>Maximum</th>\n",
       "                        <td>2.42</td></tr>\n",
       "                        <tr class=\"ignore\"><th>Zeros (%)</th>\n",
       "                        <td>0.0%</td></tr>\n",
       "                    </table>\n",
       "                </div>\n",
       "            </div>\n",
       "        </div>\n",
       "        <div class=\"col-md-3 collapse in\" id=\"minihistogram2841209636057722528\">\n",
       "             <img src=\"data:image/png;base64,iVBORw0KGgoAAAANSUhEUgAAAMgAAABLCAYAAAA1fMjoAAAABHNCSVQICAgIfAhkiAAAAAlwSFlzAAAPYQAAD2EBqD%2BnaQAABU1JREFUeJzt3E9IHFccB/DvOqs2YuJUu7uxDdWGQiJU7CERUcGueswf7aH%2BySGWNDloTlEPgjXUg2IRhaKXXAzBi%2BCfsJSE0MsGFBRKwXoQ0385SNydZVdbNjHN7vp6ctvF8NiRPmfX/X5u48zj/ZadrzNv3pu1CSEEjphhGJiZmUFLSwucTudRd09pxsrzxWZFQIjSRZbVBRClMgaESMJudQH7fv7DwIvtXVNtPnLm49yZIkUVEaVQQH7xhTH8/TNTbb5t/QTnzigqiAi8xSKSYkCIJBgQIgkGhEiCASGSYECIJBgQIgkGhEiCASGSYECIJBgQIgkGhEiCASGSSJnVvGbZs2zIy85CNBo13VbTNNhsNgVV0XGTtgE568yD56cX%2BO6H30y1Ky06gcEvPoXdnrYfnY5QWp8lz4O7eOZ7aXUZdIxxDEIkwYAQSTAgRBIMCJEEA0IkwYAQSTAgRBJpPQ9yGFqWDbFYzHw7zr5npIwLyAfvvoNv5tbwPJj8rzhy9j1zZeQ3zhl4ShbHIEQSDAiRBANCJMGAEEkwIEQSDAiRBANCJMGAEElk5EShWVyekrkYkCRweUrm4reXJC5PyUwcgxBJ8AqiCMctxwMDogjHLccDvwmFzI5beNVJPQxICjnMVefseyfw9efl0DQt6TZCCAAwHSqzQRRCHCrwh%2BlLlZQJyIdFJ9DZUJr08XqeHT/%2BvmO6n/cLck0/mTjKNr4//zbVxnkqF1PeX%2BH/K/l2ZcX5CL2MmGrjOpWLLz/72FQQY7GY6dr2%2B/qq4VxK3GraxP6/kyNkGAZmZmbQ0tICp9N51N1TmrHyfLHkMW8gEMDExAQCgYAV3VOasfJ84TwIkQQDQiTBgBBJMCBEEpYExOFw4Pbt23A4HFZ0T2nGyvPFkse8ROmCt1hEEgwIkQQDQiTBgBBJMCBEEgwIkQQDQiShfMH948ePMTk5iUgkgitXrqCrqythv9/vR29vL4LBIBwOB8bGxlBYWKi6LEpRU1NTmJ%2BfBwCUl5djcHAw4b2QxcVF9PT0oLi4GABQVlaGoaEhdQUJhQKBgHC73WJ7e1tEo1HR0dEhFhcXE47p7OwUDx8%2BFEIIMTs7K%2B7cuaOyJEphq6ur4vLly%2BL169dCCCF6e3vF/fv3E46ZnJw88DeVlN5iLS0toaqqCrquQ9M0XL16FY8ePYrvj0ajWFlZwaVLlwAATU1N8Hq9h35Nk9JbQUEBBgYGkJubCwA4f/48tra2Eo5ZW1vD06dP0dzcjK6uLvj9fqU1KQ2I3%2B%2BHy%2BWKb7tcLvh8vvj2zs4O8vPz469xapqGkydPIhQKqSyLUlRJSQkuXLgAAAgGg5ienkZjY2PCMbqu48aNG1hYWEBtbS26u7uV1qQ0IOIty7yysv7tcm9v761t/nsMZZ7NzU1cv34dra2t8cDsGx4eRk1NDQCgra0NGxsbCIfDympReia6XC4YhhHfNgwDp0%2Bfjm8XFhYiHA7HgxKLxfDq1Svouq6yLEph6%2BvraG9vR1tbG27dupWw782bN7h3796BNtnZ2crqURqQ6upqLC8vIxQKIRKJwOPxoK6uLr7fbrfj4sWL8Hg8AACPx4PKykpTv5xBx0coFMLNmzcxMDCAa9euHdifk5OD%2Bfl5eL1eAMDc3BwqKiriYxYVlC93f/LkCSYmJhCJRNDY2Iienh709/ejoaEBbrcbPp8PfX19CAQC0HUdo6OjCVcZyhzj4%2BN48OABSktLIYSAzWZDXV0dgsEg6uvr4Xa7sb6%2Bjrt372J3dxdFRUUYGRlJGOf%2B3/g%2BCJEER8NEEgwIkcQ/LKyXDESsjLsAAAAASUVORK5CYII%3D\">\n",
       "\n",
       "        </div>\n",
       "       <div class=\"col-md-12 text-right\">\n",
       "            <a role=\"button\" data-toggle=\"collapse\" data-target=\"#descriptives2841209636057722528,#minihistogram2841209636057722528\" aria-expanded=\"false\" aria-controls=\"collapseExample\">\n",
       "                Toggle details\n",
       "            </a>\n",
       "        </div>\n",
       "        <div class=\"row collapse col-md-12\" id=\"descriptives2841209636057722528\">\n",
       "            <div class=\"col-sm-4\">\n",
       "                  <p class=\"h4\">Quantile statistics</p>\n",
       "                  <table class=\"stats indent\">\n",
       "                        <tr><th>Minimum</th>\n",
       "                        <td>0.078</td></tr>\n",
       "                        <tr><th>5-th percentile</th>\n",
       "                        <td>0.14035</td></tr>\n",
       "                        <tr><th>Q1</th>\n",
       "                        <td>0.24375</td></tr>\n",
       "                        <tr><th>Median</th>\n",
       "                        <td>0.3725</td></tr>\n",
       "                        <tr><th>Q3</th>\n",
       "                        <td>0.62625</td></tr>\n",
       "                        <tr><th>95-th percentile</th>\n",
       "                        <td>1.1328</td></tr>\n",
       "                        <tr><th>Maximum</th>\n",
       "                        <td>2.42</td></tr>\n",
       "                        <tr><th>Range</th>\n",
       "                        <td>2.342</td></tr>\n",
       "                        <tr><th>Interquartile range</th>\n",
       "                        <td>0.3825</td></tr>\n",
       "                  </table>\n",
       "                  <p class=\"h4\">Descriptive statistics</p>\n",
       "                  <table class=\"stats indent\">\n",
       "                        <tr><th>Standard deviation</th>\n",
       "                        <td>0.33133</td></tr>\n",
       "                        <tr><th>Coef of variation</th>\n",
       "                        <td>0.70215</td></tr>\n",
       "                        <tr><th>Kurtosis</th>\n",
       "                        <td>5.595</td></tr>\n",
       "                        <tr><th>Mean</th>\n",
       "                        <td>0.47188</td></tr>\n",
       "                        <tr><th>MAD</th>\n",
       "                        <td>0.24731</td></tr>\n",
       "                        <tr class=\"\"><th>Skewness</th>\n",
       "                        <td>1.9199</td></tr>\n",
       "                        <tr><th>Sum</th>\n",
       "                        <td>362.4</td></tr>\n",
       "                        <tr><th>Variance</th>\n",
       "                        <td>0.10978</td></tr>\n",
       "                        <tr><th>Memory size</th>\n",
       "                        <td>6.0 KiB</td></tr>\n",
       "                 </table>\n",
       "            </div>\n",
       "             <div class=\"col-sm-8 histogram\">\n",
       "                 <img src=\"data:image/png;base64,iVBORw0KGgoAAAANSUhEUgAAAlgAAAGQCAYAAAByNR6YAAAABHNCSVQICAgIfAhkiAAAAAlwSFlzAAAPYQAAD2EBqD%2BnaQAAIABJREFUeJzt3X9YlHW%2B//EXDMuPVBJxoJZLj4mnADNRQ3MNW7nI9rSRFZnbyQpP59iVoHv64fFHma1puFFaitHmr8uoPKRcW%2Bm2nXOsPZk/NklR7KjbClnSURg8umINjsB8/%2Bjr7I4ozegH7pnh%2BbguLi4%2B9z1zv%2B/33MP94r5v7glzu91uAQAAwJhwqwsAAAAINQQsAAAAwwhYAAAAhhGwAAAADCNgAQAAGEbAAgAAMIyABQAAYBgBCwAAwDACFgAAgGEELAAAAMMIWAAAAIYRsAAAAAwjYAEAABhGwAIAADCMgAUAAGAYAQsAAMAwAhYAAIBhBCwAAADDCFgAAACGEbAAAAAMI2ABAAAYRsACAAAwjIAFAABgGAELAADAMAIWAACAYQQsAAAAwwhYAAAAhhGwAAAADCNgAQAAGEbAAgAAMIyABQAAYBgBCwAAwLCQDFhff/21HnroIQ0ZMkRZWVlauXKlZ9r8%2BfOVkpKi1NRUz/c333zTM33btm3KyclRenq68vLydPjwYStWAQAABLGQC1hut1uTJ09W79699e677%2BqZZ55RSUmJfve730mSampq9MQTT2jLli3aunWrtmzZorvvvluSdOTIEeXn5ys3N1fl5eWKi4tTfn7%2BJddUX1%2BvpUuXqr6%2B/pKfC/6j/9ai/9ai/9ai/9aysv8hF7AaGhqUlpamuXPnqm/fvho9erRGjhypnTt3SpKqq6uVlpam%2BPh4z1dUVJQkad26dRo0aJDy8vKUnJyswsJCffPNN6qoqLikmhwOh4qLi%2BVwOC55/eA/%2Bm8t%2Bm8t%2Bm8t%2Bm8tK/sfcgHLbrdr0aJFuuyyyyRJO3fuVEVFhUaMGKFTp06prq5O/fr1O%2B9j9%2BzZo4yMDM/P0dHRSktLU2VlZWeUDgAAQkSE1QV0pKysLB05ckQ//elPNXbsWFVVVSksLEwlJSXavHmzevbsqUmTJumOO%2B6Q9P2hxISEBK/n6N27t%2Brq6qwoHwAABKmQDlhLly5VQ0OD5s6dqwULFujaa69VeHi4kpOTdf/992vHjh2aM2eOunfvruzsbDU1NSkyMtLrOSIjI%2BVyuSxaAwAAEIxCOmANHDhQkjRr1ixNnz5dM2bMUFZWlmJjYyVJV199tQ4dOqS1a9cqOztbUVFRbcKUy%2BXyzO%2BL%2Bvr6Nud6q6urL3FNAADAxTrffthut7c5a2VSyAWsY8eOqbKyUtnZ2Z6xAQMG6MyZM/r222/Vs2dPr/n79%2B%2BvTz/9VJKUmJjYJhw1NDQoNTXV5%2BWXlZWpuLi4zXh%2Bfr4n8KFzDRw4UH/605%2BsLqPLov/Wov/Wov/WGjhwoDIyMjR9%2BvQ20woKCjR16tQOW3bIBaza2lpNnTpVH3/8sSeZ7t27V7169dLrr7%2BuyspKrV692jP//v37ddVVV0mSBg8erF27dnmmOZ1O7du3z68XYMKECcrKymozbrfbdfKkUy0trRe7arhINlu4YmNj6L9F6L%2B16L%2B16L%2B1bLZwLVq06Lz/RWi32zt02SEXsAYNGqRrr71Ws2fP1qxZs1RbW6sXXnhBjzzyiAYPHqzXXntNq1evVnZ2tj755BO99957Ki0tlSTl5uZq1apVWr58ucaMGaPi4mL17dtXw4cP93n5CQkJFzzkePz4t2pu5g1mlZaWVvpvIfpvLfpvLfpvnfb2yx0pzO12uzt9qR3M4XDo2Wef1fbt2xUTE6OJEydq8uTJkqSPPvpIL7/8sr766islJSXp0Ucf9Tqd%2BMknn2jBggWqq6vT0KFDNW/ePCUlJRmpi4BljYiIcMXFdaP/FqH/1qL/1qL/1jrbfyuEZMAKVLzBrMEvOGvRf2vRf2vRf2tZGbBC7kajAAAAViNgAQAAGEbAAgAAMIyABQAAYBgBCwAAwDACFgAAgGEELAAAAMMIWAAAAIYRsAAAAAwjYAEAABhGwAIAADCMgAUAAGAYAQsAAMAwAhYAAIBhBCwAAADDCFgAAACGEbAAAAAMI2ABAAAYRsACAAAwjIAFAABgGAELAADAMAIWAACAYQQsAAAAwwhYAAAAhkVYXQDa1%2Bpu1eYv6nXS2Wx1KT5LvDxKI67qLSnM6lIAALAEASvAud1urfvsiGoc31ldis9GJvf8/wELAICuiVOEAAAAhhGwAAAADCNgAQAAGEbAAgAAMIyABQAAYBgBCwAAwDACFgAAgGEELAAAAMNCMmB9/fXXeuihhzRkyBBlZWVp5cqVnmm1tbWaNGmShgwZottuu01bt271euy2bduUk5Oj9PR05eXl6fDhw51dPgAACHIhF7DcbrcmT56s3r17691339UzzzyjkpIS/e53v5MkTZkyRQkJCSovL9ftt9%2BugoICHT16VJJ05MgR5efnKzc3V%2BXl5YqLi1N%2Bfr6VqwMAAIJQyAWshoYGpaWlae7cuerbt69Gjx6tkSNHaufOnfrjH/%2Bo2tpazZs3T/3799fkyZOVnp6u9evXS5LefvttDRo0SHl5eUpOTlZhYaG%2B%2BeYbVVRUWLxWAAAgmIRcwLLb7Vq0aJEuu%2BwySdLOnTv12Wefafjw4dqzZ48GDhyoqKgoz/zDhg3T7t27JUlVVVXKyMjwTIuOjlZaWpoqKys7dyUAAEBQC7mA9beysrI0ceJEpaena%2BzYsXI4HEpISPCaJz4%2BXnV1dZKk%2Bvr6NtN79%2B7tmQ4AAOCLkA5YS5cu1auvvqoDBw7oueeek9PpVGRkpNc8kZGRcrlckqSmpqZ2pwMAAPgiwuoCOtLAgQMlSTNnztQTTzyhu%2B%2B%2BWydPnvSax%2BVyKTo6WpIUFRXVJky5XC7Fxsb6vMz6%2Bno5HI4243a7XdHRPfxdBanF7f9jAkBERLikMKvLkCTZbOFe39G56L%2B16L%2B16L%2B1bLbwdvfL5561MinkAtaxY8dUWVmp7Oxsz9iAAQN05swZ2e12VVdXe83f0NAgu90uSUpMTGzzIjQ0NCg1NdXn5ZeVlam4uLjNeEFBgaZOnerPqkiSmpqC8OhZWJhiY2Nks9msrsRLbGyM1SV0afTfWvTfWvTfOmvWrDC6X/ZVyAWs2tpaTZ06VR9//LEnme7du1fx8fEaNmyYVq5cKZfL5TkVuHPnTl1//fWSpMGDB2vXrl2e53I6ndq3b59fL8CECROUlZXVZtxut%2BvkSadaWlr9Wp/mlha/5g8IbrdOnnQqkI5gxcbGXFT/cenov7Xov7Xov7VstvB298sdKeQC1qBBg3Tttddq9uzZmjVrlmpra/XCCy/okUceUUZGhq688krNnDlTU6ZM0UcffaS9e/dq4cKFkqTc3FytWrVKy5cv15gxY1RcXKy%2Bfftq%2BPDhPi8/ISHhgoccjx//Vs3N/r3BWlqD8w35/XoGRsA6q6Wl1e/%2Bwxz6by36by36b5329ssdKeROCoeHh%2BuVV17RZZddpl/84heaM2eOHnjgAU2cOFHh4eEqKSmRw%2BFQbm6uNmzYoGXLlumKK66QJCUlJWnp0qUqLy/X%2BPHj1djYeN7DigAAAO0JuSNY0veH/ZYsWXLeaX369FFpaekFH5uZmakPPvigo0oDAABdQMgdwQIAALAaAQsAAMAwAhYAAIBhBCwAAADDCFgAAACGEbAAAAAMI2ABAAAYRsACAAAwjIAFAABgGAELAADAMAIWAACAYQQsAAAAwwhYAAAAhhGwAAAADCNgAQAAGEbAAgAAMIyABQAAYBgBCwAAwDACFgAAgGEELAAAAMMIWAAAAIYRsAAAAAwjYAEAABhGwAIAADCMgAUAAGAYAQsAAMAwAhYAAIBhBCwAAADDCFgAAACGEbAAAAAMI2ABAAAYRsACAAAwjIAFAABgWEgGrLq6Ok2bNk0jRozQTTfdpIULF8rlckmS5s%2Bfr5SUFKWmpnq%2Bv/nmm57Hbtu2TTk5OUpPT1deXp4OHz5s1WoAAIAgFWF1AR1h2rRp6tmzp9566y2dOHFCs2fPls1m0/Tp01VTU6MnnnhCd955p2f%2B7t27S5KOHDmi/Px8/fKXv1RmZqaKi4uVn5%2Bv9957z6pVAQAAQSjkjmDV1NSoqqpKhYWFSk5O1rBhwzRt2jRt3LhRklRdXa20tDTFx8d7vqKioiRJ69at06BBg5SXl6fk5GQVFhbqm2%2B%2BUUVFhZWrBAAAgkzIBSy73a4VK1aoV69enjG3263GxkadOnVKdXV16tev33kfu2fPHmVkZHh%2Bjo6OVlpamiorKzu6bAAAEEJCLmD16NFDo0aN8vzsdrv1xhtv6Cc/%2BYlqamoUFhamkpIS3XTTTRo3bpzeeecdz7z19fVKSEjwer7evXurrq6u0%2BoHAADBLySvwfpbzz//vA4cOKD169fr888/V3h4uJKTk3X//fdrx44dmjNnjrp3767s7Gw1NTUpMjLS6/GRkZGeC%2BQBAAB8EdIBq6ioSKWlpXrppZc0YMAADRgwQFlZWYqNjZUkXX311Tp06JDWrl2r7OxsRUVFtQlTLpfLM78v6uvr5XA42ozb7XZFR/fwfyVa3P4/JgBERIRLCrO6DEmSzRbu9R2di/5bi/5bi/5by2YLb3e/fO5ZK5NCNmA9%2B%2ByzKisrU1FRkbKzsz3j54al/v3769NPP5UkJSYmtnkRGhoalJqa6vNyy8rKVFxc3Ga8oKBAU6dO9WcVJElNTUF49CwsTLGxMbLZbFZX4iU2NsbqEro0%2Bm8t%2Bm8t%2Bm%2BdNWtWGN0v%2ByokA1ZxcbHKysq0ePFi3XzzzZ7xJUuWqLKyUqtXr/aM7d%2B/X1dddZUkafDgwdq1a5dnmtPp1L59%2B/x6ASZMmKCsrKw243a7XSdPOtXS0urXujS3tPg1f0Bwu3XypFOBdAQrNjbmovqPS0f/rUX/rUX/rWWzhbe7X%2B5IIRewqqurVVJSoocfflhDhgxRQ0ODZ9qYMWP02muvafXq1crOztYnn3yi9957T6WlpZKk3NxcrVq1SsuXL9eYMWNUXFysvn37avjw4T4vPyEh4YKHHI8f/1bNzf69wVpag/MN%2Bf16BkbAOqulpdXv/sMc%2Bm8t%2Bm8t%2Bm%2Bd9vbLHSnkAtaHH36o1tZWlZSUqKSkRNL3/0kYFham/fv3a8mSJXr55Zf18ssvKykpSS%2B%2B%2BKKuu%2B46SVJSUpKWLl2qBQsW6JVXXtHQoUPPe1gRAACgPWFutzs4r6IOQhd3BKtF09ZWqcbxXQdVZd7I5J56OidNgXIEKyIiXHFx3S6q/7h09N9a9N9a9N9aZ/tvBf6tAQAAwDACFgAAgGEELAAAAMMIWAAAAIYRsAAAAAwjYAEAABhGwAIAADCMgAUAAGAYAQsAAMAwAhYAAIBhBCwAAADDCFgAAACGEbAAAAAMI2ABAAAYRsACAAAwjIAFAABgGAELAADAMAIWAACAYQQsAAAAwwhYAAAAhhGwAAAADCNgAQAAGEbAAgAAMIyABQAAYBgBCwAAwDACFgAAgGEELAAAAMMIWAAAAIYRsAAAAAwjYAEAABhGwAIAADAsYALW%2BPHj9e///u9qbGy0uhQAAIBLEjAB64YbbtCrr76qG2%2B8UY899pi2bNkit9ttdVkAAAB%2BC5iA9fjjj%2BsPf/iDXnnlFdlsNk2dOlU//elPtXjxYn355ZdWlwcAAOCzgAlYkhQWFqZRo0apqKhI27Zt03333ac1a9bo1ltv1X333af//M//9Ol56urqNG3aNI0YMUI33XSTFi5cKJfLJUmqra3VpEmTNGTIEN12223aunWr12O3bdumnJwcpaenKy8vT4cPHza%2BngAAILQFVMCSpPr6eq1YsUITJkzQokWLlJaWpnnz5umGG27QU089pQULFvzgc0ybNk2nT5/WW2%2B9pUWLFukPf/iDXn75ZUnSlClTlJCQoPLyct1%2B%2B%2B0qKCjQ0aNHJUlHjhxRfn6%2BcnNzVV5erri4OOXn53fo%2BoYiW5gkuQPoq1XNzc2SWn2YFwCASxdhdQFnvfvuu3r33Xf16aefqlevXrrjjju0ZMkS9evXzzPPlVdeqQULFujJJ5%2B84PPU1NSoqqpKW7duVa9evSR9H7ief/55ZWZmqra2VuvWrVNUVJQmT56s7du3a/369SooKNDbb7%2BtQYMGKS8vT5JUWFioUaNGqaKiQhkZGR25%2BiEl8fJoLf6vP%2BvQMafVpfisX3yMHr35aqvLAACEiIAJWE8%2B%2BaTGjBmjZcuWafTo0QoPb3twrX///po4cWK7z2O327VixQpPuDqrsbFRe/bs0cCBAxUVFeUZHzZsmHbv3i1Jqqqq8gpS0dHRSktLU2VlJQHLT4eOOfXF0W%2BtLgMAAEsETMDavHmz4uLidOLECU%2B4qqqq0sCBA2Wz2SRJQ4cO1dChQ9t9nh49emjUqFGen91ut9544w2NHDlSDodDCQkJXvPHx8errq5O0venJ8%2Bd3rt3b890AAAAXwTMNVinTp3Sz372My1fvtwzNnnyZI0bN05Hjhy56Od9/vnntX//fj366KNyOp2KjIz0mh4ZGem5AL6pqand6QAAAL4ImCNYzz33nP7u7/5OkyZN8oy9//77mjFjhgoLC7VkyRK/n7OoqEilpaV66aWXNGDAAEVFRekvf/mL1zwul0vR0dGSpKioqDZhyuVyKTY21udl1tfXy%2BFwtBm32%2B2Kju7h9zqohQuvO0tERJgC6G%2BOkGGzhXt9R%2Bei/9ai/9ay2cLb3S%2Bfe9bKpIAJWJ999pnefvtt2e12z1ivXr30b//2b7rvvvv8fr5nn31WZWVlKioqUnZ2tiQpMTFRBw8e9JqvoaHBs8zExMQ2L0JDQ4NSU1N9Xm5ZWZmKi4vbjBcUFGjq1Kn%2BroaamoLw6FmY1QVcnB49YhQRETBviZATGxtjdQldGv23Fv23zpo1K4zul30VMHuTiIgInTx5ss240%2Bn0%2B47uxcXFKisr0%2BLFi3XzzTd7xgcPHqzly5fL5XJ5TgXu3LlT119/vWf6rl27vJa9b98%2Bv16ACRMmKCsrq8243W7XyZNOtbS0%2BrUuzS0tfs0fEIL0oFtjo1McwTLPZgtXbGzMRW3/uHT031r031o2W3i7%2B%2BWOFDABa/To0Zo/f74WLVqkvn37SpIOHz6swsJCZWZm%2Bvw81dXVKikp0cMPP6whQ4aooaHBM2348OG68sorNXPmTE2ZMkUfffSR9u7dq4ULF0qScnNztWrVKi1fvlxjxoxRcXGx%2Bvbtq%2BHDh/u8/ISEhAsecjx%2B/Fs1N/v3Bmtp5Q3ZWZqbv79nFjpGS0ur39s/zKH/1qL/1mlvv9yRAubP9RkzZsjlcumWW27RiBEjNGLECI0dO1ZnzpzRrFmzfH6eDz/8UK2trSopKVFmZqYyMzN14403KjMzU%2BHh4Vq2bJkcDodyc3O1YcMGLVu2TFdccYUkKSkpSUuXLlV5ebnGjx%2BvxsbG8x5WBAAAaE%2BYO4A%2BUbmlpUXbtm3Tn//8Z0VERGjAgAEaOXKkwsKC9KKec1zcEawWTVtbpRrHdx1UlXm5w67Q3m8ag%2Bo%2BWFdf0U0v/2KwgvYCsgAWERGuuLhuF7X949LRf2vRf2ud7b8ly7ZkqRdgs9k8R50AAACCVcAELIfDoZdeekm7du3SmTNn2lzY/uGHH1pUGQAAgH8CJmDNmTNHn3/%2BuX7%2B85%2BrR4%2BLuF8UAABAgAiYgPXHP/5RK1as8NwyAQAAIFgFzH8RXnbZZYqPj7e6DAAAgEsWMAFr3LhxWrFihVqC8caaAAAAfyNgThGeOHFCGzdu1H//93%2BrT58%2BbT50%2BfXXX7eoMgAAAP8ETMCSpNtuu83qEgAAAC5ZwASswsJCq0sAAAAwImCuwZKk%2Bvp6FRcX6/HHH9exY8f0wQcfqKamxuqyAAAA/BIwAeurr75STk6Ofvvb3%2Bo//uM/9N133%2Bn9999Xbm6u9uzZY3V5AAAAPguYgLVw4UJlZ2dr06ZN%2BtGPfiRJWrRokbKysvTCCy9YXB0AAIDvAiZg7dq1S5MmTfL6YOeIiAhNmTJF%2B/bts7AyAAAA/wRMwGptbVVra9tPGv/2229ls9ksqAgAAODiBEzAuvHGG/Wb3/zGK2SdOHFCRUVFuuGGGyysDAAAwD8BE7Bmzpypzz//XDfeeKNOnz6tRx55RGPGjFFtba1mzJhhdXkAAAA%2BC5j7YCUmJuqdd97Rxo0btX//frW2turee%2B/VuHHj1L17d6vLAwAA8FnABCxJiomJ0fjx460uAwAA4JIETMB64IEH2p3OZxECAIBgETABKykpyevn5uZmffXVV/riiy/04IMPWlQVAACA/wImYF3oswiXLVumo0ePdnI1AAAAFy9g/ovwQsaNG6ff//73VpcBAADgs4APWJWVldxoFAAABJWAOUV4vovcT506pT/96U/6x3/8RwsqAgAAuDgBE7B%2B/OMfe30OoST96Ec/0sSJE3X77bdbVBUAAID/AiZgLVy40OoSAAAAjAiYgFVRUeHzvBkZGR1YCQAAwKUJmIB1//33e04Rut1uz/i5Y2FhYdq/f3/nFwgAAOCjgAlYr776qubPn6/p06dr%2BPDhioyM1N69ezVv3jzdeeeduvXWW60uEQAAwCcBc5uGwsJCPf3007rlllsUFxenbt266YYbbtC8efO0du1aJSUleb4AAAACWcAErPr6%2BvOGp%2B7du%2Bv48eMWVAQAAHBxAiZgpaena9GiRTp16pRn7MSJEyoqKtLIkSMtrAwAAMA/AXMN1lNPPaUHHnhAo0ePVr9%2B/eR2u3Xo0CHZ7Xa9/vrrVpcHAADgs4AJWMnJyXr//fe1ceNGVVdXS5Luu%2B8%2B/fznP1dMTIzF1QEAAPguYE4RStLll1%2Bu8ePHa%2BLEiZo1a5bGjRt3SeHK5XIpJyfH6x5b8%2BfPV0pKilJTUz3f33zzTc/0bdu2KScnR%2Bnp6crLy9Phw4cvaZ0AAEDXEzABy%2B1264UXXlBGRoZuu%2B02HT16VDNmzNCTTz6pM2fO%2BP18LpdLjz32mA4ePOg1XlNToyeeeEJbtmzR1q1btWXLFt19992SpCNHjig/P1%2B5ubkqLy9XXFyc8vPzjawfAADoOgImYJWWlurdd9/V3LlzFRkZKUnKzs7Wpk2bVFxc7NdzVVdX65577lFtbe15p6WlpSk%2BPt7zFRUVJUlat26dBg0apLy8PCUnJ6uwsFDffPONX3eZBwAACJiAVVZWpqefflp33XWX5%2B7tt956q%2BbPn68NGzb49Vw7duzQyJEjVVZW5nVX%2BFOnTqmurk79%2BvU77%2BP27Nnj9TE80dHRSktLU2Vlpf8rBAAAuqyAuci9trZWqampbcZTUlLkcDj8eq577733vOM1NTUKCwtTSUmJNm/erJ49e2rSpEm64447JH1/L66EhASvx/Tu3Vt1dXV%2BLR8AAHRtAXMEKykpSXv37m0zvnnzZvXp08fIMmpqahQeHq7k5GQtX75c48eP15w5c7Rp0yZJUlNTk%2Bf05FmRkZFyuVxGlg8AALqGgDmC9dBDD%2BlXv/qVHA6H3G63tm/frrKyMpWWlmrmzJlGlnHHHXcoKytLsbGxkqSrr75ahw4d0tq1a5Wdna2oqKg2Ycrlcnnm90V9ff15j7jZ7XZFR/fwv%2BgW9w/PAyMiIsIUQH9zhAybLdzrOzoX/bcW/beWzRbe7n753LNWJgVMwMrNzVVzc7NKSkrU1NSkp59%2BWr169dK//uu/XvCU38U4Nyz1799fn376qSQpMTGxzYvQ0NBw3lOXF1JWVnbei/ILCgo0depUv%2BttagrCo2dhVhdwcXr0iFFERMC8JUJObCz3s7MS/bcW/bfOmjUrjO6XfRUwe5ONGzfqZz/7mSZMmKD/%2B7//k9vtVnx8vNFlLFmyRJWVlVq9erVnbP/%2B/brqqqskSYMHD9auXbs805xOp/bt2%2BfXCzBhwgRlZWW1Gbfb7Tp50qmWlla/am5uafFr/oAQpAfdGhud4giWeTZbuGJjYy5q%2B8elo//Wov/WstnC290vd6SACVjz5s3TW2%2B9pcsvv1y9evXqkGWMGTNGr732mlavXq3s7Gx98skneu%2B991RaWirp%2B6Noq1at0vLlyzVmzBgVFxerb9%2B%2BGj58uM/LSEhIuOAhx%2BPHv1Vzs39vsJZW3pCdpbnZLYl%2Bd5SWlla/t3%2BYQ/%2BtRf%2Bt095%2BuSMFzJ/r/fr10xdffGH8ec/e8kGSBg0apCVLluidd95RTk6O3nzzTb344ou67rrrJH1/of3SpUtVXl6u8ePHq7Gx0e97cAEAAATMEayUlBQ98cQTWrFihfr16%2Be5%2BedZhYWFF/W8%2B/fv9/o5KyvrvIcKz8rMzNQHH3xwUcsCAACQAihgffnllxo2bJgk%2BX3fKwAAgEBiacB6/vnnVVBQoMsuu8xzHRQAAECws/QarNWrV8vpdHqNTZ48WfX19RZVBAAAcOksDVh/%2BzmBZ1VUVOj06dMWVAMAAGBGwPwXIQAAQKggYAEAABhmecD62/tUAQAAhALLb9Mwf/58r3tenTlzRkVFRerWrZvXfBd7HyzAF7bwMAXtZ/wE64c/AkAIszRgZWRktLnn1ZAhQ3T8%2BHEdP37coqrQFSXFRWvxf/1Zh445f3jmANEvPkaP3ny11WUAAM7D0oDFva8QSA4dc%2BqLo99aXQYAIARYfg0WAABAqCFgAQAAGEbAAgAAMIyABQAAYBgBCwAAwDACFgAAgGEELAAAAMMIWAAAAIYRsAAAAAwjYAEAABhGwAIAADCMgAUAAGAYAQsAAMAwAhYAAIBhBCwAAADDCFgAAACGEbAAAAAMI2ABAAAYRsACAAAwjIAFAABgGAELAADAMAIWAACAYQQsAAAAwwhYAAAAhoV0wHK5XMrJyVFFRYVnrLa2VpMmTdKQIUN02223aevWrV6P2bZtm3JycpSenq68vDwdPny4s8sGAABBLmQDlsvl0mOPPaaDBw96jefn5yshIUHl5eW6/fbbVVBQoKNHj0qSjhw5ovz8fOXm5qq8vFxxcXHKz8%2B3onwAABDEQjJgVVdX65794h3LAAAQY0lEQVR77lFtba3X%2BPbt23X48GHNmzdP/fv31%2BTJk5Wenq7169dLkt5%2B%2B20NGjRIeXl5Sk5OVmFhob755huvI2AAAAA/JCQD1o4dOzRy5EiVlZXJ7XZ7xquqqjRw4EBFRUV5xoYNG6bdu3d7pmdkZHimRUdHKy0tTZWVlZ1XPAAACHoRVhfQEe69997zjjscDiUkJHiNxcfHq66uTpJUX1/fZnrv3r090wEAAHwRkkewLsTpdCoyMtJrLDIyUi6XS5LU1NTU7nQAAABfhOQRrAuJiorSX/7yF68xl8ul6Ohoz/Rzw5TL5VJsbKzPy6ivr5fD4WgzbrfbFR3dw/%2BiW9w/PA%2B6rIiIMAX630k2W7jXd3Qu%2Bm8t%2Bm8tmy283f3yuWetTOpSASsxMbHNfxU2NDTIbrd7pp/7IjQ0NCg1NdXnZZSVlam4uLjNeEFBgaZOnep3zU1NQXj0LMzqArqOHj1iFBERHG/j2NgYq0vo0ui/tei/ddasWWF0v%2Byr4PjNbMjgwYO1fPlyuVwuz6nAnTt36vrrr/dM37Vrl2d%2Bp9Opffv2%2BfUCTJgwQVlZWW3G7Xa7Tp50qqWl1a%2Bam1ta/Jo/IHDQrdM0NjoVDEewYmNjLmr7x6Wj/9ai/9ay2cLb3S93pC4VsIYPH64rr7xSM2fO1JQpU/TRRx9p7969WrhwoSQpNzdXq1at0vLlyzVmzBgVFxerb9%2B%2BGj58uM/LSEhIuOAhx%2BPHv1Vzs39vsJZW3pC4sOZmt6Tg2EZaWlr93v5hDv23Fv23Tnv75Y4U2H/6GhAW9tfzVeHh4XrllVfkcDiUm5urDRs2aNmyZbriiiskSUlJSVq6dKnKy8s1fvx4NTY2nvewIgAAQHtC/gjW/v37vX7u06ePSktLLzh/ZmamPvjgg44uCwAAhLCQP4IFAADQ2QhYAAAAhhGwAAAADCNgAQAAGEbAAgAAMIyABQAAYBgBCwAAwDACFgAAgGEELAAAAMMIWAAAAIYRsAAAAAwjYAEAABhGwAIAADCMgAUAAGAYAQsAAMAwAhYAAIBhBCwAAADDCFgAAACGEbAAAAAMI2ABAAAYRsACAAAwjIAFAABgGAELAADAMAIWAACAYQQsAAAAwwhYAAAAhhGwAAAADCNgAQAAGEbAAgAAMIyABQAAYBgBCwAAwDACFgAAgGERVhcA4OLYwsMkua0uwwetam5ultSqv9YbZmE9ANDxumTA2rRpkwoKChQWFia3262wsDCNHTtWL7/8smprazVnzhzt3r1bSUlJmjVrlkaNGmV1yUAbSXHRWvxff9ahY06rS/FZv/gYPXrz1VaXAQAdrksGrIMHDyorK0vz58%2BX2/39X9RRUVGSpClTpig1NVXl5eWeIPb73/9eV1xxhZUlA%2Bd16JhTXxz91uoyAADn6JIBq7q6Wn//93%2BvXr16eY1v375dtbW1WrdunaKiojR58mRt375d69evV0FBgUXVAgCAYNMlL3Kvrq7WVVdd1Wa8qqpKAwcO9BzNkqRhw4Zp9%2B7dnVkeAAAIcl0yYH355Zf65JNPdMstt%2Bjmm2/Wiy%2B%2BqDNnzsjhcCghIcFr3vj4eNXV1VlUKQAACEZd7hTh//7v/6qpqUlRUVGei9oXLFigpqYmOZ1ORUZGes0fGRkpl8tlUbUAACAYdbmA9eMf/1iffvqpYmNjJUkpKSlqbW3V9OnTddddd%2BnkyZNe87tcLkVHR/v8/PX19XI4HG3G7Xa7oqN7%2BF9wSzD8Gz7gu4iIMHXRg%2BeWsNnCvb6jc9F/a9ls4e3ul889a2VSlwtYkjzh6qzk5GSdPn1avXv3VnV1tde0hoYG2e12n5%2B7rKxMxcXFbcYLCgo0depUv2ttagrCo2fc4gjt6NEjRhERXfJXj6ViY2OsLqFLo//WWbNmhdH9sq%2B63G%2B5LVu26PHHH9fmzZs9F7Pv27dPcXFxuv7667Vq1Sq5XC7PqcKdO3fq%2Buuv9/n5J0yYoKysrDbjdrtdJ0861dLS6le9zS0tfs0fEDjohnY0NjrFEazOY7OFKzY25qJ%2B/%2BDS0X9r2Wzh7e6XO1KXC1hDhgxRTEyMnnzySeXn5%2Bvrr79WUVGR/uVf/kUZGRm68sorNXPmTE2ZMkUfffSR9u7dq4ULF/r8/AkJCRc85Hj8%2BLdqbvbvDdbSyhsSoaW52a3v7%2BqOztTS0ur37x%2BYQ/%2Bt095%2BuSN1uT8ju3XrppUrV%2Br48eO6%2B%2B67NWfOHP3iF7/QP/3TPyk8PFwlJSVyOBzKzc3Vhg0btGzZMm4yCgAA/NLljmBJ319ztXLlyvNO69Onj0pLSzu5IgAAEEq63BEsAACAjkbAAgAAMIyABQAAYBgBCwAAwDACFgAAgGEELAAAAMMIWAAAAIYRsAAAAAwjYAEAABhGwAIAADCMgAUAAGAYAQsAAMAwAhYAAIBhBCwAAADDCFgAAACGEbAAAAAMI2ABAAAYFmF1AQC6Dlt4mCS31WVcpDCrCwAQRAhYADpNUly0Fv/Xn3XomNPqUnzWLz5Gj958tdVlAAgyBCwAnerQMae%2BOPqt1WUAQIfiGiwAAADDCFgAAACGEbAAAAAMI2ABAAAYRsACAAAwjIAFAABgGLdpAIB2cHNUABeDgAUA7eDmqAAuBgELAH4AN0cF4C%2BuwQIAADCMgAUAAGAYAQsAAMAwAhYAAIBhBCwAAADDCFjn4XK5NHv2bGVkZCgzM1OrV6%2B2uiQAABBEuE3Defz617/Wvn37VFpaqtraWs2YMUNJSUkaO3as1aUBAIAgwBGsczidTq1fv15PPfWUUlJSlJ2drX/%2B53/WG2%2B8YXVpAAAgSBCwznHgwAG1tLQoPT3dMzZs2DBVVVVZWBUA%2BO6vH%2B/jltSq5uZmSa1/MxaIX61BUOOFvoKJ1b3qKn3mFGEbDodDPXv2VETEX1sTHx%2Bv06dP6/jx44qLi7OwOgD4YcH48T439O%2Bpo385HVQ1B%2BtHEi3%2Bry/ocycgYJ3D6XQqMjLSa%2Bzszy6Xy4qSAMBvwfbxPn3jY/R1kNXs2weBn3sE0WruoNs2ghUB6xxRUVFtgtTZn2NiYn7w8fX19XI4HG3G7Xa7oqN7%2BF9Qi1v9escowhbm/2MtkhAbqX5NP9yrQPLjy6OC7nw5NXcOau4cwVhzRr/LVb6rVnUnT1tdis9Sr%2ByufvHB9fu5X3yMIiLCdDFXNdls4e3ulxMSEgxUeH4ErHMkJibqxIkTam1tVXj49y9mQ0ODoqOjFRsb%2B4OPLysrU3FxcZvxjIwMLVq06KJezOcnZvj9GPxVfX29ysrKNGHChA59M%2BH86L%2B16L%2B1ArH/91hdQCeqr6/XY489poqKijbTCgoKNHXq1A5bNgHrHKmpqYqIiNDu3bs1dOhQSdJnn32ma6%2B91qfHT5gwQVlZWV5j1dXVmj59uhwOR8C8wboSh8Oh4uJiZWVl0X8L0H9r0X9r0X9rORwOVVRUqKioSMnJyV7T7HZ7hy6bgHWO6OhojRs3TnPnztVzzz2nuro6rV69WgsXLvTp8QkJCbyJAAAIIMnJyRo4cGCnLpOAdR6zZs3Sr371Kz344IPq0aOHfvnLXyo7O9vqsgAAQJAgYJ1HdHS0CgsLVVhYaHUpAAAgCAXbP20AAAAEPNszzzzzjNVFdAXdunXT8OHD1a1bN6tL6ZLov7Xov7Xov7Xov7Ws6n%2BY2%2B0OhDufAQAAhAxOEQIAABhGwAIAADCMgAUAAGAYAQsAAMAwAhYAAIBhBCwAAADDCFgAAACGEbAMcblcmj17tjIyMpSZmanVq1dfcN59%2B/bpnnvuUXp6usaPH6//%2BZ//6cRKQ5M//X/kkUeUkpKi1NRUz/ePP/64E6sNXS6XSzk5OaqoqLjgPGz/HceX/rP9m1dXV6dp06ZpxIgRuummm7Rw4UK5XK7zzsv2b54//e/M7Z/PIjTk17/%2Btfbt26fS0lLV1tZqxowZSkpK0tixY73mczqdmjx5ssaNG6eFCxdq7dq1evjhh7Vp0yZFR0dbVH3w87X/klRTU6MXX3xRN9xwg2csNja2M8sNSS6XS4899pgOHjx4wXnY/juOL/2X2P47wrRp09SzZ0%2B99dZbOnHihGbPni2bzabp06d7zcf23zF87b/Uydu/G5fsu%2B%2B%2Bc1933XXuiooKz9grr7zivv/%2B%2B9vMu27dOnd2drbX2NixY92//e1vO7zOUOVP/0%2BfPu1OS0tzHzp0qDNLDHkHDx50jxs3zj1u3Dh3SkqKe8eOHeedj%2B2/Y/jaf7Z/86qrq90pKSnuY8eOecY2btzoHj16dJt52f7N86f/nb39c4rQgAMHDqilpUXp6emesWHDhqmqqqrNvFVVVRo2bJjX2NChQ1VZWdnhdYYqf/r/5ZdfKiwsTH369OnMEkPejh07NHLkSJWVlcndzqdvsf13DF/7z/Zvnt1u14oVK9SrVy/PmNvtVmNjY5t52f7N86f/nb39E7AMcDgc6tmzpyIi/nrGNT4%2BXqdPn9bx48e95q2vr1dCQoLXWHx8vOrq6jql1lDkT/%2Brq6vVvXt3TZ8%2BXTfeeKPGjx%2BvzZs3d3bJIefee%2B/VjBkzFBUV1e58bP8dw9f%2Bs/2b16NHD40aNcrzs9vt1htvvKGf/OQnbeZl%2BzfPn/539vZPwDLA6XQqMjLSa%2Bzsz%2BdeaNfU1HTeeS90QR5%2BmD/9r6mp0enTp5WZmamVK1fqpptu0iOPPMKFpp2E7d9abP8d7/nnn9eBAwf06KOPtpnG9t/x2ut/Z2//XORuQFRUVJs3yNmfY2JifJqXCxwvnj/9Lygo0IMPPqgePXpIkq655hp9/vnnKisr07x58zqn4C6M7d9abP8dq6ioSKWlpXrppZeUnJzcZjrbf8f6of539vbPESwDEhMTdeLECbW2tnrGGhoaFB0d3ea/ExITE%2BVwOLzGGhoaZLfbO6XWUORP/yV53lxnJScnq76%2BvsPrBNt/IGD77xjPPvus1qxZo6KiImVnZ593Hrb/juNL/6XO3f4JWAakpqYqIiJCu3fv9ox99tlnuvbaa9vMO3jw4DYXNO7atcvrAm34x5/%2Bz5o1S7Nnz/YaO3DggK666qoOrxNs/1Zj%2B%2B8YxcXFKisr0%2BLFi/UP//APF5yP7b9j%2BNr/zt7%2BCVgGREdHa9y4cZo7d6727t2rTZs2afXq1XrwwQclff8XyunTpyVJt9xyixobG/Xcc8%2Bpurpa8%2BfPl9PpbHejQPv86X9WVpY2bNigd955R19//bWKi4u1a9cu3X///VauQkhj%2B7cW23/Hqq6uVklJiSZPnqwhQ4aooaHB8yWx/Xc0f/rf6dt/p9wMogtwOp3umTNnuocMGeIePXq0%2B/XXX/dMu%2Baaa7zuc1JVVeW%2B88473YMHD3bfc8897v3791tRckjxp//r1q1zjx071n3ddde577rrLvdnn31mRckh69z7MLH9d64f6j/bv1m/%2Bc1v3CkpKV5f11xzjTslJcXtdrP9dzR/%2B9%2BZ23%2BY293OTVMAAADgN04RAgAAGEbAAgAAMIyABQAAYBgBCwAAwDACFgAAgGEELAAAAMMIWAAAAIYRsAAAAAwjYAEAABhGwAIAADCMgAUAAGAYAQsAAMAwAhYAAIBh/w%2BR8yAwnUutEQAAAABJRU5ErkJggg%3D%3D\">\n",
       "             </div>\n",
       "      </div>\n",
       "    </div><div class=\"row variablerow\">\n",
       "        <div class=\"col-md-3 namecol\">\n",
       "            <p class=\"h4\">diastolic_bp<br/><small>Numeric</small></p>\n",
       "        </div>\n",
       "\n",
       "        <div class=\"col-md-6\">\n",
       "            <div class=\"row\">\n",
       "                <div class=\"col-sm-6\">\n",
       "                    <table class=\"stats \">\n",
       "                        <tr><th>Distinct count</th>\n",
       "                        <td>47</td></tr>\n",
       "                        <tr><th>Unique (%)</th>\n",
       "                        <td>6.1%</td></tr>\n",
       "                        <tr class=\"ignore\"><th>Missing (%)</th>\n",
       "                        <td>0.0%</td></tr>\n",
       "                        <tr class=\"ignore\"><th>Missing (n)</th>\n",
       "                        <td>0</td></tr>\n",
       "                    </table>\n",
       "\n",
       "                </div>\n",
       "                <div class=\"col-sm-6\">\n",
       "                    <table class=\"stats \">\n",
       "\n",
       "                        <tr><th>Mean</th>\n",
       "                        <td>69.105</td></tr>\n",
       "                        <tr><th>Minimum</th>\n",
       "                        <td>0</td></tr>\n",
       "                        <tr><th>Maximum</th>\n",
       "                        <td>122</td></tr>\n",
       "                        <tr class=\"alert\"><th>Zeros (%)</th>\n",
       "                        <td>4.6%</td></tr>\n",
       "                    </table>\n",
       "                </div>\n",
       "            </div>\n",
       "        </div>\n",
       "        <div class=\"col-md-3 collapse in\" id=\"minihistogram8312085708482709708\">\n",
       "             <img src=\"data:image/png;base64,iVBORw0KGgoAAAANSUhEUgAAAMgAAABLCAYAAAA1fMjoAAAABHNCSVQICAgIfAhkiAAAAAlwSFlzAAAPYQAAD2EBqD%2BnaQAABH5JREFUeJzt3U9II1ccB/DvJKJdLF3Lkky6hUV6aCkK9tBC8JKDAVs0CFobcvJSEELEUiGXQLE9CGpPohcvPShIxCJYjH8uegkoeLC0J%2BkhWJBkxsiyWGyJYXrYupC6fc5Y572Jfj%2B3DC/ML5P3ZWbe5L1olmVZkMwwDGSzWcTjcQSDQdm7pzqjsr9oKgJCVC98qgsg8jIGhEiAASESaFBdwENhWRaq1aqj9/j9fmia5lJFZAcDIkm1WsU3y4colC9stW998gjfffERGhr4FanEoy9RoXyBo%2BIfqssgBxgQj/L7NF6SeQAD4lHvvv0Gvv3xF16SKcaj6WG8JFOPw7xEAgwIkQADQiTAgBAJMCBEAgwIkQADQiTAgBAJMCBEAgwIkQADQiTAgBAJMCBEAgwIkQADQiTAgBAJMCBEAgwIkQADQiTAOem35HQhOKcrlJA3MCC35HQhuPB7LS5XRG5gQP4HJ6uOPHvyyOVqyA28ByES4BnknrjNSowAV2O8CQNyTzhdiRHgaox28MjcI1yJ8e7xHoRIgAEhEmBAiAQYECIBBoRIQNkoltMxe5/Px/F6kk5ZQL7/6VecPP/TVltN0/D1Z%2B/jWZC/ZyK5lAXk599f2B6z1wB89am79RC9Dh8UPmD8o9CbMSD/eIjzO/hHoTe7l5/UaWcHXnZ4J53lvszvcPLzlId4xlEWkM8/fornFxVbbTVNQ1ODhsvLS1vtq9Uqftj9DaUXf9mu58N33rTd9kqrgzkeTx83ORpTd7v9bd7zSetjR8dVf6sJX3Z9UNdnHM2yLEv2Tg3DQDabRTweRzAYlL17qjMq%2B4uSB4WmaWJ2dhamaarYPdUZlf2FT9KJBBgQIgEGhEiAASESUBKQQCCAVCqFQCCgYvdUZ1T2FyXDvET1gpdYRAIMCJEAA0IkwIAQCTAgRAIMCJEAA0IkID0gGxsb6O3tRXd3N%2Bbm5mTvnjzs/PwcsVgMJycnNdt3d3fR1dVV0y6ZTKKnpweDg4M4Pj52rSapATk9PcX09DQWFxeRy%2BVwcHCAfD4vswTyqMPDQyQSCRQKhZrt5XIZU1NTNdtmZmbQ1taG9fV1jI2NIZ1Ou1aX1IDk83mEw2G0tLTA7/ejr68PuVxOZgnkUcvLyxgfH782ISqTySCVStVs29nZQX9/PwAgHA6jXC6jWCy6UpfUuZClUgm6rr96reu6ax%2BM6svExASAl%2BsJXFlYWEB7ezs6Ojpq2v67HwUCARSLRYRCoTuvS%2BoZ5HU/%2B/L5OE5A1x0dHWF7exvJZPJav5HZj6T2Tl3XYRjGq9eGYbiSeqpfVyugbG1twTRNDAwMYHh4GKVSCYlEAgAQCoVqpt%2BapllzRrlLUgPS2dmJvb09nJ2doVKpYG1tDZFIRGYJ5HFXZ4eRkRFsbm5idXUV8/Pz0HUdS0tLAIBIJIKVlRUAwP7%2BPpqbm10LiNR7kGAwiHQ6jaGhIVQqFUSjUUSjUZklkMfZWUNrdHQUmUwGsVgMjY2NmJycdK8ezgch%2Bm%2B8QyYSYECIBP4GEvGGUb7veqQAAAAASUVORK5CYII%3D\">\n",
       "\n",
       "        </div>\n",
       "       <div class=\"col-md-12 text-right\">\n",
       "            <a role=\"button\" data-toggle=\"collapse\" data-target=\"#descriptives8312085708482709708,#minihistogram8312085708482709708\" aria-expanded=\"false\" aria-controls=\"collapseExample\">\n",
       "                Toggle details\n",
       "            </a>\n",
       "        </div>\n",
       "        <div class=\"row collapse col-md-12\" id=\"descriptives8312085708482709708\">\n",
       "            <div class=\"col-sm-4\">\n",
       "                  <p class=\"h4\">Quantile statistics</p>\n",
       "                  <table class=\"stats indent\">\n",
       "                        <tr><th>Minimum</th>\n",
       "                        <td>0</td></tr>\n",
       "                        <tr><th>5-th percentile</th>\n",
       "                        <td>38.7</td></tr>\n",
       "                        <tr><th>Q1</th>\n",
       "                        <td>62</td></tr>\n",
       "                        <tr><th>Median</th>\n",
       "                        <td>72</td></tr>\n",
       "                        <tr><th>Q3</th>\n",
       "                        <td>80</td></tr>\n",
       "                        <tr><th>95-th percentile</th>\n",
       "                        <td>90</td></tr>\n",
       "                        <tr><th>Maximum</th>\n",
       "                        <td>122</td></tr>\n",
       "                        <tr><th>Range</th>\n",
       "                        <td>122</td></tr>\n",
       "                        <tr><th>Interquartile range</th>\n",
       "                        <td>18</td></tr>\n",
       "                  </table>\n",
       "                  <p class=\"h4\">Descriptive statistics</p>\n",
       "                  <table class=\"stats indent\">\n",
       "                        <tr><th>Standard deviation</th>\n",
       "                        <td>19.356</td></tr>\n",
       "                        <tr><th>Coef of variation</th>\n",
       "                        <td>0.28009</td></tr>\n",
       "                        <tr><th>Kurtosis</th>\n",
       "                        <td>5.1802</td></tr>\n",
       "                        <tr><th>Mean</th>\n",
       "                        <td>69.105</td></tr>\n",
       "                        <tr><th>MAD</th>\n",
       "                        <td>12.639</td></tr>\n",
       "                        <tr class=\"\"><th>Skewness</th>\n",
       "                        <td>-1.8436</td></tr>\n",
       "                        <tr><th>Sum</th>\n",
       "                        <td>53073</td></tr>\n",
       "                        <tr><th>Variance</th>\n",
       "                        <td>374.65</td></tr>\n",
       "                        <tr><th>Memory size</th>\n",
       "                        <td>6.0 KiB</td></tr>\n",
       "                 </table>\n",
       "            </div>\n",
       "             <div class=\"col-sm-8 histogram\">\n",
       "                 <img src=\"data:image/png;base64,iVBORw0KGgoAAAANSUhEUgAAAlgAAAGQCAYAAAByNR6YAAAABHNCSVQICAgIfAhkiAAAAAlwSFlzAAAPYQAAD2EBqD%2BnaQAAIABJREFUeJzt3X9cVPWex/E3P%2BJHKlfFQY3VVXG7IJkgQnkVXVmqe7uaFXmtu/3Q2svdBHRvPza01FIKyvJHolSaPgyrxeRR/rjVblZ7rbQkf9%2BrXROzxBQGVxNtdATO/mFOjqMIeuAMM6/n4%2BED53vOzPnMZ36c95xz5kyAYRiGAAAAYJpAqwsAAADwNQQsAAAAkxGwAAAATEbAAgAAMBkBCwAAwGQELAAAAJMRsAAAAExGwAIAADAZAQsAAMBkBCwAAACTEbAAAABMRsACAAAwGQELAADAZAQsAAAAkxGwAAAATEbAAgAAMBkBCwAAwGQELAAAAJMRsAAAAExGwAIAADAZAQsAAMBkBCwAAACTEbAAAABMRsACAAAwGQELAADAZAQsAAAAkxGwAAAATEbAAgAAMBkBCwAAwGQELAAAAJMRsAAAAExGwAIAADCZTwas7777Tg888IASExOVlpamV1991TWtoqJCY8eOVWJiooYPH67PPvvM7brr1q3TiBEjlJCQoDFjxmjfvn0tXT4AAGjlfC5gGYahzMxMderUSStWrNCTTz6poqIi/fnPf5YkjRs3TlFRUSotLdUtt9yi7OxsHTx4UJJ04MABZWVlKSMjQ6WlperQoYOysrIuu6aqqirNnTtXVVVVl31bvoKeuKMfnuiJO/rhiZ64ox%2BerOyJzwWs6upq9enTR1OnTlX37t01ZMgQDRw4UBs3btTnn3%2BuiooKTZs2Tb169VJmZqYSEhK0fPlySdKyZcvUt29fjRkzRjExMcrPz9f%2B/ftVVlZ2WTXZ7XYVFhbKbrebcRd9Aj1xRz880RN39MMTPXFHPzxZ2ROfC1g2m00zZ87UlVdeKUnauHGjvvzyS6WkpGjr1q2Kj49XaGioa/6kpCRt2bJFkrRt2zYlJye7poWFhalPnz7avHlzy94JAADQqvlcwDpbWlqa7r77biUkJOjGG2%2BU3W5XVFSU2zyRkZGqrKyUdHpT4rnTO3Xq5JoOAADQGD4dsObOnauXXnpJX331lZ555hk5HA6FhIS4zRMSEiKn0ylJOnHiRIPTAQAAGiPY6gKaU3x8vCQpNzdXjzzyiO644w4dPXrUbR6n06mwsDBJUmhoqEeYcjqdioiIaPQyq6qqPPb1lpeXX0r5AADABOdbD9tsNo%2B9VmbyuYB16NAhbd68Wenp6a6x3r1769SpU7LZbB5Nrq6uls1mkyR17tzZIxxVV1crLi6u0csvKSlRYWGhx3hWVpYr8OF0%2BP373/9udRleg354oifu6IcneuKOfniKj49XcnKyHn30UY9p2dnZysnJabZl%2B1zAqqioUE5Ojv7yl7%2B4kun27dsVGRmppKQkvfrqq3I6na5dgRs3btSAAQMkSf369dOmTZtct%2BVwOLRjx44mPQCjR49WWlqax7jNZtPRow7V1dVfzt3zGUFBgYqICKcnP6EfnuiJO/rhiZ64ox%2BegoICNXPmzPN%2Bi/DMxpXm4nMBq2/fvrrmmms0adIkTZw4URUVFXr%2B%2Bef14IMPKjk5WV27dlVubq7GjRunjz76SNu3b1dBQYEkKSMjQ4sWLdKCBQs0bNgwFRYWqnv37kpJSWn08qOioi64yfHw4eOqreVJf7a6unp6chb64YmeuKMfnuiJO/rhrqH1cnPyuYPcAwMDNX/%2BfF155ZW68847NXnyZN177726%2B%2B67FRgYqKKiItntdmVkZGjVqlWaN2%2BeunTpIkmKjo7W3LlzVVpaqlGjRqmmpua8u/sAAAAaEmAYhmF1Ef6CLVg/Cw4OVIcObejJT%2BiHJ3rijn54oifu6IenMz2xgs9twQIAALAaAQsAAMBkBCwAAACTEbAAAABMRsACAAAwGQELAADAZAQsAAAAkxGwAAAATEbAAgAAMBkBCwAAwGQELAAAAJMRsAAAAExGwAIAADAZAQsAAMBkBCwAAACTEbAAAABMRsACAAAwGQELAADAZAQsAAAAkxGwAAAATEbAAgAAMBkBCwAAwGQELAAAAJMRsAAAAExGwAIAADAZAQsAAMBkBCwAAACTEbAAAABMRsACAAAwGQELAADAZAQsAAAAkxGwAAAATEbAAgAAMBkBCwAAwGQELAAAAJMRsAAAAEwWbHUBAHBxhtUFNFGA1QUAsBgBC0CrMOuDXdp7yGF1GQ3qERmuP91wtdVlAPACBCwArcLeQw7tOnjc6jIAoFE4BgsAAMBkBCwAAACT%2BWTAqqys1Pjx43Xddddp6NChKigokNPplCTl5eUpNjZWcXFxrr%2Bvv/6667rr1q3TiBEjlJCQoDFjxmjfvn1W3Q0AANBK%2BeQxWOPHj1f79u31xhtv6MiRI5o0aZKCgoL06KOPas%2BePXrkkUd02223ueZv27atJOnAgQPKysrShAkTlJqaqsLCQmVlZWnlypVW3RUAANAK%2BdwWrD179mjbtm3Kz89XTEyMkpKSNH78eK1evVqSVF5erj59%2BigyMtL1LzQ0VJL01ltvqW/fvhozZoxiYmKUn5%2Bv/fv3q6yszMq7BAAAWhmfC1g2m00LFy5Ux44dXWOGYaimpkbHjh1TZWWlevTocd7rbt26VcnJya7LYWFh6tOnjzZv3tzcZQMAAB/icwGrXbt2GjRokOuyYRhaunSpfvWrX2nPnj0KCAhQUVGRhg4dqpEjR%2Bqdd95xzVtVVaWoqCi32%2BvUqZMqKytbrH4AAND6%2BeQxWGd77rnn9NVXX2n58uX661//qsDAQMXExOiee%2B7Rhg0bNHnyZLVt21bp6ek6ceKEQkJC3K4fEhLiOkAeAACgMXw6YM2YMUPFxcWaPXu2evfurd69eystLU0RERGSpKuvvlp79%2B7Vm2%2B%2BqfT0dIWGhnqEKafT6Zq/MaqqqmS32z3GbTabwsLaXd4d8iFBQYFuf/0d/fDk3pN6a4tpguDgADXHzgGeI57oiTv64SkoKLDB9fK5e63M5LMBa/r06SopKdGMGTOUnp7uGj83LPXq1UtffPGFJKlz584eD0J1dbXi4uIavdySkhIVFhZ6jGdnZysnJ6cpd8EvRESEW12CV6EfniIiwlVbW2t1GY3Wrl24goOb762V54gneuKOfrhbsmShJetlnwxYhYWFKikp0axZs3TDDTe4xl988UVt3rxZixcvdo3t3LlTPXv2lCT169dPmzZtck1zOBzasWNHkx6A0aNHKy0tzWPcZrPp6FGH6upazyfx5hQUFKiIiHB68hP64cm9J60nYNXUONRcW7B4jrijJ%2B7oh6egoMAG18vNyecCVnl5uYqKivTHP/5RiYmJqq6udk0bNmyYXnnlFS1evFjp6en65JNPtHLlShUXF0uSMjIytGjRIi1YsEDDhg1TYWGhunfvrpSUlEYvPyoq6oKbHA8fPq7aWp70Z6urq6cnZ6Efnk73xLC6jEY7XWvzPYY8RzzRE3f0w11D6%2BXm5HMB68MPP1R9fb2KiopUVFQk6fQ3CQMCArRz5069%2BOKLmjNnjubMmaPo6Gi98MILuvbaayVJ0dHRmjt3rp5%2B%2BmnNnz9f/fv3P%2B9mRQAAgIb4XMDKzMxUZmbmBaenpaWdd1PhGampqXr//febozQAAOAn%2BKoBAACAyQhYAAAAJvO5XYQAYJWgwABJzXVAfv1Pp6uoN3EZASbdDoBzEbAAwCTRHcI064OvtfeQw%2BpSGtQjMlx/uuFqq8sAfBoBCwBMtPeQQ7sOHre6DAAW4xgsAAAAkxGwAAAATEbAAgAAMBkBCwAAwGQELAAAAJMRsAAAAExGwAIAADAZAQsAAMBkBCwAAACTEbAAAABMRsACAAAwGQELAADAZAQsAAAAkxGwAAAATEbAAgAAMBkBCwAAwGQELAAAAJMRsAAAAExGwAIAADAZAQsAAMBkBCwAAACTEbAAAABMRsACAAAwGQELAADAZAQsAAAAkxGwAAAATEbAAgAAMBkBCwAAwGQELAAAAJMRsAAAAExGwAIAADAZAQsAAMBkBCwAAACTEbAAAABMRsACAAAwGQELAADAZAQsAAAAk/lkwKqsrNT48eN13XXXaejQoSooKJDT6ZQkVVRUaOzYsUpMTNTw4cP12WefuV133bp1GjFihBISEjRmzBjt27fPirsAAABaMZ8MWOPHj9fJkyf1xhtvaObMmfr44481Z84cSdK4ceMUFRWl0tJS3XLLLcrOztbBgwclSQcOHFBWVpYyMjJUWlqqDh06KCsry8q7AgAAWiGfC1h79uzRtm3blJ%2Bfr5iYGCUlJWn8%2BPFavXq1Pv/8c1VUVGjatGnq1auXMjMzlZCQoOXLl0uSli1bpr59%2B2rMmDGKiYlRfn6%2B9u/fr7KyMovvFQAAaE18LmDZbDYtXLhQHTt2dBuvqanR1q1bFR8fr9DQUNd4UlKStmzZIknatm2bkpOTXdPCwsLUp08fbd68uWWKBwAAPsHnAla7du00aNAg12XDMLR06VINHDhQdrtdUVFRbvNHRkaqsrJSklRVVeUxvVOnTq7pAAAAjeFzAetczz33nHbu3Kk//elPcjgcCgkJcZseEhLiOgD%2BxIkTDU4HAABojGCrC2hOM2bMUHFxsWbPnq3evXsrNDRUP/zwg9s8TqdTYWFhkqTQ0FCPMOV0OhUREdHoZVZVVclut3uM22w2hYW1u4R74ZuCggLd/vo7%2BuHJvSf11hbjg4KDA9TaP2PzunFHPzwFBQU2uF4%2Bd6%2BVmXw2YE2fPl0lJSWaMWOG0tPTJUmdO3fW7t273earrq6WzWZzTT/3QaiurlZcXFyjl1tSUqLCwkKP8ezsbOXk5DT1bvi8iIhwq0vwKvTDU0REuGpra60uw%2Be0axeu4GDfWAXwunFHP9wtWbLQkvWyb7y6zlFYWKiSkhLNmjVLN9xwg2u8X79%2BWrBggZxOp2tX4MaNGzVgwADX9E2bNrnmdzgc2rFjR5MegNGjRystLc1j3Gaz6ehRh%2Brq%2BCQunf5UERERTk9%2BQj88ufeEgGW2mhqHfGELFq%2Bbn9EPT0FBgQ2ul5uTzwWs8vJyFRUV6Y9//KMSExNVXV3tmpaSkqKuXbsqNzdX48aN00cffaTt27eroKBAkpSRkaFFixZpwYIFGjZsmAoLC9W9e3elpKQ0evlRUVEX3OR4%2BPBx1dbypD9bXV09PTkL/fB0uieG1WX4nNM99Y3nGq8bd/TDXUPr5ebUuj%2B%2BnMeHH36o%2Bvp6FRUVKTU1VampqRo8eLBSU1MVGBioefPmyW63KyMjQ6tWrdK8efPUpUsXSVJ0dLTmzp2r0tJSjRo1SjU1NefdrAgAANAQn9uClZmZqczMzAtO7969u4qLiy84PTU1Ve%2B//35zlAYAAPyEz23BAgAAsBoBCwAAwGQELAAAAJMRsAAAAExGwAIAADAZAQsAAMBkBCwAAACTEbAAAABMRsACAAAwGQELAADAZAQsAAAAkxGwAAAATEbAAgAAMBkBCwAAwGQELAAAAJN5TcAaNWqU/uu//ks1NTVWlwIAAHBZvCZgXX/99XrppZc0ePBgPfTQQ/r0009lGIbVZQEAADSZ1wSshx9%2BWB9//LHmz5%2BvoKAg5eTk6J//%2BZ81a9YsffPNN1aXBwAA0GjBVhdwtoCAAA0aNEiDBg2Sw%2BFQcXGx5s%2Bfr1deeUX9%2B/fXfffdpxtvvNHqMgEAABrkVQFLkqqqqrRy5UqtXLlSu3btUv/%2B/XXbbbfp4MGDeuKJJ1RWVqbHH3/c6jIBAAAuyGsC1ooVK7RixQp98cUX6tixo2699Va9%2BOKL6tGjh2uerl276umnnyZgAQAAr%2BY1Aevxxx/XsGHDNG/ePA0ZMkSBgZ6Hh/Xq1Ut33323BdUBAAA0ntcErLVr16pDhw46cuSIK1xt27ZN8fHxCgoKkiT1799f/fv3t7JMAACAi/KabxEeO3ZMv/71r7VgwQLXWGZmpkaOHKkDBw5YWBkAAEDTeE3AeuaZZ/SP//iPGjt2rGvs3XffVdeuXZWfn29hZQAAAE3jNQHryy%2B/VG5urmw2m2usY8eO%2Bs///E99/vnnFlYGAADQNF4TsIKDg3X06FGPcYfDwRndAQBAq%2BI1AWvIkCHKy8vTd9995xrbt2%2Bf8vPzlZqaamFlAAAATeM13yJ87LHHNHbsWN10002KiIiQJB09elTx8fGaOHGixdUBAAA0ntcErMjISL399ttat26dvv76awUHB6t3794aOHCgAgICrC4PAACg0bwmYElSUFCQUlNT2SUIAABaNa8JWHa7XbNnz9amTZt06tQpjwPbP/zwQ4sqAwAAaBqvCViTJ0/WX//6V/32t79Vu3btrC4HAADgknlNwPr888%2B1cOFCDRgwwOpSAAAALovXnKbhyiuvVGRkpNVlAAAAXDavCVgjR47UwoULVVdXZ3UpAAAAl8VrdhEeOXJEq1ev1v/%2B7/%2BqW7duCgkJcZv%2B2muvWVQZAABA03hNwJKk4cOHW10CAADAZfOagJWfn291CQAAAKbwmmOwJKmqqkqFhYV6%2BOGHdejQIb3//vvas2eP1WUBAAA0idcErG%2B//VYjRozQ22%2B/rf/%2B7//Wjz/%2BqHfffVcZGRnaunWr1eUBAAA0mtcErIKCAqWnp2vNmjW64oorJEkzZ85UWlqann/%2B%2BUu6TafTqREjRqisrMw1lpeXp9jYWMXFxbn%2Bvv76667p69at04gRI5SQkKAxY8Zo3759l3fHAACA3/GagLVp0yaNHTvW7Yedg4ODNW7cOO3YsaPJt%2Bd0OvXQQw9p9%2B7dbuN79uzRI488ok8//VSfffaZPv30U91xxx2SpAMHDigrK0sZGRkqLS1Vhw4dlJWVdXl3DAAA%2BB2vCVj19fWqr6/3GD9%2B/LiCgoKadFvl5eX63e9%2Bp4qKivNO69OnjyIjI13/QkNDJUlvvfWW%2BvbtqzFjxigmJkb5%2Bfnav3%2B/2xYwAACAi/GagDV48GC9/PLLbiHryJEjmjFjhq6//vom3daGDRs0cOBAlZSUuP1o9LFjx1RZWakePXqc93pbt25VcnKy63JYWJj69OmjzZs3N%2B3OAAAAv%2BY1p2nIzc3Vvffeq8GDB%2BvkyZN68MEHtX//frVv314FBQVNuq277rrrvON79uxRQECAioqKtHbtWrVv315jx47VrbfeKun0txijoqLcrtOpUydVVlZe2p0CAAB%2ByWsCVufOnfXOO%2B9o9erV2rlzp%2Brr63XXXXdp5MiRatu2rSnL2LNnjwIDAxUTE6N77rlHGzZs0OTJk9W2bVulp6frxIkTHmeQDwkJkdPpNGX5AADAP3hNwJKk8PBwjRo1qtlu/9Zbb1VaWpoiIiIkSVdffbX27t2rN998U%2Bnp6QoNDfUIU06n0zV/Y1RVVclut3uM22w2hYW1u7w74EOCggLd/vo7%2BuHJvSeex2fi8gQHB8iLjhK5JLxu3NEPT0FBgQ2ul8/da2UmrwlY9957b4PTzfotwnPDUq9evfTFF19IOr0V7dwHobq6WnFxcY2%2B/ZKSEhUWFnqMZ2dnKycn5xIq9m0REeFWl%2BBV6IeniIhw1dbWWl2Gz2nXLlzBwV6zCrgsvG7c0Q93S5YstGS97DWvrujoaLfLtbW1%2Bvbbb7Vr1y7dd999pizjxRdf1ObNm7V48WLX2M6dO9WzZ09JUr9%2B/bRp0ybXNIfDoR07djTpARg9erTS0tI8xm02m44edaiujk/i0ulPFRER4fTkJ/TDk3tPCFhmq6lxyBe2YPG6%2BRn98BQUFNjgerk5eU3AutBvEc6bN08HDx40ZRnDhg3TK6%2B8osWLFys9PV2ffPKJVq5cqeLiYklSRkaGFi1apAULFmjYsGEqLCxU9%2B7dlZKS0uhlREVFXXCT4%2BHDx1Vby5P%2BbHV19fTkLPTD0%2BmeGBefEU1yuqe%2B8VzjdeOOfrhraL3cnLz%2B48vIkSP13nvvXfL1zz5xad%2B%2BffXiiy/qnXfe0YgRI/T666/rhRde0LXXXivp9Fa0uXPnqrS0VKNGjVJNTc15NysCAAA0xGu2YF3I5s2bm3yi0bPt3LnT7XJaWtp5NxWekZqaqvfff/%2BSlwcAAOA1Aet8B7kfO3ZMf//73/X73//egooAAAAujdcErKuuusptd54kXXHFFbr77rt1yy23WFQVAABA03lNwGrq2doBAAC8ldcErKb8oPLZvxcIAADgbbwmYN1zzz2uXYRn/0DzuWMBAQEeB64DAAB4E68JWC%2B99JLy8vL06KOPKiUlRSEhIdq%2BfbumTZum2267TTfffLPVJQIAADSK15wHKz8/X1OmTNFNN92kDh06qE2bNrr%2B%2Bus1bdo0vfnmm4qOjnb9AwAA8GZeE7CqqqrOG57atm2rw4cPW1ARAADApfGagJWQkKCZM2fq2LFjrrEjR45oxowZGjhwoIWVAQAANI3XHIP1xBNP6N5779WQIUPUo0cPGYahvXv3ymaz6bXXXrO6PAAAgEbzmoAVExOjd999V6tXr1Z5ebkk6V//9V/129/%2BVuHh4RZXBwAA0HheE7Ak6Re/%2BIVGjRqliooKdevWTdLps7kDAAC0Jl5zDJZhGHr%2B%2BeeVnJys4cOH6%2BDBg3rsscf0%2BOOP69SpU1aXBwAA0GheE7CKi4u1YsUKTZ06VSEhIZKk9PR0rVmzRoWFhRZXBwAA0HheE7BKSko0ZcoU3X777a6zt998883Ky8vTqlWrLK4OAACg8bwmYFVUVCguLs5jPDY2Vna73YKKAAAALo3XBKzo6Ght377dY3zt2rWuA94BAABaA6/5FuEDDzygp556Sna7XYZhaP369SopKVFxcbFyc3OtLg8AAKDRvCZgZWRkqLa2VkVFRTpx4oSmTJmijh076j/%2B4z901113WV0eAABAo3lNwFq9erV%2B/etfa/To0fq///s/GYahyMhIq8sCAABoMq85BmvatGmug9k7duxIuAIAAK2W1wSsHj16aNeuXVaXAQAAcNm8ZhdhbGysHnnkES1cuFA9evRQaGio2/T8/HyLKgMAAGgarwlY33zzjZKSkiSJ814BAIBWzdKA9dxzzyk7O1tXXnmliouLrSwFAADANJYeg7V48WI5HA63sczMTFVVVVlUEQAAwOWzNGAZhuExVlZWppMnT1pQDQAAgDm85luEAAAAvoKABQAAYDLLA1ZAQIDVJQAAAJjK8tM05OXluZ3z6tSpU5oxY4batGnjNh/nwQIAAK2FpQErOTnZ45xXiYmJOnz4sA4fPmxRVQAAAJfH0oDFua8AAIAvsvwYLAAAAF9DwAIAADAZAQsAAMBkBCwAAACTEbAAAABMRsACAAAwGQELAADAZJafyR2AlQyrC2hAvWprayXVy7vrBABPPh2wnE6nMjIyNGXKFCUnJ0uSKioqNHnyZG3ZskXR0dGaOHGiBg0a5LrOunXrlJ%2Bfr3379ikhIUHTp09Xt27drLoLQLOb9cEu7T3ksLqMBl3fq73VJQBAk/hswHI6nXrooYe0e/dut/GsrCzFxsaqtLRUa9asUXZ2tt577z116dJFBw4cUFZWliZMmKDU1FQVFhYqKytLK1eutOheAM1v7yGHdh08bnUZDeoeGW51CQDQJD55DFZ5ebl%2B97vfqaKiwm18/fr12rdvn6ZNm6ZevXopMzNTCQkJWr58uSRp2bJl6tu3r8aMGaOYmBjl5%2Bdr//79Kisrs%2BJuAACAVsonA9aGDRs0cOBAlZSUyDB%2BPnZj27Ztio%2BPV2hoqGssKSlJW7ZscU0/sytRksLCwtSnTx9t3ry55YoHAACtnk/uIrzrrrvOO2632xUVFeU2FhkZqcrKSklSVVWVx/ROnTq5pgMAADSGT27BuhCHw6GQkBC3sZCQEDmdTknSiRMnGpwOAADQGD65BetCQkND9cMPP7iNOZ1OhYWFuaafG6acTqciIiIavYyqqirZ7XaPcZvNprCwdpdQtW8KCgp0%2B%2BvvrOtHfQsvD94iODhArf0zNu8j7uiHp6CgwAbXy%2BfutTKTXwWszp07e3yrsLq6WjabzTX93AehurpacXFxjV5GSUmJCgsLPcazs7OVk5NzCVX7togIvh12tpbux%2BnzTMEftWsXruBg31gF8D7ijn64W7JkoSXrZd94dTVSv379tGDBAjmdTteuwI0bN2rAgAGu6Zs2bXLN73A4tGPHjiY9AKNHj1ZaWprHuM1m09GjDtXVscVAOv2pIiIinJ78xLp%2B0Ht/VVPjkC9sweJ95Gf0w1NQUGCD6%2BXm5FcBKyUlRV27dlVubq7GjRunjz76SNu3b1dBQYEkKSMjQ4sWLdKCBQs0bNgwFRYWqnv37kpJSWn0MqKioi64yfHw4eOqreVJf7a6unp6cpaW7wdnSPdXtbWGfCVg8z7ijn64a2i93Jxa98eXRggICHD9PzAwUPPnz5fdbldGRoZWrVqlefPmqUuXLpKk6OhozZ07V6WlpRo1apRqamrOu1kRAACgIT6/BWvnzp1ul7t166bi4uILzp%2Bamqr333%2B/ucsCAAA%2BzOe3YAEAALQ0AhYAAIDJCFgAAAAmI2ABAACYjIAFAABgMgIWAACAyQhYAAAAJiNgAQAAmMznTzQKAHAXFBig1vUzSQEXnwXwMgQsAPAz0R3CNOuDr7X3kMPqUhrUIzJcf7rhaqvLAC4JAQsA/NDeQw7tOnjc6jIAn8UxWAAAACYjYAEAAJiMgAUAAGAyAhYAAIDJCFgAAAAmI2ABAACYjIAFAABgMgIWAACAyQhYAAAAJiNgAQAAmIyABQAAYDICFgAAgMkIWAAAACYjYAEAAJiMgAUAAGAyAhYAAIDJCFgAAAAmI2ABAACYjIAFAABgMgIWAACAyQhYAAAAJiNgAQAAmIyABQAAYDICFgAAgMkIWAAAACYjYAEAAJiMgAUAAGAyAhYAAIDJCFgAAAAmI2ABAACYjIAFAABgMr8MWGvWrFFsbKzi4uJcfydMmCBJqqio0NixY5WYmKjhw4frs88%2Bs7haAADQ2gRbXYAVdu/erbTvRemyAAAQ9ElEQVS0NOXl5ckwDElSaGioJGncuHGKi4tTaWmp1qxZo%2BzsbL333nvq0qWLlSUDAIBWxC8DVnl5uf7pn/5JHTt2dBtfv369Kioq9NZbbyk0NFSZmZlav369li9fruzsbIuqBQAArY1f7iIsLy9Xz549Pca3bdum%2BPh419YsSUpKStKWLVtasjwAANDK%2BWXA%2Buabb/TJJ5/opptu0g033KAXXnhBp06dkt1uV1RUlNu8kZGRqqystKhSAADQGvndLsLvv/9eJ06cUGhoqObMmaOKigo9/fTTOnHihBwOh0JCQtzmDwkJkdPptKhaAADQGvldwLrqqqv0xRdfKCIiQpIUGxur%2Bvp6Pfroo7r99tt19OhRt/mdTqfCwsIafftVVVWy2%2B0e4zabTWFh7S6veB8SFBTo9tffWdeP%2BhZeHtA0wcEButDOFt5H3NEPT0FBgQ2ul8/da2UmvwtYklzh6oyYmBidPHlSnTp1Unl5udu06upq2Wy2Rt92SUmJCgsLPcazs7OVk5NzaQX7sIiIcKtL8Cot3Y/a2toWXR7QVO3ahSs4uOFVFe8j7uiHuyVLFlqyXva7gPXpp5/q4Ycf1tq1a10Hs%2B/YsUMdOnTQgAEDtGjRIjmdTteuwo0bN2rAgAGNvv3Ro0crLS3NY9xms%2BnoUYfq6thiIJ3%2BVBEREU5PfmJdP%2Bg9vFtNjUMNbcHifeRn9MNTUFBgg%2Bvl5uR3ASsxMVHh4eF6/PHHlZWVpe%2B%2B%2B04zZszQH/7wByUnJ6tr167Kzc3VuHHj9NFHH2n79u0qKCho9O1HRUVdcJPj4cPHVVvLk/5sdXX19OQsLd8PowWXBTRdba2hi30Q4H3EHf1w19B6uTn53Y7aNm3a6NVXX9Xhw4d1xx13aPLkybrzzjt1//33KzAwUEVFRbLb7crIyNCqVas0b948TjIKAACaxO%2B2YEmnj7l69dVXzzutW7duKi4ubuGKAACAL/G7LVgAAADNjYAFAABgMgIWAACAyQhYAAAAJiNgAQAAmIyABQAAYDICFgAAgMkIWAAAACYjYAEAAJiMgAUAAGAyv/ypHCts%2B8auEydPyaj33h/XDb0iUNHt20gKsLoUAABaNQJWCylY/ZV2HTxudRkN%2Bv110bpnYBurywAAoNVjFyEAAIDJCFgAAAAmI2ABAACYjIAFAABgMgIWAACAyQhYAAAAJiNgAQAAmIyABQAAYDICFgAAgMkIWAAAACYjYAEAAJiMgAUAAGAyAhYAAIDJCFgAAAAmI2ABAACYjIAFAABgMgIWAACAyQhYAAAAJiNgAQAAmIyABQAAYLJgqwsAAOB8ggIDJBkNzFGv2tpaSfUXma8lBFi8fHgbAhbQLJr6Zm/VisLqlRJwYdEdwjTrg6%2B195DD6lIuqEdkuP50w9VWlwEvRMACmsmsD3Z59YpBkq7v1d7qEoAG7T3k0K6Dx60uA2gyAhbQTFrDiqF7ZLjVJQCAT%2BIgdwAAAJMRsAAAAExGwAIAADAZAQsAAMBkBCwAAACTEbDOw%2Bl0atKkSUpOTlZqaqoWL15sdUkAAKAV4TQN5/Hss89qx44dKi4uVkVFhR577DFFR0frxhtvtLo0AIAXufjZ5ltSY05YzBnnWwoB6xwOh0PLly/Xq6%2B%2BqtjYWMXGxurf/u3ftHTpUgIWAMBNazjbvMQZ561AwDrHV199pbq6OiUkJLjGkpKS9PLLL1tYFQDAW7WGkwqj5XEM1jnsdrvat2%2Bv4OCfs2dkZKROnjypw4cPW1gZfma0kn8AAH/FFqxzOBwOhYSEuI2duex0Oq0oqcUEBkgtFwwu58eNDa/fJM9v/AGAfyNgnSM0NNQjSJ25HB5%2B8d9tq6qqkt1u9xjv0Qp%2B862nLVylmypUefSk1aU0KK5rW6tLaJTW8Jhf9YvQVrEZmzrNRZ3maQ01Sqffj4KDA%2BRvO66CggIvuF622WyKiopqtmUTsM7RuXNnHTlyRPX19QoMPP1ErK6uVlhYmCIiIi56/ZKSEhUWFnqMJycna/bMmc36YLYmVVVVKikp0ejRoy%2BpJ79rhpqsdLn98EX0xB398ERP3NEPT1VVVXrooYdUVlbmMS07O1s5OTnNtmwC1jni4uIUHBysLVu2qH///pKkL7/8Utdcc02jrj969GilpaW5jZWXl%2BvRRx%2BV3W7nSf8Tu92uwsJCpaWl0RPRj/OhJ%2B7ohyd64o5%2BeLLb7SorK9OMGTMUExPjNs1mszXrsglY5wgLC9PIkSM1depUPfPMM6qsrNTixYtVUFDQqOtHRUXxxAYAwIvExMQoPj6%2BRZdJwDqPiRMn6qmnntJ9992ndu3aacKECUpPT7e6LAAA0EoQsM4jLCxM%2Bfn5ys/Pt7oUAADQCvnX1wkAAABaQNCTTz75pNVF%2BIM2bdooJSVFbdq0sboUr0FP3NEPT/TEHf3wRE/c0Q9PVvUkwDAMTjkNAABgInYRAgAAmIyABQAAYDICFgAAgMkIWAAAACYjYAEAAJiMgAUAAGAyAhYAAIDJCFjNzOl0atKkSUpOTlZqaqoWL15sdUktqrKyUuPHj9d1112noUOHqqCgQE6nU5JUUVGhsWPHKjExUcOHD9dnn31mcbUtLzMzUxMnTnRd9seeOJ1OPfXUU0pJSdHgwYM1a9Ys1zR/7IckHTx4UP/%2B7/%2BupKQk/cu//IuWLFnimuZvPXE6nRoxYoTKyspcYxfrwbp16zRixAglJCRozJgx2rdvX0uX3WzO148tW7bozjvvVGJion7zm9/orbfecruOL/dDOn9Pzjh27JiGDBmid955x228JXpCwGpmzz77rHbs2KHi4mJNnTpVhYWF%2Bp//%2BR%2Bry2ox48eP18mTJ/XGG29o5syZ%2BvjjjzVnzhxJ0rhx4xQVFaXS0lLdcsstys7O1sGDBy2uuOX8%2Bc9/1tq1a93GsrKy/K4neXl5Wr9%2BvRYtWqTnn39ey5Yt07JlyyT573NkwoQJatOmjd5%2B%2B21NmjRJs2fP1po1ayT5V0%2BcTqceeugh7d692228odfJgQMHlJWVpYyMDJWWlqpDhw7KysqyonzTna8f1dXVyszM1PXXX68VK1YoJydHeXl5%2Bstf/iJJ%2Bv777322H9KFnyNnPPfcc7Lb7W5jLfYcMdBsfvzxR%2BPaa681ysrKXGPz58837rnnHgurajnl5eVGbGyscejQIdfY6tWrjSFDhhjr1683EhMTjRMnTrimjRkzxpg7d64Vpba4I0eOGEOHDjVGjRpl5ObmGoZhGOvWrfO7nhw5csSIj493e4288sorxqRJk/z2OfLDDz8Yv/zlL42vv/7aNZaTk2NMnz7dr3qye/duY%2BTIkcbIkSON2NhYY8OGDYZhXPx1Mnv2bLf3WIfDYfTv3991/dbqQv148803jZtvvtlt3smTJxuPPPKIYRi%2B2w/DuHBPzigrKzNuvPFGY/Dgwcbbb7/tGp8zZ06L9IQtWM3oq6%2B%2BUl1dnRISElxjSUlJ2rZtm4VVtRybzaaFCxeqY8eObuM1NTXaunWr4uPjFRoa6hpPSkrSli1bWrpMSzz77LMaOXKkYmJiXGPbtm3zu55s3LhR7dq104ABA1xjf/jDH/T000/77XMkLCxM4eHhKi0tVW1trfbs2aNNmzYpLi7Or3qyYcMGDRw4UCUlJTLO%2BkW3i71Otm3bpuTkZNe0sLAw9enTR5s3b2654pvBhfoxZMgQ5efne8xfU1MjyXf7IV24J9LpLVtTpkzR1KlTdcUVV7hN27p1a4v0JNjUW4Mbu92u9u3bKzj45zZHRkbq5MmTOnz4sDp06GBhdc2vXbt2GjRokOuyYRhaunSpBg4cKLvdrqioKLf5IyMjVVlZ2dJltrj169dr48aNWrVqlaZOneoa98ee7Nu3T9HR0XrnnXf08ssv69SpU7r99tv14IMP%2BmU/JCkkJERTpkzRtGnT9Nprr6murk633367MjIylJeX5zc9ueuuu847frHnRVVVlcf0Tp06tfoeXagfV111la666irX5UOHDundd9/V%2BPHjJfluP6QL90SSXnrpJcXHx%2BtXv/qVx7SW6gkBqxk5HA6FhIS4jZ25fOZAb3/y3HPPaefOnVq%2BfLkWL1583t74el%2BcTqeefPJJTZ061eP%2BX%2Bj54ss9%2BfHHH7V3714tW7ZMBQUFstvtmjJlisLDw/2yH2eUl5crLS1NDzzwgHbt2qXp06dr4MCBft2TMy7WgxMnTvhtj06ePKmcnBxFRUVp9OjRkvyzH7t379ayZcu0cuXK805vqZ4QsJpRaGioxwN25nJ4eLgVJVlmxowZKi4u1uzZs9W7d2%2BFhobqhx9%2BcJvH6XQqLCzMogpbxty5c3XNNdec91OVP/YkKChIx48f18yZM9WlSxdJ0v79%2B/XGG29o8ODBOnLkiNv8vt4P6fQWzuXLl2vt2rUKCQlRnz59dPDgQRUVFWngwIF%2B2ZOzXex1cqH33YiIiBar0Qo//vijHnzwQX333Xd68803XbtQ/bEfkydP1vjx4z0OTzmjpXrCMVjNqHPnzjpy5Ijq6%2BtdY9XV1QoLC/PpJ/e5pk%2BfriVLlmjGjBlKT0%2BXdLo3536zo7q6WjabzYoSW8y7776rDz/8UImJiUpMTNSqVau0atUq9e/fX126dPG7nkRFRSk0NNQVriSpZ8%2Beqqys9NvnyN/%2B9jf16NHD7RN2XFycDhw44Lc9OdvFeuCPPTp27Jjuv/9%2BlZeXa8mSJerWrZtrmr/14/vvv9fmzZtVUFDgep89cOCApkyZoszMTEkt1xMCVjOKi4tTcHCw2wGoX375pa655hoLq2pZhYWFKikp0axZs/Sb3/zGNd6vXz/t2LHD7VPExo0b3b4Q4IuWLl2qVatWaeXKlVq5cqXS0tKUlpamFStW6Nprr/W7nvTr108nT57Ut99%2B6xorLy9XdHS0%2BvXrp7/97W9%2B1Q/pdOj89ttvVVtb6xrbs2eP/uEf/sFve3K2i7139OvXT5s2bXJNczgc2rFjh8/2yDAMZWdna//%2B/Vq6dKnbF2ck/%2BtHly5d9MEHH2jFihWu99moqChNmDBBeXl5klquJwSsZhQWFqaRI0dq6tSp2r59u9asWaPFixfrvvvus7q0FlFeXq6ioiJlZmYqMTFR1dXVrn8pKSnq2rWrcnNztXv3br3yyivavn277rjjDqvLblZdu3ZVt27dXP/atGmjNm3aqFu3bn7Zk549e2ro0KHKzc3VV199pU8%2B%2BUQLFizQ73//eyUnJ/tdPyQpLS1NwcHBeuKJJ7R371599NFHevnll3Xvvff6bU/OdrHXSUZGhjZt2qQFCxZo9%2B7dmjhxorp3766UlBSLK28eb731ljZs2KC8vDy1bdvW9R57Zjeqv/UjMDDQ7T22W7duCgoKUmRkpOvA9hbriaknfYAHh8Nh5ObmGomJicaQIUOM1157zeqSWszLL79sxMbGuv375S9/acTGxhqGYRjffvutcffddxvXXnutMXz4cGP9%2BvUWV9zycnNzXefBMgzD%2BO677/yuJzU1NcZjjz1m9O/f3xg0aJAxf/581zR/7IdhnD6/z/33328MGDDAuPHGG93eN/yxJ%2Bee4%2BhiPVi7dq1x0003GQkJCcb9999vVFRUtHTJzSo2NtZ17rgHHnjA4302NjbW7TxPvt4Pw/B8jpwtLS3N7TxYhtEyPQkwjHNOHgEAAIDLwi5CAAAAkxGwAAAATEbAAgAAMBkBCwAAwGQELAAAAJMRsAAAAExGwAIAADAZAQsAAMBkBCwAAACTEbAAAABMRsACAAAwGQELAADAZAQsAAAAk/0/eeVhJ35amooAAAAASUVORK5CYII%3D\">\n",
       "             </div>\n",
       "      </div>\n",
       "    </div><div class=\"row variablerow\">\n",
       "        <div class=\"col-md-3 namecol\">\n",
       "            <p class=\"h4\">insulin<br/><small>Numeric</small></p>\n",
       "        </div>\n",
       "\n",
       "        <div class=\"col-md-6\">\n",
       "            <div class=\"row\">\n",
       "                <div class=\"col-sm-6\">\n",
       "                    <table class=\"stats \">\n",
       "                        <tr><th>Distinct count</th>\n",
       "                        <td>186</td></tr>\n",
       "                        <tr><th>Unique (%)</th>\n",
       "                        <td>24.2%</td></tr>\n",
       "                        <tr class=\"ignore\"><th>Missing (%)</th>\n",
       "                        <td>0.0%</td></tr>\n",
       "                        <tr class=\"ignore\"><th>Missing (n)</th>\n",
       "                        <td>0</td></tr>\n",
       "                    </table>\n",
       "\n",
       "                </div>\n",
       "                <div class=\"col-sm-6\">\n",
       "                    <table class=\"stats \">\n",
       "\n",
       "                        <tr><th>Mean</th>\n",
       "                        <td>79.799</td></tr>\n",
       "                        <tr><th>Minimum</th>\n",
       "                        <td>0</td></tr>\n",
       "                        <tr><th>Maximum</th>\n",
       "                        <td>846</td></tr>\n",
       "                        <tr class=\"alert\"><th>Zeros (%)</th>\n",
       "                        <td>48.7%</td></tr>\n",
       "                    </table>\n",
       "                </div>\n",
       "            </div>\n",
       "        </div>\n",
       "        <div class=\"col-md-3 collapse in\" id=\"minihistogram6908899793693660709\">\n",
       "             <img src=\"data:image/png;base64,iVBORw0KGgoAAAANSUhEUgAAAMgAAABLCAYAAAA1fMjoAAAABHNCSVQICAgIfAhkiAAAAAlwSFlzAAAPYQAAD2EBqD%2BnaQAABMtJREFUeJzt3U1IY1cYxvEniTppI50MQxLHuphCQUYY6MKCBvEDFEWFoNRkJehORXDjTly0oCtdCHFhNgVdWVKoWRi0oF3EL3RXcKFtHQRBE9RaIyqJOd10pI7TlyQzuTdJn98ueC/nBM/f67lJiEEppaCxcDiM%2Bfl5eDwe2O12rYenHKPnejHoEQgA/LT5By6u40kfX2AyoOn1C9ifFWdwVkQPFeg18A/bR9g7vkr6eHOhEXWvHBmcEdFjRr0nQJTNGAiRgIEQCRgIkYCBEAkYCJGAgRAJGAiRgIEQCRgIkYCBEAkYCJGAgRAJGAiRgIEQCRgIkYCBEAkYCJGAgRAJGAiRgIEQCRgIkYCBEAkYCJGAgRAJGAiRgIEQCRgIkYCBEAkYCJFAt68/SFWB0QAjFOLx5L9TBABMJhMMBkOGZkX5LmcC%2BcL2Kbw/7%2BPN6XXS57x8/gm%2Bc3%2BFgoKceZqUZXJq5bw5vU7pS3eIPhT3IEQCBkIkYCBEAgZCJGAgRIKcuouVKpPRgLu7u9TP42sn9I%2B8DuTzZ2Z8%2B%2BOvfO2E0pb3q4CvndCH4B6ESJD3V5BUpbtvAbh3yUcM5B3p7FsA7l3yFX%2Bb75HOviWdK49SCgBSuuqkcw7Aq1u6dAvkm8pS/HkdS/r455ZCbP1%2BntIYpU%2BfpLzJSuccAPj65VN8/8tvOPnrNulzXr0oxtlVLOPnOD57gt76L2EymZI%2BR2vZeuU1qLd/kjQUDocxPz8Pj8cDu92u9fCUY/RcL7rcxYpEIvB6vYhEInoMTzlGz/XC27xEAgZCJGAgRAIGQiTQJRCbzYbBwUHYbDY9hqcco%2Bd60eU2L1Gu4L9YRAIGQiRgIEQCBkIkYCBEAgZCJGAgRALNAwkGg2hvb0dzczOmp6e1Hp6ylM/nQ0tLC1wuF2ZmZgAAe3t78Hg8aG1txdDQEG5ubgAA0WgUAwMDaGtrQ1dXFw4PDzM3MaWhSCSiGhoa1Pn5uYrH46qnp0eFQiEtp0BZaH19XbW3t6toNKoSiYTq7%2B9Xy8vLyuVyqe3tbaWUUlNTU2pyclIppdTY2Jjyer1KKaU2NjaUx%2BPJ2Nw0vYKsra2hqqoKVqsVJpMJLpcLi4uLWk6BstDu7i5qa2thsVhgMBhQU1ODubk5RKNRVFZWAgC6uroQDAYBAKurq%2Bjs7AQAVFVV4fT0FMfHxxmZm6aBnJycwOFw3D92OBwZe2KUOyoqKhAKhXBxcYHb21usrKygsLDwwVqx2%2B33a%2BXddWSz2TK2jjT9ILB6z9u%2BjEbeJ/i/q66uRkdHB7q7u2G1WuF0OrGxsfHouLdrJZFI/OfPPjZNV6fD4UA4HL5/HA6HUVJSouUUKAtdXV2hqakJgUAAs7OzMJvNKC0tffAR20gkcr9WSkpKHv3s31eUj0nTQJxOJzY3N3F2doZYLIZAIIC6ujotp0BZ6OjoCH19fYjH47i8vITf74fb7YbZbMbOzg4AwO/336%2BV%2Bvp6%2BP1%2BAMDW1hYsFkvGAtH87e5LS0vwer2IxWJobGzE8PCwlsNTlvL5fFhYWEAikUBvby/cbjf29/cxOjqKaDSKsrIyTExMoLi4GJeXlxgZGcHBwQGKioowPj6O8vLyjMyLnwchEnCHTCRgIESCvwEMrGUgqLV7KQAAAABJRU5ErkJggg%3D%3D\">\n",
       "\n",
       "        </div>\n",
       "       <div class=\"col-md-12 text-right\">\n",
       "            <a role=\"button\" data-toggle=\"collapse\" data-target=\"#descriptives6908899793693660709,#minihistogram6908899793693660709\" aria-expanded=\"false\" aria-controls=\"collapseExample\">\n",
       "                Toggle details\n",
       "            </a>\n",
       "        </div>\n",
       "        <div class=\"row collapse col-md-12\" id=\"descriptives6908899793693660709\">\n",
       "            <div class=\"col-sm-4\">\n",
       "                  <p class=\"h4\">Quantile statistics</p>\n",
       "                  <table class=\"stats indent\">\n",
       "                        <tr><th>Minimum</th>\n",
       "                        <td>0</td></tr>\n",
       "                        <tr><th>5-th percentile</th>\n",
       "                        <td>0</td></tr>\n",
       "                        <tr><th>Q1</th>\n",
       "                        <td>0</td></tr>\n",
       "                        <tr><th>Median</th>\n",
       "                        <td>30.5</td></tr>\n",
       "                        <tr><th>Q3</th>\n",
       "                        <td>127.25</td></tr>\n",
       "                        <tr><th>95-th percentile</th>\n",
       "                        <td>293</td></tr>\n",
       "                        <tr><th>Maximum</th>\n",
       "                        <td>846</td></tr>\n",
       "                        <tr><th>Range</th>\n",
       "                        <td>846</td></tr>\n",
       "                        <tr><th>Interquartile range</th>\n",
       "                        <td>127.25</td></tr>\n",
       "                  </table>\n",
       "                  <p class=\"h4\">Descriptive statistics</p>\n",
       "                  <table class=\"stats indent\">\n",
       "                        <tr><th>Standard deviation</th>\n",
       "                        <td>115.24</td></tr>\n",
       "                        <tr><th>Coef of variation</th>\n",
       "                        <td>1.4442</td></tr>\n",
       "                        <tr><th>Kurtosis</th>\n",
       "                        <td>7.2143</td></tr>\n",
       "                        <tr><th>Mean</th>\n",
       "                        <td>79.799</td></tr>\n",
       "                        <tr><th>MAD</th>\n",
       "                        <td>84.505</td></tr>\n",
       "                        <tr class=\"\"><th>Skewness</th>\n",
       "                        <td>2.2723</td></tr>\n",
       "                        <tr><th>Sum</th>\n",
       "                        <td>61286</td></tr>\n",
       "                        <tr><th>Variance</th>\n",
       "                        <td>13281</td></tr>\n",
       "                        <tr><th>Memory size</th>\n",
       "                        <td>6.0 KiB</td></tr>\n",
       "                 </table>\n",
       "            </div>\n",
       "             <div class=\"col-sm-8 histogram\">\n",
       "                 <img src=\"data:image/png;base64,iVBORw0KGgoAAAANSUhEUgAAAlgAAAGQCAYAAAByNR6YAAAABHNCSVQICAgIfAhkiAAAAAlwSFlzAAAPYQAAD2EBqD%2BnaQAAIABJREFUeJzt3X9UVXW%2B//EXP%2BKHJjOIoMbVsezeUDR%2BCeUYtmRMZwq1Gxk11ymsGWYS7LdJWVaWQdnYD1Ezf93S1b14ZVWjdWtlXrPUSlHDRpuSSsGUczB/ZcAR%2BHz/aHm%2BcwQNdeM5e/d8rOVi%2BOzNOe9X%2B%2Bh5zd6Hc4KMMUYAAACwTLC/BwAAAHAaChYAAIDFKFgAAAAWo2ABAABYjIIFAABgMQoWAACAxShYAAAAFqNgAQAAWIyCBQAAYDEKFgAAgMUoWAAAABajYAEAAFiMggUAAGAxChYAAIDFKFgAAAAWo2ABAABYjIIFAABgMQoWAACAxShYAAAAFqNgAQAAWIyCBQAAYDEKFgAAgMUoWAAAABajYAEAAFiMggUAAGAxChYAAIDFKFgAAAAWo2ABAABYjIIFAABgMQoWAACAxShYAAAAFqNgAQAAWMyRBWvVqlVKSEhQv379vF/vvPNOSVJNTY3Gjx%2BvlJQUZWdna926dT4/u379eo0aNUrJycnKy8tTdXW1PyIAAAAbc2TB2rlzp7KysrRu3TqtW7dOH374oaZPny5JmjBhguLi4lReXq7Ro0ersLBQ%2B/btkyTt3btXBQUFysnJUXl5uaKjo1VQUHDW87hcLs2aNUsul%2BusbytQODGT5MxcZLIPJ%2BYik304MZc/MzmyYFVVVelf//Vf1bVrV8XExCgmJkbnn3%2B%2BNmzYoJqaGk2bNk0XXXSR8vPzlZycrOXLl0uSli1bpoEDByovL099%2B/ZVcXGx9uzZo40bN57VPG63W6WlpXK73VbECwhOzCQ5MxeZ7MOJuchkH07M5c9Mji1YF154Yav1yspKJSYmKjw83LuWlpamrVu3erenp6d7t0VERKh///7asmVLxw8NAAAcw5EF6%2Buvv9YHH3ygkSNH6qqrrtJf//pXHTt2TG63W3FxcT77xsTEqLa2VtKPpxJP3N6tWzfvdgAAgPYI9fcAVvv222/V0NCg8PBwPf/886qpqdH06dPV0NCg%2Bvp6hYWF%2BewfFhYmj8cjSWpoaDjldgAAgPZwXMG64IIL9PHHHysqKkqSlJCQoJaWFk2aNEnXXXedDh8%2B7LO/x%2BNRRESEJCk8PLxVmfJ4PN7bag%2BXy9XqWm9VVdWZRAEAABZo63k4Nja21VUrKzmuYElqVYj69u2rxsZGdevWrdV/5Lq6OsXGxkqSunfv3qoc1dXVqV%2B/fu2%2B77KyMpWWlrZaLygoUGJiYrtvJ9AlJibqH//4h7/HsJwTc5HJPpyYi0z24cRciYmJSk9P16RJk1ptKyws1MSJEzvsvh1XsD788EPde%2B%2B9Wrt2rffF7Nu3b1d0dLQGDRqkRYsWyePxeC8FVlRUaNCgQZKkpKQkbd682Xtb9fX12r59%2B2kdgNzcXGVlZbVaj42N1eHD9WpubjmbeAEjJCRYUVGRjsokOTMXmezDibnIZB9OzBUSEqyZM2e2%2BVuEx0%2BudBTHFayUlBRFRkZqypQpKigo0O7duzVjxgz96U9/Unp6unr27KmioiJNmDBBq1ev1rZt21RSUiJJysnJ0aJFizR//nwNGzZMpaWl6t27tzIyMtp9/3FxcSc95XjgwFE1NTnjQXtcc3OL4zJJzsxFJvtwYi4y2YfTcp3qebkjOe63CDt37qyFCxfqwIEDuv766/Xwww/rxhtv1K233qrg4GDNnTtXbrdbOTk5WrFihWbPnq0ePXpIkuLj4zVr1iyVl5dr7NixOnLkSJuX%2BwAAAE4lyBhj/D3Ez4WTzmCFhgYrOrqzozJJzsxFJvtwYi4y2YcTcx3P5A%2BOO4MFAADgbxQsAAAAi1GwAAAALOa43yIMVCs3fq2DRz2yyyvewkKDdNmF3dQ5/Dx/jwIAgO1QsM6RVz%2Bq0Rf7jvp7jHb7ZadQpf2qq7/HAADAlrhECAAAYDEKFgAAgMUoWAAAABajYAEAAFiMggUAAGAxChYAAIDFKFgAAAAWo2ABAABYjIIFAABgMQoWAACAxShYAAAAFqNgAQAAWIyCBQAAYDEKFgAAgMUoWAAAABajYAEAAFiMggUAAGAxChYAAIDFKFgAAAAWo2ABAABYjIIFAABgMQoWAACAxShYAAAAFqNgAQAAWIyCBQAAYDEKFgAAgMUoWAAAABajYAEAAFiMggUAAGAxChYAAIDFKFgAAAAWo2ABAABYjIIFAABgMQoWAACAxShYAAAAFqNgAQAAWIyCBQAAYDEKFgAAgMUoWAAAABajYAEAAFiMggUAAGAxChYAAIDFKFgAAAAWo2ABAABYjIIFAABgMQoWAACAxShYAAAAFnN8wcrPz9cDDzzg/b6mpkbjx49XSkqKsrOztW7dOp/9169fr1GjRik5OVl5eXmqrq4%2B1yMDAACbc3TBevPNN7V27VqftYKCAsXFxam8vFyjR49WYWGh9u3bJ0nau3evCgoKlJOTo/LyckVHR6ugoMAfowMAABtzbME6dOiQZsyYoUsvvdS7tmHDBlVXV2vatGm66KKLlJ%2Bfr%2BTkZC1fvlyStGzZMg0cOFB5eXnq27eviouLtWfPHm3cuNFfMQAAgA05tmA99dRTGjNmjPr27etdq6ysVGJiosLDw71raWlp2rp1q3d7enq6d1tERIT69%2B%2BvLVu2nLvBAQCA7TmyYG3YsEEVFRWtLu%2B53W7FxcX5rMXExKi2tlaS5HK5Wm3v1q2bdzsAAEB7OK5geTwePfroo3rkkUcUFhbms62%2Bvr7VWlhYmDwejySpoaHhlNsBAADaI9TfA1ht1qxZGjBggH7961%2B32hYeHq5Dhw75rHk8HkVERHi3n1imPB6PoqKi2n3/LpdLbrf7DCYPPCHBQQoNbbuDh4QE%2B3x1CifmIpN9ODEXmezDiblCQoJP%2BrwcGxvb6qqVlRxXsN566y3t379fKSkpkqRjx45Jkt555x395S9/0c6dO332r6urU2xsrCSpe/furQ5CXV2d%2BvXr1%2B77LysrU2lpaav1tMIFp5UjEHTqHK7o6M6n3CcqKvIcTXNuOTEXmezDibnIZB9Oy/XyywvafF4uLCzUxIkTO%2Bx%2BHVewli5dqqamJu/3M2bMkCRNmjRJe/bs0UsvvSSPx%2BO9FFhRUaFBgwZJkpKSkrR582bvz9bX12v79u2ndQByc3OVlZXVan366u/OKI8//XC0UQcU1Oa2kJBgRUVF6vDhejU3t5zjyTqOE3ORyT6cmItM9uHEXCEhwSd9Xj5%2BcqWjOK5g9ezZ0%2Bf7zp1/PAPTq1cvxcfHq2fPnioqKtKECRO0evVqbdu2TSUlJZKknJwcLVq0SPPnz9ewYcNUWlqq3r17KyMjo933HxcX1/Ypx9UfnHkoP2luMWpqOvVfsubmlp/cx46cmItM9uHEXGSyD6flOunzcgdzzoXWdggODtacOXPkdruVk5OjFStWaPbs2erRo4ckKT4%2BXrNmzVJ5ebnGjh2rI0eOtHlaEQAA4FQcdwbrRMXFxT7f9%2BrVS0uWLDnp/pmZmXr77bc7eiwAAOBgP6szWAAAAOcCBQsAAMBiFCwAAACLUbAAAAAsRsECAACwGAULAADAYhQsAAAAi1GwAAAALEbBAgAAsBgFCwAAwGIULAAAAItRsAAAACxGwQIAALAYBQsAAMBiFCwAAACLUbAAAAAsRsECAACwGAULAADAYhQsAAAAi1GwAAAALEbBAgAAsBgFCwAAwGIULAAAAItRsAAAACxGwQIAALAYBQsAAMBiFCwAAACLUbAAAAAsRsECAACwGAULAADAYhQsAAAAi1GwAAAALEbBAgAAsBgFCwAAwGIULAAAAItRsAAAACxGwQIAALAYBQsAAMBiFCwAAACLUbAAAAAsRsECAACwGAULAADAYhQsAAAAi1GwAAAALEbBAgAAsBgFCwAAwGIULAAAAItRsAAAACxGwQIAALAYBQsAAMBiFCwAAACLUbAAAAAs5siCtXv3bt12221KSUlRVlaWFi5c6N1WU1Oj8ePHKyUlRdnZ2Vq3bp3Pz65fv16jRo1ScnKy8vLyVF1dfa7HBwAANue4gmWMUX5%2Bvrp166Y33nhDjz76qObOnas333xTkjRhwgTFxcWpvLxco0ePVmFhofbt2ydJ2rt3rwoKCpSTk6Py8nJFR0eroKDAn3EAAIANOa5g1dXVqX///nrkkUfUu3dvDR06VIMHD1ZFRYU%2B%2Bugj1dTUaNq0abrooouUn5%2Bv5ORkLV%2B%2BXJK0bNkyDRw4UHl5eerbt6%2BKi4u1Z88ebdy40c%2BpAACAnTiuYMXGxmrmzJnq1KmTJKmiokKbNm1SRkaGPv30UyUmJio8PNy7f1pamrZu3SpJqqysVHp6undbRESE%2Bvfvry1btpzbEAAAwNYcV7D%2BWVZWlsaNG6fk5GSNGDFCbrdbcXFxPvvExMSotrZWkuRyuVpt79atm3c7AABAezi6YM2aNUsvvviiPv/8cz355JOqr69XWFiYzz5hYWHyeDySpIaGhlNuBwAAaI9Qfw9w3NixY5WTk6NrrrlGXbp0seQ2ExMTJUlFRUW67777dP311%2Bvw4cM%2B%2B3g8HkVEREiSwsPDW5Upj8ejqKiodt%2Bny%2BWS2%2B0%2By8kDQ0hwkEJD2%2B7gISHBPl%2Bdwom5yGQfTsxFJvtwYq6QkOCTPi/Hxsa2umplpYApWJdffrlefPFFFRcX6ze/%2BY2uu%2B46DRkyREFBQad1O/v379eWLVs0fPhw79rFF1%2BsY8eOKTY2VlVVVT7719XVKTY2VpLUvXv3Vgehrq5O/fr1a/f9l5WVqbS0tNV6WuGC04kREDp1Dld0dOdT7hMVFXmOpjm3nJiLTPbhxFxksg%2Bn5Xr55QVtPi8XFhZq4sSJHXa/AVOw7r33Xt1zzz1av369Xn/9dU2cOFFRUVG69tprde211%2BrCCy9s1%2B3U1NRo4sSJev/9973NdNu2bYqJiVFaWpoWLlwoj8fjvRRYUVGhQYMGSZKSkpK0efNm723V19dr%2B/btp3UAcnNzlZWV1Wp9%2Burv2n0bgeKHo406oLYLbkhIsKKiInX4cL2am1vO8WQdx4m5yGQfTsxFJvtwYq6QkOCTPi8fP7nSUQKmYElSUFCQhgwZoiFDhqi%2Bvl5LlizRnDlz9NJLLyk1NVW33HKLRowYccrbGDhwoAYMGKAHH3xQDzzwgGpqavTMM8/o9ttvV3p6unr27KmioiJNmDBBq1ev1rZt21RSUiJJysnJ0aJFizR//nwNGzZMpaWl6t27tzIyMtqdIS4uru1Tjqs/OK3/FoGgucWoqenUf8mam1t%2Bch87cmIuMtmHE3ORyT6cluukz8sdLOAutLpcLi1YsEC5ubmaOXOm%2Bvfvr2nTpunyyy/XQw89pOnTp5/y54ODgzVnzhx16tRJN954ox5%2B%2BGHdfPPNGjdunIKDgzV37ly53W7l5ORoxYoVmj17tnr06CFJio%2BP16xZs1ReXq6xY8fqyJEjbZ5WBAAAOJWAOYP1xhtv6I033tDHH3%2Bsrl276tprr9ULL7ygPn36ePfp2bOnpk%2BfrilTppzytmJjY/XCCy%2B0ua1Xr15asmTJSX82MzNTb7/99hllAAAAkAKoYE2ZMkXDhg3T7NmzNXToUAUHtz65dtFFF2ncuHF%2BmA4AAKD9AqZgrV27VtHR0Tp48KC3XFVWVioxMVEhISGSpNTUVKWmpvpzTAAAgJ8UMK/B%2Bv777/Xb3/5W8%2BfP967l5%2BdrzJgx2rt3rx8nAwAAOD0BU7CefPJJ/epXv9L48eO9a2%2B99ZZ69uyp4uJiP04GAABwegKmYG3atElFRUU%2B70vRtWtX3X///froo4/8OBkAAMDpCZiCFRoa2upjbKQf3%2BzTGOOHiQAAAM5MwBSsoUOH6oknntDu3bu9a9XV1SouLlZmZqYfJwMAADg9AfNbhJMnT9b48eM1cuRI74crHz58WImJiXrggQf8PB0AAED7BUzBiomJ0Wuvvab169fryy%2B/VGhoqC6%2B%2BGINHjz4tD/wGQAAwJ8CpmBJUkhIiDIzM7kkCAAAbC1gCpbb7dZzzz2nzZs369ixY61e2P7ee%2B/5aTIAAIDTEzAF6%2BGHH9Znn32ma665Rl26dPH3OAAAAGcsYArWRx99pAULFmjQoEH%2BHgUAAOCsBMzbNHTq1EkxMTH%2BHgMAAOCsBUzBGjNmjBYsWKDm5mZ/jwIAAHBWAuYS4cGDB7Vy5UqtWbNGvXr1UlhYmM/2V155xU%2BTAQAAnJ6AKViSlJ2d7e8RAAAAzlrAFKzi4mJ/jwAAAGCJgHkNliS5XC6Vlpbq3nvv1f79%2B/X222/rq6%2B%2B8vdYAAAApyVgCtauXbs0atQovfbaa3rnnXf0ww8/6K233lJOTo4%2B/fRTf48HAADQbgFTsEpKSjR8%2BHCtWrVK5513niRp5syZysrK0jPPPOPn6QAAANovYArW5s2bNX78eJ8Pdg4NDdWECRO0fft2P04GAABwegKmYLW0tKilpaXV%2BtGjRxUSEuKHiQAAAM5MwBSsK664QvPmzfMpWQcPHtSMGTN0%2BeWX%2B3EyAACA0xMwBauoqEifffaZrrjiCjU2Nur222/XsGHDVFNTo8mTJ/t7PAAAgHYLmPfB6t69u15//XWtXLlSO3bsUEtLi2666SaNGTNG559/vr/HAwAAaLeAKViSFBkZqbFjx/p7DAAAgLMSMAXr5ptvPuV2PosQAADYRcAUrPj4eJ/vm5qatGvXLn3xxRe65ZZb/DQVAADA6QuYgnWyzyKcPXu29u3bd46nAQAAOHMB81uEJzNmzBj97//%2Br7/HAAAAaLeAL1hbtmzhjUYBAICtBMwlwrZe5P7999/rH//4h37/%2B9/7YSIAAIAzEzAF64ILLvD5HEJJOu%2B88zRu3DiNHj3aT1MBAACcvoApWCUlJf4eAQAAwBIBU7A2btzY7n3T09M7cBIAAICzEzAF6w9/%2BIP3EqExxrt%2B4lpQUJB27Nhx7gcEAABop4ApWC%2B%2B%2BKKeeOIJTZo0SRkZGQoLC9O2bds0bdo0/fu//7uuvvpqf48IAADQLgHzNg3FxcWaOnWqRo4cqejoaHXu3FmXX365pk2bpv/6r/9SfHy89w8AAEAgC5iC5XK52ixP559/vg4cOOCHiQAAAM5MwBSs5ORkzZw5U99//7137eDBg5oxY4YGDx7sx8kAAABOT8C8Buuhhx7SzTffrKFDh6pPnz4yxuibb75RbGysXnnlFX%2BPBwAA0G4BU7D69u2rt956SytXrlRVVZUk6T/%2B4z90zTXXKDIy0s/TAQAAtF/AFCxJ%2BsUvfqGxY8eqpqZGvXr1kvTju7kDAADYScC8BssYo2eeeUbp6enKzs7Wvn37NHnyZE2ZMkXHjh3z93gAAADtFjAFa8mSJXrjjTf0yCOPKCwsTJI0fPhwrVq1SqWlpX6eDgAAoP0CpmCVlZVp6tSpuu6667zv3n711VfriSee0IoVK/w8HQAAQPsFTMGqqalRv379Wq0nJCTI7Xb7YSIAAIAzEzAFKz4%2BXtu2bWu1vnbtWu8L3gEAAOwgYH6L8LbbbtNjjz0mt9stY4w2bNigsrIyLVmyREVFRf4eDwAAoN0CpmDl5OSoqalJc%2BfOVUNDg6ZOnaquXbvqrrvu0k033eTv8QAAANotYArWypUr9dvf/la5ubn67rvvZIxRTEyMv8cCAAA4bQHzGqxp06Z5X8zetWvXsypXtbW1uuOOO3TZZZfpyiuvVElJiTwej6QfX0w/fvx4paSkKDs7W%2BvWrfP52fXr12vUqFFKTk5WXl6eqqurzzwUAAD4WQqYgtWnTx998cUXltzWHXfcocbGRr366quaOXOm/u///k/PP/%2B8JGnChAmKi4tTeXm5Ro8ercLCQu3bt0%2BStHfvXhUUFCgnJ0fl5eWKjo5WQUGBJTMBAICfj4C5RJiQkKD77rtPCxYsUJ8%2BfRQeHu6zvbi4uF2389VXX6myslLr1q1T165dJf1YuJ5%2B%2BmllZmaqpqZG//M//6Pw8HDl5%2Bdrw4YNWr58uQoLC7Vs2TINHDhQeXl53vscMmSINm7cqPT0dEvzAgAA5wqYgvX1118rLS1Nks7qfa9iY2O1YMECb7k67siRI/r000%2BVmJjoU97S0tK0detWSVJlZaVPkYqIiFD//v21ZcsWChYAAGg3vxasp59%2BWoWFherUqZOWLFliyW126dJFQ4YM8X5vjNHSpUs1ePBgud1uxcXF%2BewfExOj2tpaSZLL5Wq1vVu3bt7tAAAA7eHX12AtXrxY9fX1Pmv5%2BflyuVyW3cfTTz%2BtHTt26O6771Z9fb33cw6PCwsL874AvqGh4ZTbAQAA2sOvZ7CMMa3WNm7cqMbGRktuf8aMGVqyZImee%2B45XXzxxQoPD9ehQ4d89vF4PIqIiJAkhYeHtypTHo9HUVFR7b5Pl8vlmI/2CQkOUmho2x08JCTY56tTODEXmezDibnIZB9OzBUSEnzS5%2BXY2NhWV62sFDCvwbLa448/rrKyMs2YMUPDhw%2BXJHXv3l07d%2B702a%2Burk6xsbHe7ScehLq6ujY/I/FkysrKVFpa2mo9rXDB6Ubwu06dwxUd3fmU%2B0RFRZ6jac4tJ%2BYik304MReZ7MNpuV5%2BeUGbz8uFhYWaOHFih92vIwtWaWmpysrK9Oyzz%2Bqqq67yriclJWn%2B/PnyeDzeS4EVFRUaNGiQd/vmzZu9%2B9fX12v79u2ndQByc3OVlZXVan366u/ONI7f/HC0UQcU1Oa2kJBgRUVF6vDhejU3t5zjyTqOE3ORyT6cmItM9uHEXCEhwSd9Xj5%2BcqWj%2BL1gBQW1/QR%2BpqqqqjR37lz9%2Bc9/VkpKiurq6rzbMjIy1LNnTxUVFWnChAlavXq1tm3bppKSEkk/flzPokWLNH/%2BfA0bNkylpaXq3bu3MjIy2n3/cXFxbZ9yXP3BWWc715pbjJqaTv2XrLm55Sf3sSMn5iKTfTgxF5nsw2m5Tvq83MH8XrCeeOIJn7dNOHbsmGbMmKHOnX0vTbX3fbDee%2B89tbS0aO7cuZo7d66kH1/rFRQUpB07dmj27NmaMmWKcnJy1Lt3b82ePVs9evSQJMXHx2vWrFmaPn265syZo9TU1DZPKwIAAJyKXwtWenp6q9c8paSk6MCBAzpw4MAZ3WZ%2Bfr7y8/NPur13796nfEuIzMxMvf3222d03wAAAJKfC5ZV730FAAAQSJzzu5gAAAABgoIFAABgMQoWAACAxShYAAAAFqNgAQAAWIyCBQAAYDEKFgAAgMUoWAAAABajYAEAAFiMggUAAGAxChYAAIDFKFgAAAAWo2ABAABYjIIFAABgMQoWAACAxShYAAAAFqNgAQAAWIyCBQAAYDEKFgAAgMUoWAAAABajYAEAAFiMggUAAGCxUH8PgMAUGhykkGBJMifZo0VNTU2SWk6xj78E%2BXsAAMDPHAULbfpVt0jNX/uNvtlf7%2B9R2q1PTKTuvurf/D0GAAAULJzcN/vr9cW%2Bo/4eAwAA2%2BE1WAAAABajYAEAAFiMggUAAGAxChYAAIDFKFgAAAAWo2ABAABYjIIFAABgMQoWAACAxShYAAAAFqNgAQAAWIyCBQAAYDEKFgAAgMUoWAAAABajYAEAAFiMggUAAGAxChYAAIDFKFgAAAAWo2ABAABYjIIFAABgMQoWAACAxShYAAAAFqNgAQAAWIyCBQAAYDEKFgAAgMUoWAAAABajYAEAAFjM0QXL4/Fo1KhR2rhxo3etpqZG48ePV0pKirKzs7Vu3Tqfn1m/fr1GjRql5ORk5eXlqbq6%2BlyPDQAAbM6xBcvj8eiee%2B7Rzp07fdYLCgoUFxen8vJyjR49WoWFhdq3b58kae/evSooKFBOTo7Ky8sVHR2tgoICf4wPAABszJEFq6qqSjfccINqamp81jds2KDq6mpNmzZNF110kfLz85WcnKzly5dLkpYtW6aBAwcqLy9Pffv2VXFxsfbs2eNzBgwAAOCnOLJgffLJJxo8eLDKyspkjPGuV1ZWKjExUeHh4d61tLQ0bd261bs9PT3duy0iIkL9%2B/fXli1bzt3wAADA9kL9PUBHuOmmm9pcd7vdiouL81mLiYlRbW2tJMnlcrXa3q1bN%2B92AACA9nDkGayTqa%2BvV1hYmM9aWFiYPB6PJKmhoeGU2wEAANrDkWewTiY8PFyHDh3yWfN4PIqIiPBuP7FMeTweRUVFtfs%2BXC6X3G732Q%2BLMxIaGqSz%2Bf8NISHBPl%2BdgEz24cRcZLIPJ%2BYKCQk%2B6fNybGxsq6tWVvpZFazu3bu3%2Bq3Curo6xcbGerefeBDq6urUr1%2B/dt9HWVmZSktLW62nFS44g4lxurp0iVRo6Nk/rKOiIi2YJrCQyT6cmItM9uG0XC%2B/vKDN5%2BXCwkJNnDixw%2B73Z1WwkpKSNH/%2BfHk8Hu%2BlwIqKCg0aNMi7ffPmzd796%2BvrtX379tM6ALm5ucrKymq1Pn31d2c5PdrjyJF6ne0ZrKioSB0%2BXK/m5hbrBvMjMtmHE3ORyT6cmCskJPikz8vHT650lJ9VwcrIyFDPnj1VVFSkCRMmaPXq1dq2bZtKSkokSTk5OVq0aJHmz5%2BvYcOGqbS0VL1791ZGRka77yMuLq7tU46rP7AqBk6hqclIOvt/GJqbW9TU5Ix/YI4jk304MReZ7MNpuU76vNzBnHOh9SSCgoK8/zs4OFhz5syR2%2B1WTk6OVqxYodmzZ6tHjx6SpPj4eM2aNUvl5eUaO3asjhw50uZpRQAAgFNx/BmsHTt2%2BHzfq1cvLVmy5KT7Z2Zm6u233%2B7osQAAgIM5/gwWAADAuUbBAgAAsBgFCwAAwGIULAAAAItRsAAAACxGwQIAALAYBQsAAMBiFCwAAACLUbAAAAAsRsECAACwGAULAADAYhQsAAAAi1GwAAAALBbq7wEAq4QEB0kyZ3krLWpqapLUYsFtnY6gc3hfAICORsGCY8RHR%2BjZd7/UN/vr/T1Ku/WJidTdV/2bv8cAAFi/8wE1AAAPuElEQVSMggVH%2BWZ/vb7Yd9TfYwAAfuZ4DRYAAIDFKFgAAAAWo2ABAABYjIIFAABgMQoWAACAxShYAAAAFqNgAQAAWIyCBQAAYDEKFgAAgMUoWAAAABajYAEAAFiMggUAAGAxChYAAIDFKFgAAAAWo2ABAABYjIIFAABgMQoWAACAxShYAAAAFqNgAQAAWIyCBQAAYDEKFgAAgMUoWAAAABajYAEAAFgs1N8DAD9nIcFBkkwH30uLmpqaJLVYfF9BFt4WADgLBQvwo/joCD377pf6Zn%2B9v0dptz4xkbr7qn/z9xgAENAoWICffbO/Xl/sO%2BrvMQAAFuI1WAAAABajYAEAAFiMggUAAGAxChYAAIDFKFgAAAAWo2ABAABYjIIFAABgMQoWAACAxShYAAAAFqNgAQAAWIyC1QaPx6MHH3xQ6enpyszM1OLFi/09EoCzZmzw58QP5j7%2BB4Dd8FmEbXjqqae0fft2LVmyRDU1NZo8ebLi4%2BM1YsQIf48G%2BF1IcJD8/6R/YhFpD8MHawM4ZyhYJ6ivr9fy5cu1cOFCJSQkKCEhQX/84x%2B1dOlSChYgKT46wnZFRZIuv%2BiXfLA2gHOGgnWCzz//XM3NzUpOTvaupaWlad68eX6cCggsdiwqvWMi/T3CaQuMs4VnKsjfAwB%2BRcE6gdvt1i9/%2BUuFhv7//zQxMTFqbGzUgQMHFB0d7cfpAPyc2PFsIZc1gR9RsE5QX1%2BvsLAwn7Xj33s8Hn%2BMBOBnzG5nC1ufdTuT18uda8fnau9Zt0DIdLozt8e5yvXzOLtJwTpBeHh4qyJ1/PvIyJ%2B%2BxOByueR2u1ut97HZ5Yle0ZH6wdPs7zFOywW/CLfdr8Uy87ljx7ntOHN6n1%2BofHONag83%2BnuUduvX83x9d/QYM3ew7lHhys3orXP5BgYhIcEnfV6OjY1VXFxch903BesE3bt318GDB9XS0qLg4B8fBHV1dYqIiFBUVNRP/nxZWZlKS0tbraenp%2Bu5mTM79GCeSy6XS2VlZcrNzXVMJsmZuchkH07MRSb7cGIul8ule%2B65Rxs3bmy1rbCwUBMnTuyw%2B6ZgnaBfv34KDQ3V1q1blZqaKknatGmTBgwY0K6fz83NVVZWls9aVVWVJk2aJLfb7ZgHrdvtVmlpqbKyshyTSXJmLjLZhxNzkck%2BnJjL7XZr48aNmjFjhvr27euzLTY2tkPvm4J1goiICI0ZM0aPPPKInnzySdXW1mrx4sUqKSlp18/HxcU55oEJAIAT9O3bV4mJief0PilYbXjggQf02GOP6ZZbblGXLl105513avjw4f4eCwAA2AQFqw0REREqLi5WcXGxv0cBAAA2ZLdfUAEAAAh4IY8%2B%2Buij/h7i56Bz587KyMhQ586d/T2KZZyYSXJmLjLZhxNzkck%2BnJjLX5mCjDGB%2Bs5vAAAAtsQlQgAAAItRsAAAACxGwQIAALAYBQsAAMBiFCwAAACLUbAAAAAsRsECAACwGAWrg3k8Hj344INKT09XZmamFi9e7O%2BR2s3j8WjUqFHauHGjd62mpkbjx49XSkqKsrOztW7dOp%2BfWb9%2BvUaNGqXk5GTl5eWpurr6XI/dptraWt1xxx267LLLdOWVV6qkpEQej0eSfTNJ0u7du3XbbbcpJSVFWVlZWrhwoXebnXMdl5%2BfrwceeMD7vZ0zrVq1SgkJCerXr5/365133inJvrk8Ho8ee%2BwxZWRk6IorrtCzzz7r3WbHTK%2B99lqrY5SQkKD%2B/ftLkqqrq22X6bh9%2B/bpL3/5i9LS0vSb3/xGL7/8snebHY%2BVJH333Xe64447lJ6erpEjR%2Bq1117zbguITAYdatq0aWbMmDFmx44d5t133zWpqanmnXfe8fdYP6mxsdEUFBSYhIQE88knn3jXR48ebe6//35TVVVl5s2bZ5KTk83evXuNMcZ8%2B%2B23Jjk52SxevNjs3LnT3HXXXWbUqFH%2BiuDjhhtuMPn5%2BWbnzp1m06ZNZsSIEebpp582xhgzatQoW2ZqaWkxI0eONPfff7/ZtWuXef/9901aWppZuXKlMca%2BuY5buXKlueSSS0xRUZF3za6PP2OMmTt3rrn99tvN/v37TV1dnamrqzNHjhwxxtj3WD388MNm5MiRZtu2bWbDhg3m8ssvN2VlZcYYe2ZqbGz0Hpu6ujqzd%2B9eM2LECFNSUmKMsWem42644QZzzz33mF27dplVq1aZ5ORk8%2B677xpj7JsrNzfX5Obmmh07dpg1a9aYjIyMgMpEwepAP/zwg7n00kvNxo0bvWtz5swxf/jDH/w41U/buXOnGTNmjBkzZoxPwVq/fr1JSUkxDQ0N3n3z8vLMrFmzjDHGPPfccz7Z6uvrTWpqqk9B84eqqiqTkJBg9u/f711buXKlGTp0qNmwYYMtMxljjMvlMnfffbc5evSod62wsNA89thjts5ljDEHDx40V155pRk7dqy3YNn18XfcfffdZ2bOnNlq3a65Dh48aBITE33%2BfXvppZfMgw8%2BaPvH33EvvviiGTFihPF4PLY9TsYYc%2BjQIXPJJZeYL7/80rs2ceJE8/jjj9v2WG3bts0kJCSYmpoa79pLL71kcnNzAyYTlwg70Oeff67m5mYlJyd719LS0lRZWenHqX7aJ598osGDB6usrEzmnz5JqbKyUomJiQoPD/eupaWlaevWrd7t6enp3m0RERHq37%2B/tmzZcu6Gb0NsbKwWLFigrl27%2BqwfOXJEn376qS0zST/mmjlzpjp16iRJqqio0KZNm5SRkWHrXJL01FNPacyYMerbt693za6Pv%2BOqqqp04YUXtlq3a66Kigp16dJFgwYN8q796U9/0vTp023/%2BJOkQ4cOacGCBbrvvvt03nnn2fY4HZ8lMjJS5eXlampq0ldffaXNmzerX79%2Btj1W1dXV6tq1q%2BLj471rl1xyiT777DNt2rQpIDJRsDqQ2%2B3WL3/5S4WGhnrXYmJi1NjYqAMHDvhxslO76aabNHnyZJ8Hp/Rjnri4OJ%2B1mJgY1dbWSpJcLler7d26dfNu95cuXbpoyJAh3u%2BNMVq6dKkGDx5s20wnysrK0rhx45ScnKwRI0bYOteGDRtUUVGhgoICn3U7Z5Kkr7/%2BWh988IFGjhypq666Sn/961917Ngx2%2Baqrq5WfHy8Xn/9df3ud7/T8OHDNWfOHBljbJvpn7366qvq3r27rrrqKkn2fvyFhYVp6tSp%2Bu///m8lJSXp6quv1tChQ5WTk2PbXN26ddPhw4fV2NjoXdu7d6%2Bampq0f//%2BgMgU%2BtO74EzV19crLCzMZ%2B3498dfYG0nJ8tzPEtDQ8MptweKp59%2BWjt27NDy5cu1ePFiR2SaNWuW6urq9Oijj%2BrJJ5%2B07bHyeDx69NFH9cgjj7Saz66ZJOnbb79VQ0ODwsPD9fzzz6umpkbTp09XQ0ODbXP98MMP%2Buabb7Rs2TKVlJTI7XZr6tSpioyMtG2mf7Z8%2BXLl5%2Bd7v7d7pqqqKmVlZem2227TF198occff1yDBw%2B2ba6kpCTFxsZq2rRpeuihh%2BRyufSf//mfCgoKUmNjY0BkomB1oPDw8FYH7Pj3kZGR/hjprISHh%2BvQoUM%2Bax6PRxEREd7tbeWNioo6ZzP%2BlBkzZmjJkiV67rnndPHFFzsikyQlJiZKkoqKinTffffp%2Buuv1%2BHDh332sUOuWbNmacCAAfr1r3/dapudj9UFF1ygjz/%2B2DtLQkKCWlpaNGnSJF133XW2PFYhISE6evSoZs6cqR49ekiS9uzZo1dffVVXXHGFDh486LO/HTIdV1lZqdraWl199dXeNTs//jZs2KDly5dr7dq1CgsLU//%2B/bVv3z7NnTtXgwcPtuWxCgsL0wsvvKC77rpLaWlpiomJ0R//%2BEcVFxcrODhY9fX1Pvv7IxOXCDtQ9%2B7ddfDgQbW0tHjX6urqFBER4fcH55no3r273G63z1pdXZ1iY2Pbtd3fHn/8cb388suaMWOGhg8fLsnemfbv369Vq1b5rF188cU6duyYYmNjbZnrrbfe0nvvvaeUlBSlpKRoxYoVWrFihVJTU9WjRw9bZjruxL/zffv2VWNjo7p162bLXHFxcQoPD/eWK0m68MILVVtba%2Bu/V5L04YcfKj09XV26dPGu2TnT3//%2Bd/Xp08fnrE2/fv20d%2B9eW%2BcaMGCAVq1apQ8%2B%2BEDvv/%2B%2B%2BvTpo65du6p3794BkYmC1YH69eun0NBQ7wvrJGnTpk0aMGCAH6c6c0lJSdq%2BfbtP86%2BoqPC%2BiD8pKUmbN2/2bquvr9f27dt9XuTvL6WlpSorK9Ozzz6r3/3ud951O2eqqanRxIkT5XK5vGvbtm1TTEyM0tLS9Pe//912uZYuXaoVK1bob3/7m/72t78pKytLWVlZeuONN3TppZfa9lh9%2BOGHuuyyy3xeL7J9%2B3ZFR0dr0KBBtjxWSUlJamxs1K5du7xrVVVVio%2BPV1JSki0zHVdZWanU1FSfNTv/WxEXF6ddu3apqanJu/bVV1/pX/7lX2x7rA4dOqTf//73OnTokGJiYhQcHKw1a9YoIyNDl156aWBksvR3EtHK1KlTTXZ2tqmsrDTvvvuuSUtL875Phx1ccskl3l9dbW5uNtnZ2ebuu%2B82X375pZk3b55JTU31vrdITU2NSUpKMi%2B99JL58ssvzZ133mmuvfZaf45vjPnxbSf69%2B9vnn/%2BeeN2u33%2B2DWTMT8ej%2Buvv97cdtttZufOnWbNmjVmyJAhZsmSJaa5udlcc801tsz1z4qKirxv02DnY/X999%2BbK6%2B80tx7773mq6%2B%2BMmvWrDGZmZlm4cKFtj5Wf/7zn82NN95oduzYYdauXWsGDx5sli5dautMxhgzbNgw8%2Babb/qs2fnxd%2BTIEXPFFVeYyZMnm6%2B//tq899575rLLLjPLli2z9bG69tprzZQpU8zu3bvNsmXLTFJSkvnss88C5lhRsDpYfX29KSoqMikpKWbo0KHmlVde8fdIp%2BXENxrdvXu3GTdunLn00ktNdna22bBhg8/%2Ba9euNSNHjjTJycnm1ltv9XmPEn%2BZN2%2BeSUhI8PlzySWXmISEBGOMMbt27bJdpuNcLpeZOHGiGTRokMnMzDTz5s3zbrPjsTrRPxcsY%2BydaefOnebWW281qampJjMz08yePdu7za65jhw5YiZPnmxSU1PNkCFDzJw5c7zb7JrJGGOSkpLMhx9%2B2GrdzpmOP/4GDRpkRowY4fNcZNdcX3/9tRk3bpxJTk422dnZZs2aNd5tgZApyJh/eqMjAAAAnDVegwUAAGAxChYAAIDFKFgAAAAWo2ABAABYjIIFAABgMQoWAACAxShYAAAAFqNgAQAAWIyCBQAAYDEKFgAAgMUoWAAAABajYAEAAFiMggUAAGCx/wfDPXmilXdLmgAAAABJRU5ErkJggg%3D%3D\">\n",
       "             </div>\n",
       "      </div>\n",
       "    </div><div class=\"row variablerow\">\n",
       "        <div class=\"col-md-3 namecol\">\n",
       "            <p class=\"h4\">isDiabetic<br/><small>Numeric</small></p>\n",
       "        </div>\n",
       "\n",
       "        <div class=\"col-md-6\">\n",
       "            <div class=\"row\">\n",
       "                <div class=\"col-sm-6\">\n",
       "                    <table class=\"stats \">\n",
       "                        <tr><th>Distinct count</th>\n",
       "                        <td>2</td></tr>\n",
       "                        <tr><th>Unique (%)</th>\n",
       "                        <td>0.3%</td></tr>\n",
       "                        <tr class=\"ignore\"><th>Missing (%)</th>\n",
       "                        <td>0.0%</td></tr>\n",
       "                        <tr class=\"ignore\"><th>Missing (n)</th>\n",
       "                        <td>0</td></tr>\n",
       "                    </table>\n",
       "\n",
       "                </div>\n",
       "                <div class=\"col-sm-6\">\n",
       "                    <table class=\"stats \">\n",
       "\n",
       "                        <tr><th>Mean</th>\n",
       "                        <td>0.34896</td></tr>\n",
       "                        <tr><th>Minimum</th>\n",
       "                        <td>0</td></tr>\n",
       "                        <tr><th>Maximum</th>\n",
       "                        <td>1</td></tr>\n",
       "                        <tr class=\"alert\"><th>Zeros (%)</th>\n",
       "                        <td>65.1%</td></tr>\n",
       "                    </table>\n",
       "                </div>\n",
       "            </div>\n",
       "        </div>\n",
       "        <div class=\"col-md-3 collapse in\" id=\"minihistogram4970108970788694269\">\n",
       "             <img src=\"data:image/png;base64,iVBORw0KGgoAAAANSUhEUgAAAMgAAABLCAYAAAA1fMjoAAAABHNCSVQICAgIfAhkiAAAAAlwSFlzAAAPYQAAD2EBqD%2BnaQAAA4hJREFUeJzt3LFLM3ccx/HPY9JBUAg%2BJJFOzx/g0OFRxEV0yZATHUoDFSSz6OIqFOng4tJB/4iIg2RQhyIOCjr5rO0kBY25YHRIdTDnt1PTFuULSi9neN6v7bhcfhf4vblcyP0%2BmJmpy8Iw1C%2B//qGLm4dXHffpY79%2B/uE7pdPpmM4M71EYhqpUKiqVSsrlcl0dO5GZlsvldHHzm36//jOJ4dFjcrmclpeXExm7L5FRgR5BIICDQAAHgQAOAgEcBAI4CARwEAjgIBDAQSCAg0AAB4EADgIBHAQCOAgEcBAI4CAQwEEggINAAAeBAA6WB0HXmJmiKHrTsUmtZEMg6JooivTT9pc3Lfe0/uPnmM7KRyDoqoubh55a7ol7EMBBIICDQAAHgQAOAgEcBAI4CARwEAjgIBDAQSCAg0AAB4EADgIBHAQCOAgEcBAI4CAQwEEggINAAAeBAA4CARwEAjgIBHAkti7W95%2B/1d3D46uOyfR/8%2BaV%2BZC8KIr06WP/q497yzH/lw9mZt0eNAxDVSoVlUol5XK5bg%2BPHpPkfEnkK1aj0dDm5qYajUYSw6PHJDlfuAcBHAQCOAgEcBAI4EgkkGw2q6WlJWWz2SSGR49Jcr4k8jMv0Cv4igU4CARwEAjgIBDAQSCAg0AAB4EAjtgD2d/fVxAEKhQK2traera/Xq9rYWFBxWJR5XJZzWYz7lPCO9ZqtTQzM6Orq6tn%2BxKZKxajRqNhU1NTdnt7a%2B1228rlsh0fH//nNYuLi7a7u2tmZjs7O7ayshLnKeEdOz8/tyAIbGRkxC4vL5/tT2KuxHoFOTk50fj4uDKZjFKplGZnZ7W3t9fZ3263dXZ2piAIJElzc3M6OjriqcGv1Pb2ttbW1l58KCqpuRLrI7f1el35fL6znc/ndX193dm%2Bu7vTwMCAUqmUJCmVSmlwcFDNZpP/aX2F1tfXJUn2wr%2BfkporsV5BXvqgfX3/DPn09PTiMf9%2BDSAlN1diffd8Pq8wDDvbYRhqeHi4sz00NKRWq9X58FEU6f7%2BXplMJs7TQg9Kaq7EGsjExIROT0/VbDb1%2BPioarWqycnJzv50Oq3R0VFVq1VJUrVa1djYWOcyCvwtsbkS968ABwcHFgSBFQoF29jYMDOz1dVVOzw8NDOzWq1m5XLZisWizc/PW61Wi/uU8M5NT093fsVKeq7wPAjg4G4YcBAI4PgLWf0IY3yMrdsAAAAASUVORK5CYII%3D\">\n",
       "\n",
       "        </div>\n",
       "       <div class=\"col-md-12 text-right\">\n",
       "            <a role=\"button\" data-toggle=\"collapse\" data-target=\"#descriptives4970108970788694269,#minihistogram4970108970788694269\" aria-expanded=\"false\" aria-controls=\"collapseExample\">\n",
       "                Toggle details\n",
       "            </a>\n",
       "        </div>\n",
       "        <div class=\"row collapse col-md-12\" id=\"descriptives4970108970788694269\">\n",
       "            <div class=\"col-sm-4\">\n",
       "                  <p class=\"h4\">Quantile statistics</p>\n",
       "                  <table class=\"stats indent\">\n",
       "                        <tr><th>Minimum</th>\n",
       "                        <td>0</td></tr>\n",
       "                        <tr><th>5-th percentile</th>\n",
       "                        <td>0</td></tr>\n",
       "                        <tr><th>Q1</th>\n",
       "                        <td>0</td></tr>\n",
       "                        <tr><th>Median</th>\n",
       "                        <td>0</td></tr>\n",
       "                        <tr><th>Q3</th>\n",
       "                        <td>1</td></tr>\n",
       "                        <tr><th>95-th percentile</th>\n",
       "                        <td>1</td></tr>\n",
       "                        <tr><th>Maximum</th>\n",
       "                        <td>1</td></tr>\n",
       "                        <tr><th>Range</th>\n",
       "                        <td>1</td></tr>\n",
       "                        <tr><th>Interquartile range</th>\n",
       "                        <td>1</td></tr>\n",
       "                  </table>\n",
       "                  <p class=\"h4\">Descriptive statistics</p>\n",
       "                  <table class=\"stats indent\">\n",
       "                        <tr><th>Standard deviation</th>\n",
       "                        <td>0.47695</td></tr>\n",
       "                        <tr><th>Coef of variation</th>\n",
       "                        <td>1.3668</td></tr>\n",
       "                        <tr><th>Kurtosis</th>\n",
       "                        <td>-1.6009</td></tr>\n",
       "                        <tr><th>Mean</th>\n",
       "                        <td>0.34896</td></tr>\n",
       "                        <tr><th>MAD</th>\n",
       "                        <td>0.45437</td></tr>\n",
       "                        <tr class=\"\"><th>Skewness</th>\n",
       "                        <td>0.63502</td></tr>\n",
       "                        <tr><th>Sum</th>\n",
       "                        <td>268</td></tr>\n",
       "                        <tr><th>Variance</th>\n",
       "                        <td>0.22748</td></tr>\n",
       "                        <tr><th>Memory size</th>\n",
       "                        <td>6.0 KiB</td></tr>\n",
       "                 </table>\n",
       "            </div>\n",
       "             <div class=\"col-sm-8 histogram\">\n",
       "                 <img src=\"data:image/png;base64,iVBORw0KGgoAAAANSUhEUgAAAlgAAAGQCAYAAAByNR6YAAAABHNCSVQICAgIfAhkiAAAAAlwSFlzAAAPYQAAD2EBqD%2BnaQAAIABJREFUeJzt3X90VPWd//FXfpgfIqkhJEBTWEpcDURMQggrS2EPKUWrQMCIEbQSas1288PuqtRYFGwKhgrFugSwBeFU%2BO6eAFlLUVe3NttqATUQMNiAClohFJiJgASdZEhyv394mO0wQGfgk9yZ4fk4hxPmc%2B/Mfd/3DHNffO7NTIRlWZYAAABgTKTdBQAAAIQbAhYAAIBhBCwAAADDCFgAAACGEbAAAAAMI2ABAAAYRsACAAAwjIAFAABgGAELAADAMAIWAACAYQQsAAAAwwhYAAAAhhGwAAAADCNgAQAAGEbAAgAAMIyABQAAYBgBCwAAwDACFgAAgGEELAAAAMMIWAAAAIYRsAAAAAwjYAEAABhGwAIAADCMgAUAAGAYAQsAAMAwAhYAAIBhBCwAAADDCFgAAACGEbAAAAAMI2ABAAAYRsACAAAwjIAFAABgWFgGrNdff13p6ekaOnSo5%2BcPfvADSVJzc7Nmz56t7OxsTZo0SVu3bvW677Zt2zR58mRlZWWpqKhIhw4dsmMXAABACAvLgLV//37l5eVp69at2rp1q/74xz9q4cKFkqSSkhKlpKSotrZWU6ZMUVlZmY4ePSpJOnLkiEpLS1VQUKDa2lolJiaqtLT0sutxOBxatmyZHA7HZT8WAkf/7UX/7UX/7UX/7WVn/8MyYB04cEB///d/rz59%2BigpKUlJSUm65pprtH37djU3N6uyslJDhgxRcXGxsrKytGnTJknShg0bNHz4cBUVFSktLU1VVVU6fPiw6uvrL6sep9Op6upqOZ1OE7uHANF/e9F/e9F/e9F/e9nZ/7ANWF//%2Btd9xhsbG5WRkaHY2FjPWE5Ojnbv3u1Znpub61kWFxenYcOGadeuXd1fNAAACBthGbA%2B/vhjvfnmm7rlllv0rW99Sz/72c905swZOZ1OpaSkeK2blJSkY8eOSfpyKvHc5X379vUsBwAA8Ee03QWY9pe//EVtbW2KjY3Vs88%2Bq%2BbmZi1cuFBtbW1yuVyKiYnxWj8mJkZut1uS1NbWdtHlAAAA/gi7gPXVr35Vb7/9thISEiRJ6enp6urq0pw5c3THHXfo1KlTXuu73W7FxcVJkmJjY33ClNvt9jyWPxwOh8%2B53gMHDlzKrgAAAAPOdxxOTk72OWtlUtgFLEk%2BgSgtLU3t7e3q27evT5NbWlqUnJwsSerXr59POGppadHQoUP93nZNTY2qq6t9xgvm/z8trDsu1b3p92MFi8FJ8aq8K0vR0aH5csnIyND7779vdxlXLPpvL/pvL/pvr4yMDOXm5mrOnDk%2By8rKylReXt5t2w7NI%2BZF/PGPf9TDDz%2BsN954w3Mxe1NTkxITEzVy5EitWbNGbrfbcypw586dGjlypCQpMzNTDQ0NnsdyuVxqamoK6AkoLCxUXl6ez/jCuuP64Ojnl7NrtmptdSlUL9mLiopUQkK8Tp1yqbOzy%2B5yrjj031703170315RUZFaunTpeX%2BL8OzkSncJu4CVnZ2t%2BPh4zZ07V6WlpTp48KAWL16sBx54QLm5uRowYIAqKipUUlKiuro67dmzR4sWLZIkFRQUaM2aNVq1apXGjx%2Bv6upqDRo0SKNGjfJ7%2BykpKeefcgzBmau/1tFhSQrtN4fOzi51dIT2PoQy%2Bm8v%2Bm8v%2Bm%2BfCx6Xu1loTklcRK9evfT888/rxIkTuvPOO/XEE0/o7rvv1ne/%2B11FRkZq5cqVcjqdKigo0JYtW7R8%2BXL1799fkpSamqply5aptrZW06dPV2tr63lP9wEAAFxMhGVZlt1FXAlmLnszZE8RXt%2B/l569O1NShN2lXJLo6EglJvbSiROf8z9IG9B/e9F/e9F/e53tvx3CbgYLAADAbgQsAAAAwwhYAAAAhhGwAAAADCNgAQAAGEbAAgAAMIyABQAAYBgBCwAAwDACFgAAgGEELAAAAMMIWAAAAIYRsAAAAAwjYAEAABhGwAIAADCMgAUAAGAYAQsAAMAwAhYAAIBhBCwAAADDCFgAAACGEbAAAAAMI2ABAAAYRsACAAAwjIAFAABgGAELAADAMAIWAACAYQQsAAAAwwhYAAAAhhGwAAAADCNgAQAAGEbAAgAAMIyABQAAYBgBCwAAwDACFgAAgGEELAAAAMMIWAAAAIYRsAAAAAwjYAEAABhGwAIAADCMgAUAAGAYAQsAAMAwAhYAAIBhBCwAAADDCFgAAACGEbAAAAAMI2ABAAAYRsACAAAwjIAFAABgGAELAADAMAIWAACAYQQsAAAAwwhYAAAAhhGwAAAADAv7gFVcXKzHHnvMc7u5uVmzZ89Wdna2Jk2apK1bt3qtv23bNk2ePFlZWVkqKirSoUOHerpkAAAQ4sI6YL388st64403vMZKS0uVkpKi2tpaTZkyRWVlZTp69Kgk6ciRIyotLVVBQYFqa2uVmJio0tJSO0oHAAAhLGwD1meffabFixfrpptu8oxt375dhw4dUmVlpYYMGaLi4mJlZWVp06ZNkqQNGzZo%2BPDhKioqUlpamqqqqnT48GHV19fbtRsAACAEhW3A%2BulPf6r8/HylpaV5xhobG5WRkaHY2FjPWE5Ojnbv3u1Znpub61kWFxenYcOGadeuXT1XOAAACHlhGbC2b9%2BunTt3%2BpzeczqdSklJ8RpLSkrSsWPHJEkOh8Nned%2B%2BfT3LAQAA/BF2AcvtduvJJ5/U/PnzFRMT47XM5XL5jMXExMjtdkuS2traLrocAADAH9F2F2DasmXLdOONN%2Bof//EffZbFxsbqs88%2B8xpzu92Ki4vzLD83TLndbiUkJPi9fYfDIafTeQmVB7fo6AiFah6Pior0%2BomeRf/tRf/tRf/tFRUVecHjcnJyss9ZK5PCLmC98sor%2BvTTT5WdnS1JOnPmjCTptdde0/e//33t37/fa/2WlhYlJydLkvr16%2BfzJLS0tGjo0KF%2Bb7%2BmpkbV1dU%2B4zllqwPaj2DTu3e8oqND%2B%2BWSkBBvdwlXNPpvL/pvL/pvn1/9avV5j8tlZWUqLy/vtu2G9hHzPNavX6%2BOjg7P7cWLF0uS5syZo8OHD%2BuXv/yl3G6351Tgzp07NXLkSElSZmamGhoaPPd1uVxqamoK6AkoLCxUXl6ez/jCuuOXtD/BorXVpVCewUpIiNepUy51dnbZXc4Vh/7bi/7bi/7bKyoq8oLH5bOTK90l7ALWgAEDvG736tVLkjRw4EClpqZqwIABqqioUElJierq6rRnzx4tWrRIklRQUKA1a9Zo1apVGj9%2BvKqrqzVo0CCNGjXK7%2B2npKScf8qx7s1L36kg0NFhSQrtN4fOzi51dIT2PoQy%2Bm8v%2Bm8v%2Bm%2BfCx6Xu1loTklcosjISK1YsUJOp1MFBQXasmWLli9frv79%2B0uSUlNTtWzZMtXW1mr69OlqbW0977QiAADAxYTdDNa5qqqqvG4PHDhQ69atu%2BD6Y8eO1auvvtrdZQEAgDB2Rc1gAQAA9AQCFgAAgGEELAAAAMMIWAAAAIYRsAAAAAwjYAEAABhGwAIAADCMgAUAAGAYAQsAAMAwAhYAAIBhBCwAAADDCFgAAACGEbAAAAAMI2ABAAAYRsACAAAwjIAFAABgGAELAADAMAIWAACAYQQsAAAAwwhYAAAAhhGwAAAADCNgAQAAGEbAAgAAMIyABQAAYBgBCwAAwDACFgAAgGEELAAAAMMIWAAAAIYRsAAAAAwjYAEAABhGwAIAADCMgAUAAGAYAQsAAMAwAhYAAIBhBCwAAADDCFgAAACGEbAAAAAMI2ABAAAYRsACAAAwjIAFAABgGAELAADAMAIWAACAYQQsAAAAwwhYAAAAhhGwAAAADCNgAQAAGEbAAgAAMIyABQAAYBgBCwAAwDACFgAAgGEELAAAAMMIWAAAAIaFZcA6ePCg7r//fmVnZysvL0/PP/%2B8Z1lzc7Nmz56t7OxsTZo0SVu3bvW677Zt2zR58mRlZWWpqKhIhw4d6unyAQBAiAu7gGVZloqLi9W3b19t3rxZTz75pFauXKmXX35ZklRSUqKUlBTV1tZqypQpKisr09GjRyVJR44cUWlpqQoKClRbW6vExESVlpbauTsAACAEhV3Aamlp0bBhwzR//nwNGjRI48aN0%2BjRo7Vz50699dZbam5uVmVlpYYMGaLi4mJlZWVp06ZNkqQNGzZo%2BPDhKioqUlpamqqqqnT48GHV19fbvFcAACCUhF3ASk5O1tKlS3X11VdLknbu3KkdO3Zo1KhRevfdd5WRkaHY2FjP%2Bjk5Odq9e7ckqbGxUbm5uZ5lcXFxGjZsmHbt2tWzOwEAAEJa2AWsv5aXl6d7771XWVlZmjhxopxOp1JSUrzWSUpK0rFjxyRJDofDZ3nfvn09ywEAAPwR1gFr2bJleu6557Rv3z499dRTcrlciomJ8VonJiZGbrdbktTW1nbR5QAAAP6ItruAs6ZPn66CggLdfvvt6t27t5HHzMjIkCRVVFTokUce0Z133qlTp055reN2uxUXFydJio2N9QlTbrdbCQkJfm/T4XDI6XReZuXBJzo6QqGax6OiIr1%2BomfRf3vRf3vRf3tFRUVe8LicnJzsc9bKpKAJWDfffLOee%2B45VVVV6Zvf/KbuuOMOjRkzRhEREQE9zqeffqpdu3ZpwoQJnrHrrrtOZ86cUXJysg4cOOC1fktLi5KTkyVJ/fr183kSWlpaNHToUL%2B3X1NTo%2Brqap/xnLLVgexG0OndO17R0UHzcrkkCQnxdpdwRaP/9qL/9qL/9vnVr1af97hcVlam8vLybttu0BwxH374YT300EPatm2bfv3rX6u8vFwJCQmaOnWqpk6dqq9//et%2BPU5zc7PKy8v1hz/8wZNM9%2BzZo6SkJOXk5Oj555%2BX2%2B32nArcuXOnRo4cKUnKzMxUQ0OD57FcLpeampoCegIKCwuVl5fnM76w7rjfjxGMWltdCuUZrISEeJ065VJnZ5fd5Vxx6L%2B96L%2B96L%2B9oqIiL3hcPju50l0iLMuyunULl8jlcmndunVasWKF2tvbNWLECM2aNUsTJ0686P26urpUWFior3zlK3rsscfU3NysuXPn6vvf/75mzpypKVOm6Prrr1dJSYnq6ur0i1/8Qi%2B//LL69%2B%2Bvw4cP6/bbb1dpaanGjx%2Bv6upqffLJJ3rxxRcve39mLntTHxz9/LIfxw7X9%2B%2BlZ%2B/OlBTYbGKwiI6OVGJiL5048bk6OniD62n031703170315n%2B2%2BHoJuScDgcWr16tQoLC7V06VINGzZMlZWVuvnmm/X4449r4cKFF71/ZGSkVqxYoauvvlp33323nnjiCd1333269957FRkZqZUrV8rpdKqgoEBbtmzR8uXL1b9/f0lSamqqli1bptraWk2fPl2tra3nnVYEAAC4mKCZwdq8ebM2b96st99%2BW3369NHUqVNVUFCgwYMHe9bZtGmTFi5cGJKfS8UMln34H6S96L%2B96L%2B96L%2B97JzBCpprsObOnavx48dr%2BfLlGjdunCIjfSfXhgwZonvvvdeG6gAAAPwXNAHrjTfeUGJiok6ePOkJV42NjcrIyFBUVJQkacSIERoxYoSdZQIAAPxNQXMN1unTp3Xrrbdq1apVnrHi4mLl5%2BfryJEjNlYGAAAQmKAJWE899ZT%2B7u/%2BTrNnz/aMvfLKKxowYICqqqpsrAwAACAwQROwduzYoYqKCq/PpejTp49%2B%2BMMf6q233rKxMgAAgMAETcCKjo72%2BRob6cvPwwqSX3QEAADwS9AErHHjxmnBggU6ePCgZ%2BzQoUOqqqrS2LFjbawMAAAgMEHzW4SPPvqoZs%2BerVtuucXz5cqnTp1SRkaGHnvsMZurAwAA8F/QBKykpCS9%2BOKL2rZtmz788ENFR0fruuuu0%2BjRowP%2BwmcAAAA7BU3AkqSoqCiNHTuWU4IAACCkBU3Acjqd%2BvnPf66GhgadOXPG58L23/3udzZVBgAAEJigCVhPPPGE3nvvPd1%2B%2B%2B3q3bu33eUAAABcsqAJWG%2B99ZZWr16tkSNH2l0KAADAZQmaj2m4%2BuqrlZSUZHcZAAAAly1oAlZ%2Bfr5Wr16tzs5Ou0sBAACSJCvE/3SZb4mfguYU4cmTJ/XSSy/p97//vQYOHKiYmBiv5S%2B88IJNlQEAcOV65rcf6M%2Bfuuwu45IMTorXUzPtufQoaAKWJE2aNMnuEgAAwF/586cufXD0c7vLCDlBE7CqqqrsLgEAAMCIoLkGS5IcDoeqq6v18MMP69NPP9Wrr76qjz76yO6yAAAAAhI0AeuTTz7R5MmT9eKLL%2Bq1117TF198oVdeeUUFBQV699137S4PAADAb0ETsBYtWqQJEybo9ddf11VXXSVJWrp0qfLy8rRkyRKbqwMAAPBf0ASshoYGzZ492%2BuLnaOjo1VSUqKmpiYbKwMAAAhM0ASsrq4udXX5fl7F559/rqioKBsqAgAAuDRBE7C%2B8Y1v6Be/%2BIVXyDp58qQWL16sm2%2B%2B2cbKAAAAAhM0AauiokLvvfeevvGNb6i9vV3/8i//ovHjx6u5uVmPPvqo3eUBAAD4LWg%2BB6tfv3769a9/rZdeekl79%2B5VV1eXZsyYofz8fF1zzTV2lwcAAOC3oAlYkhQfH6/p06fbXQYAAMBlCZqAdd999110Od9FCAAAQkXQBKzU1FSv2x0dHfrkk0/0wQcfaNasWTZVBQAAELigCVgX%2Bi7C5cuX6%2BjRoz1cDQAAwKULmt8ivJD8/Hz993//t91lAAAA%2BC3oA9auXbv4oFEAABBSguYU4fkucj99%2BrTef/99zZw504aKAAAALk3QBKyvfvWrXt9DKElXXXWV7r33Xk2ZMsWmqgAAAAIXNAFr0aJFdpcAAABgRNAErPr6er/Xzc3N7cZKAAAALk/QBKzvfOc7nlOElmV5xs8di4iI0N69e3u%2BQAAAAD8FTcB67rnntGDBAs2ZM0ejRo1STEyM9uzZo8rKSk2bNk233Xab3SUCAAD4JWg%2BpqGqqkrz5s3TLbfcosTERPXq1Us333yzKisr9Z//%2BZ9KTU31/AEAAAhmQROwHA7HecPTNddcoxMnTthQEQAAwKUJmoCVlZWlpUuX6vTp056xkydPavHixRo9erSNlQEAAAQmaK7Bevzxx3Xfffdp3LhxGjx4sCzL0p///GclJyfrhRdesLs8AAAAvwVNwEpLS9Mrr7yil156SQcOHJAk3XPPPbr99tsVHx9vc3UAAAD%2BC5qAJUlf%2BcpXNH36dDU3N2vgwIGSvvw0dwAAgFASNNdgWZalJUuWKDc3V5MmTdLRo0f16KOPau7cuTpz5ozd5QEAAPgtaALWunXrtHnzZs2fP18xMTGSpAkTJuj1119XdXW1zdUBAAD4L2gCVk1NjebNm6c77rjD8%2Bntt912mxYsWKAtW7bYXB0AAID/giZgNTc3a%2BjQoT7j6enpcjqdNlQEAABwaYImYKWmpmrPnj0%2B42%2B88YbngncAAIBQEDS/RXj//ffrxz/%2BsZxOpyzL0vbt21VTU6N169apoqLC7vIAAAD8FjQBq6CgQB0dHVq5cqXa2to0b9489enTR//6r/%2BqGTNm2F0eAACA34ImYL300ku69dZbVVhYqOPHj8uyLCUlJdldFgAAQMCC5hqsyspKz8Xsffr0uaxwdezYMT344IP6h3/4B/3TP/2TFi1aJLfbLenLi%2Blnz56t7OxsTZo0SVu3bvW677Zt2zR58mRlZWWpqKhIhw4duvSdAgAAV6SgCViDBw/WBx98YOSxHnzwQbW3t%2Bs//uM/tHTpUv3v//6vnn32WUlSSUmJUlJSVFtbqylTpqisrExHjx6VJB05ckSlpaUqKChQbW2tEhMTVVpaaqQmAABw5QiaU4Tp6el65JFHtHr1ag0ePFixsbFey6uqqvx6nI8%2B%2BkiNjY3aunWr%2BvTpI%2BnLwPX0009r7Nixam5u1saNGxUbG6vi4mJt375dmzZtUllZmTZs2KDhw4erqKjIs80xY8aovr5eubm5RvcXAACEr6AJWB9//LFycnIk6bI%2B9yo5OVmrV6/2hKuzWltb9e677yojI8MrvOXk5Gj37t2SpMbGRq8gFRcXp2HDhmnXrl0ELAAA4DdbA9bTTz%2BtsrIyXX311Vq3bp2Rx%2Bzdu7fGjBnjuW1ZltavX6/Ro0fL6XQqJSXFa/2kpCQdO3ZMkuRwOHyW9%2B3b17McAADAH7Zeg7V27Vq5XC6vseLiYjkcDmPbePrpp7V3717927/9m1wul%2Bd7Ds%2BKiYnxXADf1tZ20eUAAAD%2BsHUGy7Isn7H6%2Bnq1t7cbefzFixdr3bp1%2BvnPf67rrrtOsbGx%2Buyzz7zWcbvdiouLkyTFxsb6hCm3262EhAS/t%2BlwOMLyq32ioyMURL8TEZCoqEivn%2BhZ9N9e9N9eod//LrsLuGwXOi4nJyf7nLUyKWiuwTLtJz/5iWpqarR48WJNmDBBktSvXz/t37/fa72WlhYlJyd7lp/7JLS0tJz3OxIvpKamRtXV1T7jOWWrA92FoNK7d7yio0P75ZKQEG93CVc0%2Bm8v%2Bm%2BvUO1/R0eH3SVctgsdl8vKylReXt5t2w3tI%2BYFVFdXq6amRs8884y%2B9a1vecYzMzO1atUqud1uz6nAnTt3auTIkZ7lDQ0NnvVdLpeampoCegIKCwuVl5fnM76w7vil7k5QaG11KZRnsBIS4nXqlEudnaH/v7FQQ//tRf/tFfr9D8WavV3ouHx2cqW72B6wIiIijD7egQMHtHLlSv3zP/%2BzsrOz1dLS4lk2atQoDRgwQBUVFSopKVFdXZ327NmjRYsWSfry63rWrFmjVatWafz48aqurtagQYM0atQov7efkpJy/inHujcve9/s1NFhKdT/oXV2dqmjI7T3IZTRf3vRf3uFbv99L%2BUJNRc8Lncz2wPWggULvD424cyZM1q8eLF69erltZ6/n4P1u9/9Tl1dXVq5cqVWrlwp6ctrvSIiIrR3714tX75cc%2BfOVUFBgQYNGqTly5erf//%2BkqTU1FQtW7ZMCxcu1IoVKzRixIjzTisCAABcjK0BKzc31%2Beap%2BzsbJ04cUInTpy4pMcsLi5WcXHxBZcPGjTooh8JMXbsWL366quXtG0AAADJ5oBl6rOvAAAAgkloXrUMAAAQxAhYAAAAhhGwAAAADCNgAQAAGEbAAgAAMIyABQAAYBgBCwAAwDACFgAAgGEELAAAAMMIWAAAAIYRsAAAAAwjYAEAABhGwAIAADCMgAUAAGAYAQsAAMAwAhYAAIBhBCwAAADDCFgAAACGEbAAAAAMI2ABAAAYRsACAAAwjIAFAABgGAELAADAMAIWAACAYQQsAAAAwwhYAAAAhhGwAAAADCNgAQAAGEbAAgAAMIyABQAAYBgBCwAAwDACFgAAgGEELAAAAMMIWAAAAIYRsAAAAAwjYAEAABhGwAIAADCMgAUAAGAYAQsAAMAwAhYAAIBhBCwAAADDCFgAAACGEbAAAAAMI2ABAAAYRsACAAAwjIAFAABgGAELAADAMAIWAACAYQQsAAAAwwhYAAAAhhGwAAAADAvrgOV2uzV58mTV19d7xpqbmzV79mxlZ2dr0qRJ2rp1q9d9tm3bpsmTJysrK0tFRUU6dOhQT5cNAABCXNgGLLfbrYceekj79%2B/3Gi8tLVVKSopqa2s1ZcoUlZWV6ejRo5KkI0eOqLS0VAUFBaqtrVViYqJKS0vtKB8AAISwsAxYBw4c0F133aXm5mav8e3bt%2BvQoUOqrKzUkCFDVFxcrKysLG3atEmStGHDBg0fPlxFRUVKS0tTVVWVDh8%2B7DUDBgAA8LeEZcB65513NHr0aNXU1MiyLM94Y2OjMjIyFBsb6xnLycnR7t27Pctzc3M9y%2BLi4jRs2DDt2rWr54oHAAAhL9ruArrDjBkzzjvudDqVkpLiNZaUlKRjx45JkhwOh8/yvn37epYDAAD4IyxnsC7E5XIpJibGaywmJkZut1uS1NbWdtHlAAAA/gjLGawLiY2N1WeffeY15na7FRcX51l%2Bbphyu91KSEjwexsOh0NOp/Pyiw0y0dERCtU8HhUV6fUTPYv%2B24v%2B2yv0%2B99ldwGX7ULH5eTkZJ%2BzViZdUQGrX79%2BPr9V2NLSouTkZM/yc5%2BElpYWDR061O9t1NTUqLq62mc8p2z1JVQcPHr3jld0dGi/XBIS4u0u4YpG/%2B1F/%2B0Vqv3v6Oiwu4TLdqHjcllZmcrLy7ttu6F9xAxQZmamVq1aJbfb7TkVuHPnTo0cOdKzvKGhwbO%2By%2BVSU1NTQE9AYWGh8vLyfMYX1h2/zOrt1drqUijPYCUkxOvUKZc6O0P/f2Ohhv7bi/7bK/T7H4o1e7vQcfns5Ep3uaIC1qhRozRgwABVVFSopKREdXV12rNnjxYtWiRJKigo0Jo1a7Rq1SqNHz9e1dXVGjRokEaNGuX3NlJSUs4/5Vj3pqndsEVHh6VQ/4fW2dmljo7Q3odQRv/tRf/tFbr9t/72KkHugsflbhaaUxIBiIiI8Pw9MjJSK1askNPpVEFBgbZs2aLly5erf//%2BkqTU1FQtW7ZMtbW1mj59ulpbW887rQgAAHAxYT%2BDtXfvXq/bAwcO1Lp16y64/tixY/Xqq692d1kAACCMhf0MFgAAQE8jYAEAABhGwAIAADCMgAUAAGAYAQsAAMAwAhYAAIBhBCwAAADDCFgAAACGEbAAAAAMI2ABAAAYRsACAAAwjIAFAABgGAELAADAMAIWAACAYQQsAAAAwwhYAAAAhhGwAAAADCNgAQAAGEbAAgAAMIyABQAAYBgBCwAAwDACFgAAgGEELAAAAMMIWAAAAIYRsAAAAAwjYAEAABhGwAIAADCMgAUAAGAYAQsAAMAwAhYAAIBhBCwAAADDCFgAAACGEbAAAAAMI2ABAAAYRsACAAAwjIAFAABgGAELAADAMAIWAACAYQQsAAAAwwhYAAAAhhGwAAAADCNgAQAAGEbAAgAAMIyABQAAYBgBCwDVvgDJAAAKA0lEQVQAwDACFgAAgGEELAAAAMMIWAAAAIYRsAAAAAwjYAEAABhGwAIAADCMgAUAAGAYAes83G63fvSjHyk3N1djx47V2rVr7S4JAACEkGi7CwhGP/3pT9XU1KR169apublZjz76qFJTUzVx4kS7SwMAACGAGaxzuFwubdq0SY8//rjS09M1YcIEfe9739P69evtLg0AAIQIAtY59u3bp87OTmVlZXnGcnJy1NjYaGNVAAAglBCwzuF0OnXttdcqOvr/zp4mJSWpvb1dJ06csLEyAAAQKghY53C5XIqJifEaO3vb7XbbURIAAAgxXOR%2BjtjYWJ8gdfZ2fHz837y/w%2BGQ0%2Bn0GR%2Bc9LfvG6wGJ8UrOoRfKZGRUkdHhyIjFdL7Earov73ov73Cof%2Bhfvy60HE5OTlZKSkp3bbtEH26u0%2B/fv108uRJdXV1KTLyywm%2BlpYWxcXFKSEh4W/ev6amRtXV1T7jubm5%2BvnSpd36ZOL8HA6HXnhhjQoLC%2Bm/Dei/vei/vcKh/0/NHGl3CZfM4XDooYceUn19vc%2BysrIylZeXd9u2CVjnGDp0qKKjo7V7926NGDFCkrRjxw7deOONft2/sLBQeXl5XmMHDhzQnDlz5HQ6Q/YfWChzOp2qrq5WXl4e/bcB/bcX/bcX/beX0%2BlUfX29Fi9erLS0NK9lycnJ3bptAtY54uLilJ%2Bfr/nz5%2Bupp57SsWPHtHbtWi1atMiv%2B6ekpPCPCACAIJKWlqaMjIwe3SYB6zwee%2Bwx/fjHP9asWbPUu3dv/eAHP9CECRPsLgsAAIQIAtZ5xMXFqaqqSlVVVXaXAgAAQhAf0wAAAGBY1JNPPvmk3UVcCXr16qVRo0apV69edpdyRaL/9qL/9qL/9qL/9rKr/xGWZVk9ukUAAIAwxylCAAAAwwhYAAAAhhGwAAAADCNgAQAAGEbAAgAAMIyABQAAYBgBCwAAwDACliFut1s/%2BtGPlJubq7Fjx2rt2rUXXLepqUl33XWXsrKyNH36dP3pT3/qwUrDUyD9//3vf6%2BpU6cqOztb%2Bfn5qqur68FKw1Mg/T%2BrublZ2dnZqq%2Bv74EKw1sg/X///fc1c%2BZMZWZmasqUKXr77bd7sNLwFEj/f/vb3%2Bq2225Tdna27rnnHjU1NfVgpeHN7XZr8uTJF31P6dHjrwUjKisrrfz8fGvv3r3Wb3/7W2vEiBHWa6%2B95rPeF198YY0ZM8Z6%2BumnrQMHDlgLFiywxowZY7lcLhuqDh/%2B9n/v3r3WjTfeaK1fv946ePCgtX79eisjI8Pat2%2BfDVWHD3/7/9fuv/9%2BKz093XrnnXd6qMrw5W//W1tbrTFjxljz5s2zDh48aP37v/%2B7NXLkSOvTTz%2B1oerw4W//P/zwQ%2Bumm26yNm/ebB08eNCqrKy0xowZY7W1tdlQdXhpb2%2B3SktLL/qe0tPHXwKWAV988YV10003WfX19Z6xFStWWN/5znd81t24caM1YcIEr7GJEydaL774YrfXGa4C6f%2BSJUusBx54wGvsu9/9rvXMM890e53hKpD%2Bn7V582ZrxowZBCwDAun/r371K2vixIleY3feeaf1hz/8odvrDFeB9H/t2rVWQUGB5/bp06etG264wXrvvfd6pNZwtX//fis/P9/Kz8%2B/6HtKTx9/OUVowL59%2B9TZ2amsrCzPWE5OjhobG33WbWxsVE5OjtfYiBEjtGvXrm6vM1wF0v9p06bp4Ycf9hk/ffp0t9YYzgLpvySdOHFCP/vZz/STn/xEFt/UddkC6X99fb3y8vK8xjZu3Khx48Z1e53hKpD%2BX3vttdq/f78aGhpkWZZqa2vVu3dvDRo0qCdLDjvvvPOORo8erZqamou%2Bp/T08Te6Wx71CuN0OnXttdcqOvr/2pmUlKT29nadOHFCiYmJnnGHw6Hrr7/e6/5JSUnav39/j9UbbgLp/5AhQ7zu%2B%2BGHH%2Bqtt97SzJkze6zecBNI/yVp0aJFmjZtmtLS0nq61LAUSP8PHTqk4cOHa968eaqrq9PXvvY1/fCHP9SIESPsKD0sBNL/2267TXV1dZo5c6aioqIUGRmpX/7yl%2Brdu7cdpYeNGTNm%2BLVeTx9/mcEywOVyKSYmxmvs7G232%2B013tbWdt51z10P/guk/3/t%2BPHjKi8vV05Ojr75zW92a43hLJD%2Bb9u2Tbt27VJJSUmP1RfuAun/F198odWrVyslJUWrV6/WyJEjdf/99%2BvYsWM9Vm%2B4CaT/J0%2BeVEtLi%2BbPn6%2BNGzdq6tSpqqio0PHjx3us3itZTx9/CVgGxMbG%2BjxBZ2/Hx8f7tW5cXFz3FhnGAun/WS0tLZo1a5YiIiL07LPPdnuN4czf/re3t2v%2B/PmaP3%2B%2Bz5scLl0gr/%2BoqCgNHTpUZWVlSk9P1yOPPKLBgwdr8%2BbNPVZvuAmk/0uWLNENN9ygGTNmaNiwYaqsrFR8fLz%2B67/%2Bq8fqvZL19PGXgGVAv379dPLkSXV1dXnGWlpaFBcXp4SEBJ91nU6n11hLS4uSk5N7pNZwFEj/JenYsWO655571NnZqXXr1vmcwkJg/O1/Y2OjmpubVV5eruzsbGVnZ0uSHnjgAT355JM9XXbYCOT1n5yc7HOafPDgwTpy5EiP1BqOAun/n/70J6Wnp3tuR0REKD09XX/5y196rN4rWU8ffwlYBgwdOlTR0dHavXu3Z2zHjh268cYbfdbNzMz0uaCuoaHB6wJJBCaQ/rtcLn3ve9/TVVddpfXr16tv3749WWpY8rf/mZmZ%2Bp//%2BR9t3rxZv/nNb/Sb3/xGkrRw4UI9%2BOCDPVpzOAnk9Z%2BVlaV9%2B/Z5jX300UdKTU3t9jrDVSD9T0lJ8bne5%2BOPP9bXvva1bq8TPX/8JWAZEBcXp/z8fM2fP1979uzR66%2B/rrVr12rWrFmSvkzI7e3tkqRbbrlFra2teuqpp3TgwAEtWLBALpdL3/72t%2B3chZAWSP%2Bfe%2B45NTc3q6qqSl1dXWppaVFLSwu/RXgZ/O1/TEyMBg4c6PVH%2BvKg06dPHzt3IaQF8vq/%2B%2B679f7776u6uloHDx7Us88%2Bq%2BbmZk2ZMsXOXQhpgfR/%2BvTp2rhxozZv3qyDBw9qyZIlOnLkiKZOnWrnLoQ1W4%2B/3fLhD1cgl8tlVVRUWNnZ2da4ceOsF154wbPshhtu8PqcjcbGRmvatGlWZmamddddd1l79%2B61o%2BSw4m//b731Vis9Pd3nT0VFhV2lh4VAXv9/jc/BMiOQ/jc0NFjTpk2zbrrpJmvatGnWjh077Cg5rATS/02bNlnf/va3rREjRlj33HMP7/%2BGnfueYufxN8Ky%2BCAaAAAAkzhFCAAAYBgBCwAAwDACFgAAgGEELAAAAMMIWAAAAIYRsAAAAAwjYAEAABhGwAIAADCMgAUAAGAYAQsAAMAwAhYAAIBhBCwAAADDCFgAAACG/X8scRxcL27nuAAAAABJRU5ErkJggg%3D%3D\">\n",
       "             </div>\n",
       "      </div>\n",
       "    </div><div class=\"row variablerow\">\n",
       "        <div class=\"col-md-3 namecol\">\n",
       "            <p class=\"h4\">no_times_pregnant<br/><small>Numeric</small></p>\n",
       "        </div>\n",
       "\n",
       "        <div class=\"col-md-6\">\n",
       "            <div class=\"row\">\n",
       "                <div class=\"col-sm-6\">\n",
       "                    <table class=\"stats \">\n",
       "                        <tr><th>Distinct count</th>\n",
       "                        <td>17</td></tr>\n",
       "                        <tr><th>Unique (%)</th>\n",
       "                        <td>2.2%</td></tr>\n",
       "                        <tr class=\"ignore\"><th>Missing (%)</th>\n",
       "                        <td>0.0%</td></tr>\n",
       "                        <tr class=\"ignore\"><th>Missing (n)</th>\n",
       "                        <td>0</td></tr>\n",
       "                    </table>\n",
       "\n",
       "                </div>\n",
       "                <div class=\"col-sm-6\">\n",
       "                    <table class=\"stats \">\n",
       "\n",
       "                        <tr><th>Mean</th>\n",
       "                        <td>3.8451</td></tr>\n",
       "                        <tr><th>Minimum</th>\n",
       "                        <td>0</td></tr>\n",
       "                        <tr><th>Maximum</th>\n",
       "                        <td>17</td></tr>\n",
       "                        <tr class=\"alert\"><th>Zeros (%)</th>\n",
       "                        <td>14.5%</td></tr>\n",
       "                    </table>\n",
       "                </div>\n",
       "            </div>\n",
       "        </div>\n",
       "        <div class=\"col-md-3 collapse in\" id=\"minihistogram2628716045170388321\">\n",
       "             <img src=\"data:image/png;base64,iVBORw0KGgoAAAANSUhEUgAAAMgAAABLCAYAAAA1fMjoAAAABHNCSVQICAgIfAhkiAAAAAlwSFlzAAAPYQAAD2EBqD%2BnaQAABD1JREFUeJzt3D9Iq1ccxvEnRjAJxZvrJYm9hfqHgotDh5aKix0CLkoWaUgXcXMQxEUEodiCijhWhw5SEJcEOugQJ0vxEhBxEFocpBWnoG%2B8clssKjGmw%2BWmlHoP5r3XE1/9fraIh/OLvg/JOb/zvr5yuVyWZY7j6MXOb%2Bro6FAoFLr1uGg4pA%2BCDXdYGe4jx3GUTqeVTCYVjUatzu2rRUAk6evvX2j/6O%2BqxmRGvlD7h0/vqCLg/%2BpqXQBwnxEQwICAAAYEBDAgIIABAQEMCAhgQEAAAwICGBAQwICAAAb1tS7gturrfPL7pKurq6rG%2Bf1%2B%2BXy%2BO6oKD51nAtIeDemHn//Q4cvzW49pfRbUd199qvp6z7xN3DOeunIOX55XfQIYeBesQQADAgIYEBDAgIAABgQEMCAggAEBAQw81Qeplr/Op1Kp5G4sHXjogQfko6cBffvTr1V13yU68PjXg78C6L7jXbAGAQwICGBAQAADAgIYEBDAgIAABg9%2Bm9eWcrnsqilJQ/J%2BIyDvSalU0jeZXW4JfmD4z7xHNCUfHtYggAEBAQwICGDAGuQGbo7Ju9rBcnkcn50vewjIDdwck%2B9qD1uZh50vu/grv0W1O1IfPwtamQd2sQYBDAgIYEBAAAPWII8EZ8XcISCPBGfF3Hm879yj3PZOSqUSO2YuEBCPcfsoIzd9GhqZNQzIwGfP9eq8eOvfD4fqtXPwqqo5nj9pcLUL4WaczTFHf15WOeq11ip7NZ%2B3PtGPv/yu479uP1%2BssUFDX34iv99f1Vz39Wucr1wul21P6jiO0um0ksmkotGo7enhMbW8XmqyzVsoFLSwsKBCoVCL6eExtbxe6IMABgQEMCAggAEBAQxqEpBIJKKRkRFFIpFaTA%2BPqeX1UpNtXsAr%2BIoFGBAQwICAAAYEBDAgIIABAQEMCAhgYD0g6%2Bvr6uvrU29vrxYXF21PD484OztTf3%2B/8vm8JGlvb08DAwNKJBIaHh7W2dmZlTqsBuTk5ETz8/NaWVlRNpvVzs6OcrmczRLgAbu7u0qlUjo8PKz8bHp6WqOjo1pdXVVbW5uWlpas1GI1ILlcTl1dXQqHw/L7/UokEspmszZLgAdkMhlNTU395%2Bao6%2BvryqfGxcWFAoGAlVqs3ud4fHysWCxWeR2LxXR0dGSzBHjAzMyMpNePKnpjYmJCQ0NDmp2dVTAYVCaTsVKL1U%2BQm4591dWxTwCzy8tLTU5Oanl5WZubm0qlUhofH7cyt9WrMxaLyXGcymvHcdTc3GyzBHjQ/v6%2BAoGAOjs7JUnJZFLb29tW5rYakO7ubm1tben09FTFYlFra2vq6emxWQI8qKWlRfl8XgcHB5KkjY2NSljumtU1SDQa1fj4uAYHB1UsFhWPxxWPx22WAA9582ytxsZGzc3NaWxsTJLU1NRUWafceQ3cDwK8HStkwICAAAb/AM3eV8jv7gPAAAAAAElFTkSuQmCC\">\n",
       "\n",
       "        </div>\n",
       "       <div class=\"col-md-12 text-right\">\n",
       "            <a role=\"button\" data-toggle=\"collapse\" data-target=\"#descriptives2628716045170388321,#minihistogram2628716045170388321\" aria-expanded=\"false\" aria-controls=\"collapseExample\">\n",
       "                Toggle details\n",
       "            </a>\n",
       "        </div>\n",
       "        <div class=\"row collapse col-md-12\" id=\"descriptives2628716045170388321\">\n",
       "            <div class=\"col-sm-4\">\n",
       "                  <p class=\"h4\">Quantile statistics</p>\n",
       "                  <table class=\"stats indent\">\n",
       "                        <tr><th>Minimum</th>\n",
       "                        <td>0</td></tr>\n",
       "                        <tr><th>5-th percentile</th>\n",
       "                        <td>0</td></tr>\n",
       "                        <tr><th>Q1</th>\n",
       "                        <td>1</td></tr>\n",
       "                        <tr><th>Median</th>\n",
       "                        <td>3</td></tr>\n",
       "                        <tr><th>Q3</th>\n",
       "                        <td>6</td></tr>\n",
       "                        <tr><th>95-th percentile</th>\n",
       "                        <td>10</td></tr>\n",
       "                        <tr><th>Maximum</th>\n",
       "                        <td>17</td></tr>\n",
       "                        <tr><th>Range</th>\n",
       "                        <td>17</td></tr>\n",
       "                        <tr><th>Interquartile range</th>\n",
       "                        <td>5</td></tr>\n",
       "                  </table>\n",
       "                  <p class=\"h4\">Descriptive statistics</p>\n",
       "                  <table class=\"stats indent\">\n",
       "                        <tr><th>Standard deviation</th>\n",
       "                        <td>3.3696</td></tr>\n",
       "                        <tr><th>Coef of variation</th>\n",
       "                        <td>0.87634</td></tr>\n",
       "                        <tr><th>Kurtosis</th>\n",
       "                        <td>0.15922</td></tr>\n",
       "                        <tr><th>Mean</th>\n",
       "                        <td>3.8451</td></tr>\n",
       "                        <tr><th>MAD</th>\n",
       "                        <td>2.7716</td></tr>\n",
       "                        <tr class=\"\"><th>Skewness</th>\n",
       "                        <td>0.90167</td></tr>\n",
       "                        <tr><th>Sum</th>\n",
       "                        <td>2953</td></tr>\n",
       "                        <tr><th>Variance</th>\n",
       "                        <td>11.354</td></tr>\n",
       "                        <tr><th>Memory size</th>\n",
       "                        <td>6.0 KiB</td></tr>\n",
       "                 </table>\n",
       "            </div>\n",
       "             <div class=\"col-sm-8 histogram\">\n",
       "                 <img src=\"data:image/png;base64,iVBORw0KGgoAAAANSUhEUgAAAlgAAAGQCAYAAAByNR6YAAAABHNCSVQICAgIfAhkiAAAAAlwSFlzAAAPYQAAD2EBqD%2BnaQAAIABJREFUeJzt3XtclHXe//E3hziksgGCKelqdPcQrQQR0zXqlmhrS7Mk1%2B2otkUpSNvpzo6WYZCUh0TJcHUNywceNktvq81sb48leW7VdYUsaBUG8xw6AfP7w5%2BzIVAcvuM1M76ejwcPl%2B81zPX%2BLDbz9rqumfFxOBwOAQAAwBhfqwMAAAB4GwoWAACAYRQsAAAAwyhYAAAAhlGwAAAADKNgAQAAGEbBAgAAMIyCBQAAYBgFCwAAwDAKFgAAgGEULAAAAMMoWAAAAIZRsAAAAAyjYAEAABhGwQIAADCMggUAAGAYBQsAAMAwChYAAIBhFCwAAADDKFgAAACGUbAAAAAMo2ABAAAYRsECAAAwjIIFAABgGAULAADAMAoWAACAYRQsAAAAwyhYAAAAhlGwAAAADKNgAQAAGEbBAgAAMIyCBQAAYJhXFqzy8nJlZGTo6quv1nXXXafs7GzZ7XZJUmZmprp3766YmBjnn%2B%2B8847zZ9evX6/BgwcrNjZWI0eOVGlpqVVjAAAAD%2BWVBSsjI0OnTp3Su%2B%2B%2Bq8mTJ%2Buzzz7TtGnTJEklJSV64okntHbtWq1bt05r167VHXfcIUnav3%2B/0tLSlJKSoiVLlig0NFRpaWmtzlNRUaHp06eroqKi1fflLrxxJsk752Imz%2BGNczGT5/DGuaycyesKVklJibZv366srCxFR0crPj5eGRkZWr58uSSpuLhYPXr0UHh4uPMrMDBQkrRo0SJdeeWVGjlypKKjo5WVlaXvvvtORUVFrcpks9mUm5srm83W6vnchTfOJHnnXMzkObxxLmbyHN44l5UzeV3BioiI0OzZsxUWFuZcczgcOnbsmI4fP67y8nJ17dq1wZ/dtm2bEhISnN8HBQWpR48e2rJli6tjAwAAL%2BJ1Batdu3YaMGCA83uHw6H58%2BfrN7/5jUpKSuTj46O8vDxdd911GjJkiJYuXeq8bUVFhSIjI%2BvcX/v27VVeXn7O8gMAAM/nb3UAV5s0aZJ2796txYsX66uvvpKvr6%2Bio6N17733auPGjXr%2B%2BefVtm1bJScn6%2BTJkwoICKjz8wEBAc4L5AEAAJrCqwtWTk6OCgoKNHXqVF122WW67LLLlJSUpJCQEEnS5Zdfrn379mnBggVKTk5WYGBgvTJlt9udt2%2BKioqKeud6i4uLWz8MAABokYaehyMiIuqdtTLJx%2BFwOFx27xZ6%2BeWXVVhYqJycHP3ud79r9HbvvvuuFixYoGXLlumPf/yj4uLilJ6e7tx%2B7733KjExUampqU3a7/Tp05Wbm1tvPS0tTRkZGc0fBAAAtNg999zT4IvV0tPTNXbsWJft1yuPYOXm5qqwsFBTpkzRDTfc4Fx/4403tGXLFs2dO9e5tmvXLnXr1k2S1KtXL23evNm5raqqSjt37mzWL2D48OFKSkqqtx4REaGjR6tUU1PbkpHcjp%2Bfr0JCgr1qJsk752Imz%2BGNczGT5/DGufz8fDV58uQGX0UYERHh0n17XcEqLi5WXl6eHnroIcXFxamystK5beDAgXrrrbc0d%2B5cJScna82aNfrggw9UUFAgSUpJSdGcOXOUn5%2BvgQMHKjc3V126dFHfvn2bvP/IyMhGDzkeOnRC1dXe8Zf2jJqaWq%2BbSfLOuZjJc3jjXMzkObxtrp97XnYlrytYn376qWpra5WXl6e8vDxJp19J6OPjo127dumNN97QtGnTNG3aNEVFRen111/XVVddJUmKiorS9OnTNXHiRM2cOVO9e/du8HQfAADAz/Haa7DcTW1trY4c%2BcED/1Xg0%2BCqv7%2BvQkPbeN1ROW%2Bci5k8hzfOxUyewxvnOjOTJfu2ZK/nobc%2B2a0Dh09aHaNZhsR11CWhba2OAQCAx6FgnSOr9xzUngMnrI7RLL%2B7soPVEQAA8Ehe907uAAAAVqNgAQAAGEbBAgAAMIyCBQAAYBgFCwAAwDAKFgAAgGEULAAAAMMoWAAAAIZRsAAAAAyjYAEAABhGwQIAADCMggUAAGAYBQsAAMAwChYAAIBhFCwAAADDKFgAAACGUbAAAAAMo2ABAAAYRsECAAAwjIIFAABgGAULAADAMAoWAACAYRQsAAAAwyhYAAAAhlGwAAAADKNgAQAAGEbBAgAAMIyCBQAAYBgFCwAAwDAKFgAAgGEULAAAAMMoWAAAAIZRsAAAAAyjYAEAABhGwQIAADCMggUAAGAYBQsAAMAwChYAAIBhFCwAAADDKFgAAACGUbAAAAAMo2ABAAAYRsECAAAwjIIFAABgGAULAADAMAoWAACAYRQsAAAAwyhYAAAAhlGwAAAADKNgAQAAGOaVBau8vFwZGRm6%2Buqrdd111yk7O1t2u12SVFZWplGjRikuLk6DBg3SunXr6vzs%2BvXrNXjwYMXGxmrkyJEqLS21YgQAAODBvLJgZWRk6NSpU3r33Xc1efJkffbZZ5o2bZokacyYMYqMjNSSJUt06623Kj09XQcOHJAk7d%2B/X2lpaUpJSdGSJUsUGhqqtLQ0K0cBAAAeyOsKVklJibZv366srCxFR0crPj5eGRkZWr58uT7//HOVlZVpwoQJuvTSS5WamqrY2FgtXrxYkrRw4UJdeeWVGjlypKKjo5WVlaXvvvtORUVFFk8FAAA8idcVrIiICM2ePVthYWF11o8dO6Zt27apZ8%2BeCgwMdK7Hx8dr69atkqTt27crISHBuS0oKEg9evTQli1bzk14AADgFbyuYLVr104DBgxwfu9wODR//nz1799fNptNkZGRdW4fHh6u8vJySVJFRUW97e3bt3duBwAAaAqvK1hnmzRpknbt2qVHH31UVVVVCggIqLM9ICDAeQH8yZMnf3Y7AABAU/hbHcCVcnJyVFBQoKlTp%2Bqyyy5TYGCgjhw5Uuc2drtdQUFBkqTAwMB6ZcputyskJKTJ%2B6yoqJDNZmt9eDfg4%2Bsjf/%2BGO7ifn2%2BdP72FN87FTJ7DG%2BdiJs/hjXP5%2Bfk2%2BrwcERFR76yVSV5bsF5%2B%2BWUVFhYqJydHycnJkqQOHTpo7969dW5XWVmpiIgI5/azfwmVlZWKiYlp8n4LCwuVm5tbbz0%2BfXZzR7BcYIC/QkPb/OxtQkKCz1Gac8sb52Imz%2BGNczGT5/C2uebNm93g83J6errGjh3rsv16ZcHKzc1VYWGhpkyZohtuuMG53qtXL%2BXn58tutztPBW7atEl9%2BvRxbt%2B8ebPz9lVVVdq5c2ezfgHDhw9XUlJSvfWJq75v6TiWOWWv1qFDJxrc5ufnq5CQYB09WqWamtpznMx1vHEuZvIc3jgXM3kOb5zLz8%2B30eflMwdXXMXrClZxcbHy8vL00EMPKS4uTpWVlc5tffv2VceOHTVu3DiNGTNGq1at0o4dO5SdnS1JSklJ0Zw5c5Sfn6%2BBAwcqNzdXXbp0Ud%2B%2BfZu8/8jIyIYPOa5a0%2BrZzjVHrUPV1T//H1lNTe0v3sYTeeNczOQ5vHEuZvIc3jZXo8/LLuY9J1r/v08//VS1tbXKy8tTYmKiEhMTdc011ygxMVG%2Bvr6aMWOGbDabUlJStGzZMs2YMUMXX3yxJCkqKkrTp0/XkiVLNGzYMB07dqzBw4oAAAA/x%2BuOYKWmpio1NbXR7V26dFFBQUGj2xMTE/XRRx%2B5IhoAADhPeN0RLAAAAKtRsAAAAAyjYAEAABhGwQIAADCMggUAAGAYBQsAAMAwChYAAIBhFCwAAADDKFgAAACGUbAAAAAMo2ABAAAYRsECAAAwjIIFAABgGAULAADAMAoWAACAYRQsAAAAwyhYAAAAhlGwAAAADKNgAQAAGEbBAgAAMIyCBQAAYBgFCwAAwDB/qwPAPfn7%2BijwAl9JjkZuUavq6mpJtT9zGyv5WB0AAHAeo2ChQZdGXqiFRd9p38Eqq6M0S9fwYD16w%2BVWxwAAnOcoWGjUvoNV2nPghNUxAADwOFyDBQAAYBgFCwAAwDAKFgAAgGEULAAAAMMoWAAAAIZRsAAAAAyjYAEAABhGwQIAADCMggUAAGAYBQsAAMAwChYAAIBhFCwAAADDKFgAAACGUbAAAAAMo2ABAAAYRsECAAAwjIIFAABgGAULAADAMAoWAACAYRQsAAAAwyhYAAAAhlGwAAAADKNgAQAAGEbBAgAAMIyCBQAAYBgFCwAAwDAKFgAAgGFeXbDsdrsGDx6soqIi51pmZqa6d%2B%2BumJgY55/vvPOOc/v69es1ePBgxcbGauTIkSotLbUiOgAA8GBeW7Dsdrsee%2Bwx7d27t856SUmJnnjiCa1du1br1q3T2rVrdccdd0iS9u/fr7S0NKWkpGjJkiUKDQ1VWlqaFfEBAIAH88qCVVxcrN///vcqKytrcFuPHj0UHh7u/AoMDJQkLVq0SFdeeaVGjhyp6OhoZWVl6bvvvqtzBAwAAOCXeGXB2rhxo/r376/CwkI5HA7n%2BvHjx1VeXq6uXbs2%2BHPbtm1TQkKC8/ugoCD16NFDW7ZscXVkAADgRfytDuAKd955Z4PrJSUl8vHxUV5enlavXq2LLrpIo0aN0m233SZJqqioUGRkZJ2fad%2B%2BvcrLy12eGQAAeA%2BvLFiNKSkpka%2Bvr6Kjo3Xvvfdq48aNev7559W2bVslJyfr5MmTCggIqPMzAQEBstvtFiUGAACeyG0K1rBhw5SSkqJbbrlF7dq1c8k%2BbrvtNiUlJSkkJESSdPnll2vfvn1asGCBkpOTFRgYWK9M2e125%2B2boqKiQjabzWhuNI%2B/v49aevbbz8%2B3zp/egJk8hzfOxUyewxvn8vPzbfR5OSIiot5ZK5PcpmD169dPb775prKysnT99ddr6NChGjBggHx8fIzu5%2ByydOmll%2BqLL76QJHXo0KHeL6GyslIxMTFNvv/CwkLl5ubWW49Pn92CtGiJdu2C5e/fur/aISHBhtK4D2byHN44FzN5Dm%2Bba9682Q0%2BL6enp2vs2LEu26/bFKzHH39cjz32mNavX6%2BlS5dq7NixCgkJ0W233abbbrtN3bp1a/U%2B3njjDW3ZskVz5851ru3atct537169dLmzZud26qqqrRz585m/QKGDx%2BupKSkeusTV33fiuRojmPHqtSaI1ghIcE6erRKNTW1ZoNZhJk8hzfOxUyewxvn8vPzbfR5OSIiwqX7dpuCJUk%2BPj4aMGCABgwYoKqqKhUUFGjmzJl666231Lt3b40YMUK//e1vW3z/AwcO1FtvvaW5c%2BcqOTlZa9as0QcffKCCggJJUkpKiubMmaP8/HwNHDhQubm56tKli/r27dvkfURGRjZ8yHHVmhbnRvNUVzskte7BoaamVtXV3vEAcwYzeQ5vnIuZPIe3zdXo87KLuVXBkk5fw/TBBx/ogw8%2B0J49e9S7d2/dfvvtOnDggJ577jkVFRXp2WefbfL9/fQU45VXXqk33nhD06ZN07Rp0xQVFaXXX39dV111lSQpKipK06dP18SJEzVz5kz17t27wcOKAAAAP8dtCtb777%2Bv999/X1988YXCwsJ022236Y033qjznlUdO3bUxIkTm1Wwdu3aVef7pKSkBg8VnpGYmKiPPvqo2fkBAADOcJuC9eyzz2rgwIGaMWOGrr32Wvn61r%2BG5tJLL9U999xjQToAAICmc5uCtXr1aoWGhurw4cPOcrV9%2B3b17NlTfn5%2BkqTevXurd%2B/eVsYEAAD4RW7zZhfHjx/XTTfdpPz8fOdaamqqhgwZov3791uYDAAAoHncpmC98sor%2BvWvf61Ro0Y511asWKGOHTsqKyvLwmQAAADN4zYF68svv9S4cePqvC9FWFiY/ud//keff/65hckAAACax20Klr%2B/v44ePVpvvaqqSg6Hw4JEAAAALeM2Bevaa69VZmamvv32W%2BdaaWmpsrKylJiYaGEyAACA5nGbVxE%2B9dRTGjVqlG688Ubn5wUePXpUPXv21NNPP21xOgAAgKZzm4IVHh6u9957T%2BvXr9e//vUv%2Bfv767LLLlP//v2Nf%2BAzAACAK7lNwZIkPz8/JSYmckoQAAB4NLcpWDabTVOnTtXmzZv1448/1ruw/dNPP7UoGQAAQPO4TcF6/vnn9dVXX%2BmWW25Ru3btrI4DAADQYm5TsD7//HPNnj1bffr0sToKAABAq7jN2zRceOGFCg8PtzoGAABAq7lNwRoyZIhmz56tmpoaq6MAAAC0itucIjx8%2BLCWL1%2Buv//97%2BrcubMCAgLqbH/77bctSgYAANA8blOwJGnQoEFWRwAAAGg1tylYWVlZVkcAAAAwwm2uwZKkiooK5ebm6vHHH9fBgwf10UcfqaSkxOpYAAAAzeI2Beubb77R4MGD9d577%2Bnjjz/WDz/8oBUrViglJUXbtm2zOh4AAECTuU3Bys7OVnJyslauXKkLLrhAkjR58mQlJSXptddeszgdAABA07lNwdq8ebNGjRpV54Od/f39NWbMGO3cudPCZAAAAM3jNgWrtrZWtbW19dZPnDghPz8/CxIBAAC0jNsUrGuuuUazZs2qU7IOHz6snJwc9evXz8JkAAAAzeM2BWvcuHH66quvdM011%2BjUqVMaPXq0Bg4cqLKyMj311FNWxwMAAGgyt3kfrA4dOmjp0qVavny5du3apdraWt15550aMmSI2rZta3U8AACAJnObgiVJwcHBGjZsmNUx4MH8fH0kOVpxD7Wqrq6WVNvK%2B2kJn1%2B%2BCQDAI7hNwbrvvvt%2BdjufRYimiAoN0pRP/qV9B6usjtJkXcOD9egNl1sdAwBgkNsUrKioqDrfV1dX65tvvtGePXs0YsQIi1LBE%2B07WKU9B05YHQMAcB5zm4LV2GcRzpgxQwcOHDjHaQAAAFrObV5F2JghQ4boww8/tDoGAABAk7l9wdqyZQtvNAoAADyK25wibOgi9%2BPHj%2Buf//yn7rrrLgsSAQAAtIzbFKxOnTrV%2BRxCSbrgggt0zz336NZbb7UoFQAAQPO5TcHKzs62OgIAAIARblOwioqKmnzbhIQEFyYBAABoHbcpWPfee6/zFKHD8Z930D57zcfHR7t27Tr3AQEAAJrIbQrWm2%2B%2BqczMTD355JPq27evAgICtGPHDk2YMEG33367br75ZqsjAgAANInbvE1DVlaWXnjhBd14440KDQ1VmzZt1K9fP02YMEELFixQVFSU8wsAAMCduU3BqqioaLA8tW3bVocOHbIgEQAAQMu4TcGKjY3V5MmTdfz4cefa4cOHlZOTo/79%2B1uYDAAAoHnc5hqs5557Tvfdd5%2BuvfZade3aVQ6HQ/v27VNERITefvttq%2BMBAAA0mdsUrOjoaK1YsULLly9XcXGxJOnuu%2B/WLbfcouDgYIvTAQAANJ3bFCxJ%2BtWvfqVhw4aprKxMnTt3lnT63dwBAAA8idtcg%2BVwOPTaa68pISFBgwYN0oEDB/TUU0/p2Wef1Y8//mh1PAAAgCZzm4JVUFCg999/X%2BPHj1dAQIAkKTk5WStXrlRubq7F6QAAAJrObQpWYWGhXnjhBQ0dOtT57u0333yzMjMztWzZMovTAQAANJ3bFKyysjLFxMTUW%2B/evbtsNpsFiQAAAFrGbQpWVFSUduzYUW999erVzgveAQAAPIHbvIrwj3/8o1566SXZbDY5HA5t2LBBhYWFKigo0Lhx46yOBwAA0GRuU7BSUlJUXV2tvLw8nTx5Ui%2B88ILCwsL0pz/9SXfeeafV8QAAAJrMbQrW8uXLddNNN2n48OH6/vvv5XA4FB4ebnUsAACAZnOba7AmTJjgvJg9LCzMSLmy2%2B0aPHiwioqKnGtlZWUaNWqU4uLiNGjQIK1bt67Oz6xfv16DBw9WbGysRo4cqdLS0lbnAAAA5xe3KVhdu3bVnj17jN2f3W7XY489pr1799ZZT0tLU2RkpJYsWaJbb71V6enpOnDggCRp//79SktLU0pKipYsWaLQ0FClpaUZywQAAM4PbnOKsHv37nriiSc0e/Zsde3aVYGBgXW2Z2VlNfm%2BiouL9fjjj9db37Bhg0pLS7Vw4UIFBgYqNTVVGzZs0OLFi5Wenq6FCxfqyiuv1MiRI537HDBggIqKipSQkNCq%2BQAAwPnDbY5gff3114qPj1ebNm1ks9lUVlZW56s5Nm7cqP79%2B6uwsFAOh8O5vn37dvXs2bNOeYuPj9fWrVud239apIKCgtSjRw9t2bKlldMBAIDziaVHsCZNmqT09HRdeOGFKigoMHa/jb3q0GazKTIyss5aeHi4ysvLJUkVFRX1trdv3965HQAAoCksPYI1d%2B5cVVVV1VlLTU1VRUWFS/ZXVVXl/JzDMwICAmS32yVJJ0%2Be/NntAAAATWHpEayfnr47o6ioSKdOnXLJ/gIDA3XkyJE6a3a7XUFBQc7tZ5cpu92ukJCQJu%2BjoqKCj/ZBs/n7%2B8hV/97x8/Ot86c38MaZJO%2Bci5k8hzfO5efn2%2BjzckRERL2zVia5zUXu50KHDh3qvaqwsrJSERERzu1n/xIqKysb/IzExhQWFio3N7feenz67BYkxvmiXbtg%2Bfu79j/HkJBgl96/FbxxJsk752Imz%2BFtc82bN7vB5%2BX09HSNHTvWZfs9rwpWr169lJ%2BfL7vd7jwVuGnTJvXp08e5ffPmzc7bV1VVaefOnc36BQwfPlxJSUn11ieu%2Br6V6eHNjh2rkiuPYIWEBOvo0SrV1NS6ZB/nmjfOJHnnXMzkObxxLj8/30afl88cXHEVywuWj4/POdtX37591bFjR40bN05jxozRqlWrtGPHDmVnZ0s6/XE9c%2BbMUX5%2BvgYOHKjc3Fx16dJFffv2bfI%2BIiMjGz7kuGqNqTHghaqrHZJc%2B4BWU1Or6mrveNA8wxtnkrxzLmbyHN42V6PPyy5mecHKzMys87YJP/74o3JyctSmTZs6t2vO%2B2D91E8LnK%2Bvr2bOnKlnnnlGKSkp6tKli2bMmKGLL75YkhQVFaXp06dr4sSJmjlzpnr37t3gYUUAAICfY2nBSkhIqHfNU1xcnA4dOqRDhw4Z2ceuXbvqfN%2B5c%2BeffUuIxMREffTRR0b2DQAAzk%2BWFiyT730FAADgLrzntZgAAABugoIFAABgGAULAADAMAoWAACAYRQsAAAAwyhYAAAAhlGwAAAADKNgAQAAGEbBAgAAMIyCBQAAYBgFCwAAwDAKFgAAgGEULAAAAMMoWAAAAIZRsAAAAAzztzoAAE/ksHj/taqurpZU28IsPobzAEBdFCwALTLlkz3ad7DK6hjN0jU8WI/ecLnVMQCcByhYAFpk38Eq7TlwwuoYAOCWuAYLAADAMAoWAACAYRQsAAAAwyhYAAAAhlGwAAAADKNgAQAAGEbBAgAAMIyCBQAAYBgFCwAAwDAKFgAAgGEULAAAAMMoWAAAAIZRsAAAAAyjYAEAABhGwQIAADCMggUAAGAYBQsAAMAwChYAAIBhFCwAAADDKFgAAACGUbAAAAAMo2ABAAAYRsECAAAwjIIFAABgGAULAADAMAoWAACAYRQsAAAAwyhYAAAAhlGwAAAADKNgAQAAGEbBAgAAMIyCBQAAYBgFCwAAwLDzsmCtXLlS3bt3V0xMjPPPRx55RJJUVlamUaNGKS4uToMGDdK6dessTgsAADyNv9UBrLB3714lJSUpMzNTDodDkhQYGChJGjNmjGJiYrRkyRKtXLlS6enp%2BvDDD3XxxRdbGRkAAHiQ87JgFRcX67/%2B678UFhZWZ33Dhg0qKyvTokWLFBgYqNTUVG3YsEGLFy9Wenq6RWkBAICnOS9PERYXF6tbt2711rdv366ePXs6j2ZJUnx8vLZu3Xou4wFwET9fH0kON/6qVXV1taTaBrYB8CTn5RGsr7/%2BWmvWrFFeXp5qa2t10003KSMjQzabTZGRkXVuGx4ervLycouSAjApKjRIUz75l/YdrLI6SpN1DQ/WozdcbnUMAM103hWsf//73zp58qQCAwM1bdo0lZWVaeLEiTp58qSqqqoUEBBQ5/YBAQGy2%2B0WpQVg2r6DVdpz4ITVMQB4ufOuYHXq1ElffPGFQkJCJEndu3dXbW2tnnzySQ0dOlRHjx6tc3u73a6goKAm339FRYVsNpvRzPBufr4%2B8nfhf4m%2BvlJ1dbV8feXS/cB1/P195KlXdPj5%2Bdb50xt440ySd87l5%2Bfb6PNyREREvbNWJp2XD7dnytUZ0dHROnXqlNq3b6/i4uI62yorKxUREdHk%2By4sLFRubm699fj02S0LC68XFRqknA/3eNRpq36XXmR1hPNKu3bB8vfwdhwSEmx1BOO8cSbJ%2B%2BaaN292g8/L6enpGjt2rMv269n/xbbA2rVr9fjjj2v16tXOi9l37typ0NBQ9enTR3PmzJHdbneeKty0aZP69OnT5PsfPny4kpKS6q1PXPW9mQHglTzttFWXcO96AHZ3x45VyZOPYIWEBOvo0SrV1NRaHccIb5xJ8s65/Px8G31ebs7Bk5Y47wpWXFycgoOD9eyzzyotLU3ffvutcnJy9OCDDyohIUEdO3bUuHHjNGbMGK1atUo7duxQdnZ2k%2B8/MjKy4UOOq9YYnALA%2BaS6%2BvQrDD1ZTU2tqqs9e4azeeNMkvfN1ejzsot55j%2BJWqFNmzb685//rEOHDumOO%2B7Q888/rz/84Q%2B6//775evrq7y8PNlsNqWkpGjZsmWaMWMGbzIKAACa5bw7giWdvubqz3/%2Bc4PbOnfurIKCgnOcCAAAeJPz7ggWAACAq1GwAAAADKNgAQAAGEbBAgAAMIyCBQAAYBgFCwAAwDAKFgAAgGEULAAAAMMoWAAAAIZRsAAAAAyjYAEAABhGwQIAADCMggUAAGAYBQsAAMAwChYAAIBhFCwAAADDKFgAAACGUbAAAAAMo2ABAAAYRsECAAAwjIIFAABgGAULAADAMAoWAACAYRQsAAAAwyhYAAAAhlGwAAAADKNgAQAAGEbBAgAAMIyCBQAAYBgFCwAAwDAKFgAAgGEULAAAAMMoWAAAAIZRsAAAAAzztzoAAMDbOH7yv2tVXV0tqfasdXdvJizIAAAOVUlEQVTmY3UAeAEKFgDAuCmf7NG%2Bg1VWx2iWruHBevSGy62OAS9BwQIAGLfvYJX2HDhhdQzAMlyDBQAAYBgFCwAAwDAKFgAAgGEULAAAAMMoWAAAAIZRsAAAAAyjYAEAABjG%2B2ABgBvz8/WR57wD%2Bhmelhcwj4IFAG4sKjRIUz75l0e9K3q/Sy%2ByOgJgOQoWALg5T3tX9C7hwVZHACzHNVgAAACGUbAAAAAMo2ABAAAYRsECAAAwjIIFAABgGAWrAXa7Xc8884wSEhKUmJiouXPnWh0JAAB4EN6moQGvvvqqdu7cqYKCApWVlempp55SVFSUfvvb31odDQAAeACOYJ2lqqpKixcv1nPPPafu3bsrOTlZDzzwgObPn291NACAC/3nXfN/6atW1dXVkmqbePtz8QV3wxGss%2BzevVs1NTWKjY11rsXHx2vWrFkWpgIAuJonvmt%2B1/BgPXrD5VbHQAMoWGex2Wy66KKL5O//n/9rwsPDderUKR06dEihoaEWpgMAuJKnvWs%2B3BcF6yxVVVUKCAios3bme7vdbkUkAAAaZPbDwM8%2B9elqPudgH9ahYJ0lMDCwXpE6831w8C9/vlZFRYVsNlu99a4e9tlcXcKDPfICvU6/CvS43GQ%2BdzwxN5nPHU/MndD1V1qyuUzlR09ZHaXJOoQEanjfLjoXl4H7%2Bfk2%2BrwcERGhyMhIl%2B2bgnWWDh066PDhw6qtrZWv7%2BlffmVlpYKCghQSEvKLP19YWKjc3Nx66wkJCZo6ebJLf5nnUkVFhQoLCzV8%2BHCvmUnyzrmYyXN441zM5Dm8ca6Kigo99thjKioqqrctPT1dY8eOddm%2BKVhniYmJkb%2B/v7Zu3arevXtLkr788ktdccUVTfr54cOHKykpqc5acXGxnnzySdlsNq/5S2uz2ZSbm6ukpCSvmUnyzrmYyXN441zM5Dm8cS6bzaaioiLl5OQoOjq6zraIiAiX7puCdZagoCANGTJE48eP1yuvvKLy8nLNnTtX2dnZTfr5yMhIr/mLCQCAN4iOjlbPnj3P6T4pWA14%2Bumn9dJLL2nEiBFq166dHnnkESUnJ1sdCwAAeAgKVgOCgoKUlZWlrKwsq6MAAAAP5GkvmAAAAHB7fi%2B%2B%2BOKLVoc4H7Rp00Z9%2B/ZVmzZtrI5ijDfOJHnnXMzkObxxLmbyHN44l1Uz%2BTgcDj7ECAAAwCBOEQIAABhGwQIAADCMggUAAGAYBQsAAMAwChYAAIBhFCwAAADDKFgAAACGUbBczG6365lnnlFCQoISExM1d%2B5cqyO1Wnl5uTIyMnT11VfruuuuU3Z2tux2u9WxjElNTdXTTz9tdQwj7Ha7XnrpJfXt21fXXHONpkyZYnWkVjtw4IAefvhhxcfH6/rrr9e8efOsjtRidrtdgwcPVlFRkXOtrKxMo0aNUlxcnAYNGqR169ZZmLBlGppr69at%2BsMf/qC4uDj97ne/06JFiyxM2HwNzXTG8ePHde2112rp0qUWJGu5hmbav3%2B/HnzwQcXGxurGG2/Uhx9%2BaGHClmlori%2B//FJDhw5VXFycbr/9dm3YsMHlOShYLvbqq69q586dKigo0Pjx45Wbm6u//e1vVsdqlYyMDJ06dUrvvvuuJk%2BerM8%2B%2B0zTpk2zOpYR//u//6vVq1dbHcOYzMxMbdiwQXPmzNFrr72mhQsXauHChVbHapVHHnlEbdq00XvvvadnnnlGU6dO1cqVK62O1Wx2u12PPfaY9u7dW2c9LS1NkZGRWrJkiW699Valp6frwIEDFqVsvobmqqysVGpqqvr166f3339fY8eOVWZmpv7v//7PwqRN19jv6oxJkybJZrOd41St09BMNTU1Sk1NVWBgoJYuXar7779fTz75ZKNzu6OG5vr%2B%2B%2B81evRoDR48WMuWLdNNN92kMWPGqLy83KVZKFguVFVVpcWLF%2Bu5555T9%2B7dlZycrAceeEDz58%2B3OlqLlZSUaPv27crKylJ0dLTi4%2BOVkZGh5cuXWx2t1Y4cOaKcnBxdddVVVkcx4siRI/rrX/%2BqzMxMXXHFFerXr5/uv/9%2Bbdu2zepoLXb06FFt27ZNo0ePVpcuXXT99dcrMTFRn3/%2BudXRmqW4uFi///3vVVZWVmd9w4YNKi0t1YQJE3TppZcqNTVVsbGxWrx4sUVJm6exuVauXKmIiAj96U9/UpcuXXTzzTdryJAhHvG40dhMZ3z55Zf64osv1L59%2B3OcrOUam%2Bnvf/%2B7ysvLNWnSJHXt2lXDhw/Xf//3f2vLli0WJW2exubavHmz/P39NWrUKF1yySV66KGHFBAQ4PLHQgqWC%2B3evVs1NTWKjY11rsXHx2v79u0WpmqdiIgIzZ49W2FhYc41h8OhY8eOWZjKjFdffVVDhgxRdHS01VGM2LRpk9q1a6c%2Bffo41x588EFNnDjRwlStExQUpODgYC1ZskTV1dUqKSnR5s2b1aNHD6ujNcvGjRvVv39/FRYW6qefVrZ9%2B3b17NlTgYGBzrX4%2BHht3brVipjN1thc1157rbKysurd3hMeNxqbSTp9tOSFF17Q%2BPHjdcEFF1iUsPkam6moqEj9%2BvXThRde6FzLzc3VsGHDrIjZbI3NddFFF%2Bnw4cP65JNPJJ0u/D/88IMuv/xyl%2Bbxd%2Bm9n%2BdsNpsuuugi%2Bfv/5//m8PBwnTp1SocOHVJoaKiF6VqmXbt2GjBggPN7h8Oh%2BfPn6ze/%2BY2FqVpvw4YN2rRpk5YtW6bx48dbHceI0tJSRUVFaenSpZo1a5Z%2B/PFHDR06VKNHj5aPj4/V8VokICBAL7zwgiZMmKC3335bNTU1Gjp0qIYOHWp1tGa58847G1y32WyKjIyssxYeHu7yUxmmNDZXp06d1KlTJ%2Bf3Bw8e1IoVK5SRkXGuorVYYzNJ0ptvvqmePXt63ONfYzOVlpbqkksu0euvv673339fYWFhSk9PV3Jy8jlO2DKNzdWnTx/dddddysjIkK%2Bvr2pra5WVlaWuXbu6NA9HsFyoqqpKAQEBddbOfO8tF4VPmjRJu3fv1qOPPmp1lBaz2%2B168cUXNX78%2BHq/L0/2ww8/aN%2B%2BfVq4cKGys7M1btw4FRQUePRF4dLp0wBJSUlatGiRsrOz9fHHH3vEqaamaOwxw1seLyTp1KlTGjt2rCIjIzV8%2BHCr47TY3r17tXDhQq95QYx0%2BjHjr3/9q44ePapZs2ZpyJAheuSRR/SPf/zD6mitcuLECZWWliojI0OLFy/Www8/rJdffllff/21S/fLESwXCgwMrPfAeOb74OBgKyIZlZOTo4KCAk2dOtWjT6tNnz5dV1xxhcf9K/SX%2BPn56cSJE5o8ebIuvvhiSdJ3332nBQsWaOTIkdaGa6ENGzZo8eLFWr16tQICAtSjRw8dOHBAeXl5GjRokNXxWi0wMFBHjhyps2a32xUUFGRRIrN%2B%2BOEHjR49Wt9%2B%2B60WLFhQ51Sop3n%2B%2BeeVkZFR53IJT%2Bfn56fQ0FC99NJLkqSYmBh9%2BeWXKiws1IQJEyxO13L5%2BfmSpNGjR0s6Pde2bdv09ttvu/SMBQXLhTp06KDDhw%2BrtrZWvr6nDxZWVlYqKChIISEhFqdrnZdfflmFhYXKycnxmMPHjVmxYoUOHjyouLg4SdKPP/4oSfr444%2B1efNmK6O1SmRkpAIDA53lSpK6devmUa9IO9s//vEPde3atc5RnpiYGM2aNcvCVOZ06NCh3iu2KisrFRERYVEic44fP64HHnhAZWVlmjdvnjp37mx1pBb797//rS1btuif//yn89qykydPavz48VqxYoXeeustixO2TEREhPO56oxu3bppz549FiUyY%2BfOnerevXudtZiYGJe/OpKC5UIxMTHy9/fX1q1b1bt3b0mnX3FyxRVXWJysdXJzc1VYWKgpU6bohhtusDpOq82fP1/V1dXO73NyciRJTz75pFWRjOjVq5dOnTqlb775Rr/%2B9a8lnT69FhUVZXGylouMjNQ333yj6upq57WNJSUluuSSSyxOZkavXr2Un58vu93uLJGbNm2q80IFT%2BRwOJSenq7vvvtO8%2BfPd/m1L6528cUXOy%2BYPuOee%2B7RiBEjPPpIamxsrN588005HA7ndZqe/pghnX7cOLtMnYvHDa7BcqGgoCANGTJE48eP144dO7Ry5UrNnTtXI0aMsDpaixUXFysvL0%2BpqamKi4tTZWWl88tTdezYUZ07d3Z%2BtWnTRm3atPHof2FLp//led1112ncuHHavXu31qxZo/z8fN11111WR2uxpKQk%2Bfv767nnntO%2Bffu0atUqzZo1S/fdd5/V0Yzo27evOnbsqHHjxmnv3r166623tGPHDt1xxx1WR2uVRYsWaePGjcrMzFTbtm2djxlnnw71FL6%2BvnUeMzp37iw/Pz%2BFhYXVe5GCJ7nllltUW1urF198Ud9%2B%2B63eeecdrVmzxqOvlZOkYcOGafXq1Zo3b55KS0v1l7/8RWvXrnX5YyFHsFzs6aef1ksvvaQRI0aoXbt2euSRRzz6lNqnn36q2tpa5eXlKS8vT5Kc/9rZtWuXxelwttdee02ZmZm6%2B%2B67FRwcrHvvvVd333231bFarG3btvrLX/6iV155RcOGDVNYWJjS0tI85mXkDfnpKzp9fX01c%2BZMPfPMM0pJSVGXLl00Y8aMOqd5PYWPj49ztr/97W9yOBx6%2BOGH69wmISFBb7/9thXxWuTnXn3rqa/M/Wnutm3bas6cOXrxxRc1ePBgderUSVOnTq13es0T/HSuXr16afr06Zo2bZqmTZumbt26KT8/3%2BXXDvs4zn5jDwAAALQKpwgBAAAMo2ABAAAYRsECAAAwjIIFAABgGAULAADAMAoWAACAYRQsAAAAwyhYAAAAhlGwAAAADKNgAQAAGEbBAgAAMIyCBQAAYBgFCwAAwLD/B6dJiM6l3SrcAAAAAElFTkSuQmCC\">\n",
       "             </div>\n",
       "      </div>\n",
       "    </div><div class=\"row variablerow\">\n",
       "        <div class=\"col-md-3 namecol\">\n",
       "            <p class=\"h4\">plasma_glucose_conc<br/><small>Numeric</small></p>\n",
       "        </div>\n",
       "\n",
       "        <div class=\"col-md-6\">\n",
       "            <div class=\"row\">\n",
       "                <div class=\"col-sm-6\">\n",
       "                    <table class=\"stats \">\n",
       "                        <tr><th>Distinct count</th>\n",
       "                        <td>136</td></tr>\n",
       "                        <tr><th>Unique (%)</th>\n",
       "                        <td>17.7%</td></tr>\n",
       "                        <tr class=\"ignore\"><th>Missing (%)</th>\n",
       "                        <td>0.0%</td></tr>\n",
       "                        <tr class=\"ignore\"><th>Missing (n)</th>\n",
       "                        <td>0</td></tr>\n",
       "                    </table>\n",
       "\n",
       "                </div>\n",
       "                <div class=\"col-sm-6\">\n",
       "                    <table class=\"stats \">\n",
       "\n",
       "                        <tr><th>Mean</th>\n",
       "                        <td>120.89</td></tr>\n",
       "                        <tr><th>Minimum</th>\n",
       "                        <td>0</td></tr>\n",
       "                        <tr><th>Maximum</th>\n",
       "                        <td>199</td></tr>\n",
       "                        <tr class=\"ignore\"><th>Zeros (%)</th>\n",
       "                        <td>0.7%</td></tr>\n",
       "                    </table>\n",
       "                </div>\n",
       "            </div>\n",
       "        </div>\n",
       "        <div class=\"col-md-3 collapse in\" id=\"minihistogram2561668066604511369\">\n",
       "             <img src=\"data:image/png;base64,iVBORw0KGgoAAAANSUhEUgAAAMgAAABLCAYAAAA1fMjoAAAABHNCSVQICAgIfAhkiAAAAAlwSFlzAAAPYQAAD2EBqD%2BnaQAABLFJREFUeJzt3D9Ia2cYBvAnRvRahdhe8sdeqcFFunVwCC5REAQ1BIQ0/hl00UEEF3G4SqAFnRQR4hwQl5R0cVCc7KCo6FDpIEqLtyJFc0gsNUVLjO9d2rSW3q/k4DknMc9vC3L43hzfh5PvfN85NhERmCyZTCIejyMcDsPlcpk9PJUYK/vFZkVAiEpFhdUFEBUzBoRIgQEhUmBAiBQYECKFSqsLoL%2BJCHK5nK5j7XY7bDbbM1dEDEgRyeVyiHzzPd6l7go6zvu6Bl9/%2BQUqK/nvfG48o0XmXeoOZ1e/W10G/YlzECIFBoRIgQEhUmBAiBQYECIFBoRIgbd5XwB7hY0LjAZhQAygd0Vcb5O/%2BfgVvvr2By4wGoBnxgB6V8R9zfW6x%2BQCozEYEIPoadjPXtcYVA3pxUk6kQIDQqTAgBApMCBECgwIkQIDQqTAgBApMCBECgwIkQJX0suY3k2O5bTBkQEpY3o2OZbbBsfy%2BJb0QdzkqMY5CJECA0KkwIAQKTAgRAoMCJEC72JRQcrtBREMCBWk3F4QUVrVUlHQs3ZSqlceBoRMUapXHgaETFOKq/YMiILZL4Cj4sOAKFjxAjgqLgzI/%2BAL4MobFwqJFBgQIgXLfmL99MtNwcdUVNjgdTsKvifOyTbpZVlAjn9O49e7bEHHNDhe4c0nH6GiorALXy6XQ%2By7H3H92x8FHfd5Qx28OuYTnzqqdV2aS%2BE4s2vUc/6fk01ExOxBk8kk4vE4wuEwXC6X2cNTibGyXyyZg2iahmg0Ck3TrBieSoyV/cJJOpECA0KkwIAQKTAgRAqWBMTpdGJiYgJOp9OK4anEWNkvltzmJSoV/IlFpMCAECkwIEQKDAiRAgNCpMCAECkwIEQKpgdkc3MTvb296OrqwsrKitnDU5GKxWIIBAIIBAJ4%2B/YtHh4ecHZ2hnA4jO7ubkxOTuL%2B/h4AkMlkMD4%2Bjp6eHoRCIVxcXBhXmJhI0zTp6OiQm5sbeXh4kJGREdnZ2TGzBCpCx8fHEggE5P7%2BXkREpqenJRaLSTAYlMPDQxERWV5elsXFRRERmZubk2g0KiIie3t7Eg6HDavN1CvI7u4ufD4f6uvrYbfbEQwGsbGxYWYJVIQcDgcikQiqq6sBAC0tLTg9PUUmk0FraysAIBQKYXNzEwCwvb2Nvr4%2BAIDP50MqlcLV1ZUhtZkakOvra7jd7vxnt9tt2Bej0tHU1JQPQiqVwtraGpqbm5/0isvlyvfKv/vI6XS%2BjIDIf2z7KvT5cnq5Li8vMTw8jP7%2B/nxg/umvXnl8fPzg356bqd3pdruRTCbzn5PJJDwej5klUJE6OTnB4OAgBgYGMDY2Bo/H86RXNE3L94rH43ny%2BK2maU%2BuKM/J1IC0tbVhf38f6XQa2WwW6%2Bvr8Pv9ZpZARSidTmN0dBSRSARDQ0MAgIaGBtTU1ODo6AgAkEgk8r3S3t6ORCIBADg4OEBtba1hATF9u/vW1hai0Siy2Sw6OzsxNTVl5vBUhJaWlrC6ugqv1wsRgc1mg9/vR29vL2ZnZ5HJZNDY2IiFhQXU1dXh9vYWMzMzOD8/R1VVFebn59HS0mJIbXwehEiBM2QiBQaESOE9I4%2BULCa/q6MAAAAASUVORK5CYII%3D\">\n",
       "\n",
       "        </div>\n",
       "       <div class=\"col-md-12 text-right\">\n",
       "            <a role=\"button\" data-toggle=\"collapse\" data-target=\"#descriptives2561668066604511369,#minihistogram2561668066604511369\" aria-expanded=\"false\" aria-controls=\"collapseExample\">\n",
       "                Toggle details\n",
       "            </a>\n",
       "        </div>\n",
       "        <div class=\"row collapse col-md-12\" id=\"descriptives2561668066604511369\">\n",
       "            <div class=\"col-sm-4\">\n",
       "                  <p class=\"h4\">Quantile statistics</p>\n",
       "                  <table class=\"stats indent\">\n",
       "                        <tr><th>Minimum</th>\n",
       "                        <td>0</td></tr>\n",
       "                        <tr><th>5-th percentile</th>\n",
       "                        <td>79</td></tr>\n",
       "                        <tr><th>Q1</th>\n",
       "                        <td>99</td></tr>\n",
       "                        <tr><th>Median</th>\n",
       "                        <td>117</td></tr>\n",
       "                        <tr><th>Q3</th>\n",
       "                        <td>140.25</td></tr>\n",
       "                        <tr><th>95-th percentile</th>\n",
       "                        <td>181</td></tr>\n",
       "                        <tr><th>Maximum</th>\n",
       "                        <td>199</td></tr>\n",
       "                        <tr><th>Range</th>\n",
       "                        <td>199</td></tr>\n",
       "                        <tr><th>Interquartile range</th>\n",
       "                        <td>41.25</td></tr>\n",
       "                  </table>\n",
       "                  <p class=\"h4\">Descriptive statistics</p>\n",
       "                  <table class=\"stats indent\">\n",
       "                        <tr><th>Standard deviation</th>\n",
       "                        <td>31.973</td></tr>\n",
       "                        <tr><th>Coef of variation</th>\n",
       "                        <td>0.26447</td></tr>\n",
       "                        <tr><th>Kurtosis</th>\n",
       "                        <td>0.64078</td></tr>\n",
       "                        <tr><th>Mean</th>\n",
       "                        <td>120.89</td></tr>\n",
       "                        <tr><th>MAD</th>\n",
       "                        <td>25.182</td></tr>\n",
       "                        <tr class=\"\"><th>Skewness</th>\n",
       "                        <td>0.17375</td></tr>\n",
       "                        <tr><th>Sum</th>\n",
       "                        <td>92847</td></tr>\n",
       "                        <tr><th>Variance</th>\n",
       "                        <td>1022.2</td></tr>\n",
       "                        <tr><th>Memory size</th>\n",
       "                        <td>6.0 KiB</td></tr>\n",
       "                 </table>\n",
       "            </div>\n",
       "             <div class=\"col-sm-8 histogram\">\n",
       "                 <img src=\"data:image/png;base64,iVBORw0KGgoAAAANSUhEUgAAAlgAAAGQCAYAAAByNR6YAAAABHNCSVQICAgIfAhkiAAAAAlwSFlzAAAPYQAAD2EBqD%2BnaQAAIABJREFUeJzt3X90VPWd//FXfjSZFJISwgQxB4qEdQMpkgQSZRE8ZOOPVX7V6FJbqcRt8SwJdEVYsYi2CIaalp%2BBVEByNFS/UXKqyFF3Rd3lpxDlp5tYTCJKLCQTFuRHJxmT3O8fXacOAcyPT7gzw/NxTk7OfO7M3PfkzYf7mnvv3AmxLMsSAAAAjAm1uwAAAIBgQ8ACAAAwjIAFAABgGAELAADAMAIWAACAYQQsAAAAwwhYAAAAhhGwAAAADCNgAQAAGEbAAgAAMIyABQAAYBgBCwAAwDACFgAAgGEELAAAAMMIWAAAAIYRsAAAAAwjYAEAABhGwAIAADCMgAUAAGAYAQsAAMAwAhYAAIBhBCwAAADDCFgAAACGEbAAAAAMI2ABAAAYRsACAAAwjIAFAABgGAELAADAMAIWAACAYQQsAAAAwwhYAAAAhhGwAAAADAvKgFVXV6dZs2bpxhtv1C233KIlS5bI4/FIkhYtWqSkpCQNGTLE%2B/sPf/iD97G7du3ShAkTlJKSomnTpunYsWN2vQwAABCggjJgzZo1S01NTXrxxRe1dOlSvffee1qxYoUkqaamRnPmzNGOHTu0c%2BdO7dixQ/fcc48k6fjx48rNzVV2drbKysoUGxur3NzcLtdTX1%2BvVatWqb6%2BvsvPBf9Df4Mb/Q1u9De42dnfoAtYNTU1OnTokPLz85WYmKgRI0Zo1qxZ2rJliySpurpaQ4cOVVxcnPcnMjJSkvTKK69o2LBhmjZtmhITE5Wfn68vvvhC5eXlXarJ5XKpsLBQLpery68P/of%2BBjf6G9zob3Czs79BF7CcTqfWr1%2Bv3r17e8csy9LZs2d17tw51dXVaeDAgRd97MGDB5Wenu697XA4NHToUO3fv7%2B7ywYAAEEk6AJWdHS0Ro8e7b1tWZY2btyof/iHf1BNTY1CQkJUVFSkW265RZMmTdKrr77qvW99fb3i4%2BN9nq9Pnz6qq6u7YvUDAIDAF253Ad3tmWee0ccff6xNmzbpo48%2BUmhoqBITEzV16lTt3btXCxYsUM%2BePZWVlaXGxkZFRET4PD4iIsJ7gjwAAEB7BHXAKigoUElJiZYvX67Bgwdr8ODByszMVExMjCTp%2Buuv19GjR/XSSy8pKytLkZGRbcKUx%2BPx3r896uvr2xzrra6u7vqLAQAAnXKx7bDT6Wxz1MqkoA1YTz31lEpLS1VQUKCsrCzv%2BIVhadCgQdqzZ48kqW/fvm3CUUNDg4YMGdLu9ZaWlqqwsLDNeG5urpKTkzvyEhAgkpOT9ac//cnuMtBN6G9wo7/BLTk5Wenp6Zo7d26bZXl5eZo5c2a3rTsoA1ZhYaFKS0u1bNky3Xrrrd7xlStXav/%2B/SouLvaOVVZW6rrrrpMkDR8%2BXPv27fMuc7vdqqio6FADpkyZoszMzDbjTqdTZ8641dLS2pmXBD8WFhaqmJgo%2Bhuk6G9wo7/BLSwsVEuXLr3opwidTme3rjvoAlZ1dbWKior00EMPKTU1VQ0NDd5l48aN09q1a1VcXKysrCxt375dmzdvVklJiSQpOztbGzZs0Lp16zRu3DgVFhZqwIABysjIaPf64%2BPjL7nL8dSp82puZgIHq5aWVvobxOhvcKO/wety2%2BXuFGJZlnXF19qN1q5dq2XLlvmMWZalkJAQVVZW6t1339WKFSv02WefKSEhQQ8//LDPIcTt27dr8eLFqqurU1pamhYuXKiEhAQjtRGwglN4eKhiY3vQ3yBFf4Mb/Q1uX/fXDkEXsPwZEzg48R90cKO/wY3%2BBjc7A1bQXQcLAADAbgQsAAAAwwhYAAAAhhGwAAAADCNgAQAAGEbAAgAAMIyABQAAYBgBCwAAwDACFgAAgGEELAAAAMMIWAAAAIYRsAAAAAwjYAEAABhGwAIAADCMgAUAAGAYAQsAAMAwAhYAAIBhBCwAAADDCFgAAACGEbAAAAAMI2ABAAAYRsACAAAwjIAFAABgGAELAADAMAIWAACAYQQsAAAAwwhYAAAAhhGwAAAADCNgAQAAGEbAAgAAMIyABQAAYBgBCwAAwDACFgAAgGEELAAAAMMIWAAAAIYRsAAAAAwjYAEAABhGwAIAADCMgAUAAGAYAQsAAMAwAhYAAIBhBCwAAADDCFgAAACGEbAAAAAMC7e7AADwX5akVjU3N0tq/b/bgSjE7gKAqw4BCwAuo%2BDNP%2BnoSbfdZXTKwLgoPXzr9XaXAVyVCFgAcBlHT7p15MR5u8sAEGA4BwsAAMAwAhYAAIBhBCwAAADDCFgAAACGEbAAAAAMC8qAVVdXp1mzZunGG2/ULbfcoiVLlsjj8UiSamtrlZOTo9TUVI0fP147d%2B70eeyuXbs0YcIEpaSkaNq0aTp27JgdLwEAAASwoAxYs2bNUlNTk1588UUtXbpU7733nlasWCFJmjFjhuLj41VWVqaJEycqLy9PJ06ckCQdP35cubm5ys7OVllZmWJjY5Wbm2vnSwEAAAEo6AJWTU2NDh06pPz8fCUmJmrEiBGaNWuWtmzZovfff1%2B1tbVauHChBg0apOnTpyslJUWbNm2SJL388ssaNmyYpk2bpsTEROXn5%2BuLL75QeXm5za8KAAAEkqALWE6nU%2BvXr1fv3r19xs%2BePauDBw8qOTlZkZGR3vERI0bowIEDkqRDhw4pPT3du8zhcGjo0KHav3//lSkeAAAEhaALWNHR0Ro9erT3tmVZ2rhxo0aNGiWXy6X4%2BHif%2B8fFxamurk6SVF9f32Z5nz59vMsBAADaI%2BgC1oWeeeYZVVZW6uGHH5bb7VZERITP8oiICO8J8I2NjZddDgAA0B5B/V2EBQUFKikp0fLlyzV48GBFRkbqyy%2B/9LmPx%2BORw%2BGQJEVGRrYJUx6PRzExMe1eZ319vVwuV5txp9MphyO6E68C/i4sLNTnN4JJq90FdFl4eIiugvfSncb8DW5hYaGX3S5feNTKpKANWE899ZRKS0tVUFCgrKwsSVLfvn1VVVXlc7%2BGhgY5nU7v8gub0NDQoCFDhrR7vaWlpSosLGwznpeXp5kzZ3b0ZSCAxMRE2V0CDGtubra7hC6Ljo5SeHjQ/ldvDPM3eD3//HpbtstBOesKCwtVWlqqZcuW6dZbb/WODx8%2BXOvWrZPH4/EeCvzwww81cuRI7/J9%2B/Z57%2B92u1VRUdGhBkyZMkWZmZltxp1Op86ccaulJfDfEcNXWFioYmKi6G9QCvx%2Bnj3rFnuwLo35G9zCwkIvu13uTkEXsKqrq1VUVKSHHnpIqampamho8C7LyMhQv379NG/ePM2YMUPvvvuuDh8%2BrCVLlkiSsrOztWHDBq1bt07jxo1TYWGhBgwYoIyMjHavPz4%2B/pK7HE%2BdOq/mZiZwsGppaaW/Qceyu4Aua262FAxBsbsxf4PX5bbL3Sno3ta88847am1tVVFRkcaMGaMxY8bo5ptv1pgxYxQaGqrVq1fL5XIpOztbr7/%2BulavXq1rrrlGkpSQkKBVq1aprKxM9957r86ePXvR3YoAAACXE2JZVuC/RQsQ7MEKTuHhoYqN7UF/g5KlX/y/gzpy4rzdhXTK9df00IofDZcUYncpfov5G9y%2B7q8dgm4PFgAAgN0IWAAAAIYRsAAAAAwjYAEAABhGwAIAADCMgAUAAGAYAQsAAMAwAhYAAIBhBCwAAADDCFgAAACGEbAAAAAMI2ABAAAYRsACAAAwjIAFAABgGAELAADAMAIWAACAYQQsAAAAwwhYAAAAhhGwAAAADCNgAQAAGEbAAgAAMIyABQAAYBgBCwAAwDACFgAAgGEELAAAAMMIWAAAAIYRsAAAAAwjYAEAABhGwAIAADCMgAUAAGAYAQsAAMAwAhYAAIBhBCwAAADDCFgAAACGEbAAAAAMI2ABAAAYRsACAAAwjIAFAABgGAELAADAMAIWAACAYQQsAAAAw8LtLgAA0D3CQkMkWXaX0UUhdhcAdAoBCwCCVEKsQ8ve/kRHT7rtLqXDBsZF6eFbr7e7DKDTCFgAEMSOnnTryInzdpcBXHU4BwsAAMAwAhYAAIBhBCwAAADDCFgAAACGEbAAAAAMI2ABAAAYxmUaAHSjQL/IZaDXD8AuBCwA3WrZ20cC8kKXknTToF52lwAgQAV1wPJ4PMrOztYTTzyh9PR0SdKiRYu0ceNGhYSEyLIshYSE6PHHH9dPfvITSdKuXbuUn5%2BvY8eOKSUlRU899ZT69%2B9v58sAAlogX%2BhyQFyU3SUACFBBew6Wx%2BPR7NmzVVVV5TNeU1OjOXPmaMeOHdq5c6d27Nihe%2B65R5J0/Phx5ebmKjs7W2VlZYqNjVVubq4d5QMAgAAWlAGrurpa//zP/6za2tqLLhs6dKji4uK8P5GRkZKkV155RcOGDdO0adOUmJio/Px8ffHFFyovL7/SLwEAAASwoAxYe/fu1ahRo1RaWirL%2BttJqufOnVNdXZ0GDhx40ccdPHjQeyhRkhwOh4YOHar9%2B/d3d8kAACCIBOU5WPfdd99Fx2tqahQSEqKioiJt27ZNvXr1Uk5OjiZPnixJqq%2BvV3x8vM9j%2BvTpo7q6um6vGQAABI%2BgDFiXUlNTo9DQUCUmJmrq1Knau3evFixYoJ49eyorK0uNjY2KiIjweUxERIQ8Ho9NFQMAgEDkNwHr3nvvVXZ2tu666y5FR0d3yzomT56szMxMxcTESJKuv/56HT16VC%2B99JKysrIUGRnZJkx5PB7v/dujvr5eLperzbjT6ZTD0T2vC/YKCwv1%2BY1varW7AASw8PAQdfeZLMzf4BYWFnrZ7fKFR61M8puAddNNN%2Bn3v/%2B98vPz9Y//%2BI%2B6%2B%2B67NXr0aIWEhBhdz4VhadCgQdqzZ48kqW/fvm2a0NDQoCFDhrT7%2BUtLS1VYWNhmPC8vTzNnzuxExQgUMTF8pP9Czc3NdpeAABYdHaXw8CuzmWL%2BBq/nn19vy3bZbwLWI488otmzZ2vXrl169dVXNXPmTMXExGjy5MmaPHmyrrvuui6vY%2BXKldq/f7%2BKi4u9Y5WVld7nHj58uPbt2%2Bdd5na7VVFR0aEGTJkyRZmZmW3GnU6nzpxxq6WFd/TBJiwsVDExUfT3ovh7oPPOnnXrSuzBYv4Gr7Cw0Mtul7uT3wQsSQoJCdHo0aM1evRoud1ulZSUaM2aNVq7dq3S0tL0wAMP6Lbbbuv0848bN05r165VcXGxsrKytH37dm3evFklJSWSpOzsbG3YsEHr1q3TuHHjVFhYqAEDBigjI6Pd64iPj7/kLsdTp86ruZkJHKxaWlrpbxt81Qw6r7nZ0pUK6czf4HW57XJ38quAJf31HKbNmzdr8%2BbNOnLkiNLS0vTDH/5QJ06c0OOPP67y8nLNnz%2B/3c/3zUOMw4YN08qVK7VixQqtWLFCCQkJ%2Bt3vfqcbbrhBkpSQkKBVq1Zp8eLFWrNmjdLS0i66WxEAAOBy/CZgvfbaa3rttde0Z88e9e7dW5MnT9bKlSt9rlnVr18/LV68uEMBq7Ky0ud2ZmbmRXcVfm3MmDF66623Olw/AADA1/wmYM2fP1/jxo3T6tWrNXbsWIWGtj3uPmjQIN1///02VAcAANB%2BfhOwtm3bptjYWJ0%2Bfdobrg4dOqTk5GSFhYVJktLS0pSWlmZnmQAAAN/Kby78ce7cOd1xxx1at26dd2z69OmaNGmSjh8/bmNlAAAAHeM3Aevpp5/W97//feXk5HjH3njjDfXr10/5%2Bfk2VgYAANAxfhOwPvjgA82bN8/nuhS9e/fWv//7v%2Bv999%2B3sTIAAICO8ZuAFR4erjNnzrQZd7vdsiyupQMAAAKH3wSssWPHatGiRfr888%2B9Y8eOHVN%2Bfr7GjBljY2UAAAAd4zefInz00UeVk5Oj22%2B/3ft9gWfOnFFycrIee%2Bwxm6sDAABoP78JWHFxcfrjH/%2BoXbt26ZNPPlF4eLgGDx6sUaNGGf/CZwAAgO7kNwFLksLCwjRmzBgOCQIAgIDmNwHL5XJp%2BfLl2rdvn7766qs2J7a/8847NlUGAADQMX4TsBYsWKCPPvpId911l6Kjo%2B0uBwAAoNP8JmC9//77Wr9%2BvUaOHGl3KQAAAF3iN5dp%2BO53v6u4uDi7ywAAAOgyvwlYkyZN0vr169XS0mJ3KQAAAF3iN4cIT58%2BrS1btui//uu/1L9/f0VERPgsf%2BGFF2yqDAAAoGP8JmBJ0vjx4%2B0uAQAAoMv8JmDl5%2BfbXQIAAIARfnMOliTV19ersLBQjzzyiE6ePKm33npLNTU1dpcFAADQIX4TsD777DNNmDBBf/zjH/Uf//Ef%2Bstf/qI33nhD2dnZOnjwoN3lAQAAtJvfBKwlS5YoKytLW7du1Xe%2B8x1J0tKlS5WZmanf/va3NlcHAADQfn4TsPbt26ecnByfL3YODw/XjBkzVFFRYWNlAAAAHeM3Aau1tVWtra1txs%2BfP6%2BwsDAbKgIAAOgcvwlYN998s5599lmfkHX69GkVFBTopptusrEyAACAjvGbgDVv3jx99NFHuvnmm9XU1KR//dd/1bhx41RbW6tHH33U7vIAAADazW%2Bug9W3b1%2B9%2Buqr2rJliyorK9Xa2qr77rtPkyZNUs%2BePe0uDwAAoN38JmBJUlRUlO699167ywAAAOgSvwlYP/3pTy%2B7nO8iBAAAgcJvAlZCQoLP7ebmZn322Wc6cuSIHnjgAZuqAgAA6Di/CViX%2Bi7C1atX68SJE1e4GgAAgM7zm08RXsqkSZP05ptv2l0GAABAu/l9wNq/fz8XGgUAAAHFbw4RXuwk93PnzulPf/qTfvzjH9tQEQAAQOf4TcC69tprfb6HUJK%2B853v6P7779fEiRNtqgoAAKDj/CZgLVmyxO4SAAAAjPCbgFVeXt7u%2B6anp3djJQAAAF3jNwFr6tSp3kOElmV5xy8cCwkJUWVl5ZUvEAAAoJ38JmD9/ve/16JFizR37lxlZGQoIiJChw8f1sKFC/XDH/5Qd955p90lAgAAtIvfXKYhPz9fTzzxhG6//XbFxsaqR48euummm7Rw4UK99NJLSkhI8P4AAAD4M78JWPX19RcNTz179tSpU6dsqAgAAKBz/CZgpaSkaOnSpTp37px37PTp0yooKNCoUaNsrAwAAKBj/OYcrMcff1w//elPNXbsWA0cOFCWZeno0aNyOp164YUX7C4PAACg3fwmYCUmJuqNN97Qli1bVF1dLUn6yU9%2BorvuuktRUVE2VwcAANB%2BfhOwJOl73/ue7r33XtXW1qp///6S/no1dwAAgEDiN%2BdgWZal3/72t0pPT9f48eN14sQJPfroo5o/f76%2B%2Buoru8sDAABoN78JWCUlJXrttdf05JNPKiIiQpKUlZWlrVu3qrCw0ObqAAAA2s9vAlZpaameeOIJ3X333d6rt995551atGiRXn/9dZurAwAAaD%2B/CVi1tbUaMmRIm/GkpCS5XC4bKgIAAOgcvwlYCQkJOnz4cJvxbdu2eU94BwAACAR%2B8ynCf/mXf9Gvf/1ruVwuWZal3bt3q7S0VCUlJZo3b57d5QEAALSb3wSs7OxsNTc3q6ioSI2NjXriiSfUu3dv/du//Zvuu%2B8%2Bu8sDAABoN78JWFu2bNEdd9yhKVOm6H//939lWZbi4uLsLgsAAKDD/OYcrIULF3pPZu/du7eRcOXxeDRhwgSVl5d7x2pra5WTk6PU1FSNHz9eO3fu9HnMrl27NGHCBKWkpGjatGk6duxYl%2BsAAABXF78JWAMHDtSRI0eMPZ/H49Hs2bNVVVXlM56bm6v4%2BHiVlZVp4sSJysvL04kTJyRJx48fV25urrKzs1VWVqbY2Fjl5uYaqwkAAFwd/OYQYVJSkubMmaP169dr4MCBioyM9Fmen5/f7ueqrq7WI4880mZ89%2B7dOnbsmF5%2B%2BWVFRkZq%2BvTp2r17tzZt2qS8vDy9/PLLGjZsmKZNm%2BZd5%2BjRo1VeXq709PQuvT4AAHD18Js9WJ9%2B%2BqlGjBihHj16yOVyqba21uenI/bu3atRo0aptLRUlmV5xw8dOqTk5GSf8DZixAgdOHDAu/ybQcrhcGjo0KHav39/F18dAAC4mti6B%2BuZZ55RXl6evvvd76qkpMTY817qU4cul0vx8fE%2BY3Fxcaqrq5Mk1dfXt1nep08f73IAAID2sHUPVnFxsdxut8/Y9OnTVV9f3y3rc7vd3u85/FpERIQ8Ho8kqbGx8bLLAQAA2sPWPVjfPHz3tfLycjU1NXXL%2BiIjI/Xll1/6jHk8HjkcDu/yC8OUx%2BNRTExMu9dRX19/0a/2cTqdcjiiO1E1/F1YWKjPb3xTq90FIICFh4eou/cDMH%2BDW1hY6GW3yxcetTLJb05yvxL69u3b5lOFDQ0Ncjqd3uUXNqGhoeGi35F4KaWlpSosLGwznpeXp5kzZ3aiagSKmJgou0vwO83NzXaXgAAWHR2l8PArs5li/gav559fb8t2%2BaoKWMOHD9e6devk8Xi8hwI//PBDjRw50rt837593vu73W5VVFR0qAFTpkxRZmZmm3Gn06kzZ9xqaeEdfbAJCwtVTEwU/b0o/h7ovLNn3boSe7CYv8ErLCz0stvl7mR7wAoJCbli68rIyFC/fv00b948zZgxQ%2B%2B%2B%2B64OHz6sJUuWSPrr1/Vs2LBB69at07hx41RYWKgBAwYoIyOj3euIj4%2B/5C7HU6fOq7mZCRysWlpa6W8bbU8DANqrudnSlQrpzN/gdbntcneyPWAtWrTI57IJX331lQoKCtSjRw%2Bf%2B3XkOljf9M0AFxoaqjVr1uiXv/ylsrOzNWDAAK1evVrXXHONJCkhIUGrVq3S4sWLtWbNGqWlpV10tyIAAMDl2Bqw0tPT25zzlJqaqlOnTunUqVNG1lFZWelzu3///pe9JMSYMWP01ltvGVk3AAC4OtkasExe%2BwoAEDzCQkN0ZQ4xt/7fhzFau2l9V%2B40GPgX2w8RAgBwoYRYh5a9/YmOnnR/%2B5390MC4KD186/V2lwEbEbAAAH7p6Em3jpw4b3cZQKdwZTUAAADDCFgAAACGEbAAAAAMI2ABAAAYRsACAAAwjIAFAABgGAELAADAMAIWAACAYQQsAAAAwwhYAAAAhhGwAAAADCNgAQAAGEbAAgAAMIyABQAAYBgBCwAAwDACFgAAgGEELAAAAMMIWAAAAIYRsAAAAAwjYAEAABhGwAIAADCMgAUAAGAYAQsAAMAwAhYAAIBhBCwAAADDCFgAAACGEbAAAAAMI2ABAAAYRsACAAAwjIAFAABgGAELAADAMAIWAACAYQQsAAAAwwhYAAAAhhGwAAAADCNgAQAAGEbAAgAAMIyABQAAYBgBCwAAwDACFgAAgGEELAAAAMMIWAAAAIYRsAAAAAwjYAEAABhGwAIAADCMgAUAAGAYAQsAAMCwcLsLAAAg2ISFhkiy7C7DgBC7CwhYBCwAAAxLiHVo2duf6OhJt92ldMrAuCg9fOv1dpcR0K7KgLV161bl5eUpJCRElmUpJCREt912m1asWKHa2lotWLBABw4cUEJCgh577DGNHj3a7pIBAAHm6Em3jpw4b3cZsMlVGbCqqqqUmZmpRYsWybL%2Bugs3MjJSkjRjxgwNGTJEZWVl3iD25ptv6pprrrGzZAAAEECuyoBVXV2tv/u7v1Pv3r19xnfv3q3a2lq98sorioyM1PTp07V7925t2rRJeXl5NlULAAACzVX5KcLq6mpdd911bcYPHTqk5ORk794sSRoxYoQOHDhwJcsDAAAB7qoMWJ9%2B%2Bqm2b9%2Bu22%2B/Xbfeeqt%2B97vf6auvvpLL5VJ8fLzPfePi4lRXV2dTpQAAIBBddYcI//znP6uxsVGRkZHek9oXL16sxsZGud1uRURE%2BNw/IiJCHo/HpmoBAEAguuoC1rXXXqs9e/YoJiZGkpSUlKTW1lbNnTtXd999t86cOeNzf4/HI4fD0e7nr6%2Bvl8vlajPudDrlcER3rXj4pbCwUJ/f%2BKZWuwsA0Enh4SEK9ANdYWGhl90uX3jUyqSrLmBJ8oarryUmJqqpqUl9%2BvRRdXW1z7KGhgY5nc52P3dpaakKCwvbjOfl5WnmzJmdKxgBISYmyu4S/E5zc7PdJQDopOjoKIWHB35MeP759bZslwP/L9dBO3bs0COPPKJt27Z5T2avqKhQbGysRo4cqQ0bNsjj8XgPFX744YcaOXJku59/ypQpyszMbDPudDp15oxbLS28ow82YWGhiomJor8Xxd8DCFRnz7oVDHuwLrdd7k5XXcBKTU1VVFSU5s%2Bfr9zcXH3%2B%2BecqKCjQz3/%2Bc6Wnp6tfv36aN2%2BeZsyYoXfffVeHDx/WkiVL2v388fHxl9zleOrUeTU3s8EJVi0trfS3jWD4qhDg6tTcbCkY3iRdbrvcnQI7mnZCjx499Nxzz%2BnUqVO65557tGDBAv3oRz/Sgw8%2BqNDQUBUVFcnlcik7O1uvv/66Vq9ezUVGAQBAh1x1e7Ckv55z9dxzz110Wf/%2B/VVSUnKFKwIAwH8Ez5dV2%2BeqDFgAAODS%2BLLqriNgAQCANviy6q656s7BAgAA6G4ELAAAAMMIWAAAAIYRsAAAAAwjYAEAABhGwAIAADCMgAUAAGAYAQsAAMAwAhYAAIBhBCwAAADDCFgAAACGEbAAAAAMI2ABAAAYRsACAAAwjIAFAABgWLjdBQC4HMvuAroo0OsHgM4hYAF%2BbtnbR3T0pNvuMjrlpkG97C4BAGxBwAL83NGTbh05cd7uMjplQFyU3SUAgC04BwsAAMAwAhYAAIBhBCwAAADDCFgAAACGEbAAAAAMI2ABAAAYRsACAAAwjIAFAABgGAELAADAMAIWAACAYQQsAAAAwwhYAAAAhhGwAAAADCNgAQAAGEbAAgAAMIyABQAAYBgBCwAAwDACFgAAgGEELAAAAMMIWAAAAIYRsAAAAAwjYAEAABhGwAIAADCMgAUAAGAYAQsAAMAwAhYAAIBhBCwAAADDCFgAAACGEbAAAAAMI2ABAAAYRsAgYH8UAAAJjUlEQVQCAAAwjIAFAABgWLjdBfgjj8ejX/3qV3r77bflcDj04IMPKicnp0vP%2BcEnJ%2BRu/EqtlqEir6BoR7j6x/a0uwwAAAIGAesifvOb36iiokIlJSWqra3Vo48%2BqoSEBN12222dfs6lb32iIyfOG6zyynnolu8HeMDq7lTbqubmZkmt3bCuAEzkAAAC1oXcbrc2bdqk5557TklJSUpKStLPfvYzbdy4sUsBC/Za9vYRHT3ptruMDrtpUC%2B7SwAAdAIB6wIff/yxWlpalJKS4h0bMWKEnn32WRurQlcdPekOyD2IA%2BKi7C4BANAJnOR%2BAZfLpV69eik8/G/ZMy4uTk1NTTp16pSNlQEAgEBBwLqA2%2B1WRESEz9jXtz0ejx0lAQCAAMMhwgtERka2CVJf346K%2BvbDNfX19XK5XG3GBwbwoZ7YHuEKD/B/KYH697/2e5EB/S6I%2Bu0VyPUHcu0S9dttYFyUwsNDFBYWesntstPpVHx8fLfVEOCbTfP69u2r06dPq7W1VaGhf/3n1dDQIIfDoZiYmG99fGlpqQoLC9uMp6ena/nSpd3aTFza0z8e2W3PXV9fr9LSUk2ZMoX%2BBiH6G9zob3Crr6/X7NmzVV5e3mZZXl6eZs6c2W3rJmBdYMiQIQoPD9eBAweUlpYmSfrggw/0gx/8oF2PnzJlijIzM33GqqurNXfuXLlcLiZwEHK5XCosLFRmZib9DUL0N7jR3%2BDmcrlUXl6ugoICJSYm%2BixzOp3dum4C1gUcDocmTZqkJ598Uk8//bTq6upUXFysJUuWtOvx8fHxTFIAAPxIYmKikpOTr%2Bg6CVgX8dhjj%2BnXv/61HnjgAUVHR%2BsXv/iFsrKy7C4LAAAECALWRTgcDuXn5ys/P9/uUgAAQAAK5A8JAAAA%2BKWwX/3qV7%2Byu4irQY8ePZSRkaEePXrYXQq6Af0NbvQ3uNHf4GZXf0Msy%2BLbZAEAAAziECEAAIBhBCwAAADDCFgAAACGEbAAAAAMI2ABAAAYRsACAAAwjIAFAABgGAGrm3k8Hv3yl79Uenq6xowZo%2BLiYrtLQhds3bpVSUlJGjJkiPf3L37xC0lSbW2tcnJylJqaqvHjx2vnzp02V4v28ng8mjBhgsrLy71j39bPXbt2acKECUpJSdG0adN07NixK1022uli/V20aFGbufyHP/zBu5z%2B%2Br%2B6ujrNmjVLN954o2655RYtWbJEHo9Hkn/MXwJWN/vNb36jiooKlZSU6Mknn1RhYaH%2B8z//0%2B6y0ElVVVXKzMzUzp07tXPnTu3YsUOLFy%2BWJM2YMUPx8fEqKyvTxIkTlZeXpxMnTthcMb6Nx%2BPR7NmzVVVV5TOem5t7yX4eP35cubm5ys7OVllZmWJjY5Wbm2tH%2BfgWl%2BpvTU2N5syZox07dnjn8j333COJ/gaKWbNmqampSS%2B%2B%2BKKWLl2q9957TytWrJB0%2Bf%2BPr1h/LXSbv/zlL9YNN9xglZeXe8fWrFljTZ061caq0BVz5syxli5d2mZ8165dVmpqqtXY2OgdmzZtmrVq1aorWR46qKqqypo0aZI1adIkKykpydq7d69lWd/ez%2BXLl/vMY7fbbaWlpXkfD/9wqf5almWNHTvW2rlz50Uft2LFCvrr56qrq62kpCTr5MmT3rEtW7ZYY8eOtXbv3u0X85c9WN3o448/VktLi1JSUrxjI0aM0KFDh2ysCl1RXV2t6667rs34oUOHlJycrMjISO/YiBEjdODAgStZHjpo7969GjVqlEpLS2V941vDvq2fhw4dUnp6uneZw%2BHQ0KFDtX///itXPL7Vpfp77tw51dXVaeDAgRd93MGDB%2Bmvn3M6nVq/fr169%2B7tM3727FkdPHjQL%2BZvuNFngw%2BXy6VevXopPPxvf%2Ba4uDg1NTXp1KlTio2NtbE6dMann36q7du3q6ioSK2trbrjjjs0a9YsuVwuxcfH%2B9w3Li5OdXV1NlWK9rjvvvsuOv5t/ayvr2%2BzvE%2BfPvTbz1yqvzU1NQoJCVFRUZG2bdumXr16KScnR5MnT5ZEfwNBdHS0Ro8e7b1tWZY2btyoUaNG%2Bc38JWB1I7fbrYiICJ%2Bxr29/fSIeAsef//xnNTY2KjIyUitWrFBtba0WL16sxsbGS/aaPgemb%2BtnY2Mj/Q5gNTU1Cg0NVWJioqZOnaq9e/dqwYIF6tmzp7KysuhvAHrmmWdUWVmpTZs2qbi42C/mLwGrG0VGRrZp2Ne3o6Ki7CgJXXDttddqz549iomJkSQlJSWptbVVc%2BfO1d13360zZ8743N/j8cjhcNhRKrooMjJSX375pc/YN/t5qbn99b8N%2BLfJkycrMzPT26/rr79eR48e1UsvvaSsrCz6G2AKCgpUUlKi5cuXa/DgwX4zfzkHqxv17dtXp0%2BfVmtrq3esoaFBDoeDiRqgLuxbYmKimpqa1KdPH7lcLp9lDQ0NcjqdV7I8GNK3b9/L9vPblsP/XTiXBw0apPr6ekn0N5A89dRTev7551VQUKCsrCxJ/jN/CVjdaMiQIQoPD/c50fmDDz7QD37wAxurQmft2LFDN954o5qamrxjFRUVio2N1ciRI/U///M/Pu%2BKPvzwQ58POCBwDB8%2BXBUVFZfs5/Dhw7Vv3z7vMrfbrYqKCvodIFauXKmcnByfscrKSu8HWOhvYCgsLFRpaamWLVumf/qnf/KO%2B8v8JWB1I4fDoUmTJunJJ5/U4cOHtXXrVhUXF%2BuBBx6wuzR0QmpqqqKiojR//nx9%2Bumn%2Bu///m8VFBTo5z//udLT09WvXz/NmzdPVVVVWrt2rQ4fPuy9rg4CS0ZGxmX7mZ2drX379mndunWqqqrSY489pgEDBigjI8PmytEe48aNU3l5uYqLi3Xs2DG9%2BOKL2rx5s372s59Jor%2BBoLq6WkVFRZo%2BfbpSU1PV0NDg/fGb%2BWv0og9ow%2B12W/PmzbNSU1OtsWPHWi%2B88ILdJaELqqqqrAcffNBKS0uzxowZY61evdq77PPPP7fuv/9%2B64YbbrDGjx9v7d6928ZK0VEXXifp2/q5bds26/bbb7dSUlKsBx980Kqtrb3SJaMDLuzvO%2B%2B8Y02cONEaPny4deedd1pvv/22z/3pr3979tlnraSkJJ%2Bfv//7v7eSkpIsy7Kszz77zPb5G2JZ37g4CAAAALqMQ4QAAACGEbAAAAAMI2ABAAAYRsACAAAwjIAFAABgGAELAADAMAIWAACAYQQsAAAAwwhYAAAAhhGwAAAADCNgAQAAGEbAAgAAMIyABQAAYNj/B8m%2BvXyYc3DwAAAAAElFTkSuQmCC\">\n",
       "             </div>\n",
       "      </div>\n",
       "    </div><div class=\"row variablerow\">\n",
       "        <div class=\"col-md-3 namecol\">\n",
       "            <p class=\"h4\">triceps_sf_thickness<br/><small>Numeric</small></p>\n",
       "        </div>\n",
       "\n",
       "        <div class=\"col-md-6\">\n",
       "            <div class=\"row\">\n",
       "                <div class=\"col-sm-6\">\n",
       "                    <table class=\"stats \">\n",
       "                        <tr><th>Distinct count</th>\n",
       "                        <td>51</td></tr>\n",
       "                        <tr><th>Unique (%)</th>\n",
       "                        <td>6.6%</td></tr>\n",
       "                        <tr class=\"ignore\"><th>Missing (%)</th>\n",
       "                        <td>0.0%</td></tr>\n",
       "                        <tr class=\"ignore\"><th>Missing (n)</th>\n",
       "                        <td>0</td></tr>\n",
       "                    </table>\n",
       "\n",
       "                </div>\n",
       "                <div class=\"col-sm-6\">\n",
       "                    <table class=\"stats \">\n",
       "\n",
       "                        <tr><th>Mean</th>\n",
       "                        <td>20.536</td></tr>\n",
       "                        <tr><th>Minimum</th>\n",
       "                        <td>0</td></tr>\n",
       "                        <tr><th>Maximum</th>\n",
       "                        <td>99</td></tr>\n",
       "                        <tr class=\"alert\"><th>Zeros (%)</th>\n",
       "                        <td>29.6%</td></tr>\n",
       "                    </table>\n",
       "                </div>\n",
       "            </div>\n",
       "        </div>\n",
       "        <div class=\"col-md-3 collapse in\" id=\"minihistogram2188653351143258725\">\n",
       "             <img src=\"data:image/png;base64,iVBORw0KGgoAAAANSUhEUgAAAMgAAABLCAYAAAA1fMjoAAAABHNCSVQICAgIfAhkiAAAAAlwSFlzAAAPYQAAD2EBqD%2BnaQAABIFJREFUeJzt3E9II2ccxvEniWiDy9atzSRaKWXZWy304CF4USEgaELANp2j9ipCbvagW2ypgqCCEM89R9JDPZijPSgqCpYWWqilLIIyzlRtS8pakvjrpQ3VXd52Umcmo8/n5p/hfdX3y2Qm7xgQEYHLTNNEPp%2BHruvQNM3t4clnvFwvAS8CIfKLoNcTIGpkTV4N/N3Rz7B77mpuCuBJ52sIBALOTIroBs8C%2BezL7/GD8butY97r6cBH6UcMhFzDl1hECgyESIGBECkwECIFBkKkwECIFBgIkQIDIVJgIEQKnr2T7gcigmq1avu4UCjEd/vvCAaiUK1W8fHq13h29vw/H/NWexiffvAumpr4q70L7sVfsd4zQbVaxbOz57b3jNHdcS8CqedMAADxx20OzYj84l4EAqCuM8Gb7WGHZkN%2BwbtYRAoMhEiBgRApMBAiBQZCpMBAiBQYCJECAyFS8NUbhcEAUKlUEAza67qebSZEgM8CaX/QjJnCN9wyQq7xVSAAt4yQu3gNQqTAQIgUGAiRgu%2BuQRpdKBio%2B64ZH9VtPAzklr3x6BV88sW3tu%2B08VHdxsS/hgP4mO7dwWsQIgUGQqTAQIgUGAiRAgMhUmAgRAoMhEiBgRApMBAiBQZCpMCtJg2CmxwbEwNpEPVucnz8ehhPR95BKBSyPSbD%2BneeBfJ%2BTyd%2BeV62dczbnQ/wk2l/E2Dnqy11vZas57j/M5bx6x%2B2j9MetuDzr37E6W/2jo0%2BbMGH/U/qCsttXu5wDoiIuD2oaZrI5/PQdR2aprk9PPmMl%2BvFk4t0y7KQy%2BVgWZYXw5PPeLleeBeLSIGBECkwECIFBkKk4EkgkUgEExMTiEQiXgxPPuPlevHkNi%2BRX/AlFpECAyFSYCBECgyESIGBECkwECIFBkKk4HogxWIRyWQSg4ODWFlZcXt4amClUgmpVAonJycAgMPDQ%2Bi6jqGhIWSzWVxeXta%2Bb3x8HMPDw8hkMjg6OnJuUuIiy7JkYGBALi4upFKpyNjYmGxubro5BWpQBwcHkkwmpbu7W46Pj0VEJJ1Oy97enoiILC8vy%2BLiooiIzM7OSi6XExGR7e1t0XXdsXm5egbZ2tpCPB5HW1sbQqEQ0uk01tfX3ZwCNajV1VXMzMzUHogyDAOlUgk9PT0AgEwmg2KxCADY2NjAyMgIACAej%2BPs7AyGYTgyL1efZTw9PUU0Gq19HI1GHfvByF/m5uYAAPLXzqeba0XTtNpaufm1SCQCwzAQi8VufV6unkHkJdu%2BgkHeJ6AXXV1dvfC5v9eK6mu3zdXVGY1GYZpm7WPTNB2pnvwvFotdWyuWZdXWSiwWu/b4rWVZ184ot8nVQHp7e7Gzs4Pz83OUy2Wsra2hr6/PzSmQT3R0dCAcDmN/fx8AUCgUamulv78fhUIBALC7u4vW1lbHAnH1GkTTNExOTmJ0dBTlchmJRAKJRMLNKVCD%2B%2Bf/6VpaWsL09DRKpRK6urqwsLAAAMhms5iamkIqlUJzczPm5%2Bedm4%2B87MKAiADwnXQiJQZCpPAnNM5NmzP7OpoAAAAASUVORK5CYII%3D\">\n",
       "\n",
       "        </div>\n",
       "       <div class=\"col-md-12 text-right\">\n",
       "            <a role=\"button\" data-toggle=\"collapse\" data-target=\"#descriptives2188653351143258725,#minihistogram2188653351143258725\" aria-expanded=\"false\" aria-controls=\"collapseExample\">\n",
       "                Toggle details\n",
       "            </a>\n",
       "        </div>\n",
       "        <div class=\"row collapse col-md-12\" id=\"descriptives2188653351143258725\">\n",
       "            <div class=\"col-sm-4\">\n",
       "                  <p class=\"h4\">Quantile statistics</p>\n",
       "                  <table class=\"stats indent\">\n",
       "                        <tr><th>Minimum</th>\n",
       "                        <td>0</td></tr>\n",
       "                        <tr><th>5-th percentile</th>\n",
       "                        <td>0</td></tr>\n",
       "                        <tr><th>Q1</th>\n",
       "                        <td>0</td></tr>\n",
       "                        <tr><th>Median</th>\n",
       "                        <td>23</td></tr>\n",
       "                        <tr><th>Q3</th>\n",
       "                        <td>32</td></tr>\n",
       "                        <tr><th>95-th percentile</th>\n",
       "                        <td>44</td></tr>\n",
       "                        <tr><th>Maximum</th>\n",
       "                        <td>99</td></tr>\n",
       "                        <tr><th>Range</th>\n",
       "                        <td>99</td></tr>\n",
       "                        <tr><th>Interquartile range</th>\n",
       "                        <td>32</td></tr>\n",
       "                  </table>\n",
       "                  <p class=\"h4\">Descriptive statistics</p>\n",
       "                  <table class=\"stats indent\">\n",
       "                        <tr><th>Standard deviation</th>\n",
       "                        <td>15.952</td></tr>\n",
       "                        <tr><th>Coef of variation</th>\n",
       "                        <td>0.77678</td></tr>\n",
       "                        <tr><th>Kurtosis</th>\n",
       "                        <td>-0.52007</td></tr>\n",
       "                        <tr><th>Mean</th>\n",
       "                        <td>20.536</td></tr>\n",
       "                        <tr><th>MAD</th>\n",
       "                        <td>13.66</td></tr>\n",
       "                        <tr class=\"\"><th>Skewness</th>\n",
       "                        <td>0.10937</td></tr>\n",
       "                        <tr><th>Sum</th>\n",
       "                        <td>15772</td></tr>\n",
       "                        <tr><th>Variance</th>\n",
       "                        <td>254.47</td></tr>\n",
       "                        <tr><th>Memory size</th>\n",
       "                        <td>6.0 KiB</td></tr>\n",
       "                 </table>\n",
       "            </div>\n",
       "             <div class=\"col-sm-8 histogram\">\n",
       "                 <img src=\"data:image/png;base64,iVBORw0KGgoAAAANSUhEUgAAAlgAAAGQCAYAAAByNR6YAAAABHNCSVQICAgIfAhkiAAAAAlwSFlzAAAPYQAAD2EBqD%2BnaQAAIABJREFUeJzt3X9cVXWex/E3P%2BLHkEyIoA6rq%2BEWSCY/hHL89ZChmikNJ3LdZvuBzY6zK2ib1UpWVv4YKBp/JOqkjjwKpxaTR6Vu0%2B6Y7cNflOQvbLQxYTRpBS6N5o%2Bu3oCzfzTeidAE/MK59/J6Ph48eNzvufeez/kcPOftOeee62dZliUAAAAY4293AQAAAL6GgAUAAGAYAQsAAMAwAhYAAIBhBCwAAADDCFgAAACGEbAAAAAMI2ABAAAYRsACAAAwjIAFAABgGAELAADAMAIWAACAYQQsAAAAwwhYAAAAhhGwAAAADCNgAQAAGEbAAgAAMIyABQAAYBgBCwAAwDACFgAAgGEELAAAAMMIWAAAAIYRsAAAAAwjYAEAABhGwAIAADCMgAUAAGAYAQsAAMAwAhYAAIBhBCwAAADDCFgAAACGEbAAAAAMI2ABAAAY5pMBq66uTtOnT9dNN92kMWPGqKCgQC6XS5I0b948xcXFKT4%2B3v37d7/7nfu1O3bs0Pjx45WYmKjs7GwdO3bMrsUAAABeyicD1vTp03X%2B/Hm9%2BuqrWrBggd577z0tXrxYklRdXa1HH31U27Zt0/bt27Vt2zbdfffdkqTjx48rJydHWVlZKisrU0REhHJycq64nvr6ei1ZskT19fVX/F5oP/pvL/pvL/pvL/pvLzv773MBq7q6WpWVlcrPz1dsbKxSUlI0ffp0bdy4UZJUVVWlwYMHKzIy0v0THBwsSXr99dc1ZMgQZWdnKzY2Vvn5%2Bfrss89UUVFxRTU5HA4VFRXJ4XBc8fKh/ei/vei/vei/vei/vezsv88FrKioKK1atUo9e/Z0j1mWpdOnT%2BvMmTOqq6vTgAEDLvraffv2KTU11f04JCREgwcP1p49ezq7bAAA4EN8LmD16NFDI0aMcD%2B2LEtr1qzRD3/4Q1VXV8vPz0/Lly/XmDFjlJmZqTfffNP93Pr6ekVHR7d4v169eqmurq7L6gcAAN4v0O4COtvzzz%2Bvjz/%2BWOvWrdNHH30kf39/xcbG6r777tPOnTv11FNP6eqrr1ZGRobOnTunoKCgFq8PCgpyXyAPAADQFj4dsAoLC1VSUqJFixZp0KBBGjRokNLT0xUeHi5Juu6663TkyBG99tprysjIUHBwcKsw5XK53M9vi/r6%2Blbnequqqq58YQAAQIdcbD8cFRXV6qyVST4bsObOnavS0lIVFhYqIyPDPf7tsHTttdfqgw8%2BkCT17t27VThqaGhQfHx8m%2BdbWlqqoqKiVuM5OTlKSEhozyLAkISEBP3pT3%2Byu4xui/7bi/7bi/7bKyEhQampqXrsscdaTcvNzdW0adM6bd4%2BGbCKiopUWlqqhQsX6pZbbnGPv/jii9qzZ4%2BKi4vdYwcPHtTAgQMlSUOHDtXu3bvd05xOpw4cONCuFTBp0iSlp6e3Go%2BKitKpU041NTV3ZJFwBQIC/BUeHkr/bUL/7UX/7UX/7RUQ4K8FCxZc9FOEUVFRnTpvnwtYVVVVWr58uX75y18qKSlJDQ0N7mljx47VihUrVFxcrIyMDG3dulXr169XSUmJJCkrK0urV6/WypUrNXbsWBUVFal///5KS0tr8/yjo6MvecjxxImzamzkH5hdmpqa6b%2BN6L%2B96L%2B96L99vmu/3Jn8LMuyunyunWjFihVauHBhizHLsuTn56eDBw9q8%2BbNWrx4sY4ePaqYmBg9/PDDLU4hbt26VfPnz1ddXZ2Sk5M1Z84cxcTEGKmNgGWPwEB/RUSE0X%2Bb0H970X970X97Xei/HXwuYHky/oHZgw2cvei/vei/vei/vewMWD53HywAAAC7EbAAAAAMI2ABAAAYRsACAAAwjIAFAABgGAELAADAMAIWAACAYQQsAAAAwwhYAAAAhhGwAAAADCNgAQAAGEbAAgAAMIyABQAAYBgBCwAAwDACFgAAgGEELAAAAMMIWAAAAIYRsAAAAAwjYAEAABgWaHcB3cXGij/r5FmXLMvuStrv%2Br49NDCyh91lAADgNQhYXeTV92t0qPas3WV0yDOZ1xOwAABoB04RAgAAGEbAAgAAMIyABQAAYBgBCwAAwDACFgAAgGEELAAAAMMIWAAAAIYRsAAAAAwjYAEAABhGwAIAADCMgAUAAGAYAQsAAMAwAhYAAIBhBCwAAADDCFgAAACGEbAAAAAMI2ABAAAYRsACAAAwjIAFAABgGAELAADAMAIWAACAYQQsAAAAwwhYAAAAhhGwAAAADCNgAQAAGEbAAgAAMIyABQAAYBgBCwAAwDACFgAAgGEELAAAAMMIWAAAAIb5ZMCqq6vT9OnTddNNN2nMmDEqKCiQy%2BWSJNXU1Gjy5MlKSkrSuHHjtH379hav3bFjh8aPH6/ExERlZ2fr2LFjdiwCAADwYj4ZsKZPn67z58/r1Vdf1YIFC/Tee%2B9p8eLFkqSpU6cqOjpaZWVluvPOO5Wbm6va2lpJ0vHjx5WTk6OsrCyVlZUpIiJCOTk5di4KAADwQj4XsKqrq1VZWan8/HzFxsYqJSVF06dP18aNG/X%2B%2B%2B%2BrpqZGc%2BbM0bXXXqspU6YoMTFR69atkyStXbtWQ4YMUXZ2tmJjY5Wfn6/PPvtMFRUVNi8VAADwJj4XsKKiorRq1Sr17Nmzxfjp06e1b98%2BJSQkKDg42D2ekpKivXv3SpIqKyuVmprqnhYSEqLBgwdrz549XVM8AADwCT4XsHr06KERI0a4H1uWpTVr1mj48OFyOByKjo5u8fzIyEjV1dVJkurr61tN79Wrl3s6AABAW/hcwPq2559/XgcPHtTDDz8sp9OpoKCgFtODgoLcF8CfO3fuO6cDAAC0RaDdBXSmwsJClZSUaNGiRRo0aJCCg4P1xRdftHiOy%2BVSSEiIJCk4OLhVmHK5XAoPD2/zPOvr6%2BVwOK68eA/i5ycFBnpvFg8I8G/xG12L/tuL/tuL/tsrIMD/kvvlqKioVmetTPLZgDV37lyVlpaqsLBQGRkZkqTevXvr8OHDLZ7X0NCgqKgo9/Rvr4SGhgbFx8e3eb6lpaUqKipqNZ6Su6q9i%2BAxrgoMUEREmN1lXLHw8FC7S%2BjW6L%2B96L%2B96L99Xn551UX3y7m5uZo2bVqnzdcnA1ZRUZFKS0u1cOFC3XLLLe7xoUOHauXKlXK5XO5Tgbt27dKwYcPc03fv3u1%2BvtPp1IEDB9q1AiZNmqT09PRW4/M3/6Wji2O7rxqbdOLEWbvL6LCAAH%2BFh4fq1Cmnmpqa7S6n26H/9qL/9qL/9goI8L/kfvnCwZXO4nMBq6qqSsuXL9cvf/lLJSUlqaGhwT0tLS1Nffv2VV5enqZOnarNmzdr//79KigokCRlZWVp9erVWrlypcaOHauioiL1799faWlpbZ5/dHT0xQ85bt56xctmF8uSGhu9f8PQ1NTsE8vhrei/vei/vei/fS65X%2B5kPndS%2BN1331Vzc7OWL1%2BuUaNGadSoURo5cqRGjRolf39/LV26VA6HQ1lZWdqwYYOWLl2qPn36SJJiYmK0ZMkSlZWVaeLEiTp9%2BvRFDysCAAB8Fz/Lsiy7i%2BgOfrZkqw7Veudptmcyr9dNA3vZXUaHBQb6KyIiTCdOnOV/kDag//ai//ai//a60H87%2BNwRLAAAALsRsAAAAAwjYAEAABhGwAIAADCMgAUAAGAYAQsAAMAwAhYAAIBhBCwAAADDCFgAAACGEbAAAAAMI2ABAAAYRsACAAAwjIAFAABgGAELAADAMAIWAACAYQQsAAAAwwhYAAAAhhGwAAAADCNgAQAAGEbAAgAAMIyABQAAYBgBCwAAwDACFgAAgGEELAAAAMMIWAAAAIYRsAAAAAwLtLsAAN/FsrsAAEAHELAAD7fwD4d05HOn3WW024DIUD18y3V2lwEAtiBgAR7uyOdOHao9a3cZAIB24BosAAAAwwhYAAAAhhGwAAAADCNgAQAAGEbAAgAAMIyABQAAYBgBCwAAwDACFgAAgGEELAAAAMMIWAAAAIbxVTnwcZakZjU2Nkpqlvd9ebK31QsAkAhY6AYKf/8nr/yyZEm6%2Bdpr7C4BANABBCz4PG/%2BsuT%2BkaF2lwAA6ACuwQIAADCMgAUAAGAYAQsAAMAwAhYAAIBhBCwAAADDCFgAAACGEbAAAAAMI2ABAAAYRsACAAAwjIAFAABgmE8HLJfLpfHjx6uiosI9Nm/ePMXFxSk%2BPt79%2B3e/%2B517%2Bo4dOzR%2B/HglJiYqOztbx44ds6N0AADgxXw2YLlcLs2YMUOHDx9uMV5dXa1HH31U27Zt0/bt27Vt2zbdfffdkqTjx48rJydHWVlZKisrU0REhHJycuwoHwAAeDGfDFhVVVX6x3/8R9XU1Fx02uDBgxUZGen%2BCQ4OliS9/vrrGjJkiLKzsxUbG6v8/Hx99tlnLY6AAQAAXI5PBqydO3dq%2BPDhKi0tlWVZ7vEzZ86orq5OAwYMuOjr9u3bp9TUVPfjkJAQDR48WHv27OnskgEAgA8JtLuAznDPPfdcdLy6ulp%2Bfn5avny5tmzZomuuuUaTJ0/WhAkTJEn19fWKjo5u8ZpevXqprq6u02sGAAC%2BwycD1qVUV1fL399fsbGxuu%2B%2B%2B7Rz50499dRTuvrqq5WRkaFz584pKCioxWuCgoLkcrlsqhgAAHgjjwlYEydOVFZWlu644w716NGjU%2BYxYcIEpaenKzw8XJJ03XXX6ciRI3rttdeUkZGh4ODgVmHK5XK5n98W9fX1cjgcRuu2m5%2BfFBjorWeTm%2B0uoFsLDPRTQMDXfzsXfqNr0X970X97BQT4X3K/HBUV1eqslUkeE7Buvvlm/eY3v1F%2Bfr5%2B9KMf6a677tKIESPk5%2BdndD7fDkvXXnutPvjgA0lS7969W62EhoYGxcfHt/n9S0tLVVRU1Go8JXdVB6r1DFcFBigiIszuMjqksbHR7hK6tR49QhUY%2BPVmJjw81OZqujf6by/6b5%2BXX1510f1ybm6upk2b1mnz9ZiA9cgjj2jGjBnasWOH3nzzTU2bNk3h4eGaMGGCJkyYoIEDB17xPF588UXt2bNHxcXF7rGDBw%2B633vo0KHavXu3e5rT6dSBAwfatQImTZqk9PT0VuPzN//lCiq311eNTTpx4qzdZXQQR7DsdPq0UwEBgQoPD9WpU041NbE%2BulpAgD/9txH9t1dAgP8l98tRUVGdOm%2BPCViS5OfnpxEjRmjEiBFyOp0qKSnRsmXLtGLFCiUnJ%2BuBBx7Qrbfe2uH3Hzt2rFasWKHi4mJlZGRo69atWr9%2BvUpKSiRJWVlZWr16tVauXKmxY8eqqKhI/fv3V1paWpvnER0dffFDjpu3drhuu1mW1NjorRsG6/JPQadpbLR0IeQ2NTV78d%2BR96P/9qL/9rnkfrmTeVTAkr6%2Bhmn9%2BvVav369Dh06pOTkZP30pz9VbW2tnnzySVVUVOiJJ55o8/t98xTjkCFD9OKLL2rx4sVavHixYmJi9Otf/1o33nijJCkmJkZLlizR/PnztWzZMiUnJ1/0sCIAAMB38ZiA9dZbb%2Bmtt97SBx98oJ49e2rChAl68cUXW9yzqm/fvpo/f367AtbBgwdbPE5PT7/oocILRo0apXfeeafd9QMAAFzgMQHriSee0NixY7V06VKNHj1a/v6tP3Fx7bXX6t5777WhOgAAgLbzmIC1ZcsWRURE6OTJk%2B5wVVlZqYSEBAUEBEiSkpOTlZycbGeZAAAAl%2BUxN%2BY4c%2BaMfvzjH2vlypXusSlTpigzM1PHjx%2B3sTIAAID28ZiA9atf/Up///d/r8mTJ7vH3n77bfXt21f5%2Bfk2VgYAANA%2BHhOwPvzwQ%2BXl5bW4L0XPnj31H//xH3r//fdtrAwAAKB9PCZgBQYG6tSpU63GnU6nLIt7GQEAAO/hMQFr9OjRmjdvnj799FP32LFjx5Sfn69Ro0bZWBkAAED7eMynCGfOnKnJkyfrtttuc39f4KlTp5SQkKDHH3/c5uoAAADazmMCVmRkpN544w3t2LFDn3zyiQIDAzVo0CANHz7c%2BBc%2BAwAAdCaPCViSFBAQoFGjRnFKEAAAeDWPCVgOh0OLFi3S7t279dVXX7W6sP3dd9%2B1qTIAAID28ZiA9dRTT%2Bmjjz7SHXfcoR49ethdDgAAQId5TMB6//33tWrVKg0bNszuUgAAAK6Ix9ym4Xvf%2B54iIyPtLgMAAOCKeUzAyszM1KpVq9TU1GR3KQAAAFfEY04Rnjx5Uhs3btT//u//ql%2B/fgoKCmox/ZVXXrGpMgAAgPbxmIAlSePGjbO7BAAAgCvmMQErPz/f7hIAAACM8JhrsCSpvr5eRUVFeuSRR/T555/rnXfeUXV1td1lAQAAtIvHBKyjR49q/PjxeuONN/Tf//3f%2BvLLL/X2228rKytL%2B/bts7s8AACANvOYgFVQUKCMjAxt2rRJV111lSRpwYIFSk9P1wsvvGBzdQAAAG3nMQFr9%2B7dmjx5cosvdg4MDNTUqVN14MABGysDAABoH48JWM3NzWpubm41fvbsWQUEBNhQEQAAQMd4TMAaOXKkXnrppRYh6%2BTJkyosLNTNN99sY2UAAADt4zEBKy8vTx999JFGjhyp8%2BfP69/%2B7d80duxY1dTUaObMmXaXBwAA0GYecx%2Bs3r17680339TGjRt18OBBNTc365577lFmZqauvvpqu8sDAABoM48JWJIUGhqqiRMn2l0GAADAFfGYgHX//fd/53S%2BixAAAHgLjwlYMTExLR43Njbq6NGjOnTokB544AGbqgIAAGg/jwlYl/ouwqVLl6q2traLqwEAAOg4j/kU4aVkZmbq97//vd1lAAAAtJnHB6w9e/Zwo1EAAOBVPOYU4cUucj9z5oz%2B9Kc/6Wc/%2B5kNFQEAAHSMxwSsH/zgBy2%2Bh1CSrrrqKt1777268847baoKAACg/TwmYBUUFNhdAgAAgBEeE7AqKira/NzU1NROrAQAAODKeEzAuu%2B%2B%2B9ynCC3Lco9/e8zPz08HDx7s%2BgIBAADayGMC1m9%2B8xvNmzdPjz32mNLS0hQUFKT9%2B/drzpw5%2BulPf6rbb7/d7hIBAADaxGNu05Cfn6/Zs2frtttuU0REhMLCwnTzzTdrzpw5eu211xQTE%2BP%2BAQAA8GQeE7Dq6%2BsvGp6uvvpqnThxwoaKAAAAOsZjAlZiYqIWLFigM2fOuMdOnjypwsJCDR8%2B3MbKAAAA2sdjrsF68skndf/992v06NEaMGCALMvSkSNHFBUVpVdeecXu8gAAANrMYwJWbGys3n77bW3cuFFVVVWSpH/%2B53/WHXfcodDQUJurAwAAaDuPCViS9P3vf18TJ05UTU2N%2BvXrJ%2Bnru7kDAAB4E4%2B5BsuyLL3wwgtKTU3VuHHjVFtbq5kzZ%2BqJJ57QV199ZXd5AAAAbeYxAaukpERvvfWWnn76aQUFBUmSMjIytGnTJhUVFdlcHQAAQNt5TMAqLS3V7Nmzddddd7nv3n777bdr3rx52rBhg83VAQAAtJ3HBKyamhrFx8e3Go%2BLi5PD4bChIgAAgI7xmIAVExOj/fv3txrfsmWL%2B4J3AAAAb%2BAxnyL8%2Bc9/rmeffVYOh0OWZam8vFylpaUqKSlRXl6e3eV1a3/9um2bq%2Bgob60bAODNPCZgZWVlqbGxUcuXL9e5c%2Bc0e/Zs9ezZU//%2B7/%2Bue%2B65x%2B7yurWw4AAt/MMhHfncaXcp7XbztdfYXQIAoBvymIC1ceNG/fjHP9akSZP0l7/8RZZlKTIy0u6y8FdHPnfqUO1Zu8tot/6R3KQWAND1POYarDlz5rgvZu/Zs6eRcOVyuTR%2B/HhVVFS4x2pqajR58mQlJSVp3Lhx2r59e4vX7NixQ%2BPHj1diYqKys7N17NixK64DAAB0Lx4TsAYMGKBDhw4Zez%2BXy6UZM2bo8OHDLcZzcnIUHR2tsrIy3XnnncrNzVVtba0k6fjx48rJyVFWVpbKysoUERGhnJwcYzUBAIDuwWNOEcbFxenRRx/VqlWrNGDAAAUHB7eYnp%2Bf3%2Bb3qqqq0iOPPNJqvLy8XMeOHdPatWsVHBysKVOmqLy8XOvWrVNubq7Wrl2rIUOGKDs72z3PESNGqKKiQqmpqVe0fAAAoPvwmCNYf/7zn5WSkqKwsDA5HA7V1NS0%2BGmPnTt3avjw4SotLZVl/e1TZJWVlUpISGgR3lJSUrR371739G8GqZCQEA0ePFh79uy5wqUDAADdia1HsJ5//nnl5ubqe9/7nkpKSoy976U%2BdehwOBQdHd1iLDIyUnV1dZKk%2Bvr6VtN79erlng4AANAWth7BKi4ultPZ8qP/U6ZMUX19fafMz%2Bl0ur/n8IKgoCC5XC5J0rlz575zOgAAQFvYegTrm6fvLqioqND58%2Bc7ZX7BwcH64osvWoy5XC6FhIS4p387TLlcLoWHh7d5HvX19T731T5//WpIoN0CA/0UEPD1/%2BMu/EbXov/2ov/2Cgjwv%2BR%2BOSoqqtVZK5M85iL3rtC7d%2B9WnypsaGhQVFSUe/q3V0JDQ8NFvyPxUkpLS1VUVNRqPCV3VQcq9gyBbBjQQT16hCow8OvNTHg49ySzE/23F/23z8svr7rofjk3N1fTpk3rtPl2q4A1dOhQrVy5Ui6Xy30qcNeuXRo2bJh7%2Bu7du93PdzqdOnDgQLtWwKRJk5Sent5qfP7mv1xh9fZpbGq2uwR4qdOnnQoICFR4eKhOnXKqib%2BlLhcQ4E//bUT/7RUQ4H/J/fKFgyudxfaA5deF55/S0tLUt29f5eXlaerUqdq8ebP279%2BvgoICSV9/Xc/q1au1cuVKjR07VkVFRerfv7/S0tLaPI/o6OiLH3LcvNXUYnS5i5zJBdqksdGS9PVOpampWY2N7GDsQv/tRf/tc8n9ciezPWDNmzevxW0TvvrqKxUWFiosLKzF89pzH6xv%2BmaA8/f317JlyzRr1ixlZWWpf//%2BWrp0qfr06SNJiomJ0ZIlSzR//nwtW7ZMycnJFz2sCAAA8F1sDVipqamtrnlKSkrSiRMndOLECSPzOHjwYIvH/fr1%2B85bQowaNUrvvPOOkXkDAIDuydaAZfLeVwAAAJ6Cj4cBAAAYRsACAAAwjIAFAABgGAELAADAMAIWAACAYQQsAAAAwwhYAAAAhhGwAAAADCNgAQAAGEbAAgAAMIyABQAAYBgBCwAAwDACFgAAgGEELAAAAMMIWAAAAIYRsAAAAAwjYAEAABhGwAIAADCMgAUAAGAYAQsAAMAwAhYAAIBhgXYXAMA3Bfj7SbIkNauxsVFS818fexs/uwsA4IUIWAA6RUxEiBb%2B4RMd%2BdxpdykdMiAyVA/fcp3dZQDwUgQsAJ3myOdOHao9a3cZANDluAYLAADAMAIWAACAYQQsAAAAwwhYAAAAhhGwAAAADCNgAQAAGEbAAgAAMIyABQAAYBgBCwAAwDACFgAAgGEELAAAAMMIWAAAAIYRsAAAAAwjYAEAABhGwAIAADCMgAUAAGAYAQsAAMAwAhYAAIBhBCwAAADDCFgAAACGEbAAAAAMI2ABAAAYRsACAAAwjIAFAABgGAELAADAMAIWAACAYQQsAAAAw7plwNq0aZPi4uIUHx/v/v3QQw9JkmpqajR58mQlJSVp3Lhx2r59u83VAgAAbxNodwF2OHz4sNLT0zVv3jxZliVJCg4OliRNnTpV8fHxKisr06ZNm5Sbm6vf//736tOnj50lAwAAL9ItA1ZVVZX%2B4R/%2BQT179mwxXl5erpqaGr3%2B%2BusKDg7WlClTVF5ernXr1ik3N9emagEAgLfplqcIq6qqNHDgwFbjlZWVSkhIcB/NkqSUlBTt3bu3K8sDAABerlsGrD//%2Bc/aunWrbrvtNt1yyy369a9/ra%2B%2B%2BkoOh0PR0dEtnhsZGam6ujqbKgUAAN6o250i/L//%2Bz%2BdO3dOwcHBWrx4sWpqajR//nydO3dOTqdTQUFBLZ4fFBQkl8tlU7UAAMAbdbuA9YMf/EAffPCBwsPDJUlxcXFqbm7WY489prvuukunTp1q8XyXy6WQkJA2v399fb0cDofRmu3m52d3BYA9AgP95O0H%2BgMC/Fv8Rtei//YKCPC/5H45Kiqq1Vkrk7pdwJLkDlcXxMbG6vz58%2BrVq5eqqqpaTGtoaFBUVFSb37u0tFRFRUWtxlNyV3WsWA8QyIYB3VSPHqEKDPSNzWR4eKjdJXRr9N8%2BL7%2B86qL75dzcXE2bNq3T5usbW4522LZtmx555BFt2bLFfTH7gQMHFBERoWHDhmn16tVyuVzuU4W7du3SsGHD2vz%2BkyZNUnp6eqvx%2BZv/YmYBbNDY1Gx3CYAtTp92yheOYIWHh%2BrUKaea%2BLfc5ei/vQIC/C%2B5X27PwZOO6HYBKykpSaGhoXriiSeUk5OjTz/9VIWFhfrFL36h1NRU9e3bV3l5eZo6dao2b96s/fv3q6CgoM3vHx0dffFDjpu3GlyKrvXXW4UB3U5joyXJN3aKTU3Namz0jWXxRvTfPpfcL3cy7/6vWQeEhYXpt7/9rU6cOKG7775bTz31lP7pn/5JDz74oPz9/bV8%2BXI5HA5lZWVpw4YNWrp0KTcZBQAA7dLtjmBJX19z9dvf/vai0/r166eSkpIurggAAPiSbncECwAAoLMRsAAAAAwjYAEAABhGwAIAADCMgAUAAGAYAQsAAMAwAhYAAIBhBCwAAADDCFgAAACGEbAAAAAMI2ABAAAYRsACAAAwjIAFAABgGAELAADAMAIWAACAYQQsAAAAwwhYAAAAhhGwAAAADCNgAQAAGEbAAgAAMIyABQAAYBgBCwAAwDACFgAAgGEELAAAAMMIWAAAAIYRsAAAAAwjYAEAABhGwAIAADCMgAUAAGAYAQsAAMAwAhYAAIBhBCwAAADDCFgAAACGEbAAAAAMI2ABAAAYRsACAAAwjIAFAABgGAELAADAMAIWAACAYQQsAAAAwwhYAAAAhhGwAAAADCNgAQAAGEbAAgAAMIyABQAAYBgBCwAAwLBAuwvyamrGAAAK3ElEQVQAAE8U4O8nybK7jCvkZ3cBQLdFwAKAi4iJCNHCP3yiI5877S6l3QZEhurhW66zuwygWyNgAcAlHPncqUO1Z%2B0uA4AX4hosAAAAwwhYAAAAhhGwAAAADCNgXYTL5dKsWbOUmpqqUaNGqbi42O6SAACAF%2BEi94t47rnndODAAZWUlKimpkYzZ85UTEyMbr31VrtLAwAAXoAjWN/idDq1bt06Pfnkk4qLi1NGRob%2B5V/%2BRWvWrLG7NAAA4CUIWN/y8ccfq6mpSYmJie6xlJQUVVZW2lgVALTd326SaklqVmNjo6Tmb4x5yw/gvThF%2BC0Oh0PXXHONAgP/1prIyEidP39eJ06cUEREhI3VAcDlefNNUiVulArfQMD6FqfTqaCgoBZjFx67XC47SgKAduMmqegYXzhy6BlfEUXA%2Bpbg4OBWQerC49DQ0Mu%2Bvr6%2BXg6Ho9X4gMjLv9ZTBQX6eW39P/h%2BsFefB/fm%2Br25dsm76/fm2qWvt5eBPrJ38veXGhsb5e8vr1mm0p3HVHfqvN1ltFvv8GBNSuuvb179FBDgf8n9clRUlKKjozutHi9Z3V2nd%2B/eOnnypJqbm%2BXv//VKamhoUEhIiMLDwy/7%2BtLSUhUVFbUaT01N1aIFCzp1ZXamHyb0s7uEDquvr1dpaakmTZrktf33ZvTfXvTfXvX19XrlldVe1f9/vS3B7hKMqa%2Bv14wZM1RRUdFqWm5urqZNm9Zp8yZgfUt8fLwCAwO1d%2B9eJScnS5I%2B/PBD3XDDDW16/aRJk5Sent5irKqqSo899pgcDofX/APzJQ6HQ0VFRUpPT6f/NqD/9qL/9qL/9nI4HKqoqFBhYaFiY2NbTIuKiurUeROwviUkJESZmZl6%2Bumn9atf/Up1dXUqLi5WQUFBm14fHR3NPyIAADxIbGysEhK69sgcAesiHn/8cT377LN64IEH1KNHDz300EPKyMiwuywAAOAlCFgXERISovz8fOXn59tdCgAA8ELe/EETAAAAjxTwzDPPPGN3Ed1BWFiY0tLSFBYWZncp3RL9txf9txf9txf9t5dd/fezLMsX7ioGAADgMThFCAAAYBgBCwAAwDACFgAAgGEELAAAAMMIWAAAAIYRsAAAAAwjYAEAABhGwOpkLpdLs2bNUmpqqkaNGqXi4mK7S/JpdXV1mj59um666SaNGTNGBQUFcrlckqSamhpNnjxZSUlJGjdunLZv325ztb5rypQpevzxx92P6X3XcLlcevbZZ5WWlqaRI0dq4cKF7mmsg85XW1urf/3Xf1VKSop%2B9KMf6eWXX3ZPo/%2Bdx%2BVyafz48aqoqHCPXa7fO3bs0Pjx45WYmKjs7GwdO3bMeF0ErE723HPP6cCBAyopKdHTTz%2BtoqIi/c///I/dZfms6dOn6/z583r11Ve1YMECvffee1q8eLEkaerUqYqOjlZZWZnuvPNO5ebmqra21uaKfc9//dd/acuWLS3GcnJy6H0XmDdvnsrLy7V69Wq98MILWrt2rdauXSuJv/%2Bu8NBDDyksLExvvPGGZs2apUWLFmnTpk2S6H9ncblcmjFjhg4fPtxi/Lu2OcePH1dOTo6ysrJUVlamiIgI5eTkmC/OQqf58ssvrRtvvNGqqKhwjy1btsy67777bKzKd1VVVVlxcXHW559/7h7buHGjNXr0aKu8vNxKSkqyzp07556WnZ1tLVmyxI5SfdbJkyetMWPGWBMnTrTy8vIsy7KsHTt20PsucPLkSSshIaHF9mbFihXWrFmz%2BPvvAl988YV1/fXXW5988ol7bNq0adbcuXPpfyc5fPiwlZmZaWVmZlpxcXHWzp07Lcu6/DZn0aJFLfbDTqfTSk5Odr/eFI5gdaKPP/5YTU1NSkxMdI%2BlpKSosrLSxqp8V1RUlFatWqWePXu2GD99%2BrT27dunhIQEBQcHu8dTUlK0d%2B/eri7Tpz333HPKzMxUbGyse6yyspLed4Fdu3apR48eGjZsmHvsF7/4hebPn8/ffxcICQlRaGioysrK1NjYqOrqau3evVvx8fH0v5Ps3LlTw4cPV2lpqaxvfOvf5bY5lZWVSk1NdU8LCQnR4MGDtWfPHqP1EbA6kcPh0DXXXKPAwED3WGRkpM6fP68TJ07YWJlv6tGjh0aMGOF%2BbFmW1qxZo%2BHDh8vhcCg6OrrF8yMjI1VXV9fVZfqs8vJy7dq1q9WhdnrfNY4dO6aYmBi9%2Beab%2BslPfqKMjAwtW7ZMlmWxDrpAUFCQZs%2Berf/8z//U0KFDdfvtt2v06NHKysqi/53knnvu0cyZM1sEKeny25z6%2BvpW03v16mV8fQRe/inoKKfTqaCgoBZjFx5fuPAanef555/XwYMHtW7dOhUXF190XbAezHC5XHrmmWf09NNPt%2Brzpf4d0HuzvvzySx05ckRr165VQUGBHA6HZs%2BerdDQUNZBF6mqqlJ6erp%2B/vOf69ChQ5o7d66GDx9O/7vY5fp97ty5LlkfBKxOFBwc3GqFXXgcGhpqR0ndRmFhoUpKSrRo0SINGjRIwcHB%2BuKLL1o8x%2BVyKSQkxKYKfcuSJUt0ww036Ic//GGrafS%2BawQEBOjs2bNasGCB%2BvTpI0n67LPP9Oqrr2rkyJE6efJki%2BezDswqLy/XunXrtGXLFgUFBWnw4MGqra3V8uXLNXz4cPrfhS63zbnUvjk8PNxoHZwi7ES9e/fWyZMn1dzc7B5raGhQSEiI8RWJv5k7d65efvllFRYWKiMjQ9LX68LhcLR4XkNDg6Kiouwo0ee8/fbbevfdd5WUlKSkpCRt2LBBGzZsUHJysvr06UPvu0B0dLSCg4Pd4UqSBg4cqLq6Ov7%2Bu8Af//hHDRgwoMWRkfj4eB0/fpz%2Bd7HL9bur1gcBqxPFx8crMDCwxYWMH374oW644QYbq/JtRUVFKi0t1cKFC/WTn/zEPT506FAdOHCgxf9adu3a1eIDCOi4NWvWaMOGDVq/fr3Wr1%2Bv9PR0paen66233tKNN95I77vA0KFDdf78eR09etQ9VlVVpZiYGA0dOlR//OMfWQedKDo6WkePHlVjY6N7rLq6Wn/3d39H/7vY5bb3Q4cO1e7du93TnE6nDhw4YHx9ELA6UUhIiDIzM/X0009r//792rRpk4qLi/XAAw/YXZpPqqqq0vLlyzVlyhQlJSWpoaHB/ZOWlqa%2BffsqLy9Phw8f1ooVK7R//37dfffddpftE/r27at%2B/fq5f8LCwhQWFqZ%2B/frR%2By4ycOBAjRkzRnl5efr444%2B1detWrVy5Uj/72c%2BUmprKOuhk6enpCgwM1JNPPqkjR45o8%2BbNeumll3T//ffT/y52uW1OVlaWdu/erZUrV%2Brw4cN6/PHH1b9/f6WlpZktxOhNH9CK0%2Bm08vLyrKSkJGv06NHWK6%2B8YndJPuull16y4uLiWvxcf/31VlxcnGVZlnX06FHr3nvvtW688UZr3LhxVnl5uc0V%2B668vDz3fbAsy7I%2B/fRTet8FTp8%2Bbc2cOdNKTk62RowYYS1btsw9jXXQ%2BQ4fPmw9%2BOCD1rBhw6xbb721xfae/neub94Hy7Iu3%2B8tW7ZYt912m5WYmGg9%2BOCDVk1NjfGa/CzrGzePAAAAwBXjFCEAAIBhBCwAAADDCFgAAACGEbAAAAAMI2ABAAAYRsACAAAwjIAFAABgGAELAADAMAIWAACAYQQsAAAAwwhYAAAAhhGwAAAADCNgAQAAGPb/nn5MdMGTLMwAAAAASUVORK5CYII%3D\">\n",
       "             </div>\n",
       "      </div>\n",
       "    </div>\n",
       "\n",
       "    <div class=\"row headerrow highlight\">\n",
       "            <h1>Sample</h1>\n",
       "    </div>\n",
       "\n",
       "    \n",
       "    <div class=\"row variablerow\">\n",
       "        <div class=\"col-md-12\" style=\"overflow:scroll; width: 100%%; overflow-y: hidden;\">\n",
       "                <table border=\"1\" class=\"dataframe sample\">\n",
       "  <thead>\n",
       "    <tr style=\"text-align: right;\">\n",
       "      <th></th>\n",
       "      <th>no_times_pregnant</th>\n",
       "      <th>plasma_glucose_conc</th>\n",
       "      <th>diastolic_bp</th>\n",
       "      <th>triceps_sf_thickness</th>\n",
       "      <th>insulin</th>\n",
       "      <th>bmi</th>\n",
       "      <th>diabetes_pedigree_function</th>\n",
       "      <th>age</th>\n",
       "      <th>isDiabetic</th>\n",
       "    </tr>\n",
       "  </thead>\n",
       "  <tbody>\n",
       "    <tr>\n",
       "      <th>0</th>\n",
       "      <td>6</td>\n",
       "      <td>148</td>\n",
       "      <td>72</td>\n",
       "      <td>35</td>\n",
       "      <td>0</td>\n",
       "      <td>33.6</td>\n",
       "      <td>0.627</td>\n",
       "      <td>50</td>\n",
       "      <td>1</td>\n",
       "    </tr>\n",
       "    <tr>\n",
       "      <th>1</th>\n",
       "      <td>1</td>\n",
       "      <td>85</td>\n",
       "      <td>66</td>\n",
       "      <td>29</td>\n",
       "      <td>0</td>\n",
       "      <td>26.6</td>\n",
       "      <td>0.351</td>\n",
       "      <td>31</td>\n",
       "      <td>0</td>\n",
       "    </tr>\n",
       "    <tr>\n",
       "      <th>2</th>\n",
       "      <td>8</td>\n",
       "      <td>183</td>\n",
       "      <td>64</td>\n",
       "      <td>0</td>\n",
       "      <td>0</td>\n",
       "      <td>23.3</td>\n",
       "      <td>0.672</td>\n",
       "      <td>32</td>\n",
       "      <td>1</td>\n",
       "    </tr>\n",
       "    <tr>\n",
       "      <th>3</th>\n",
       "      <td>1</td>\n",
       "      <td>89</td>\n",
       "      <td>66</td>\n",
       "      <td>23</td>\n",
       "      <td>94</td>\n",
       "      <td>28.1</td>\n",
       "      <td>0.167</td>\n",
       "      <td>21</td>\n",
       "      <td>0</td>\n",
       "    </tr>\n",
       "    <tr>\n",
       "      <th>4</th>\n",
       "      <td>0</td>\n",
       "      <td>137</td>\n",
       "      <td>40</td>\n",
       "      <td>35</td>\n",
       "      <td>168</td>\n",
       "      <td>43.1</td>\n",
       "      <td>2.288</td>\n",
       "      <td>33</td>\n",
       "      <td>1</td>\n",
       "    </tr>\n",
       "  </tbody>\n",
       "</table>\n",
       "        </div>\n",
       "    </div>\n",
       "\n",
       "</div>\n",
       "\n"
      ],
      "text/plain": [
       "<pandas_profiling.ProfileReport at 0x1f7f4ea3a58>"
      ]
     },
     "execution_count": 7,
     "metadata": {},
     "output_type": "execute_result"
    }
   ],
   "source": [
    "# Test and make sure that this function runs even without an internet connection\n",
    "pandas_profiling.ProfileReport(dataFrame)"
   ]
  },
  {
   "cell_type": "code",
   "execution_count": 7,
   "metadata": {
    "collapsed": false
   },
   "outputs": [
    {
     "data": {
      "text/html": [
       "<div>\n",
       "<table border=\"1\" class=\"dataframe\">\n",
       "  <thead>\n",
       "    <tr style=\"text-align: right;\">\n",
       "      <th></th>\n",
       "      <th>no_times_pregnant</th>\n",
       "      <th>plasma_glucose_conc</th>\n",
       "      <th>diastolic_bp</th>\n",
       "      <th>triceps_sf_thickness</th>\n",
       "      <th>insulin</th>\n",
       "      <th>bmi</th>\n",
       "      <th>diabetes_pedigree_function</th>\n",
       "      <th>age</th>\n",
       "    </tr>\n",
       "    <tr>\n",
       "      <th>isDiabetic</th>\n",
       "      <th></th>\n",
       "      <th></th>\n",
       "      <th></th>\n",
       "      <th></th>\n",
       "      <th></th>\n",
       "      <th></th>\n",
       "      <th></th>\n",
       "      <th></th>\n",
       "    </tr>\n",
       "  </thead>\n",
       "  <tbody>\n",
       "    <tr>\n",
       "      <th>0</th>\n",
       "      <td>3.298000</td>\n",
       "      <td>109.980000</td>\n",
       "      <td>68.184000</td>\n",
       "      <td>19.664000</td>\n",
       "      <td>68.792000</td>\n",
       "      <td>30.304200</td>\n",
       "      <td>0.429734</td>\n",
       "      <td>31.190000</td>\n",
       "    </tr>\n",
       "    <tr>\n",
       "      <th>1</th>\n",
       "      <td>4.865672</td>\n",
       "      <td>141.257463</td>\n",
       "      <td>70.824627</td>\n",
       "      <td>22.164179</td>\n",
       "      <td>100.335821</td>\n",
       "      <td>35.142537</td>\n",
       "      <td>0.550500</td>\n",
       "      <td>37.067164</td>\n",
       "    </tr>\n",
       "  </tbody>\n",
       "</table>\n",
       "</div>"
      ],
      "text/plain": [
       "            no_times_pregnant  plasma_glucose_conc  diastolic_bp  \\\n",
       "isDiabetic                                                         \n",
       "0                    3.298000           109.980000     68.184000   \n",
       "1                    4.865672           141.257463     70.824627   \n",
       "\n",
       "            triceps_sf_thickness     insulin        bmi  \\\n",
       "isDiabetic                                                \n",
       "0                      19.664000   68.792000  30.304200   \n",
       "1                      22.164179  100.335821  35.142537   \n",
       "\n",
       "            diabetes_pedigree_function        age  \n",
       "isDiabetic                                         \n",
       "0                             0.429734  31.190000  \n",
       "1                             0.550500  37.067164  "
      ]
     },
     "execution_count": 7,
     "metadata": {},
     "output_type": "execute_result"
    }
   ],
   "source": [
    "dataFrame.groupby('isDiabetic').mean()"
   ]
  },
  {
   "cell_type": "code",
   "execution_count": 8,
   "metadata": {
    "collapsed": true
   },
   "outputs": [],
   "source": [
    "# This command makes the notebook as the canvas and displays the plots in the notebook\n",
    "%matplotlib inline "
   ]
  },
  {
   "cell_type": "code",
   "execution_count": 9,
   "metadata": {
    "collapsed": false
   },
   "outputs": [
    {
     "data": {
      "text/plain": [
       "<matplotlib.text.Text at 0x27e78adb710>"
      ]
     },
     "execution_count": 9,
     "metadata": {},
     "output_type": "execute_result"
    },
    {
     "data": {
      "image/png": "[encoded data removed]",
      "text/plain": [
       "<matplotlib.figure.Figure at 0x27e78932358>"
      ]
     },
     "metadata": {},
     "output_type": "display_data"
    }
   ],
   "source": [
    "dataFrame.insulin.hist()\n",
    "plt.title('Histogram of Insulin')\n",
    "plt.xlabel('2hr_serum_insulin')\n",
    "plt.ylabel('Frequency')"
   ]
  },
  {
   "cell_type": "code",
   "execution_count": 10,
   "metadata": {
    "collapsed": false
   },
   "outputs": [
    {
     "data": {
      "text/plain": [
       "<matplotlib.text.Text at 0x27e78bbd860>"
      ]
     },
     "execution_count": 10,
     "metadata": {},
     "output_type": "execute_result"
    },
    {
     "data": {
      "image/png": "[encoded data removed]",
      "text/plain": [
       "<matplotlib.figure.Figure at 0x27e78b2d048>"
      ]
     },
     "metadata": {},
     "output_type": "display_data"
    }
   ],
   "source": [
    "dataFrame.triceps_sf_thickness.hist(bins = 50)\n",
    "plt.title('Histogram of Triceps skin fold thickness')\n",
    "plt.xlabel('Triceps skin fold thickness')\n",
    "plt.ylabel('Frequency')"
   ]
  },
  {
   "cell_type": "code",
   "execution_count": 11,
   "metadata": {
    "collapsed": false
   },
   "outputs": [
    {
     "data": {
      "text/plain": [
       "<matplotlib.text.Text at 0x27e78ffc128>"
      ]
     },
     "execution_count": 11,
     "metadata": {},
     "output_type": "execute_result"
    },
    {
     "data": {
      "image/png": "[encoded data removed]",
      "text/plain": [
       "<matplotlib.figure.Figure at 0x27e78fdd5c0>"
      ]
     },
     "metadata": {},
     "output_type": "display_data"
    }
   ],
   "source": [
    "dataFrame.no_times_pregnant.hist(bins = 18)\n",
    "plt.title('Histogram of Number of times pregnant')\n",
    "plt.xlabel('Number of times pregnant')\n",
    "plt.ylabel('Frequency')"
   ]
  },
  {
   "cell_type": "markdown",
   "metadata": {},
   "source": [
    "### <u>From the above plot we cannot conclude that the Number of times pregnant column has missing values<u>, since there maybe patients who have not been pregnant even once.\n",
    "## The summary of all the cloumns with missing values is as follows\n",
    "   1. ~~Number of times pregnant = 111~~\n",
    "   2. Plasma glucose concentration = 5\n",
    "   3. Diastolic blood pressure = 35\n",
    "   4. Triceps skin fold thickness = 227\n",
    "   5. 2-Hour serum insulin = 374\n",
    "   6. Body mass index = 11\n",
    "   7. Diabetes pedigree function = NONE\n",
    "   8. Age (years) = NONE\n",
    "    "
   ]
  },
  {
   "cell_type": "code",
   "execution_count": 12,
   "metadata": {
    "collapsed": false
   },
   "outputs": [
    {
     "data": {
      "text/plain": [
       "<matplotlib.text.Text at 0x27e790b4f98>"
      ]
     },
     "execution_count": 12,
     "metadata": {},
     "output_type": "execute_result"
    },
    {
     "data": {
      "image/png": "[encoded data removed]",
      "text/plain": [
       "<matplotlib.figure.Figure at 0x27e79043780>"
      ]
     },
     "metadata": {},
     "output_type": "display_data"
    }
   ],
   "source": [
    "pd.crosstab(dataFrame.no_times_pregnant, dataFrame.isDiabetic.astype(bool)).plot(kind='bar')\n",
    "plt.title('Number of times pregnant Distribution by Diabetic Status')\n",
    "plt.xlabel('Number of times pregnant')\n",
    "plt.ylabel('Frequency')"
   ]
  },
  {
   "cell_type": "markdown",
   "metadata": {},
   "source": [
    "## <u>Preparing the data<u>\n"
   ]
  },
  {
   "cell_type": "code",
   "execution_count": 13,
   "metadata": {
    "collapsed": false
   },
   "outputs": [
    {
     "name": "stdout",
     "output_type": "stream",
     "text": [
      "(251, 9)\n",
      "(478, 9)\n",
      "(244, 9)\n",
      "(243, 9)\n",
      "(242, 9)\n"
     ]
    }
   ],
   "source": [
    "# removing the rows from the data set where some values are 0's that do not biologically make sense\n",
    "dataFrame = dataFrame[dataFrame['diastolic_bp'] !=0]\n",
    "dataFrame = dataFrame[dataFrame['bmi'] !=0]\n",
    "\n",
    "\n",
    "diabetic_patients = dataFrame[dataFrame['isDiabetic']==1]\n",
    "non_diabetic_patients = dataFrame[dataFrame['isDiabetic']==0]\n",
    "\n",
    "\n",
    "dp1,dp2,dp3 = np.array_split(diabetic_patients,3)\n",
    "ndp1,ndp2,ndp3 = np.array_split(non_diabetic_patients,3)\n",
    "\n",
    "frames1 = [dp1,ndp1]\n",
    "frames2 = [dp2,ndp2]\n",
    "frames3 = [dp3,ndp3]\n",
    "\n",
    "dataset1 = pd.concat(frames1)\n",
    "dataset2 = pd.concat(frames2)\n",
    "dataset3 = pd.concat(frames3)\n",
    "\n",
    "#print(dataFrame.loc[245:253])\n",
    "print(diabetic_patients.shape)\n",
    "print(non_diabetic_patients.shape)\n",
    "print(dataset1.shape)\n",
    "print(dataset2.shape)\n",
    "print(dataset3.shape)"
   ]
  },
  {
   "cell_type": "markdown",
   "metadata": {},
   "source": [
    "#### Split the data set into training set and test set"
   ]
  },
  {
   "cell_type": "code",
   "execution_count": 14,
   "metadata": {
    "collapsed": false
   },
   "outputs": [
    {
     "name": "stdout",
     "output_type": "stream",
     "text": [
      "(244, 8)\n",
      "(243, 8)\n",
      "(244,)\n",
      "(243,)\n"
     ]
    }
   ],
   "source": [
    "#X_train, X_test, y_train, y_test = train_test_split(X, y, test_size=0.3, random_state=0)\n",
    "\n",
    "#features = ['no_times_pregnant_squared','plasma_glucose_conc','diastolic_bp',\\\n",
    "                   # 'triceps_sf_thickness','insulin','bmi',\\\n",
    "                    # 'diabetes_pedigree_function','age']\n",
    "features = ['no_times_pregnant','plasma_glucose_conc','diastolic_bp',\\\n",
    "                    'triceps_sf_thickness','insulin','bmi',\\\n",
    "                     'diabetes_pedigree_function','age']\n",
    "output = ['isDiabetic']\n",
    "\n",
    "X_train = dataset1[features]\n",
    "y_train = dataset1[output]\n",
    "\n",
    "X_test = dataset2[features]\n",
    "y_test = dataset2[output]\n",
    "\n",
    "y_train = np.ravel(y_train)\n",
    "y_test = np.ravel(y_test)\n",
    "\n",
    "\n",
    "print(X_train.shape)\n",
    "print(X_test.shape)\n",
    "print(y_train.shape)\n",
    "print(y_test.shape)\n",
    "\n",
    "#######################################\n",
    "#X_last = dataset3[features]\n",
    "#y_last = dataset3[output]\n",
    "#########################################"
   ]
  },
  {
   "cell_type": "markdown",
   "metadata": {},
   "source": [
    "### <u>Sensitivity (aka hit-rate or recall)<u> \n",
    "   #### TPR =  TP/P   ==>   TP/TP+FN\n",
    "\n",
    "### <u>Specificity<u> \n",
    "   #### TNR = TN/N ==>   TN/FP+TN \n",
    "   \n",
    "### <u>Confusion  <u>  \n"
   ]
  },
  {
   "cell_type": "code",
   "execution_count": 58,
   "metadata": {
    "collapsed": true
   },
   "outputs": [],
   "source": [
    "def get_my_metrics(predicted, actual):\n",
    "    CF_matrix = metrics.confusion_matrix(predicted, actual)\n",
    "    sensitivity = CF_matrix[0,0]/(CF_matrix[0,0] + CF_matrix[1,0])\n",
    "    specificity = CF_matrix[1,1]/(CF_matrix[0,1] + CF_matrix[1,1])\n",
    "    #print(\"Confusion Matrix\")\n",
    "    #print(CF_matrix)\n",
    "    print(\"\\n\")\n",
    "    print(\"Sensitivity = \",sensitivity *100,\"%\")\n",
    "    print(\"Specificity = \",specificity *100,\"%\")"
   ]
  },
  {
   "cell_type": "markdown",
   "metadata": {},
   "source": [
    "## <u>Logistic Regression<u>"
   ]
  },
  {
   "cell_type": "code",
   "execution_count": 16,
   "metadata": {
    "collapsed": false
   },
   "outputs": [
    {
     "data": {
      "text/plain": [
       "LogisticRegression(C=3.0, class_weight=None, dual=False, fit_intercept=True,\n",
       "          intercept_scaling=1, max_iter=100, multi_class='ovr', n_jobs=1,\n",
       "          penalty='l2', random_state=None, solver='liblinear', tol=0.0001,\n",
       "          verbose=0, warm_start=False)"
      ]
     },
     "execution_count": 16,
     "metadata": {},
     "output_type": "execute_result"
    }
   ],
   "source": [
    "#dataFrame['constant'] = 1\n",
    "#dataFrame = ['constant'] + dataFrame\n",
    "\n",
    "LR_model = LogisticRegression(fit_intercept = True, C=3.0)\n",
    "LR_model.fit(X_train, y_train)"
   ]
  },
  {
   "cell_type": "code",
   "execution_count": 17,
   "metadata": {
    "collapsed": false
   },
   "outputs": [
    {
     "name": "stdout",
     "output_type": "stream",
     "text": [
      "Accuracy =  74.4855967078 %\n"
     ]
    }
   ],
   "source": [
    "#LR_model.score(X,y) \n",
    "\n",
    "LR_predictions = LR_model.predict(X_test)\n",
    "print (\"Accuracy = \",metrics.accuracy_score(y_test, LR_predictions)*100,'%') #prints the accuracy on the test set"
   ]
  },
  {
   "cell_type": "code",
   "execution_count": 18,
   "metadata": {
    "collapsed": false
   },
   "outputs": [
    {
     "name": "stdout",
     "output_type": "stream",
     "text": [
      "Confusion Matrix\n",
      "[[142  17]\n",
      " [ 45  39]]\n",
      "\n",
      "\n",
      "Sensitivity =  75.935828877 %\n",
      "Specificity =  69.6428571429 %\n",
      "\n",
      "\n",
      "Classification report\n",
      "             precision    recall  f1-score   support\n",
      "\n",
      "          0       0.76      0.89      0.82       159\n",
      "          1       0.70      0.46      0.56        84\n",
      "\n",
      "avg / total       0.74      0.74      0.73       243\n",
      "\n"
     ]
    }
   ],
   "source": [
    "get_my_metrics(y_test, LR_predictions)\n",
    "print(\"\\n\")\n",
    "print(\"Classification report\")\n",
    "print (metrics.classification_report(y_test, LR_predictions))"
   ]
  },
  {
   "cell_type": "markdown",
   "metadata": {},
   "source": [
    "#### Evaluate the model Using cross-validation"
   ]
  },
  {
   "cell_type": "code",
   "execution_count": 19,
   "metadata": {
    "collapsed": false
   },
   "outputs": [
    {
     "name": "stdout",
     "output_type": "stream",
     "text": [
      "[ 68.          44.          80.          72.          83.33333333\n",
      "  83.33333333  75.          83.33333333  58.33333333  58.33333333] %\n",
      "70.5666666667 %\n"
     ]
    }
   ],
   "source": [
    "# cv = 10 indicates 10 fold cross validation\n",
    "LR_cv_scores = cross_val_score(LogisticRegression(), X_train, y_train, scoring = 'accuracy', cv = 10)\n",
    "\n",
    "print(LR_cv_scores *100, '%')\n",
    "print(LR_cv_scores.mean()*100,'%')"
   ]
  },
  {
   "cell_type": "markdown",
   "metadata": {},
   "source": [
    "## <U>Support Vector Machines<U>\n",
    " #### Support Vector Machine algorithms are not scale invariant, so it is highly recommended to scale the data. \n",
    " ##### -  scale each attribute on the input vector X to [0,1] or [-1,+1], or standardize it to have mean 0 and variance 1."
   ]
  },
  {
   "cell_type": "code",
   "execution_count": 20,
   "metadata": {
    "collapsed": false
   },
   "outputs": [],
   "source": [
    "#SVM_X_train, SVM_X_test, SVM_y_train, SVM_y_test = train_test_split(X, y, test_size=0.3, random_state=0)\n",
    "SVM_X_train = X_train\n",
    "SVM_X_test = X_test\n",
    "SVM_y_train = y_train\n",
    "SVM_y_test = y_test\n",
    "\n",
    "featureScaler = MinMaxScaler(feature_range=(0,1))\n",
    "featureScaler.fit(SVM_X_train)\n",
    "SVM_X_train = featureScaler.transform(SVM_X_train)\n",
    "SVM_X_test = featureScaler.transform(SVM_X_test)"
   ]
  },
  {
   "cell_type": "code",
   "execution_count": 21,
   "metadata": {
    "collapsed": false
   },
   "outputs": [
    {
     "data": {
      "text/plain": [
       "SVC(C=3.0, cache_size=200, class_weight=None, coef0=0.0,\n",
       "  decision_function_shape=None, degree=3, gamma='auto', kernel='rbf',\n",
       "  max_iter=-1, probability=False, random_state=None, shrinking=True,\n",
       "  tol=0.001, verbose=False)"
      ]
     },
     "execution_count": 21,
     "metadata": {},
     "output_type": "execute_result"
    }
   ],
   "source": [
    "SVM_model = svm.SVC(kernel='rbf', C = 3.0)  #class_weight= 'balanced')\n",
    "SVM_model.fit(SVM_X_train, SVM_y_train)\n"
   ]
  },
  {
   "cell_type": "code",
   "execution_count": 22,
   "metadata": {
    "collapsed": false
   },
   "outputs": [
    {
     "name": "stdout",
     "output_type": "stream",
     "text": [
      "Accuracy =  74.8971193416 %\n"
     ]
    }
   ],
   "source": [
    "SVM_predictions = SVM_model.predict(SVM_X_test)\n",
    "#SVM_model.score(SVM_X_test, SVM_y_test)\n",
    "\n",
    "print (\"Accuracy = \",metrics.accuracy_score(SVM_y_test, SVM_predictions) *100 ,'%')"
   ]
  },
  {
   "cell_type": "code",
   "execution_count": 23,
   "metadata": {
    "collapsed": false
   },
   "outputs": [
    {
     "name": "stdout",
     "output_type": "stream",
     "text": [
      "Confusion Matrix\n",
      "[[144  15]\n",
      " [ 46  38]]\n",
      "\n",
      "\n",
      "Sensitivity =  75.7894736842 %\n",
      "Specificity =  71.6981132075 %\n",
      "\n",
      "\n",
      "Classification Report\n",
      "             precision    recall  f1-score   support\n",
      "\n",
      "          0       0.76      0.91      0.83       159\n",
      "          1       0.72      0.45      0.55        84\n",
      "\n",
      "avg / total       0.74      0.75      0.73       243\n",
      "\n"
     ]
    }
   ],
   "source": [
    "get_my_metrics(SVM_y_test, SVM_predictions)\n",
    "print(\"\\n\")\n",
    "print(\"Classification Report\")\n",
    "print (metrics.classification_report(SVM_y_test, SVM_predictions))"
   ]
  },
  {
   "cell_type": "markdown",
   "metadata": {},
   "source": [
    "#### Evaluate the model using cross validation"
   ]
  },
  {
   "cell_type": "code",
   "execution_count": 24,
   "metadata": {
    "collapsed": false
   },
   "outputs": [
    {
     "name": "stdout",
     "output_type": "stream",
     "text": [
      "[ 56.          68.          68.          64.          66.66666667  75.\n",
      "  70.83333333  70.83333333  62.5         66.66666667] %\n",
      "66.85 %\n"
     ]
    }
   ],
   "source": [
    "svm_cv_scores = cross_val_score(svm.SVC(), SVM_X_train, SVM_y_train, scoring = 'accuracy', cv = 10)\n",
    "\n",
    "print(svm_cv_scores *100, '%')\n",
    "print(svm_cv_scores.mean()*100,'%')"
   ]
  },
  {
   "cell_type": "markdown",
   "metadata": {},
   "source": [
    "## <u>Naive Bayes<u> "
   ]
  },
  {
   "cell_type": "code",
   "execution_count": 25,
   "metadata": {
    "collapsed": false
   },
   "outputs": [],
   "source": [
    "#NB_X_train, NB_X_test, NB_y_train, NB_y_test = train_test_split(X, y, test_size=0.3, random_state=0)\n",
    "\n",
    "NB_X_train = X_train\n",
    "NB_X_test = X_test\n",
    "NB_y_train = y_train\n",
    "NB_y_test = y_test\n",
    "\n",
    "featureScaler = MinMaxScaler(feature_range=(0,1))\n",
    "featureScaler.fit(NB_X_train)\n",
    "NB_X_train = featureScaler.transform(NB_X_train)\n",
    "NB_X_test = featureScaler.transform(NB_X_test)"
   ]
  },
  {
   "cell_type": "code",
   "execution_count": 26,
   "metadata": {
    "collapsed": false
   },
   "outputs": [
    {
     "data": {
      "text/plain": [
       "GaussianNB()"
      ]
     },
     "execution_count": 26,
     "metadata": {},
     "output_type": "execute_result"
    }
   ],
   "source": [
    "NB_model = GaussianNB()\n",
    "NB_model.fit(NB_X_train, NB_y_train)"
   ]
  },
  {
   "cell_type": "code",
   "execution_count": 27,
   "metadata": {
    "collapsed": false
   },
   "outputs": [
    {
     "name": "stdout",
     "output_type": "stream",
     "text": [
      "Accuracy =  69.5473251029 %\n"
     ]
    }
   ],
   "source": [
    "NB_predictions = NB_model.predict(NB_X_test)\n",
    "print (\"Accuracy = \",metrics.accuracy_score(NB_y_test, NB_predictions) *100 ,'%')"
   ]
  },
  {
   "cell_type": "code",
   "execution_count": 28,
   "metadata": {
    "collapsed": false
   },
   "outputs": [
    {
     "name": "stdout",
     "output_type": "stream",
     "text": [
      "Confusion Matrix\n",
      "[[124  35]\n",
      " [ 39  45]]\n",
      "\n",
      "\n",
      "Sensitivity =  76.0736196319 %\n",
      "Specificity =  56.25 %\n",
      "\n",
      "\n",
      "Classification Report\n",
      "             precision    recall  f1-score   support\n",
      "\n",
      "          0       0.76      0.78      0.77       159\n",
      "          1       0.56      0.54      0.55        84\n",
      "\n",
      "avg / total       0.69      0.70      0.69       243\n",
      "\n"
     ]
    }
   ],
   "source": [
    "get_my_metrics(NB_y_test, NB_predictions)\n",
    "print(\"\\n\")\n",
    "print(\"Classification Report\")\n",
    "print (metrics.classification_report(NB_y_test, NB_predictions))"
   ]
  },
  {
   "cell_type": "markdown",
   "metadata": {},
   "source": [
    "## <u> Random Forests<u>"
   ]
  },
  {
   "cell_type": "code",
   "execution_count": 29,
   "metadata": {
    "collapsed": true
   },
   "outputs": [],
   "source": [
    "RF_X_train = X_train\n",
    "RF_X_test = X_test\n",
    "RF_y_train = y_train\n",
    "RF_y_test = y_test\n",
    "\n",
    "featureScaler = MinMaxScaler(feature_range=(0,1))\n",
    "featureScaler.fit(RF_X_train)\n",
    "RF_X_train = featureScaler.transform(RF_X_train)\n",
    "RF_X_test = featureScaler.transform(RF_X_test)"
   ]
  },
  {
   "cell_type": "code",
   "execution_count": 30,
   "metadata": {
    "collapsed": false
   },
   "outputs": [
    {
     "data": {
      "text/plain": [
       "RandomForestClassifier(bootstrap=True, class_weight=None, criterion='gini',\n",
       "            max_depth=2, max_features='auto', max_leaf_nodes=None,\n",
       "            min_samples_leaf=1, min_samples_split=2,\n",
       "            min_weight_fraction_leaf=0.0, n_estimators=150, n_jobs=1,\n",
       "            oob_score=False, random_state=1, verbose=0, warm_start=False)"
      ]
     },
     "execution_count": 30,
     "metadata": {},
     "output_type": "execute_result"
    }
   ],
   "source": [
    "RF_model = RandomForestClassifier(n_estimators=150, max_depth=2, random_state=1)\n",
    "RF_model.fit(RF_X_train, RF_y_train)"
   ]
  },
  {
   "cell_type": "code",
   "execution_count": 31,
   "metadata": {
    "collapsed": false
   },
   "outputs": [
    {
     "name": "stdout",
     "output_type": "stream",
     "text": [
      "Train Accuracy =  78.2786885246 %\n",
      "Test Accuracy =  75.3086419753 %\n"
     ]
    }
   ],
   "source": [
    "RF_predictions_forTrainSet = RF_model.predict(RF_X_train)\n",
    "RF_predictions_forTestSet = RF_model.predict(RF_X_test)\n",
    "print (\"Train Accuracy = \",metrics.accuracy_score(RF_y_train, RF_predictions_forTrainSet) *100 ,'%')\n",
    "print (\"Test Accuracy = \",metrics.accuracy_score(RF_y_test, RF_predictions_forTestSet) *100 ,'%')"
   ]
  },
  {
   "cell_type": "code",
   "execution_count": 32,
   "metadata": {
    "collapsed": false
   },
   "outputs": [
    {
     "name": "stdout",
     "output_type": "stream",
     "text": [
      "Confusion Matrix\n",
      "[[152   7]\n",
      " [ 53  31]]\n",
      "\n",
      "\n",
      "Sensitivity =  74.1463414634 %\n",
      "Specificity =  81.5789473684 %\n",
      "\n",
      "\n",
      "Classification Report\n",
      "             precision    recall  f1-score   support\n",
      "\n",
      "          0       0.74      0.96      0.84       159\n",
      "          1       0.82      0.37      0.51        84\n",
      "\n",
      "avg / total       0.77      0.75      0.72       243\n",
      "\n"
     ]
    }
   ],
   "source": [
    "get_my_metrics(RF_y_test, RF_predictions_forTestSet)\n",
    "print(\"\\n\")\n",
    "print(\"Classification Report\")\n",
    "print (metrics.classification_report(RF_y_test, RF_predictions_forTestSet))"
   ]
  },
  {
   "cell_type": "markdown",
   "metadata": {},
   "source": [
    "### <u> K- nearest Neighbours<u>\n"
   ]
  },
  {
   "cell_type": "code",
   "execution_count": 33,
   "metadata": {
    "collapsed": true
   },
   "outputs": [],
   "source": [
    "KNN_X_train = X_train\n",
    "KNN_X_test = X_test\n",
    "KNN_y_train = y_train\n",
    "KNN_y_test = y_test\n",
    "\n",
    "featureScaler = MinMaxScaler(feature_range=(0,1))\n",
    "featureScaler.fit(KNN_X_train)\n",
    "RF_X_train = featureScaler.transform(KNN_X_train)\n",
    "RF_X_test = featureScaler.transform(KNN_X_test)"
   ]
  },
  {
   "cell_type": "code",
   "execution_count": 34,
   "metadata": {
    "collapsed": false
   },
   "outputs": [
    {
     "data": {
      "text/plain": [
       "KNeighborsClassifier(algorithm='auto', leaf_size=30, metric='minkowski',\n",
       "           metric_params=None, n_jobs=1, n_neighbors=3, p=2,\n",
       "           weights='uniform')"
      ]
     },
     "execution_count": 34,
     "metadata": {},
     "output_type": "execute_result"
    }
   ],
   "source": [
    "KNN_model = KNeighborsClassifier(n_neighbors=3)\n",
    "#KNN_model = RadiusNeighborsClassifier(radius=1.0)\n",
    "KNN_model.fit(KNN_X_train, KNN_y_train)"
   ]
  },
  {
   "cell_type": "code",
   "execution_count": 35,
   "metadata": {
    "collapsed": false
   },
   "outputs": [
    {
     "name": "stdout",
     "output_type": "stream",
     "text": [
      "Train Accuracy =  78.2786885246 %\n",
      "Test Accuracy =  72.8395061728 %\n"
     ]
    }
   ],
   "source": [
    "KNN_predictions_forTrainSet = KNN_model.predict(KNN_X_train)\n",
    "KNN_predictions_forTestSet = KNN_model.predict(KNN_X_test)\n",
    "print (\"Train Accuracy = \",metrics.accuracy_score(KNN_y_train, KNN_predictions_forTrainSet) *100 ,'%')\n",
    "print (\"Test Accuracy = \",metrics.accuracy_score(KNN_y_test, KNN_predictions_forTestSet) *100 ,'%')"
   ]
  },
  {
   "cell_type": "code",
   "execution_count": 36,
   "metadata": {
    "collapsed": false
   },
   "outputs": [
    {
     "name": "stdout",
     "output_type": "stream",
     "text": [
      "Confusion Matrix\n",
      "[[130  29]\n",
      " [ 37  47]]\n",
      "\n",
      "\n",
      "Sensitivity =  77.8443113772 %\n",
      "Specificity =  61.8421052632 %\n",
      "\n",
      "\n",
      "Classification Report\n",
      "             precision    recall  f1-score   support\n",
      "\n",
      "          0       0.78      0.82      0.80       159\n",
      "          1       0.62      0.56      0.59        84\n",
      "\n",
      "avg / total       0.72      0.73      0.72       243\n",
      "\n"
     ]
    }
   ],
   "source": [
    "get_my_metrics(KNN_y_test, KNN_predictions_forTestSet)\n",
    "print(\"\\n\")\n",
    "print(\"Classification Report\")\n",
    "print (metrics.classification_report(KNN_y_test, KNN_predictions_forTestSet))"
   ]
  },
  {
   "cell_type": "markdown",
   "metadata": {},
   "source": [
    "### <u> Ada Boost <u>"
   ]
  },
  {
   "cell_type": "code",
   "execution_count": 37,
   "metadata": {
    "collapsed": true
   },
   "outputs": [],
   "source": [
    "ADA_X_train = X_train\n",
    "ADA_X_test = X_test\n",
    "ADA_y_train = y_train\n",
    "ADA_y_test = y_test\n",
    "\n",
    "featureScaler = MinMaxScaler(feature_range=(0,1))\n",
    "featureScaler.fit(ADA_X_train)\n",
    "ADA_X_train = featureScaler.transform(ADA_X_train)\n",
    "ADA_X_test = featureScaler.transform(ADA_X_test)"
   ]
  },
  {
   "cell_type": "code",
   "execution_count": 38,
   "metadata": {
    "collapsed": false
   },
   "outputs": [
    {
     "data": {
      "text/plain": [
       "AdaBoostClassifier(algorithm='SAMME.R', base_estimator=None,\n",
       "          learning_rate=1.0, n_estimators=100, random_state=None)"
      ]
     },
     "execution_count": 38,
     "metadata": {},
     "output_type": "execute_result"
    }
   ],
   "source": [
    "ADA_model = AdaBoostClassifier(n_estimators=100)\n",
    "ADA_model.fit(ADA_X_train, ADA_y_train)"
   ]
  },
  {
   "cell_type": "code",
   "execution_count": 39,
   "metadata": {
    "collapsed": false
   },
   "outputs": [
    {
     "name": "stdout",
     "output_type": "stream",
     "text": [
      "Train Accuracy =  96.3114754098 %\n",
      "Test Accuracy =  71.6049382716 %\n"
     ]
    }
   ],
   "source": [
    "ADA_predictions_forTrainSet = ADA_model.predict(ADA_X_train)\n",
    "ADA_predictions_forTestSet = ADA_model.predict(ADA_X_test)\n",
    "print (\"Train Accuracy = \",metrics.accuracy_score(ADA_y_train, ADA_predictions_forTrainSet) *100 ,'%')\n",
    "print (\"Test Accuracy = \",metrics.accuracy_score(ADA_y_test, ADA_predictions_forTestSet) *100 ,'%')"
   ]
  },
  {
   "cell_type": "code",
   "execution_count": 40,
   "metadata": {
    "collapsed": false
   },
   "outputs": [
    {
     "name": "stdout",
     "output_type": "stream",
     "text": [
      "Confusion Matrix\n",
      "[[130  29]\n",
      " [ 40  44]]\n",
      "\n",
      "\n",
      "Sensitivity =  76.4705882353 %\n",
      "Specificity =  60.2739726027 %\n",
      "\n",
      "\n",
      "Classification Report\n",
      "             precision    recall  f1-score   support\n",
      "\n",
      "          0       0.76      0.82      0.79       159\n",
      "          1       0.60      0.52      0.56        84\n",
      "\n",
      "avg / total       0.71      0.72      0.71       243\n",
      "\n"
     ]
    }
   ],
   "source": [
    "get_my_metrics(ADA_y_test, ADA_predictions_forTestSet)\n",
    "print(\"\\n\")\n",
    "print(\"Classification Report\")\n",
    "print (metrics.classification_report(ADA_y_test, ADA_predictions_forTestSet))"
   ]
  },
  {
   "cell_type": "markdown",
   "metadata": {},
   "source": [
    "## <u>Multidimensional Scaling<u>\n",
    "### Visualizing the data \n",
    "#### - reducing the number of features from 8 to 2, so that it can be plotted in a 2D graph"
   ]
  },
  {
   "cell_type": "code",
   "execution_count": 41,
   "metadata": {
    "collapsed": false
   },
   "outputs": [],
   "source": [
    "#mds = MDS(n_components=2, dissimilarity='precomputed')\n",
    "\n",
    "#similarities = euclidean_distances(X.astype(np.float64))\n",
    "#print (similarities.shape)\n",
    "\n",
    "#pos = mds.fit_transform(similarities.astype(np.float64))\n",
    "#print(pos.shape)"
   ]
  },
  {
   "cell_type": "code",
   "execution_count": 42,
   "metadata": {
    "collapsed": false
   },
   "outputs": [],
   "source": [
    "#plt.scatter(pos[:, 0], pos[:, 1], c=y, cmap=plt.cm.Paired)\n",
    "#plt.xlabel('Coordinates 1')\n",
    "#plt.ylabel('Coordinates 2')\n",
    "#plt.title(\"Pima Indian diabetes dataset\")"
   ]
  },
  {
   "cell_type": "markdown",
   "metadata": {
    "collapsed": true
   },
   "source": [
    "# <u> Weight Adjusting <u>"
   ]
  },
  {
   "cell_type": "code",
   "execution_count": 43,
   "metadata": {
    "collapsed": false
   },
   "outputs": [
    {
     "name": "stdout",
     "output_type": "stream",
     "text": [
      "[ 0.33333333  0.33333333  0.33333333]\n"
     ]
    }
   ],
   "source": [
    "# TODO : create a class for the adjust_weights and voting algorithms called \"WeightAdjustedVoting\"\n",
    "\n",
    "def adjust_weights(all_predictions_matrix, actual_values, step_size1, step_size2):\n",
    "    # Note: the rows in the predictions matrix are the different models and columns are the samples\n",
    "    n_models, n_samples = all_predictions_matrix.shape\n",
    "    actual_values = actual_values.T #Transpose the matrix to match the dimensions of predictions_matrix\n",
    "    n_actual_values = actual_values.shape\n",
    "    \n",
    "    \n",
    "    #if(n_samples != n_actual_values):\n",
    "       # print(\"The size of model predictions is not the same as the size of actual values\")\n",
    "        #return\n",
    "    \n",
    "    import math\n",
    "    majority = int(math.ceil(n_models/2))\n",
    "    \n",
    "    # Creating an array of weights for all the models and filling them with initial weights\n",
    "    initial_weights = 1/n_models\n",
    "    weights_of_models = np.empty(n_models)\n",
    "    weights_of_models.fill(initial_weights)\n",
    "    \n",
    "     # In case of n_models = 1 or 2 do not change the weights \n",
    "    if(n_models == 1 or n_models == 2):\n",
    "        return weights_of_models\n",
    "        \n",
    "    \n",
    "    # Comparing the predictions of each model with the actual values and hence creating a matrix of 0's and 1's\n",
    "    for i in range(0,n_models):\n",
    "        all_predictions_matrix[i,:] = np.array([all_predictions_matrix[i,:] == actual_values])\n",
    "\n",
    "\n",
    "    # Adjusting the Weights\n",
    "    for j in  range(0, n_samples):\n",
    "        sum = np.sum(all_predictions_matrix[:,j])  \n",
    "        # if all the models predicted correct or if all models predicted wrong then return without changing the weights\n",
    "        if(sum == 0 or sum == n_models):\n",
    "            continue\n",
    "        \n",
    "        # If the no.of models that predicted correct and wrong are euqal then do not change the weights\n",
    "        #if(n_models%2 == 0 and sum == n_models/2):\n",
    "            #continue        \n",
    "        \n",
    "        correct_models, wrong_models = get_correct_and_wrong_models(all_predictions_matrix[:,j])\n",
    "       \n",
    "        if(sum >= majority):\n",
    "            for a in correct_models: # Note: 'a' here is the value in the list 'correct_models'\n",
    "                weights_of_models[a] += step_size1/(len(correct_models)/len(wrong_models))              \n",
    "            \n",
    "            for b in wrong_models:\n",
    "                weights_of_models[b] -= step_size1 \n",
    "       \n",
    "        else:\n",
    "            for s in correct_models:\n",
    "                weights_of_models[s] += (len(wrong_models)/len(correct_models))*step_size2\n",
    "             \n",
    "            for e in wrong_models:\n",
    "                weights_of_models[e] -= step_size2 \n",
    "        \n",
    "    return weights_of_models\n",
    "\n",
    "\n",
    "# testing for the above function\n",
    "h = np.array([[1,1],[1,1],[1,1]])\n",
    "k = np.array([1,0]) \n",
    "#print(np.sum(h[:,0]))\n",
    "\n",
    "weights_test = adjust_weights(h, k, 0.3, 0.1)\n",
    "print(weights_test)"
   ]
  },
  {
   "cell_type": "code",
   "execution_count": 44,
   "metadata": {
    "collapsed": false
   },
   "outputs": [
    {
     "name": "stdout",
     "output_type": "stream",
     "text": [
      "[0, 2]\n",
      "[1]\n"
     ]
    }
   ],
   "source": [
    "def get_correct_and_wrong_models(list):\n",
    "    correct_classifier = []\n",
    "    wrong_classifier = []\n",
    "    for i in range(0, len(list)):\n",
    "        if(list[i] == 1):\n",
    "            correct_classifier.append(i)\n",
    "        elif(list[i]==0):\n",
    "            wrong_classifier.append(i)\n",
    "    return(correct_classifier, wrong_classifier)\n",
    "\n",
    "# testing for the above function\n",
    "c, w = get_correct_and_wrong_models([1,0,1])\n",
    "print(c)\n",
    "print(w)"
   ]
  },
  {
   "cell_type": "code",
   "execution_count": 45,
   "metadata": {
    "collapsed": false
   },
   "outputs": [
    {
     "name": "stdout",
     "output_type": "stream",
     "text": [
      "0\n"
     ]
    }
   ],
   "source": [
    "#list = np.array([LR_predictions[i], SVM_predictions[i], NB_predictions[i], \n",
    "                        #RF_predictions_forTestSet[i], KNN_predictions_forTestSet[i], ADA_predictions_forTestSet[i]])\n",
    "def voting(list, weights):\n",
    "    if(np.sum(list)== 0):\n",
    "        return 0\n",
    "    \n",
    "    import math\n",
    "    majority = int(math.ceil(len(list)/2))\n",
    "    if(np.sum(list) > majority):\n",
    "         return 1\n",
    "    # If the no.of models that predict possitive and negative are equal then predict as positive\n",
    "    #if(len(list)%2 == 0 and np.sum(list) >= majority):\n",
    "        #return 1\n",
    "    \n",
    "    else:\n",
    "        correct_models, wrong_models = get_correct_and_wrong_models(list)\n",
    "        \n",
    "        weight_of_positive_models = 0\n",
    "        weight_of_negative_models = 0\n",
    "        \n",
    "        for a in correct_models:\n",
    "            weight_of_positive_models += weights[a]\n",
    "            \n",
    "        for b in wrong_models:\n",
    "            weight_of_negative_models += weights[b]\n",
    "        \n",
    "        weight_of_positive_models = weight_of_positive_models/len(correct_models)\n",
    "        \n",
    "        #weight_of_negative_models = float(weight_of_negative_models/len(wrong_models))\n",
    "        weight_of_negative_models = weight_of_negative_models/len(wrong_models)\n",
    "        \n",
    "        #print(\"Positive weight = \", weight_of_positive_models)\n",
    "        #print(\"Negative weight = \", weight_of_negative_models)\n",
    "        if(weight_of_positive_models > weight_of_negative_models):\n",
    "            return 1\n",
    "        else:\n",
    "            return 0\n",
    "         \n",
    "# testing for the above function\n",
    "list_test = [1,0,0,0,0]\n",
    "weights_test = [0.3,0.3,0.3,0.3,0.3]\n",
    "print(voting(list_test,weights_test))"
   ]
  },
  {
   "cell_type": "code",
   "execution_count": 108,
   "metadata": {
    "collapsed": false
   },
   "outputs": [
    {
     "name": "stdout",
     "output_type": "stream",
     "text": [
      "(3, 243)\n",
      "[ 0.35833333  0.37333333  0.26833333]\n"
     ]
    }
   ],
   "source": [
    "all_predictions = np.array([LR_predictions, SVM_predictions, NB_predictions, \n",
    "                            RF_predictions_forTestSet, KNN_predictions_forTestSet, ADA_predictions_forTestSet])\n",
    "\n",
    "all_predictions = all_predictions[:3,:]\n",
    "print(all_predictions.shape)\n",
    "\n",
    "\n",
    "shape = y_test.shape\n",
    "nInstances = shape[0]\n",
    "step_size1 = 0.01\n",
    "step_size2 = 0.01\n",
    "    \n",
    "#Note: REMEMBER, the 'all_predictions matrix' get changed in the Weight adjusting function. Hence create a new variable\n",
    "#Its really important to create a new memory (np.array()), if not both the variables point to same object.\n",
    "all_predictions_for_votingFunction = np.array(all_predictions)\n",
    "\n",
    "weights = adjust_weights(all_predictions, y_test, step_size1, step_size2)\n",
    "\n",
    "print(weights)"
   ]
  },
  {
   "cell_type": "code",
   "execution_count": 109,
   "metadata": {
    "collapsed": false
   },
   "outputs": [
    {
     "name": "stdout",
     "output_type": "stream",
     "text": [
      "243\n",
      "Final Accuracy =  74.4855967078 %\n",
      "\n",
      "\n",
      "Sensitivity =  75.3926701571 %\n",
      "Specificity =  71.1538461538 %\n",
      "\n",
      "\n",
      "Classification Report\n",
      "             precision    recall  f1-score   support\n",
      "\n",
      "          0       0.75      0.91      0.82       159\n",
      "          1       0.71      0.44      0.54        84\n",
      "\n",
      "avg / total       0.74      0.74      0.73       243\n",
      "\n",
      "[ 0.82285714  0.54411765]\n",
      "0.683487394958\n"
     ]
    }
   ],
   "source": [
    "# currently using dataset 2 for phase 3: voting    \n",
    "# later change it to use dataset 3\n",
    "shape = y_test.shape\n",
    "nInstances = shape[0]\n",
    "print(nInstances)\n",
    "\n",
    "final_result = np.empty(nInstances)\n",
    "for i in  range(0, nInstances):\n",
    "    final_result[i] = voting(all_predictions_for_votingFunction[:,i], weights)\n",
    "\n",
    "    \n",
    "print (\"Final Accuracy = \",metrics.accuracy_score(y_test, final_result) *100 ,'%')\n",
    "\n",
    "get_my_metrics(y_test, final_result)\n",
    "print(\"\\n\")\n",
    "print(\"Classification Report\")\n",
    "print (metrics.classification_report(y_test, final_result))\n",
    "\n",
    "f_score = f1_score(y_test, final_result, average= None)\n",
    "f_score = (f_score[0] + f_score[1])/2\n",
    "print(f1_score(y_test, final_result, average= None))\n",
    "print(f_score)"
   ]
  },
  {
   "cell_type": "code",
   "execution_count": 110,
   "metadata": {
    "collapsed": true
   },
   "outputs": [],
   "source": [
    "def get_my_metrics2(predicted, actual):\n",
    "    CF_matrix = metrics.confusion_matrix(predicted, actual)\n",
    "    sensitivity = CF_matrix[0,0]/(CF_matrix[0,0] + CF_matrix[1,0])\n",
    "    specificity = CF_matrix[1,1]/(CF_matrix[0,1] + CF_matrix[1,1])\n",
    "    return sensitivity, specificity"
   ]
  },
  {
   "cell_type": "code",
   "execution_count": 103,
   "metadata": {
    "collapsed": false,
    "scrolled": true
   },
   "outputs": [],
   "source": [
    "def find_best_stepSizeValue():\n",
    "    shape = y_test.shape\n",
    "    nInstances = shape[0]\n",
    "\n",
    "    range_of_step_values = np.arange(0.01,0.9,0.01)\n",
    "    \n",
    "    final_result = np.empty(nInstances)\n",
    "    \n",
    "    import csv\n",
    "    with open('6classifiers.csv', 'w') as csvfile:\n",
    "        fieldnames = ['Step size 1', 'Step size 2', 'Accuracy', 'Sensitivity', 'Specificity', 'F_score','Weights']\n",
    "        writer = csv.DictWriter(csvfile, fieldnames=fieldnames)\n",
    "        writer.writeheader() \n",
    "    \n",
    "        for i in range_of_step_values:\n",
    "            for j in range_of_step_values:\n",
    "                all_predictions = np.array([LR_predictions, SVM_predictions, NB_predictions, \n",
    "                                RF_predictions_forTestSet, KNN_predictions_forTestSet, ADA_predictions_forTestSet])\n",
    "    \n",
    "                all_predictions = all_predictions[:6,:] #remember to change the file name if you change #of calssifiers\n",
    "                all_predictions_for_votingFunction = np.array(all_predictions)\n",
    "            \n",
    "                weights = adjust_weights(all_predictions, y_test, i, j)\n",
    "                \n",
    "                for k in  range(0, nInstances):\n",
    "                    final_result[k] = voting(all_predictions_for_votingFunction[:,k], weights)\n",
    "                \n",
    "                Accuracy = metrics.accuracy_score(y_test, final_result) *100\n",
    "                Sensitivity, Specificity = get_my_metrics2(final_result, y_test)\n",
    "                F_score = f1_score(y_test, final_result, average= None)\n",
    "                F_score = (F_score[0] + F_score[1])/2\n",
    "                    \n",
    "                    \n",
    "                writer.writerow({'Step size 1': i, 'Step size 2': j, 'Accuracy': Accuracy, 'Sensitivity': Sensitivity, 'Specificity': Specificity, 'F_score': F_score,'Weights': weights})\n",
    "                \n",
    "                del all_predictions, all_predictions_for_votingFunction\n",
    "\n",
    "    #end of 'with open('3classifiers.csv', 'w') as csvfile:' block.          \n",
    "# end of function\n",
    "\n",
    "#call the function\n",
    "find_best_stepSizeValue()\n"
   ]
  },
  {
   "cell_type": "markdown",
   "metadata": {},
   "source": [
    "## JUNK ----  scratch paper    "
   ]
  },
  {
   "cell_type": "code",
   "execution_count": 107,
   "metadata": {
    "collapsed": false
   },
   "outputs": [
    {
     "name": "stdout",
     "output_type": "stream",
     "text": [
      "(3, 1)\n",
      "(1, 3)\n",
      "(3,)\n",
      "[[1 2 3]\n",
      " [4 5 6]\n",
      " [7 8 9]]\n",
      "[[1 0 0]\n",
      " [4 5 6]\n",
      " [7 8 9]]\n",
      "[[[1 0 0]]]\n",
      "3\n",
      "3\n"
     ]
    }
   ],
   "source": [
    "a = np.array([[1,2,3],[4,5,6],[7,8,9]])\n",
    "b = np.array([[1],[1],[1]])\n",
    "print(b.shape)\n",
    "b = b.T\n",
    "print(b.shape)\n",
    "w = a[0,:]\n",
    "print(w.shape)\n",
    "c = np.array([a[0,:]==b], dtype =int)\n",
    "print(a)\n",
    "a[0,:] = np.array([a[0,:]==b], dtype =int)\n",
    "print(a)\n",
    "print(c)\n",
    "rows,cols = a.shape\n",
    "print(rows)\n",
    "print(cols)"
   ]
  },
  {
   "cell_type": "code",
   "execution_count": 51,
   "metadata": {
    "collapsed": false
   },
   "outputs": [
    {
     "data": {
      "text/plain": [
       "3"
      ]
     },
     "execution_count": 51,
     "metadata": {},
     "output_type": "execute_result"
    }
   ],
   "source": [
    "import math\n",
    "x = int(math.ceil(6/2))\n",
    "x"
   ]
  },
  {
   "cell_type": "code",
   "execution_count": 52,
   "metadata": {
    "collapsed": false
   },
   "outputs": [
    {
     "name": "stdout",
     "output_type": "stream",
     "text": [
      "49 12 26 156\n"
     ]
    }
   ],
   "source": [
    "\n",
    "r1 = np.array(LR_predictions == y_test, dtype=int)\n",
    "r2 = np.array(SVM_predictions == y_test, dtype=int)\n",
    "r3 = np.array(NB_predictions == y_test, dtype=int)\n",
    "\n",
    "ones = 0\n",
    "twos = 0\n",
    "zeros = 0\n",
    "threes = 0\n",
    "for i in  range(0, nInstances):\n",
    "    if((r1[i]+r2[i]+r3[i]) == 1):\n",
    "        ones = ones+1\n",
    "    elif((r1[i]+r2[i]+r3[i]) == 2):\n",
    "        twos = twos+1\n",
    "    elif((r1[i]+r2[i]+r3[i]) == 0):\n",
    "        zeros = zeros+1\n",
    "    elif((r1[i]+r2[i]+r3[i]) == 3):\n",
    "        threes = threes+1\n",
    "\n",
    "print(zeros,ones, twos, threes)\n",
    "    "
   ]
  },
  {
   "cell_type": "code",
   "execution_count": 53,
   "metadata": {
    "collapsed": false
   },
   "outputs": [
    {
     "name": "stdout",
     "output_type": "stream",
     "text": [
      "[ 0.33333333  0.33333333  0.33333333]\n",
      "1\n"
     ]
    }
   ],
   "source": [
    "\n",
    "weights = np.array((1/3,1/3,1/3),dtype=float)\n",
    "print (weights)\n",
    "b = weights\n",
    "print([0.33,0.3,0.3].index(0.3))"
   ]
  },
  {
   "cell_type": "code",
   "execution_count": null,
   "metadata": {
    "collapsed": false
   },
   "outputs": [],
   "source": [
    "print((0.28333333 + 0.20833333)/2.0)"
   ]
  },
  {
   "cell_type": "markdown",
   "metadata": {
    "collapsed": true
   },
   "source": [
    "### <u>Sensitivity (aka hit-rate or recall)<u> \n",
    "   #### TPR =  TP/P   ==>   TP/TP+FN\n",
    "\n",
    "### <u>Specificity<u> \n",
    "   #### TNR = TN/N ==>   TN/FP+TN \n",
    "   \n",
    "### <u>Confusion  <u>  "
   ]
  },
  {
   "cell_type": "code",
   "execution_count": null,
   "metadata": {
    "collapsed": true
   },
   "outputs": [],
   "source": [
    "def get_my_metrics(predicted, actual):\n",
    "    CF_matrix = metrics.confusion_matrix(predicted, actual)\n",
    "    sensitivity = CF_matrix[0,0]/(CF_matrix[0,0] + CF_matrix[1,0])\n",
    "    specificity = CF_matrix[1,1]/(CF_matrix[0,1] + CF_matrix[1,1])\n",
    "    print(\"Confusion Matrix\")\n",
    "    print(CF_matrix)\n",
    "    print(\"\\n\")\n",
    "    print(\"Sensitivity = \",sensitivity *100,\"%\")\n",
    "    print(\"Specificity = \",specificity *100,\"%\")\n",
    "    "
   ]
  },
  {
   "cell_type": "code",
   "execution_count": null,
   "metadata": {
    "collapsed": false
   },
   "outputs": [],
   "source": [
    "get_my_metrics(y_test, final_result)"
   ]
  },
  {
   "cell_type": "markdown",
   "metadata": {},
   "source": [
    "## <u>Grid Search<u>"
   ]
  },
  {
   "cell_type": "code",
   "execution_count": null,
   "metadata": {
    "collapsed": false
   },
   "outputs": [],
   "source": [
    "from sklearn import grid_search\n",
    "parameters = [{'n_neighbors':[1,50],\n",
    "              'leaf_size':[1,100],\n",
    "              #'weights':('uniform,','distance'),\n",
    "              'algorithm':['auto', 'ball_tree', 'kd_tree', 'brute'],\n",
    "              'metric':['minkowski'], 'p':[1,2,3,4,5,6]\n",
    "             }]\n",
    "clf = KNeighborsClassifier()\n",
    "grid = grid_search.GridSearchCV(clf, parameters, cv = 2)\n",
    "grid.fit(X_train, y_train)\n",
    "#RF_model = RandomForestClassifier(n_estimators=150, max_depth=2, random_state=1)\n",
    "#KNeighborsClassifier(algorithm='auto', leaf_size=30, metric='minkowski',\n",
    "           # metric_params=None, n_jobs=1, n_neighbors=3, p=2,\n",
    "          # weights='uniform')"
   ]
  },
  {
   "cell_type": "code",
   "execution_count": null,
   "metadata": {
    "collapsed": false
   },
   "outputs": [],
   "source": [
    "print(grid.best_params_)\n",
    "print(grid.best_score_)\n",
    "print(grid.best_estimator_)"
   ]
  },
  {
   "cell_type": "markdown",
   "metadata": {},
   "source": [
    "## <u> Learning Curve<u>"
   ]
  },
  {
   "cell_type": "code",
   "execution_count": null,
   "metadata": {
    "collapsed": false
   },
   "outputs": [],
   "source": [
    "#print(doc_)\n",
    "from sklearn.learning_curve import learning_curve\n",
    "from sklearn import cross_validation\n",
    "\n",
    "def plot_learning_curve(estimator, title, X, y, ylim=None, cv=None,\n",
    "                        n_jobs=1, train_sizes=np.linspace(.1, 1.0, 5)):\n",
    "\n",
    "    plt.figure()\n",
    "    plt.title(title)\n",
    "    if ylim is not None:\n",
    "        plt.ylim(*ylim)\n",
    "    plt.xlabel(\"Training examples\")\n",
    "    plt.ylabel(\"Score\")\n",
    "    train_sizes, train_scores, test_scores = learning_curve(\n",
    "        estimator, X, y, cv=cv, n_jobs=n_jobs, train_sizes=train_sizes)\n",
    "    train_scores_mean = np.mean(train_scores, axis=1)\n",
    "    train_scores_std = np.std(train_scores, axis=1)\n",
    "    test_scores_mean = np.mean(test_scores, axis=1)\n",
    "    test_scores_std = np.std(test_scores, axis=1)\n",
    "    plt.grid()\n",
    "\n",
    "    plt.fill_between(train_sizes, train_scores_mean - train_scores_std,\n",
    "                     train_scores_mean + train_scores_std, alpha=0.1,\n",
    "                     color=\"r\")\n",
    "    plt.fill_between(train_sizes, test_scores_mean - test_scores_std,\n",
    "                     test_scores_mean + test_scores_std, alpha=0.1, color=\"g\")\n",
    "    plt.plot(train_sizes, train_scores_mean, 'o-', color=\"r\",\n",
    "             label=\"Training score\")\n",
    "    plt.plot(train_sizes, test_scores_mean, 'o-', color=\"g\",\n",
    "             label=\"Cross-validation score\")\n",
    "\n",
    "    plt.legend(loc=\"best\")\n",
    "    return plt\n",
    "\n",
    "X = dataFrame[features]\n",
    "y = dataFrame[output]\n",
    "\n",
    "#X = [X_train, X_test]\n",
    "#y = [y_train, y_test]\n",
    "\n",
    "title = \"Learning Curves (Logistic Regression)\"\n",
    "# Cross validation with 100 iterations to get smoother mean test and train\n",
    "# score curves, each time with 20% data randomly selected as a validation set.\n",
    "cv = cross_validation.ShuffleSplit(dataFrame.shape[0], n_iter=100,\n",
    "                                   test_size=0.2, random_state=0)\n",
    "\n",
    "estimator =LogisticRegression(fit_intercept = True, C=3.0)\n",
    "#estimator = RandomForestClassifier(max_depth=2)\n",
    "plot_learning_curve(estimator, title, X, y, ylim=(0.6, 1.01), cv=cv, n_jobs=4)\n",
    "\n",
    "plt.show()"
   ]
  },
  {
   "cell_type": "code",
   "execution_count": null,
   "metadata": {
    "collapsed": false
   },
   "outputs": [],
   "source": []
  },
  {
   "cell_type": "code",
   "execution_count": null,
   "metadata": {
    "collapsed": true
   },
   "outputs": [],
   "source": []
  },
  {
   "cell_type": "code",
   "execution_count": null,
   "metadata": {
    "collapsed": true
   },
   "outputs": [],
   "source": []
  }
 ],
 "metadata": {
  "kernelspec": {
   "display_name": "Python 3",
   "language": "python",
   "name": "python3"
  },
  "language_info": {
   "codemirror_mode": {
    "name": "ipython",
    "version": 3
   },
   "file_extension": ".py",
   "mimetype": "text/x-python",
   "name": "python",
   "nbconvert_exporter": "python",
   "pygments_lexer": "ipython3",
   "version": "3.5.1"
  }
 },
 "nbformat": 4,
 "nbformat_minor": 0
}
