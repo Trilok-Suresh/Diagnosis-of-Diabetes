{
 "cells": [
  {
   "cell_type": "markdown",
   "metadata": {},
   "source": [
    "# <u>Diagnosis of Diabetes using weight adjusted voting of an ensemble of classifiers<u>\n",
    "\n",
    "\n",
    "## Importing modules"
   ]
  },
  {
   "cell_type": "code",
   "execution_count": 1,
   "metadata": {
    "collapsed": false
   },
   "outputs": [],
   "source": [
    "import numpy as np\n",
    "import matplotlib.pyplot as plt\n",
    "import pandas as pd\n",
    "\n",
    "from sklearn.linear_model import LogisticRegression\n",
    "from sklearn.cross_validation import train_test_split\n",
    "from sklearn.cross_validation import cross_val_score\n",
    "from sklearn import metrics\n",
    "from sklearn.preprocessing import MinMaxScaler\n",
    "#from sklearn.neural_network import MLPClassifier #--- only available in sklearn 0.18\n",
    "from sklearn import svm\n",
    "from sklearn.manifold import MDS\n",
    "from sklearn.metrics import euclidean_distances\n",
    "from sklearn.naive_bayes import GaussianNB\n",
    "from sklearn.ensemble import RandomForestClassifier\n",
    "from sklearn.ensemble import AdaBoostClassifier\n",
    "from sklearn.neighbors import KNeighborsClassifier\n",
    "from sklearn.neighbors import RadiusNeighborsClassifier"
   ]
  },
  {
   "cell_type": "markdown",
   "metadata": {},
   "source": [
    "## Loading the data"
   ]
  },
  {
   "cell_type": "code",
   "execution_count": 2,
   "metadata": {
    "collapsed": false
   },
   "outputs": [],
   "source": [
    "dataFrame = pd.read_table('pima-indians-diabetes.data', sep =',', header = None)"
   ]
  },
  {
   "cell_type": "code",
   "execution_count": 3,
   "metadata": {
    "collapsed": false
   },
   "outputs": [
    {
     "name": "stdout",
     "output_type": "stream",
     "text": [
      "<class 'pandas.core.frame.DataFrame'>\n",
      "Int64Index: 768 entries, 0 to 767\n",
      "Data columns (total 9 columns):\n",
      "0    768 non-null int64\n",
      "1    768 non-null int64\n",
      "2    768 non-null int64\n",
      "3    768 non-null int64\n",
      "4    768 non-null int64\n",
      "5    768 non-null float64\n",
      "6    768 non-null float64\n",
      "7    768 non-null int64\n",
      "8    768 non-null int64\n",
      "dtypes: float64(2), int64(7)\n",
      "memory usage: 60.0 KB\n"
     ]
    }
   ],
   "source": [
    "#dataFrame.shape\n",
    "dataFrame.info()"
   ]
  },
  {
   "cell_type": "code",
   "execution_count": 4,
   "metadata": {
    "collapsed": false
   },
   "outputs": [],
   "source": [
    "dataFrame.columns = ['no_times_pregnant','plasma_glucose_conc','diastolic_bp',\\\n",
    "                    'triceps_sf_thickness','insulin','bmi',\\\n",
    "                     'diabetes_pedigree_function','age','isDiabetic']\n",
    "#dataFrame['no_times_pregnant_squared'] = dataFrame['no_times_pregnant']*dataFrame['no_times_pregnant']"
   ]
  },
  {
   "cell_type": "markdown",
   "metadata": {},
   "source": [
    "## Exploring the data"
   ]
  },
  {
   "cell_type": "code",
   "execution_count": 5,
   "metadata": {
    "collapsed": false
   },
   "outputs": [
    {
     "data": {
      "text/html": [
       "<div>\n",
       "<table border=\"1\" class=\"dataframe\">\n",
       "  <thead>\n",
       "    <tr style=\"text-align: right;\">\n",
       "      <th></th>\n",
       "      <th>no_times_pregnant</th>\n",
       "      <th>plasma_glucose_conc</th>\n",
       "      <th>diastolic_bp</th>\n",
       "      <th>triceps_sf_thickness</th>\n",
       "      <th>insulin</th>\n",
       "      <th>bmi</th>\n",
       "      <th>diabetes_pedigree_function</th>\n",
       "      <th>age</th>\n",
       "      <th>isDiabetic</th>\n",
       "    </tr>\n",
       "  </thead>\n",
       "  <tbody>\n",
       "    <tr>\n",
       "      <th>0</th>\n",
       "      <td>6</td>\n",
       "      <td>148</td>\n",
       "      <td>72</td>\n",
       "      <td>35</td>\n",
       "      <td>0</td>\n",
       "      <td>33.6</td>\n",
       "      <td>0.627</td>\n",
       "      <td>50</td>\n",
       "      <td>1</td>\n",
       "    </tr>\n",
       "    <tr>\n",
       "      <th>1</th>\n",
       "      <td>1</td>\n",
       "      <td>85</td>\n",
       "      <td>66</td>\n",
       "      <td>29</td>\n",
       "      <td>0</td>\n",
       "      <td>26.6</td>\n",
       "      <td>0.351</td>\n",
       "      <td>31</td>\n",
       "      <td>0</td>\n",
       "    </tr>\n",
       "    <tr>\n",
       "      <th>2</th>\n",
       "      <td>8</td>\n",
       "      <td>183</td>\n",
       "      <td>64</td>\n",
       "      <td>0</td>\n",
       "      <td>0</td>\n",
       "      <td>23.3</td>\n",
       "      <td>0.672</td>\n",
       "      <td>32</td>\n",
       "      <td>1</td>\n",
       "    </tr>\n",
       "    <tr>\n",
       "      <th>3</th>\n",
       "      <td>1</td>\n",
       "      <td>89</td>\n",
       "      <td>66</td>\n",
       "      <td>23</td>\n",
       "      <td>94</td>\n",
       "      <td>28.1</td>\n",
       "      <td>0.167</td>\n",
       "      <td>21</td>\n",
       "      <td>0</td>\n",
       "    </tr>\n",
       "    <tr>\n",
       "      <th>4</th>\n",
       "      <td>0</td>\n",
       "      <td>137</td>\n",
       "      <td>40</td>\n",
       "      <td>35</td>\n",
       "      <td>168</td>\n",
       "      <td>43.1</td>\n",
       "      <td>2.288</td>\n",
       "      <td>33</td>\n",
       "      <td>1</td>\n",
       "    </tr>\n",
       "  </tbody>\n",
       "</table>\n",
       "</div>"
      ],
      "text/plain": [
       "   no_times_pregnant  plasma_glucose_conc  diastolic_bp  triceps_sf_thickness  \\\n",
       "0                  6                  148            72                    35   \n",
       "1                  1                   85            66                    29   \n",
       "2                  8                  183            64                     0   \n",
       "3                  1                   89            66                    23   \n",
       "4                  0                  137            40                    35   \n",
       "\n",
       "   insulin   bmi  diabetes_pedigree_function  age  isDiabetic  \n",
       "0        0  33.6                       0.627   50           1  \n",
       "1        0  26.6                       0.351   31           0  \n",
       "2        0  23.3                       0.672   32           1  \n",
       "3       94  28.1                       0.167   21           0  \n",
       "4      168  43.1                       2.288   33           1  "
      ]
     },
     "execution_count": 5,
     "metadata": {},
     "output_type": "execute_result"
    }
   ],
   "source": [
    "dataFrame.head()\n"
   ]
  },
  {
   "cell_type": "code",
   "execution_count": 6,
   "metadata": {
    "collapsed": false
   },
   "outputs": [
    {
     "data": {
      "text/html": [
       "<div>\n",
       "<table border=\"1\" class=\"dataframe\">\n",
       "  <thead>\n",
       "    <tr style=\"text-align: right;\">\n",
       "      <th></th>\n",
       "      <th>no_times_pregnant</th>\n",
       "      <th>plasma_glucose_conc</th>\n",
       "      <th>diastolic_bp</th>\n",
       "      <th>triceps_sf_thickness</th>\n",
       "      <th>insulin</th>\n",
       "      <th>bmi</th>\n",
       "      <th>diabetes_pedigree_function</th>\n",
       "      <th>age</th>\n",
       "      <th>isDiabetic</th>\n",
       "    </tr>\n",
       "  </thead>\n",
       "  <tbody>\n",
       "    <tr>\n",
       "      <th>count</th>\n",
       "      <td>768.000000</td>\n",
       "      <td>768.000000</td>\n",
       "      <td>768.000000</td>\n",
       "      <td>768.000000</td>\n",
       "      <td>768.000000</td>\n",
       "      <td>768.000000</td>\n",
       "      <td>768.000000</td>\n",
       "      <td>768.000000</td>\n",
       "      <td>768.000000</td>\n",
       "    </tr>\n",
       "    <tr>\n",
       "      <th>mean</th>\n",
       "      <td>3.845052</td>\n",
       "      <td>120.894531</td>\n",
       "      <td>69.105469</td>\n",
       "      <td>20.536458</td>\n",
       "      <td>79.799479</td>\n",
       "      <td>31.992578</td>\n",
       "      <td>0.471876</td>\n",
       "      <td>33.240885</td>\n",
       "      <td>0.348958</td>\n",
       "    </tr>\n",
       "    <tr>\n",
       "      <th>std</th>\n",
       "      <td>3.369578</td>\n",
       "      <td>31.972618</td>\n",
       "      <td>19.355807</td>\n",
       "      <td>15.952218</td>\n",
       "      <td>115.244002</td>\n",
       "      <td>7.884160</td>\n",
       "      <td>0.331329</td>\n",
       "      <td>11.760232</td>\n",
       "      <td>0.476951</td>\n",
       "    </tr>\n",
       "    <tr>\n",
       "      <th>min</th>\n",
       "      <td>0.000000</td>\n",
       "      <td>0.000000</td>\n",
       "      <td>0.000000</td>\n",
       "      <td>0.000000</td>\n",
       "      <td>0.000000</td>\n",
       "      <td>0.000000</td>\n",
       "      <td>0.078000</td>\n",
       "      <td>21.000000</td>\n",
       "      <td>0.000000</td>\n",
       "    </tr>\n",
       "    <tr>\n",
       "      <th>25%</th>\n",
       "      <td>1.000000</td>\n",
       "      <td>99.000000</td>\n",
       "      <td>62.000000</td>\n",
       "      <td>0.000000</td>\n",
       "      <td>0.000000</td>\n",
       "      <td>27.300000</td>\n",
       "      <td>0.243750</td>\n",
       "      <td>24.000000</td>\n",
       "      <td>0.000000</td>\n",
       "    </tr>\n",
       "    <tr>\n",
       "      <th>50%</th>\n",
       "      <td>3.000000</td>\n",
       "      <td>117.000000</td>\n",
       "      <td>72.000000</td>\n",
       "      <td>23.000000</td>\n",
       "      <td>30.500000</td>\n",
       "      <td>32.000000</td>\n",
       "      <td>0.372500</td>\n",
       "      <td>29.000000</td>\n",
       "      <td>0.000000</td>\n",
       "    </tr>\n",
       "    <tr>\n",
       "      <th>75%</th>\n",
       "      <td>6.000000</td>\n",
       "      <td>140.250000</td>\n",
       "      <td>80.000000</td>\n",
       "      <td>32.000000</td>\n",
       "      <td>127.250000</td>\n",
       "      <td>36.600000</td>\n",
       "      <td>0.626250</td>\n",
       "      <td>41.000000</td>\n",
       "      <td>1.000000</td>\n",
       "    </tr>\n",
       "    <tr>\n",
       "      <th>max</th>\n",
       "      <td>17.000000</td>\n",
       "      <td>199.000000</td>\n",
       "      <td>122.000000</td>\n",
       "      <td>99.000000</td>\n",
       "      <td>846.000000</td>\n",
       "      <td>67.100000</td>\n",
       "      <td>2.420000</td>\n",
       "      <td>81.000000</td>\n",
       "      <td>1.000000</td>\n",
       "    </tr>\n",
       "  </tbody>\n",
       "</table>\n",
       "</div>"
      ],
      "text/plain": [
       "       no_times_pregnant  plasma_glucose_conc  diastolic_bp  \\\n",
       "count         768.000000           768.000000    768.000000   \n",
       "mean            3.845052           120.894531     69.105469   \n",
       "std             3.369578            31.972618     19.355807   \n",
       "min             0.000000             0.000000      0.000000   \n",
       "25%             1.000000            99.000000     62.000000   \n",
       "50%             3.000000           117.000000     72.000000   \n",
       "75%             6.000000           140.250000     80.000000   \n",
       "max            17.000000           199.000000    122.000000   \n",
       "\n",
       "       triceps_sf_thickness     insulin         bmi  \\\n",
       "count            768.000000  768.000000  768.000000   \n",
       "mean              20.536458   79.799479   31.992578   \n",
       "std               15.952218  115.244002    7.884160   \n",
       "min                0.000000    0.000000    0.000000   \n",
       "25%                0.000000    0.000000   27.300000   \n",
       "50%               23.000000   30.500000   32.000000   \n",
       "75%               32.000000  127.250000   36.600000   \n",
       "max               99.000000  846.000000   67.100000   \n",
       "\n",
       "       diabetes_pedigree_function         age  isDiabetic  \n",
       "count                  768.000000  768.000000  768.000000  \n",
       "mean                     0.471876   33.240885    0.348958  \n",
       "std                      0.331329   11.760232    0.476951  \n",
       "min                      0.078000   21.000000    0.000000  \n",
       "25%                      0.243750   24.000000    0.000000  \n",
       "50%                      0.372500   29.000000    0.000000  \n",
       "75%                      0.626250   41.000000    1.000000  \n",
       "max                      2.420000   81.000000    1.000000  "
      ]
     },
     "execution_count": 6,
     "metadata": {},
     "output_type": "execute_result"
    }
   ],
   "source": [
    "dataFrame.describe()"
   ]
  },
  {
   "cell_type": "code",
   "execution_count": 7,
   "metadata": {
    "collapsed": false
   },
   "outputs": [
    {
     "data": {
      "text/html": [
       "<div>\n",
       "<table border=\"1\" class=\"dataframe\">\n",
       "  <thead>\n",
       "    <tr style=\"text-align: right;\">\n",
       "      <th></th>\n",
       "      <th>no_times_pregnant</th>\n",
       "      <th>plasma_glucose_conc</th>\n",
       "      <th>diastolic_bp</th>\n",
       "      <th>triceps_sf_thickness</th>\n",
       "      <th>insulin</th>\n",
       "      <th>bmi</th>\n",
       "      <th>diabetes_pedigree_function</th>\n",
       "      <th>age</th>\n",
       "    </tr>\n",
       "    <tr>\n",
       "      <th>isDiabetic</th>\n",
       "      <th></th>\n",
       "      <th></th>\n",
       "      <th></th>\n",
       "      <th></th>\n",
       "      <th></th>\n",
       "      <th></th>\n",
       "      <th></th>\n",
       "      <th></th>\n",
       "    </tr>\n",
       "  </thead>\n",
       "  <tbody>\n",
       "    <tr>\n",
       "      <th>0</th>\n",
       "      <td>3.298000</td>\n",
       "      <td>109.980000</td>\n",
       "      <td>68.184000</td>\n",
       "      <td>19.664000</td>\n",
       "      <td>68.792000</td>\n",
       "      <td>30.304200</td>\n",
       "      <td>0.429734</td>\n",
       "      <td>31.190000</td>\n",
       "    </tr>\n",
       "    <tr>\n",
       "      <th>1</th>\n",
       "      <td>4.865672</td>\n",
       "      <td>141.257463</td>\n",
       "      <td>70.824627</td>\n",
       "      <td>22.164179</td>\n",
       "      <td>100.335821</td>\n",
       "      <td>35.142537</td>\n",
       "      <td>0.550500</td>\n",
       "      <td>37.067164</td>\n",
       "    </tr>\n",
       "  </tbody>\n",
       "</table>\n",
       "</div>"
      ],
      "text/plain": [
       "            no_times_pregnant  plasma_glucose_conc  diastolic_bp  \\\n",
       "isDiabetic                                                         \n",
       "0                    3.298000           109.980000     68.184000   \n",
       "1                    4.865672           141.257463     70.824627   \n",
       "\n",
       "            triceps_sf_thickness     insulin        bmi  \\\n",
       "isDiabetic                                                \n",
       "0                      19.664000   68.792000  30.304200   \n",
       "1                      22.164179  100.335821  35.142537   \n",
       "\n",
       "            diabetes_pedigree_function        age  \n",
       "isDiabetic                                         \n",
       "0                             0.429734  31.190000  \n",
       "1                             0.550500  37.067164  "
      ]
     },
     "execution_count": 7,
     "metadata": {},
     "output_type": "execute_result"
    }
   ],
   "source": [
    "dataFrame.groupby('isDiabetic').mean()"
   ]
  },
  {
   "cell_type": "code",
   "execution_count": 8,
   "metadata": {
    "collapsed": true
   },
   "outputs": [],
   "source": [
    "# This command makes the notebook as the canvas and displays the plots in the notebook\n",
    "%matplotlib inline "
   ]
  },
  {
   "cell_type": "code",
   "execution_count": 9,
   "metadata": {
    "collapsed": false
   },
   "outputs": [
    {
     "data": {
      "text/plain": [
       "<matplotlib.text.Text at 0x17fcd74a780>"
      ]
     },
     "execution_count": 9,
     "metadata": {},
     "output_type": "execute_result"
    },
    {
     "data": {
      "image/png": "[encoded data removed]",
      "text/plain": [
       "<matplotlib.figure.Figure at 0x17fcd5df390>"
      ]
     },
     "metadata": {},
     "output_type": "display_data"
    }
   ],
   "source": [
    "dataFrame.insulin.hist()\n",
    "plt.title('Histogram of Insulin')\n",
    "plt.xlabel('2hr_serum_insulin')\n",
    "plt.ylabel('Frequency')"
   ]
  },
  {
   "cell_type": "code",
   "execution_count": 10,
   "metadata": {
    "collapsed": false
   },
   "outputs": [
    {
     "data": {
      "text/plain": [
       "<matplotlib.text.Text at 0x17fcd81b940>"
      ]
     },
     "execution_count": 10,
     "metadata": {},
     "output_type": "execute_result"
    },
    {
     "data": {
      "image/png": "[encoded data removed]",
      "text/plain": [
       "<matplotlib.figure.Figure at 0x17fcd79d6a0>"
      ]
     },
     "metadata": {},
     "output_type": "display_data"
    }
   ],
   "source": [
    "dataFrame.triceps_sf_thickness.hist(bins = 50)\n",
    "plt.title('Histogram of Triceps skin fold thickness')\n",
    "plt.xlabel('Triceps skin fold thickness')\n",
    "plt.ylabel('Frequency')"
   ]
  },
  {
   "cell_type": "code",
   "execution_count": 11,
   "metadata": {
    "collapsed": false
   },
   "outputs": [
    {
     "data": {
      "text/plain": [
       "<matplotlib.text.Text at 0x17fcdc78f60>"
      ]
     },
     "execution_count": 11,
     "metadata": {},
     "output_type": "execute_result"
    },
    {
     "data": {
      "image/png": "[encoded data removed]",
      "text/plain": [
       "<matplotlib.figure.Figure at 0x17fcd74d550>"
      ]
     },
     "metadata": {},
     "output_type": "display_data"
    }
   ],
   "source": [
    "dataFrame.no_times_pregnant.hist(bins = 18)\n",
    "plt.title('Histogram of Number of times pregnant')\n",
    "plt.xlabel('Number of times pregnant')\n",
    "plt.ylabel('Frequency')"
   ]
  },
  {
   "cell_type": "markdown",
   "metadata": {},
   "source": [
    "### <u>From the above plot we cannot conclude that the Number of times pregnant column has missing values<u>, since there maybe patients who have not been pregnant even once.\n",
    "## The summary of all the cloumns with missing values is as follows\n",
    "   1. ~~Number of times pregnant = 111~~\n",
    "   2. Plasma glucose concentration = 5\n",
    "   3. Diastolic blood pressure = 35\n",
    "   4. Triceps skin fold thickness = 227\n",
    "   5. 2-Hour serum insulin = 374\n",
    "   6. Body mass index = 11\n",
    "   7. Diabetes pedigree function = NONE\n",
    "   8. Age (years) = NONE\n",
    "    "
   ]
  },
  {
   "cell_type": "code",
   "execution_count": 12,
   "metadata": {
    "collapsed": false
   },
   "outputs": [
    {
     "data": {
      "text/plain": [
       "<matplotlib.text.Text at 0x17fcdd32b38>"
      ]
     },
     "execution_count": 12,
     "metadata": {},
     "output_type": "execute_result"
    },
    {
     "data": {
      "image/png": "[encoded data removed]",
      "text/plain": [
       "<matplotlib.figure.Figure at 0x17fcdcc3748>"
      ]
     },
     "metadata": {},
     "output_type": "display_data"
    }
   ],
   "source": [
    "pd.crosstab(dataFrame.no_times_pregnant, dataFrame.isDiabetic.astype(bool)).plot(kind='bar')\n",
    "plt.title('Number of times pregnant Distribution by Diabetic Status')\n",
    "plt.xlabel('Number of times pregnant')\n",
    "plt.ylabel('Frequency')"
   ]
  },
  {
   "cell_type": "markdown",
   "metadata": {},
   "source": [
    "## <u>Preparing the data<u>\n"
   ]
  },
  {
   "cell_type": "code",
   "execution_count": 13,
   "metadata": {
    "collapsed": false
   },
   "outputs": [
    {
     "name": "stdout",
     "output_type": "stream",
     "text": [
      "(251, 9)\n",
      "(478, 9)\n",
      "(244, 9)\n",
      "(243, 9)\n",
      "(242, 9)\n"
     ]
    }
   ],
   "source": [
    "# removing the rows from the data set where some values are 0's that do not biologically make sense\n",
    "dataFrame = dataFrame[dataFrame['diastolic_bp'] !=0]\n",
    "dataFrame = dataFrame[dataFrame['bmi'] !=0]\n",
    "\n",
    "\n",
    "diabetic_patients = dataFrame[dataFrame['isDiabetic']==1]\n",
    "non_diabetic_patients = dataFrame[dataFrame['isDiabetic']==0]\n",
    "\n",
    "\n",
    "dp1,dp2,dp3 = np.array_split(diabetic_patients,3)\n",
    "ndp1,ndp2,ndp3 = np.array_split(non_diabetic_patients,3)\n",
    "\n",
    "frames1 = [dp1,ndp1]\n",
    "frames2 = [dp2,ndp2]\n",
    "frames3 = [dp3,ndp3]\n",
    "\n",
    "dataset1 = pd.concat(frames1)\n",
    "dataset2 = pd.concat(frames2)\n",
    "dataset3 = pd.concat(frames3)\n",
    "\n",
    "#print(dataFrame.loc[245:253])\n",
    "print(diabetic_patients.shape)\n",
    "print(non_diabetic_patients.shape)\n",
    "print(dataset1.shape)\n",
    "print(dataset2.shape)\n",
    "print(dataset3.shape)"
   ]
  },
  {
   "cell_type": "markdown",
   "metadata": {},
   "source": [
    "#### Split the data set into training set and test set"
   ]
  },
  {
   "cell_type": "code",
   "execution_count": 14,
   "metadata": {
    "collapsed": false
   },
   "outputs": [
    {
     "name": "stdout",
     "output_type": "stream",
     "text": [
      "(244, 8)\n",
      "(243, 8)\n",
      "(244,)\n",
      "(243,)\n"
     ]
    }
   ],
   "source": [
    "#X_train, X_test, y_train, y_test = train_test_split(X, y, test_size=0.3, random_state=0)\n",
    "\n",
    "#features = ['no_times_pregnant_squared','plasma_glucose_conc','diastolic_bp',\\\n",
    "                   # 'triceps_sf_thickness','insulin','bmi',\\\n",
    "                    # 'diabetes_pedigree_function','age']\n",
    "features = ['no_times_pregnant','plasma_glucose_conc','diastolic_bp',\\\n",
    "                    'triceps_sf_thickness','insulin','bmi',\\\n",
    "                     'diabetes_pedigree_function','age']\n",
    "output = ['isDiabetic']\n",
    "\n",
    "X_train = dataset1[features]\n",
    "y_train = dataset1[output]\n",
    "\n",
    "X_test = dataset2[features]\n",
    "y_test = dataset2[output]\n",
    "\n",
    "y_train = np.ravel(y_train)\n",
    "y_test = np.ravel(y_test)\n",
    "\n",
    "\n",
    "print(X_train.shape)\n",
    "print(X_test.shape)\n",
    "print(y_train.shape)\n",
    "print(y_test.shape)\n",
    "\n",
    "#######################################\n",
    "#X_last = dataset3[features]\n",
    "#y_last = dataset3[output]\n",
    "#########################################"
   ]
  },
  {
   "cell_type": "markdown",
   "metadata": {},
   "source": [
    "### <u>Sensitivity (aka hit-rate or recall)<u> \n",
    "   #### TPR =  TP/P   ==>   TP/TP+FN\n",
    "\n",
    "### <u>Specificity<u> \n",
    "   #### TNR = TN/N ==>   TN/FP+TN \n",
    "   \n",
    "### <u>Confusion  <u>  \n"
   ]
  },
  {
   "cell_type": "code",
   "execution_count": 15,
   "metadata": {
    "collapsed": true
   },
   "outputs": [],
   "source": [
    "def get_my_metrics(predicted, actual):\n",
    "    CF_matrix = metrics.confusion_matrix(predicted, actual)\n",
    "    sensitivity = CF_matrix[0,0]/(CF_matrix[0,0] + CF_matrix[1,0])\n",
    "    specificity = CF_matrix[1,1]/(CF_matrix[0,1] + CF_matrix[1,1])\n",
    "    print(\"Confusion Matrix\")\n",
    "    print(CF_matrix)\n",
    "    print(\"\\n\")\n",
    "    print(\"Sensitivity = \",sensitivity *100,\"%\")\n",
    "    print(\"Specificity = \",specificity *100,\"%\")"
   ]
  },
  {
   "cell_type": "markdown",
   "metadata": {},
   "source": [
    "## <u>Logistic Regression<u>"
   ]
  },
  {
   "cell_type": "code",
   "execution_count": 16,
   "metadata": {
    "collapsed": false
   },
   "outputs": [
    {
     "data": {
      "text/plain": [
       "LogisticRegression(C=3.0, class_weight=None, dual=False, fit_intercept=True,\n",
       "          intercept_scaling=1, max_iter=100, multi_class='ovr', n_jobs=1,\n",
       "          penalty='l2', random_state=None, solver='liblinear', tol=0.0001,\n",
       "          verbose=0, warm_start=False)"
      ]
     },
     "execution_count": 16,
     "metadata": {},
     "output_type": "execute_result"
    }
   ],
   "source": [
    "#dataFrame['constant'] = 1\n",
    "#dataFrame = ['constant'] + dataFrame\n",
    "\n",
    "LR_model = LogisticRegression(fit_intercept = True, C=3.0)\n",
    "LR_model.fit(X_train, y_train)"
   ]
  },
  {
   "cell_type": "code",
   "execution_count": 17,
   "metadata": {
    "collapsed": false
   },
   "outputs": [
    {
     "name": "stdout",
     "output_type": "stream",
     "text": [
      "Accuracy =  74.4855967078 %\n"
     ]
    }
   ],
   "source": [
    "#LR_model.score(X,y) \n",
    "\n",
    "LR_predictions = LR_model.predict(X_test)\n",
    "print (\"Accuracy = \",metrics.accuracy_score(y_test, LR_predictions)*100,'%') #prints the accuracy on the test set"
   ]
  },
  {
   "cell_type": "code",
   "execution_count": 18,
   "metadata": {
    "collapsed": false
   },
   "outputs": [
    {
     "name": "stdout",
     "output_type": "stream",
     "text": [
      "Confusion Matrix\n",
      "[[142  17]\n",
      " [ 45  39]]\n",
      "\n",
      "\n",
      "Sensitivity =  75.935828877 %\n",
      "Specificity =  69.6428571429 %\n",
      "\n",
      "\n",
      "Classification report\n",
      "             precision    recall  f1-score   support\n",
      "\n",
      "          0       0.76      0.89      0.82       159\n",
      "          1       0.70      0.46      0.56        84\n",
      "\n",
      "avg / total       0.74      0.74      0.73       243\n",
      "\n"
     ]
    }
   ],
   "source": [
    "get_my_metrics(y_test, LR_predictions)\n",
    "print(\"\\n\")\n",
    "print(\"Classification report\")\n",
    "print (metrics.classification_report(y_test, LR_predictions))"
   ]
  },
  {
   "cell_type": "markdown",
   "metadata": {},
   "source": [
    "#### Evaluate the model Using cross-validation"
   ]
  },
  {
   "cell_type": "code",
   "execution_count": 19,
   "metadata": {
    "collapsed": false
   },
   "outputs": [
    {
     "name": "stdout",
     "output_type": "stream",
     "text": [
      "[ 68.          44.          80.          72.          83.33333333\n",
      "  83.33333333  75.          83.33333333  58.33333333  58.33333333] %\n",
      "70.5666666667 %\n"
     ]
    }
   ],
   "source": [
    "# cv = 10 indicates 10 fold cross validation\n",
    "LR_cv_scores = cross_val_score(LogisticRegression(), X_train, y_train, scoring = 'accuracy', cv = 10)\n",
    "\n",
    "print(LR_cv_scores *100, '%')\n",
    "print(LR_cv_scores.mean()*100,'%')"
   ]
  },
  {
   "cell_type": "markdown",
   "metadata": {},
   "source": [
    "## <U>Support Vector Machines<U>\n",
    " #### Support Vector Machine algorithms are not scale invariant, so it is highly recommended to scale the data. \n",
    " ##### -  scale each attribute on the input vector X to [0,1] or [-1,+1], or standardize it to have mean 0 and variance 1."
   ]
  },
  {
   "cell_type": "code",
   "execution_count": 20,
   "metadata": {
    "collapsed": false
   },
   "outputs": [],
   "source": [
    "#SVM_X_train, SVM_X_test, SVM_y_train, SVM_y_test = train_test_split(X, y, test_size=0.3, random_state=0)\n",
    "SVM_X_train = X_train\n",
    "SVM_X_test = X_test\n",
    "SVM_y_train = y_train\n",
    "SVM_y_test = y_test\n",
    "\n",
    "featureScaler = MinMaxScaler(feature_range=(0,1))\n",
    "featureScaler.fit(SVM_X_train)\n",
    "SVM_X_train = featureScaler.transform(SVM_X_train)\n",
    "SVM_X_test = featureScaler.transform(SVM_X_test)"
   ]
  },
  {
   "cell_type": "code",
   "execution_count": 21,
   "metadata": {
    "collapsed": false
   },
   "outputs": [
    {
     "data": {
      "text/plain": [
       "SVC(C=3.0, cache_size=200, class_weight=None, coef0=0.0,\n",
       "  decision_function_shape=None, degree=3, gamma='auto', kernel='rbf',\n",
       "  max_iter=-1, probability=False, random_state=None, shrinking=True,\n",
       "  tol=0.001, verbose=False)"
      ]
     },
     "execution_count": 21,
     "metadata": {},
     "output_type": "execute_result"
    }
   ],
   "source": [
    "SVM_model = svm.SVC(kernel='rbf', C = 3.0)  #class_weight= 'balanced')\n",
    "SVM_model.fit(SVM_X_train, SVM_y_train)\n"
   ]
  },
  {
   "cell_type": "code",
   "execution_count": 22,
   "metadata": {
    "collapsed": false
   },
   "outputs": [
    {
     "name": "stdout",
     "output_type": "stream",
     "text": [
      "Accuracy =  74.8971193416 %\n"
     ]
    }
   ],
   "source": [
    "SVM_predictions = SVM_model.predict(SVM_X_test)\n",
    "#SVM_model.score(SVM_X_test, SVM_y_test)\n",
    "\n",
    "print (\"Accuracy = \",metrics.accuracy_score(SVM_y_test, SVM_predictions) *100 ,'%')"
   ]
  },
  {
   "cell_type": "code",
   "execution_count": 23,
   "metadata": {
    "collapsed": false
   },
   "outputs": [
    {
     "name": "stdout",
     "output_type": "stream",
     "text": [
      "Confusion Matrix\n",
      "[[144  15]\n",
      " [ 46  38]]\n",
      "\n",
      "\n",
      "Sensitivity =  75.7894736842 %\n",
      "Specificity =  71.6981132075 %\n",
      "\n",
      "\n",
      "Classification Report\n",
      "             precision    recall  f1-score   support\n",
      "\n",
      "          0       0.76      0.91      0.83       159\n",
      "          1       0.72      0.45      0.55        84\n",
      "\n",
      "avg / total       0.74      0.75      0.73       243\n",
      "\n"
     ]
    }
   ],
   "source": [
    "get_my_metrics(SVM_y_test, SVM_predictions)\n",
    "print(\"\\n\")\n",
    "print(\"Classification Report\")\n",
    "print (metrics.classification_report(SVM_y_test, SVM_predictions))"
   ]
  },
  {
   "cell_type": "markdown",
   "metadata": {},
   "source": [
    "#### Evaluate the model using cross validation"
   ]
  },
  {
   "cell_type": "code",
   "execution_count": 24,
   "metadata": {
    "collapsed": false
   },
   "outputs": [
    {
     "name": "stdout",
     "output_type": "stream",
     "text": [
      "[ 56.          68.          68.          64.          66.66666667  75.\n",
      "  70.83333333  70.83333333  62.5         66.66666667] %\n",
      "66.85 %\n"
     ]
    }
   ],
   "source": [
    "svm_cv_scores = cross_val_score(svm.SVC(), SVM_X_train, SVM_y_train, scoring = 'accuracy', cv = 10)\n",
    "\n",
    "print(svm_cv_scores *100, '%')\n",
    "print(svm_cv_scores.mean()*100,'%')"
   ]
  },
  {
   "cell_type": "markdown",
   "metadata": {},
   "source": [
    "## <u>Naive Bayes<u> "
   ]
  },
  {
   "cell_type": "code",
   "execution_count": 25,
   "metadata": {
    "collapsed": false
   },
   "outputs": [],
   "source": [
    "#NB_X_train, NB_X_test, NB_y_train, NB_y_test = train_test_split(X, y, test_size=0.3, random_state=0)\n",
    "\n",
    "NB_X_train = X_train\n",
    "NB_X_test = X_test\n",
    "NB_y_train = y_train\n",
    "NB_y_test = y_test\n",
    "\n",
    "featureScaler = MinMaxScaler(feature_range=(0,1))\n",
    "featureScaler.fit(NB_X_train)\n",
    "NB_X_train = featureScaler.transform(NB_X_train)\n",
    "NB_X_test = featureScaler.transform(NB_X_test)"
   ]
  },
  {
   "cell_type": "code",
   "execution_count": 26,
   "metadata": {
    "collapsed": false
   },
   "outputs": [
    {
     "data": {
      "text/plain": [
       "GaussianNB()"
      ]
     },
     "execution_count": 26,
     "metadata": {},
     "output_type": "execute_result"
    }
   ],
   "source": [
    "NB_model = GaussianNB()\n",
    "NB_model.fit(NB_X_train, NB_y_train)"
   ]
  },
  {
   "cell_type": "code",
   "execution_count": 27,
   "metadata": {
    "collapsed": false
   },
   "outputs": [
    {
     "name": "stdout",
     "output_type": "stream",
     "text": [
      "Accuracy =  69.5473251029 %\n"
     ]
    }
   ],
   "source": [
    "NB_predictions = NB_model.predict(NB_X_test)\n",
    "print (\"Accuracy = \",metrics.accuracy_score(NB_y_test, NB_predictions) *100 ,'%')"
   ]
  },
  {
   "cell_type": "code",
   "execution_count": 28,
   "metadata": {
    "collapsed": false
   },
   "outputs": [
    {
     "name": "stdout",
     "output_type": "stream",
     "text": [
      "Confusion Matrix\n",
      "[[124  35]\n",
      " [ 39  45]]\n",
      "\n",
      "\n",
      "Sensitivity =  76.0736196319 %\n",
      "Specificity =  56.25 %\n",
      "\n",
      "\n",
      "Classification Report\n",
      "             precision    recall  f1-score   support\n",
      "\n",
      "          0       0.76      0.78      0.77       159\n",
      "          1       0.56      0.54      0.55        84\n",
      "\n",
      "avg / total       0.69      0.70      0.69       243\n",
      "\n"
     ]
    }
   ],
   "source": [
    "get_my_metrics(NB_y_test, NB_predictions)\n",
    "print(\"\\n\")\n",
    "print(\"Classification Report\")\n",
    "print (metrics.classification_report(NB_y_test, NB_predictions))"
   ]
  },
  {
   "cell_type": "markdown",
   "metadata": {},
   "source": [
    "## <u> Random Forests<u>"
   ]
  },
  {
   "cell_type": "code",
   "execution_count": 29,
   "metadata": {
    "collapsed": true
   },
   "outputs": [],
   "source": [
    "RF_X_train = X_train\n",
    "RF_X_test = X_test\n",
    "RF_y_train = y_train\n",
    "RF_y_test = y_test\n",
    "\n",
    "featureScaler = MinMaxScaler(feature_range=(0,1))\n",
    "featureScaler.fit(RF_X_train)\n",
    "RF_X_train = featureScaler.transform(RF_X_train)\n",
    "RF_X_test = featureScaler.transform(RF_X_test)"
   ]
  },
  {
   "cell_type": "code",
   "execution_count": 30,
   "metadata": {
    "collapsed": false
   },
   "outputs": [
    {
     "data": {
      "text/plain": [
       "RandomForestClassifier(bootstrap=True, class_weight=None, criterion='gini',\n",
       "            max_depth=2, max_features='auto', max_leaf_nodes=None,\n",
       "            min_samples_leaf=1, min_samples_split=2,\n",
       "            min_weight_fraction_leaf=0.0, n_estimators=150, n_jobs=1,\n",
       "            oob_score=False, random_state=1, verbose=0, warm_start=False)"
      ]
     },
     "execution_count": 30,
     "metadata": {},
     "output_type": "execute_result"
    }
   ],
   "source": [
    "RF_model = RandomForestClassifier(n_estimators=150, max_depth=2, random_state=1)\n",
    "RF_model.fit(RF_X_train, RF_y_train)"
   ]
  },
  {
   "cell_type": "code",
   "execution_count": 31,
   "metadata": {
    "collapsed": false
   },
   "outputs": [
    {
     "name": "stdout",
     "output_type": "stream",
     "text": [
      "Train Accuracy =  78.2786885246 %\n",
      "Test Accuracy =  75.3086419753 %\n"
     ]
    }
   ],
   "source": [
    "RF_predictions_forTrainSet = RF_model.predict(RF_X_train)\n",
    "RF_predictions_forTestSet = RF_model.predict(RF_X_test)\n",
    "print (\"Train Accuracy = \",metrics.accuracy_score(RF_y_train, RF_predictions_forTrainSet) *100 ,'%')\n",
    "print (\"Test Accuracy = \",metrics.accuracy_score(RF_y_test, RF_predictions_forTestSet) *100 ,'%')"
   ]
  },
  {
   "cell_type": "code",
   "execution_count": 32,
   "metadata": {
    "collapsed": false
   },
   "outputs": [
    {
     "name": "stdout",
     "output_type": "stream",
     "text": [
      "Confusion Matrix\n",
      "[[152   7]\n",
      " [ 53  31]]\n",
      "\n",
      "\n",
      "Sensitivity =  74.1463414634 %\n",
      "Specificity =  81.5789473684 %\n",
      "\n",
      "\n",
      "Classification Report\n",
      "             precision    recall  f1-score   support\n",
      "\n",
      "          0       0.74      0.96      0.84       159\n",
      "          1       0.82      0.37      0.51        84\n",
      "\n",
      "avg / total       0.77      0.75      0.72       243\n",
      "\n"
     ]
    }
   ],
   "source": [
    "get_my_metrics(RF_y_test, RF_predictions_forTestSet)\n",
    "print(\"\\n\")\n",
    "print(\"Classification Report\")\n",
    "print (metrics.classification_report(RF_y_test, RF_predictions_forTestSet))"
   ]
  },
  {
   "cell_type": "markdown",
   "metadata": {},
   "source": [
    "### <u> K- nearest Neighbours<u>\n"
   ]
  },
  {
   "cell_type": "code",
   "execution_count": 33,
   "metadata": {
    "collapsed": true
   },
   "outputs": [],
   "source": [
    "KNN_X_train = X_train\n",
    "KNN_X_test = X_test\n",
    "KNN_y_train = y_train\n",
    "KNN_y_test = y_test\n",
    "\n",
    "featureScaler = MinMaxScaler(feature_range=(0,1))\n",
    "featureScaler.fit(KNN_X_train)\n",
    "RF_X_train = featureScaler.transform(KNN_X_train)\n",
    "RF_X_test = featureScaler.transform(KNN_X_test)"
   ]
  },
  {
   "cell_type": "code",
   "execution_count": 34,
   "metadata": {
    "collapsed": false
   },
   "outputs": [
    {
     "data": {
      "text/plain": [
       "KNeighborsClassifier(algorithm='auto', leaf_size=30, metric='minkowski',\n",
       "           metric_params=None, n_jobs=1, n_neighbors=3, p=2,\n",
       "           weights='uniform')"
      ]
     },
     "execution_count": 34,
     "metadata": {},
     "output_type": "execute_result"
    }
   ],
   "source": [
    "KNN_model = KNeighborsClassifier(n_neighbors=3)\n",
    "#KNN_model = RadiusNeighborsClassifier(radius=1.0)\n",
    "KNN_model.fit(KNN_X_train, KNN_y_train)"
   ]
  },
  {
   "cell_type": "code",
   "execution_count": 35,
   "metadata": {
    "collapsed": false
   },
   "outputs": [
    {
     "name": "stdout",
     "output_type": "stream",
     "text": [
      "Train Accuracy =  78.2786885246 %\n",
      "Test Accuracy =  72.8395061728 %\n"
     ]
    }
   ],
   "source": [
    "KNN_predictions_forTrainSet = KNN_model.predict(KNN_X_train)\n",
    "KNN_predictions_forTestSet = KNN_model.predict(KNN_X_test)\n",
    "print (\"Train Accuracy = \",metrics.accuracy_score(KNN_y_train, KNN_predictions_forTrainSet) *100 ,'%')\n",
    "print (\"Test Accuracy = \",metrics.accuracy_score(KNN_y_test, KNN_predictions_forTestSet) *100 ,'%')"
   ]
  },
  {
   "cell_type": "code",
   "execution_count": 36,
   "metadata": {
    "collapsed": false
   },
   "outputs": [
    {
     "name": "stdout",
     "output_type": "stream",
     "text": [
      "Confusion Matrix\n",
      "[[130  29]\n",
      " [ 37  47]]\n",
      "\n",
      "\n",
      "Sensitivity =  77.8443113772 %\n",
      "Specificity =  61.8421052632 %\n",
      "\n",
      "\n",
      "Classification Report\n",
      "             precision    recall  f1-score   support\n",
      "\n",
      "          0       0.78      0.82      0.80       159\n",
      "          1       0.62      0.56      0.59        84\n",
      "\n",
      "avg / total       0.72      0.73      0.72       243\n",
      "\n"
     ]
    }
   ],
   "source": [
    "get_my_metrics(KNN_y_test, KNN_predictions_forTestSet)\n",
    "print(\"\\n\")\n",
    "print(\"Classification Report\")\n",
    "print (metrics.classification_report(KNN_y_test, KNN_predictions_forTestSet))"
   ]
  },
  {
   "cell_type": "markdown",
   "metadata": {},
   "source": [
    "### <u> Ada Boost <u>"
   ]
  },
  {
   "cell_type": "code",
   "execution_count": 37,
   "metadata": {
    "collapsed": true
   },
   "outputs": [],
   "source": [
    "ADA_X_train = X_train\n",
    "ADA_X_test = X_test\n",
    "ADA_y_train = y_train\n",
    "ADA_y_test = y_test\n",
    "\n",
    "featureScaler = MinMaxScaler(feature_range=(0,1))\n",
    "featureScaler.fit(ADA_X_train)\n",
    "ADA_X_train = featureScaler.transform(ADA_X_train)\n",
    "ADA_X_test = featureScaler.transform(ADA_X_test)"
   ]
  },
  {
   "cell_type": "code",
   "execution_count": 38,
   "metadata": {
    "collapsed": false
   },
   "outputs": [
    {
     "data": {
      "text/plain": [
       "AdaBoostClassifier(algorithm='SAMME.R', base_estimator=None,\n",
       "          learning_rate=1.0, n_estimators=100, random_state=None)"
      ]
     },
     "execution_count": 38,
     "metadata": {},
     "output_type": "execute_result"
    }
   ],
   "source": [
    "ADA_model = AdaBoostClassifier(n_estimators=100)\n",
    "ADA_model.fit(ADA_X_train, ADA_y_train)"
   ]
  },
  {
   "cell_type": "code",
   "execution_count": 39,
   "metadata": {
    "collapsed": false
   },
   "outputs": [
    {
     "name": "stdout",
     "output_type": "stream",
     "text": [
      "Train Accuracy =  96.3114754098 %\n",
      "Test Accuracy =  71.6049382716 %\n"
     ]
    }
   ],
   "source": [
    "ADA_predictions_forTrainSet = ADA_model.predict(ADA_X_train)\n",
    "ADA_predictions_forTestSet = ADA_model.predict(ADA_X_test)\n",
    "print (\"Train Accuracy = \",metrics.accuracy_score(ADA_y_train, ADA_predictions_forTrainSet) *100 ,'%')\n",
    "print (\"Test Accuracy = \",metrics.accuracy_score(ADA_y_test, ADA_predictions_forTestSet) *100 ,'%')"
   ]
  },
  {
   "cell_type": "code",
   "execution_count": 40,
   "metadata": {
    "collapsed": false
   },
   "outputs": [
    {
     "name": "stdout",
     "output_type": "stream",
     "text": [
      "Confusion Matrix\n",
      "[[130  29]\n",
      " [ 40  44]]\n",
      "\n",
      "\n",
      "Sensitivity =  76.4705882353 %\n",
      "Specificity =  60.2739726027 %\n",
      "\n",
      "\n",
      "Classification Report\n",
      "             precision    recall  f1-score   support\n",
      "\n",
      "          0       0.76      0.82      0.79       159\n",
      "          1       0.60      0.52      0.56        84\n",
      "\n",
      "avg / total       0.71      0.72      0.71       243\n",
      "\n"
     ]
    }
   ],
   "source": [
    "get_my_metrics(ADA_y_test, ADA_predictions_forTestSet)\n",
    "print(\"\\n\")\n",
    "print(\"Classification Report\")\n",
    "print (metrics.classification_report(ADA_y_test, ADA_predictions_forTestSet))"
   ]
  },
  {
   "cell_type": "markdown",
   "metadata": {},
   "source": [
    "## <u>Multidimensional Scaling<u>\n",
    "### Visualizing the data \n",
    "#### - reducing the number of features from 8 to 2, so that it can be plotted in a 2D graph"
   ]
  },
  {
   "cell_type": "code",
   "execution_count": 41,
   "metadata": {
    "collapsed": false
   },
   "outputs": [],
   "source": [
    "#mds = MDS(n_components=2, dissimilarity='precomputed')\n",
    "\n",
    "#similarities = euclidean_distances(X.astype(np.float64))\n",
    "#print (similarities.shape)\n",
    "\n",
    "#pos = mds.fit_transform(similarities.astype(np.float64))\n",
    "#print(pos.shape)"
   ]
  },
  {
   "cell_type": "code",
   "execution_count": 42,
   "metadata": {
    "collapsed": false
   },
   "outputs": [],
   "source": [
    "#plt.scatter(pos[:, 0], pos[:, 1], c=y, cmap=plt.cm.Paired)\n",
    "#plt.xlabel('Coordinates 1')\n",
    "#plt.ylabel('Coordinates 2')\n",
    "#plt.title(\"Pima Indian diabetes dataset\")"
   ]
  },
  {
   "cell_type": "markdown",
   "metadata": {
    "collapsed": true
   },
   "source": [
    "# <u> Weight Adjusting <u>"
   ]
  },
  {
   "cell_type": "code",
   "execution_count": 140,
   "metadata": {
    "collapsed": false
   },
   "outputs": [
    {
     "name": "stdout",
     "output_type": "stream",
     "text": [
      "[ 0.33333333  0.33333333  0.33333333]\n"
     ]
    }
   ],
   "source": [
    "# TODO : create a class for the adjust_weights and voting algorithms called \"WeightAdjustedVoting\"\n",
    "\n",
    "def adjust_weights(all_predictions_matrix, actual_values, step_size1, step_size2):\n",
    "    # Note: the rows in the predictions matrix are the different models and columns are the samples\n",
    "    n_models, n_samples = all_predictions_matrix.shape\n",
    "    actual_values = actual_values.T #Transpose the matrix to match the dimensions of predictions_matrix\n",
    "    n_actual_values = actual_values.shape\n",
    "    \n",
    "    \n",
    "    #if(n_samples != n_actual_values):\n",
    "       # print(\"The size of model predictions is not the same as the size of actual values\")\n",
    "        #return\n",
    "    \n",
    "    import math\n",
    "    majority = int(math.ceil(n_models/2))\n",
    "    \n",
    "    # Creating an array of weights for all the models and filling them with initial weights\n",
    "    initial_weights = 1/n_models\n",
    "    weights_of_models = np.empty(n_models)\n",
    "    weights_of_models.fill(initial_weights)\n",
    "    \n",
    "     # In case of n_models = 1 or 2 do not change the weights \n",
    "    if(n_models == 1 or n_models == 2):\n",
    "        return weights_of_models\n",
    "        \n",
    "    \n",
    "    # Comparing the predictions of each model with the actual values and hence creating a matrix of 0's and 1's\n",
    "    for i in range(0,n_models):\n",
    "        all_predictions_matrix[i,:] = np.array([all_predictions_matrix[i,:] == actual_values])\n",
    "\n",
    "\n",
    "    # Adjusting the Weights\n",
    "    for j in  range(0, n_samples):\n",
    "        sum = np.sum(all_predictions_matrix[:,j])  \n",
    "        # if all the models predicted correct or if all models predicted wrong then return without changing the weights\n",
    "        if(sum == 0 or sum == n_models):\n",
    "            continue\n",
    "        \n",
    "        # If the no.of models that predicted correct and wrong are euqal then do not change the weights\n",
    "        #if(n_models%2 == 0 and sum == n_models/2):\n",
    "            #continue        \n",
    "        \n",
    "        correct_models, wrong_models = get_correct_and_wrong_models(all_predictions_matrix[:,j])\n",
    "       \n",
    "        if(sum >= majority):\n",
    "            for a in correct_models: # Note: 'a' here is the value in the list 'correct_models'\n",
    "                weights_of_models[a] += step_size1/(len(correct_models)/len(wrong_models))              \n",
    "            \n",
    "            for b in wrong_models:\n",
    "                weights_of_models[b] -= step_size1 \n",
    "       \n",
    "        else:\n",
    "            for s in correct_models:\n",
    "                weights_of_models[s] += (len(wrong_models)/len(correct_models))*step_size2\n",
    "             \n",
    "            for e in wrong_models:\n",
    "                weights_of_models[e] -= step_size2 \n",
    "        \n",
    "    return weights_of_models\n",
    "\n",
    "\n",
    "# testing for the above function\n",
    "h = np.array([[1,1],[1,1],[1,1]])\n",
    "k = np.array([1,0]) \n",
    "#print(np.sum(h[:,0]))\n",
    "\n",
    "weights_test = adjust_weights(h, k, 0.3, 0.1)\n",
    "print(weights_test)"
   ]
  },
  {
   "cell_type": "code",
   "execution_count": 141,
   "metadata": {
    "collapsed": false
   },
   "outputs": [
    {
     "name": "stdout",
     "output_type": "stream",
     "text": [
      "[0, 2]\n",
      "[1]\n"
     ]
    }
   ],
   "source": [
    "def get_correct_and_wrong_models(list):\n",
    "    correct_classifier = []\n",
    "    wrong_classifier = []\n",
    "    for i in range(0, len(list)):\n",
    "        if(list[i] == 1):\n",
    "            correct_classifier.append(i)\n",
    "        elif(list[i]==0):\n",
    "            wrong_classifier.append(i)\n",
    "    return(correct_classifier, wrong_classifier)\n",
    "\n",
    "# testing for the above function\n",
    "c, w = get_correct_and_wrong_models([1,0,1])\n",
    "print(c)\n",
    "print(w)"
   ]
  },
  {
   "cell_type": "code",
   "execution_count": 142,
   "metadata": {
    "collapsed": false
   },
   "outputs": [
    {
     "name": "stdout",
     "output_type": "stream",
     "text": [
      "0\n"
     ]
    }
   ],
   "source": [
    "#list = np.array([LR_predictions[i], SVM_predictions[i], NB_predictions[i], \n",
    "                        #RF_predictions_forTestSet[i], KNN_predictions_forTestSet[i], ADA_predictions_forTestSet[i]])\n",
    "def voting(list, weights):\n",
    "    if(np.sum(list)== 0):\n",
    "        return 0\n",
    "    \n",
    "    import math\n",
    "    majority = int(math.ceil(len(list)/2))\n",
    "    if(np.sum(list) > majority):\n",
    "         return 1\n",
    "    # If the no.of models that predict possitive and negative are equal then predict as positive\n",
    "    #if(len(list)%2 == 0 and np.sum(list) >= majority):\n",
    "        #return 1\n",
    "    \n",
    "    else:\n",
    "        correct_models, wrong_models = get_correct_and_wrong_models(list)\n",
    "        \n",
    "        weight_of_positive_models = 0\n",
    "        weight_of_negative_models = 0\n",
    "        \n",
    "        for a in correct_models:\n",
    "            weight_of_positive_models += weights[a]\n",
    "            \n",
    "        for b in wrong_models:\n",
    "            weight_of_negative_models += weights[b]\n",
    "        \n",
    "        weight_of_positive_models = weight_of_positive_models/len(correct_models)\n",
    "        \n",
    "        #weight_of_negative_models = float(weight_of_negative_models/len(wrong_models))\n",
    "        weight_of_negative_models = weight_of_negative_models/len(wrong_models)\n",
    "        \n",
    "        #print(\"Positive weight = \", weight_of_positive_models)\n",
    "        #print(\"Negative weight = \", weight_of_negative_models)\n",
    "        if(weight_of_positive_models > weight_of_negative_models):\n",
    "            return 1\n",
    "        else:\n",
    "            return 0\n",
    "         \n",
    "# testing for the above function\n",
    "list_test = [1,0,0,0,0]\n",
    "weights_test = [0.3,0.3,0.3,0.3,0.3]\n",
    "print(voting(list_test,weights_test))"
   ]
  },
  {
   "cell_type": "code",
   "execution_count": 172,
   "metadata": {
    "collapsed": false
   },
   "outputs": [
    {
     "name": "stdout",
     "output_type": "stream",
     "text": [
      "(2, 243)\n",
      "[ 0.5  0.5]\n"
     ]
    }
   ],
   "source": [
    "all_predictions = np.array([LR_predictions, SVM_predictions, NB_predictions, \n",
    "                            RF_predictions_forTestSet, KNN_predictions_forTestSet, ADA_predictions_forTestSet])\n",
    "\n",
    "all_predictions = all_predictions[:2,:]\n",
    "print(all_predictions.shape)\n",
    "\n",
    "\n",
    "shape = y_test.shape\n",
    "nInstances = shape[0]\n",
    "step_size1 = 0.03\n",
    "step_size2 = 0.04\n",
    "    \n",
    "#Note: REMEMBER, the 'all_predictions matrix' get changed in the Weight adjusting function. Hence create a new variable\n",
    "#Its really important to create a new memory (np.array()), if not both the variables point to same object.\n",
    "all_predictions_for_votingFunction = np.array(all_predictions)\n",
    "\n",
    "weights = adjust_weights(all_predictions, y_test, step_size1, step_size2)\n",
    "\n",
    "print(weights)"
   ]
  },
  {
   "cell_type": "code",
   "execution_count": 173,
   "metadata": {
    "collapsed": false
   },
   "outputs": [
    {
     "name": "stdout",
     "output_type": "stream",
     "text": [
      "243\n"
     ]
    }
   ],
   "source": [
    "# currently using dataset 2 for phase 3: voting    \n",
    "# later change it to use dataset 3\n",
    "shape = y_test.shape\n",
    "nInstances = shape[0]\n",
    "print(nInstances)\n",
    "\n",
    "final_result = np.empty(nInstances)\n",
    "for i in  range(0, nInstances):\n",
    "    final_result[i] = voting(all_predictions_for_votingFunction[:,i], weights)"
   ]
  },
  {
   "cell_type": "code",
   "execution_count": 174,
   "metadata": {
    "collapsed": false
   },
   "outputs": [
    {
     "name": "stdout",
     "output_type": "stream",
     "text": [
      "Final Accuracy =  73.6625514403 %\n",
      "73.6625514403\n"
     ]
    }
   ],
   "source": [
    "print (\"Final Accuracy = \",metrics.accuracy_score(y_test, final_result) *100 ,'%')\n",
    "abc = np.array(final_result == y_test)\n",
    "accu = abc.mean()\n",
    "print((accu*100))"
   ]
  },
  {
   "cell_type": "code",
   "execution_count": 175,
   "metadata": {
    "collapsed": false
   },
   "outputs": [
    {
     "name": "stdout",
     "output_type": "stream",
     "text": [
      "Confusion Matrix\n",
      "[[144  15]\n",
      " [ 49  35]]\n",
      "\n",
      "\n",
      "Sensitivity =  74.6113989637 %\n",
      "Specificity =  70.0 %\n",
      "\n",
      "\n",
      "Classification Report\n",
      "             precision    recall  f1-score   support\n",
      "\n",
      "          0       0.75      0.91      0.82       159\n",
      "          1       0.70      0.42      0.52        84\n",
      "\n",
      "avg / total       0.73      0.74      0.72       243\n",
      "\n"
     ]
    }
   ],
   "source": [
    "get_my_metrics(y_test, final_result)\n",
    "print(\"\\n\")\n",
    "print(\"Classification Report\")\n",
    "print (metrics.classification_report(y_test, final_result))"
   ]
  },
  {
   "cell_type": "markdown",
   "metadata": {},
   "source": [
    "## JUNK ----  scratch paper    "
   ]
  },
  {
   "cell_type": "code",
   "execution_count": 50,
   "metadata": {
    "collapsed": false
   },
   "outputs": [
    {
     "name": "stdout",
     "output_type": "stream",
     "text": [
      "(3, 1)\n",
      "(1, 3)\n",
      "(3,)\n",
      "[[1 2 3]\n",
      " [4 5 6]\n",
      " [7 8 9]]\n",
      "[[1 0 0]\n",
      " [4 5 6]\n",
      " [7 8 9]]\n",
      "[[[1 0 0]]]\n",
      "3\n",
      "3\n"
     ]
    }
   ],
   "source": [
    "a = np.array([[1,2,3],[4,5,6],[7,8,9]])\n",
    "b = np.array([[1],[1],[1]])\n",
    "print(b.shape)\n",
    "b = b.T\n",
    "print(b.shape)\n",
    "w = a[0,:]\n",
    "print(w.shape)\n",
    "c = np.array([a[0,:]==b], dtype =int)\n",
    "print(a)\n",
    "a[0,:] = np.array([a[0,:]==b], dtype =int)\n",
    "print(a)\n",
    "print(c)\n",
    "rows,cols = a.shape\n",
    "print(rows)\n",
    "print(cols)"
   ]
  },
  {
   "cell_type": "code",
   "execution_count": 51,
   "metadata": {
    "collapsed": false
   },
   "outputs": [
    {
     "data": {
      "text/plain": [
       "3"
      ]
     },
     "execution_count": 51,
     "metadata": {},
     "output_type": "execute_result"
    }
   ],
   "source": [
    "import math\n",
    "x = int(math.ceil(6/2))\n",
    "x"
   ]
  },
  {
   "cell_type": "code",
   "execution_count": 52,
   "metadata": {
    "collapsed": false
   },
   "outputs": [
    {
     "name": "stdout",
     "output_type": "stream",
     "text": [
      "49 12 26 156\n"
     ]
    }
   ],
   "source": [
    "\n",
    "r1 = np.array(LR_predictions == y_test, dtype=int)\n",
    "r2 = np.array(SVM_predictions == y_test, dtype=int)\n",
    "r3 = np.array(NB_predictions == y_test, dtype=int)\n",
    "\n",
    "ones = 0\n",
    "twos = 0\n",
    "zeros = 0\n",
    "threes = 0\n",
    "for i in  range(0, nInstances):\n",
    "    if((r1[i]+r2[i]+r3[i]) == 1):\n",
    "        ones = ones+1\n",
    "    elif((r1[i]+r2[i]+r3[i]) == 2):\n",
    "        twos = twos+1\n",
    "    elif((r1[i]+r2[i]+r3[i]) == 0):\n",
    "        zeros = zeros+1\n",
    "    elif((r1[i]+r2[i]+r3[i]) == 3):\n",
    "        threes = threes+1\n",
    "\n",
    "print(zeros,ones, twos, threes)\n",
    "    "
   ]
  },
  {
   "cell_type": "code",
   "execution_count": 53,
   "metadata": {
    "collapsed": false
   },
   "outputs": [
    {
     "name": "stdout",
     "output_type": "stream",
     "text": [
      "[ 0.33333333  0.33333333  0.33333333]\n",
      "1\n"
     ]
    }
   ],
   "source": [
    "\n",
    "weights = np.array((1/3,1/3,1/3),dtype=float)\n",
    "print (weights)\n",
    "b = weights\n",
    "print([0.33,0.3,0.3].index(0.3))"
   ]
  },
  {
   "cell_type": "code",
   "execution_count": 54,
   "metadata": {
    "collapsed": false
   },
   "outputs": [
    {
     "ename": "TypeError",
     "evalue": "voting() takes 2 positional arguments but 4 were given",
     "output_type": "error",
     "traceback": [
      "\u001b[1;31m---------------------------------------------------------------------------\u001b[0m",
      "\u001b[1;31mTypeError\u001b[0m                                 Traceback (most recent call last)",
      "\u001b[1;32m<ipython-input-54-d52e64904a82>\u001b[0m in \u001b[0;36m<module>\u001b[1;34m()\u001b[0m\n\u001b[0;32m      1\u001b[0m \u001b[1;31m# test voting function\u001b[0m\u001b[1;33m\u001b[0m\u001b[1;33m\u001b[0m\u001b[0m\n\u001b[1;32m----> 2\u001b[1;33m \u001b[0mxyz\u001b[0m \u001b[1;33m=\u001b[0m \u001b[0mvoting\u001b[0m\u001b[1;33m(\u001b[0m\u001b[1;36m0\u001b[0m\u001b[1;33m,\u001b[0m\u001b[1;36m0\u001b[0m\u001b[1;33m,\u001b[0m\u001b[1;36m1\u001b[0m\u001b[1;33m,\u001b[0m\u001b[1;33m[\u001b[0m\u001b[1;36m0.28333333\u001b[0m\u001b[1;33m,\u001b[0m \u001b[1;36m0.20833333\u001b[0m\u001b[1;33m,\u001b[0m \u001b[1;36m0.50833333\u001b[0m\u001b[1;33m]\u001b[0m\u001b[1;33m)\u001b[0m\u001b[1;33m\u001b[0m\u001b[0m\n\u001b[0m\u001b[0;32m      3\u001b[0m \u001b[0mprint\u001b[0m\u001b[1;33m(\u001b[0m\u001b[0mxyz\u001b[0m\u001b[1;33m)\u001b[0m\u001b[1;33m\u001b[0m\u001b[0m\n",
      "\u001b[1;31mTypeError\u001b[0m: voting() takes 2 positional arguments but 4 were given"
     ]
    }
   ],
   "source": [
    "# test voting function\n",
    "xyz = voting(0,0,1,[0.28333333, 0.20833333, 0.50833333])\n",
    "print(xyz)"
   ]
  },
  {
   "cell_type": "code",
   "execution_count": null,
   "metadata": {
    "collapsed": false
   },
   "outputs": [],
   "source": [
    "print((0.28333333 + 0.20833333)/2.0)"
   ]
  },
  {
   "cell_type": "markdown",
   "metadata": {
    "collapsed": true
   },
   "source": [
    "### <u>Sensitivity (aka hit-rate or recall)<u> \n",
    "   #### TPR =  TP/P   ==>   TP/TP+FN\n",
    "\n",
    "### <u>Specificity<u> \n",
    "   #### TNR = TN/N ==>   TN/FP+TN \n",
    "   \n",
    "### <u>Confusion  <u>  "
   ]
  },
  {
   "cell_type": "code",
   "execution_count": null,
   "metadata": {
    "collapsed": true
   },
   "outputs": [],
   "source": [
    "def get_my_metrics(predicted, actual):\n",
    "    CF_matrix = metrics.confusion_matrix(predicted, actual)\n",
    "    sensitivity = CF_matrix[0,0]/(CF_matrix[0,0] + CF_matrix[1,0])\n",
    "    specificity = CF_matrix[1,1]/(CF_matrix[0,1] + CF_matrix[1,1])\n",
    "    print(\"Confusion Matrix\")\n",
    "    print(CF_matrix)\n",
    "    print(\"\\n\")\n",
    "    print(\"Sensitivity = \",sensitivity *100,\"%\")\n",
    "    print(\"Specificity = \",specificity *100,\"%\")\n",
    "    "
   ]
  },
  {
   "cell_type": "code",
   "execution_count": null,
   "metadata": {
    "collapsed": false
   },
   "outputs": [],
   "source": [
    "get_my_metrics(y_test, final_result)"
   ]
  },
  {
   "cell_type": "markdown",
   "metadata": {},
   "source": [
    "## <u>Grid Search<u>"
   ]
  },
  {
   "cell_type": "code",
   "execution_count": null,
   "metadata": {
    "collapsed": false
   },
   "outputs": [],
   "source": [
    "from sklearn import grid_search\n",
    "parameters = [{'n_neighbors':[1,50],\n",
    "              'leaf_size':[1,100],\n",
    "              #'weights':('uniform,','distance'),\n",
    "              'algorithm':['auto', 'ball_tree', 'kd_tree', 'brute'],\n",
    "              'metric':['minkowski'], 'p':[1,2,3,4,5,6]\n",
    "             }]\n",
    "clf = KNeighborsClassifier()\n",
    "grid = grid_search.GridSearchCV(clf, parameters, cv = 2)\n",
    "grid.fit(X_train, y_train)\n",
    "#RF_model = RandomForestClassifier(n_estimators=150, max_depth=2, random_state=1)\n",
    "#KNeighborsClassifier(algorithm='auto', leaf_size=30, metric='minkowski',\n",
    "           # metric_params=None, n_jobs=1, n_neighbors=3, p=2,\n",
    "          # weights='uniform')"
   ]
  },
  {
   "cell_type": "code",
   "execution_count": null,
   "metadata": {
    "collapsed": false
   },
   "outputs": [],
   "source": [
    "print(grid.best_params_)\n",
    "print(grid.best_score_)\n",
    "print(grid.best_estimator_)"
   ]
  },
  {
   "cell_type": "markdown",
   "metadata": {},
   "source": [
    "## <u> Learning Curve<u>"
   ]
  },
  {
   "cell_type": "code",
   "execution_count": null,
   "metadata": {
    "collapsed": false
   },
   "outputs": [],
   "source": [
    "#print(doc_)\n",
    "from sklearn.learning_curve import learning_curve\n",
    "from sklearn import cross_validation\n",
    "\n",
    "def plot_learning_curve(estimator, title, X, y, ylim=None, cv=None,\n",
    "                        n_jobs=1, train_sizes=np.linspace(.1, 1.0, 5)):\n",
    "\n",
    "    plt.figure()\n",
    "    plt.title(title)\n",
    "    if ylim is not None:\n",
    "        plt.ylim(*ylim)\n",
    "    plt.xlabel(\"Training examples\")\n",
    "    plt.ylabel(\"Score\")\n",
    "    train_sizes, train_scores, test_scores = learning_curve(\n",
    "        estimator, X, y, cv=cv, n_jobs=n_jobs, train_sizes=train_sizes)\n",
    "    train_scores_mean = np.mean(train_scores, axis=1)\n",
    "    train_scores_std = np.std(train_scores, axis=1)\n",
    "    test_scores_mean = np.mean(test_scores, axis=1)\n",
    "    test_scores_std = np.std(test_scores, axis=1)\n",
    "    plt.grid()\n",
    "\n",
    "    plt.fill_between(train_sizes, train_scores_mean - train_scores_std,\n",
    "                     train_scores_mean + train_scores_std, alpha=0.1,\n",
    "                     color=\"r\")\n",
    "    plt.fill_between(train_sizes, test_scores_mean - test_scores_std,\n",
    "                     test_scores_mean + test_scores_std, alpha=0.1, color=\"g\")\n",
    "    plt.plot(train_sizes, train_scores_mean, 'o-', color=\"r\",\n",
    "             label=\"Training score\")\n",
    "    plt.plot(train_sizes, test_scores_mean, 'o-', color=\"g\",\n",
    "             label=\"Cross-validation score\")\n",
    "\n",
    "    plt.legend(loc=\"best\")\n",
    "    return plt\n",
    "\n",
    "X = dataFrame[features]\n",
    "y = dataFrame[output]\n",
    "\n",
    "#X = [X_train, X_test]\n",
    "#y = [y_train, y_test]\n",
    "\n",
    "title = \"Learning Curves (Logistic Regression)\"\n",
    "# Cross validation with 100 iterations to get smoother mean test and train\n",
    "# score curves, each time with 20% data randomly selected as a validation set.\n",
    "cv = cross_validation.ShuffleSplit(dataFrame.shape[0], n_iter=100,\n",
    "                                   test_size=0.2, random_state=0)\n",
    "\n",
    "estimator =LogisticRegression(fit_intercept = True, C=3.0)\n",
    "#estimator = RandomForestClassifier(max_depth=2)\n",
    "plot_learning_curve(estimator, title, X, y, ylim=(0.6, 1.01), cv=cv, n_jobs=4)\n",
    "\n",
    "plt.show()"
   ]
  },
  {
   "cell_type": "code",
   "execution_count": null,
   "metadata": {
    "collapsed": false
   },
   "outputs": [],
   "source": []
  },
  {
   "cell_type": "code",
   "execution_count": null,
   "metadata": {
    "collapsed": true
   },
   "outputs": [],
   "source": []
  },
  {
   "cell_type": "code",
   "execution_count": null,
   "metadata": {
    "collapsed": true
   },
   "outputs": [],
   "source": []
  }
 ],
 "metadata": {
  "kernelspec": {
   "display_name": "Python 3",
   "language": "python",
   "name": "python3"
  },
  "language_info": {
   "codemirror_mode": {
    "name": "ipython",
    "version": 3
   },
   "file_extension": ".py",
   "mimetype": "text/x-python",
   "name": "python",
   "nbconvert_exporter": "python",
   "pygments_lexer": "ipython3",
   "version": "3.5.1"
  }
 },
 "nbformat": 4,
 "nbformat_minor": 0
}
